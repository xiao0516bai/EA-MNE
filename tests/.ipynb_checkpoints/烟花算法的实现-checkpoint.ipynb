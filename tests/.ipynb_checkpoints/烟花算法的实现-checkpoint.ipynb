{
 "cells": [
  {
   "cell_type": "markdown",
   "id": "98aaf754",
   "metadata": {},
   "source": [
    "### 参数设置"
   ]
  },
  {
   "cell_type": "code",
   "execution_count": 1,
   "id": "42d32d48",
   "metadata": {},
   "outputs": [],
   "source": [
    "import numpy as np\n",
    "import os\n",
    "import sys\n",
    "import csv\n",
    "import json\n",
    "import numpy as np\n",
    "import time\n",
    "import argparse\n",
    "import random\n",
    "sys.path.append(\"/home/cuisx/products/BDA/pathToNetwork-path-design/mooseeker-master\")\n",
    "from fx import *\n",
    "from mooseeker.model.BiOperators import *\n",
    "from mooseeker.utils import *\n",
    "from mooseeker.fit_funcs import get_gibbs, get_yield,get_network_totalReactions"
   ]
  },
  {
   "cell_type": "code",
   "execution_count": 2,
   "id": "a6c24d71",
   "metadata": {},
   "outputs": [],
   "source": [
    "# pop_size=20\n",
    "pop_size=3 # 每个子代的烟花数\n",
    "max_iter = 50\n",
    "# max_iter = 3\n",
    "gaussianNum = 2 # 高斯变异烟花数\n",
    "# A = 25 # 调整爆炸半径的常数\n",
    "A = 15 # 调整爆炸半径的常数\n",
    "# M = 20 # 调整爆炸烟花个数的常数\n",
    "M = 6 # 调整爆炸烟花个数的常数\n",
    "min_radius = 2\n",
    "\n",
    "cfg = get_config()\n",
    "\n",
    "def parser():\n",
    "    params = {\n",
    "        \"task_id\": \"010\",\n",
    "        \"algorithm\": \"single\",\n",
    "        # \"pop_size\": 10,  # 原本是10\n",
    "        # \"gen\": 20,  # 原本是20\n",
    "        \"NrMax\": 15,\n",
    "        \"ob_substrate\": \"C00082\",\n",
    "        \"ob_product\": \"C00755\",\n",
    "        \"abundant\": [\"C00001\", \"C00002\", \"C00080\"],\n",
    "        \"database\": [\"KEGG\", \"BiGG\"],\n",
    "        \"host\": [\"ecoli\"],\n",
    "        # \"eva_func\": [\"yield\"]\n",
    "        # \"eva_func\": [\"length\", \"gibbs\", \"yield\"]\n",
    "    }\n",
    "\n",
    "    args = argparse.Namespace(**params)\n",
    "    args.save_path = \"..\"\n",
    "    args.project = '_'.join((args.task_id, args.ob_substrate, args.ob_product))\n",
    "    args.save_path = '/'.join((args.save_path, args.project)) + '/'\n",
    "    if not os.path.exists(args.save_path): os.mkdir(args.save_path)\n",
    "    return args\n",
    "\n",
    "args = parser()\n",
    "log = Logger(cfg['file_path']['log_dir'] + 'test.log', fmt='%(message)s')"
   ]
  },
  {
   "cell_type": "markdown",
   "id": "932863bc",
   "metadata": {},
   "source": [
    "### 构造初代染色体 chrom_list"
   ]
  },
  {
   "cell_type": "code",
   "execution_count": 3,
   "id": "db6482c7",
   "metadata": {},
   "outputs": [],
   "source": [
    "chrom_list = np.full((pop_size, 1), None, dtype=object)\n",
    "count = 0\n",
    "\n",
    "myReactions1 = ['R11917', 'R02695', 'R02516', 'R02518', 'R02655','R02489','R05482','R02561','R05280','R05274','R05699']\n",
    "myCompounds1 = ['C00082', 'C03765', 'C00642', 'C00544', 'C05585','C00628','C00530','C02372','C00568','C00230','C06672','C00755']\n",
    "# chrom1 = Chromesome(args, cfg, log,get_a_chrom(myReactions1,myCompounds1))\n",
    "chrom1 = Chromesome(args, cfg, log, chrom=get_a_chrom(myReactions1,myCompounds1))\n",
    "chrom_list[count,0] = chrom1\n",
    "count+=1\n",
    "\n",
    "myReactions2 = ['R06626', 'R03339', 'R12492', 'R01308', 'R01296', 'R05274', 'R05699']\n",
    "myCompounds2 = ['C00082', 'C01179', 'C03964', 'C00811', 'C00156', 'C00230', 'C06672', 'C00755']\n",
    "# chrom2 = Chromesome(args, cfg, log,get_a_chrom(myReactions2,myCompounds2))\n",
    "chrom2 = Chromesome(args, cfg, log, chrom=get_a_chrom(myReactions2,myCompounds2))\n",
    "\n",
    "chrom_list[count,0] = chrom2\n",
    "count+=1\n",
    "\n",
    "myReactions3 = ['R05280', 'R10136', 'R05699']\n",
    "myCompounds3 = ['C00568', 'C00230', 'C06672', 'C00755']\n",
    "# chrom3 = Chromesome(args, cfg, log,get_a_chrom(myReactions3,myCompounds3))\n",
    "chrom3 = Chromesome(args, cfg, log, chrom=get_a_chrom(myReactions3,myCompounds3))\n",
    "\n",
    "chrom_list[count,0] = chrom3\n",
    "\n",
    "# 初代染色体的适应度值 以及 路径长度\n",
    "fitness = [11,7,3]\n",
    "chrom_length = [11,7,3]"
   ]
  },
  {
   "cell_type": "markdown",
   "id": "de3f37d4",
   "metadata": {},
   "source": [
    "### 爆炸算子"
   ]
  },
  {
   "cell_type": "markdown",
   "id": "dd52e8a4",
   "metadata": {},
   "source": [
    "#### 计算爆炸半径 与 爆炸产生的火花数"
   ]
  },
  {
   "cell_type": "code",
   "execution_count": 8,
   "id": "3fe89b67",
   "metadata": {
    "scrolled": false
   },
   "outputs": [
    {
     "name": "stdout",
     "output_type": "stream",
     "text": [
      "爆炸半径：\n",
      "[11  6  2]\n",
      "爆炸烟花的个数：\n",
      "[1 3 5]\n"
     ]
    }
   ],
   "source": [
    "# 当前种群中适应度值最小值\n",
    "fit_min = np.min(fitness)\n",
    "# 当前种群中适应度值最大值\n",
    "fit_max = np.max(fitness)\n",
    "\n",
    "### 计算每个烟花的爆炸半径\n",
    "\n",
    "explode_radius = np.ceil(A * (fitness-fit_min+10e-6) / (np.sum(fitness-fit_min) + 10e-6))\n",
    "\n",
    "explode_radius = np.where(explode_radius >= chrom_length, chrom_length, explode_radius)  # 爆炸半径不能超过原路径长度 若超过则将其换位路径长度\n",
    "explode_radius = np.where(explode_radius <= 1, min_radius, explode_radius) \n",
    "explode_radius = explode_radius.astype(int) # 转为整数\n",
    "### 计算每个烟花可产生的爆炸烟花的个数\n",
    "explode_nums = np.ceil(M * (fit_max - fitness + 10e-6) / (np.sum(fit_max - fitness) + 10e-6))\n",
    "explode_nums = explode_nums.astype(int)  # 转为整数\n",
    "\n",
    "print(\"爆炸半径：\")\n",
    "print(explode_radius)\n",
    "print(\"爆炸烟花的个数：\")\n",
    "print(explode_nums)"
   ]
  },
  {
   "cell_type": "code",
   "execution_count": 22,
   "id": "eddb9e6c",
   "metadata": {},
   "outputs": [
    {
     "data": {
      "text/plain": [
       "11"
      ]
     },
     "execution_count": 22,
     "metadata": {},
     "output_type": "execute_result"
    }
   ],
   "source": [
    "chrom1.chrom.length()"
   ]
  },
  {
   "cell_type": "markdown",
   "id": "cbbb6e78",
   "metadata": {},
   "source": [
    "#### 自己制定爆炸半径 方便测试"
   ]
  },
  {
   "cell_type": "code",
   "execution_count": 11,
   "id": "35b90df9",
   "metadata": {},
   "outputs": [],
   "source": [
    "explode_radius = [3,6,1] # 测试正确\n",
    "\n",
    "explode_radius = [11,6,1] # 测试正确\n",
    "\n",
    "explode_radius = [10,6,1] # 因为路径长度只有11，所以对于第一个烟花只有两种爆炸方法，都是正确的。"
   ]
  },
  {
   "cell_type": "markdown",
   "id": "e21078ac",
   "metadata": {},
   "source": [
    "#### 爆炸"
   ]
  },
  {
   "cell_type": "code",
   "execution_count": 19,
   "id": "d27d4ffb",
   "metadata": {},
   "outputs": [
    {
     "name": "stdout",
     "output_type": "stream",
     "text": [
      "第 1 个烟花发生爆炸，爆炸半径是 10,爆炸火花数量为 1\n",
      "爆炸前的烟花是：\n",
      "[['R11917', 'C00082', 'C03765'], ['R02695', 'C03765', 'C00642'], ['R02516', 'C00642', 'C00544'], ['R02518', 'C00544', 'C05585'], ['R02655', 'C05585', 'C00628'], ['R02489', 'C00628', 'C00530'], ['R05482', 'C00530', 'C02372'], ['R02561', 'C02372', 'C00568'], ['R05280', 'C00568', 'C00230'], ['R05274', 'C00230', 'C06672'], ['R05699', 'C06672', 'C00755']]\n",
      "第 1 个烟花发生爆炸，产生第 1 个烟花\n",
      "爆炸的起始化合物索引是：0，起始化合物是 C00082\n",
      "爆炸的终止化合物索引是：10, 终止化合物是 C06672\n"
     ]
    },
    {
     "name": "stderr",
     "output_type": "stream",
     "text": [
      "=====> after trim_chrom:  长度是22---[['R12540', 'C00082', 'C00079'], ['R08463', 'C00079', 'C08301'], ['R09089', 'C08301', 'C17268'], ['R09088', 'C17268', 'C00180'], ['R01425', 'C00180', 'C02253'], ['R01425', 'C02253', 'C00179'], ['R00566', 'C00179', 'C00062'], ['R12706', 'C00062', 'C01682'], ['R12706', 'C01682', 'C00026'], ['R08897', 'C00026', 'C00025'], ['R07396', 'C00025', 'C00073'], ['R12161', 'C00073', 'C04732'], ['R07280', 'C04732', 'C04454'], ['R03458', 'C04454', 'C01268'], ['R03459', 'C01268', 'C01304'], ['R11072', 'C01304', 'C05925'], ['R04621', 'C05925', 'C04874'], ['R03504', 'C04874', 'C01300'], ['R03066', 'C01300', 'C00921'], ['R03067', 'C00921', 'C00568'], ['R05280', 'C00568', 'C00230'], ['R05274', 'C00230', 'C06672']]<=====\n",
      "=====> after trim_chrom:  长度是22---[['R09830', 'C00082', 'C01179'], ['R02521', 'C01179', 'C00544'], ['R02514', 'C00544', 'C00642'], ['R02698', 'C00642', 'C01161'], ['R03302', 'C01161', 'C04043'], ['R04300', 'C04043', 'C03758'], ['R02080', 'C03758', 'C00355'], ['R08846', 'C00355', 'C10447'], ['R13082', 'C10447', 'C22567'], ['R13072', 'C22567', 'C05631'], ['R03640', 'C05631', 'C01617'], ['R03124', 'C01617', 'C00974'], ['R06540', 'C00974', 'C00026'], ['R01956', 'C00026', 'C01252'], ['R01957', 'C01252', 'C00328'], ['R00987', 'C00328', 'C00108'], ['R00825', 'C00108', 'C00090'], ['R10043', 'C00090', 'C00146'], ['R05625', 'C00146', 'C02734'], ['R05603', 'C02734', 'C00156'], ['R01298', 'C00156', 'C00230'], ['R05274', 'C00230', 'C06672']]<=====\n",
      "=====> after trim_chrom:  长度是6---[['R10671', 'C00082', 'C04350'], ['R05728', 'C04350', 'C03742'], ['R02676', 'C03742', 'C00633'], ['R01293', 'C00633', 'C00156'], ['R01296', 'C00156', 'C00230'], ['R05274', 'C00230', 'C06672']]<=====\n"
     ]
    },
    {
     "name": "stdout",
     "output_type": "stream",
     "text": [
      "爆炸后的烟花是：\n",
      "[['R10671', 'C00082', 'C04350'], ['R05728', 'C04350', 'C03742'], ['R02676', 'C03742', 'C00633'], ['R01293', 'C00633', 'C00156'], ['R01296', 'C00156', 'C00230'], ['R05274', 'C00230', 'C06672'], ['R05699', 'C06672', 'C00755']]\n"
     ]
    }
   ],
   "source": [
    "explode_fireworks = np.full((np.sum(explode_nums), 1), None, dtype=object)\n",
    "n = 0\n",
    "k = 0  # 第 0 个烟花发生爆炸\n",
    "j = 0  # 第 k 个烟花，发生第j次爆炸\n",
    "Chrom = copy.deepcopy(chrom_list[k][0])\n",
    "\n",
    "\n",
    "## 下面的代码就是写在for循环里面的了\n",
    "radius = explode_radius[k]\n",
    "num = explode_nums[k]\n",
    "\n",
    "print(\"第 %d 个烟花发生爆炸，爆炸半径是 %d,爆炸火花数量为 %d\" % (k+1, radius, num))\n",
    "print(\"爆炸前的烟花是：\")\n",
    "print(Chrom.chrom.travel())\n",
    "\n",
    "print(\"第 %d 个烟花发生爆炸，产生第 %d 个烟花\" % (k+1, j+1))\n",
    "\n",
    "# 获取化合物 对于第n个反应，其起始化合物是n，终止化合物是n+1\n",
    "# 对于爆炸半径 radius 起始化合物范围 应该是 len(cpd_list)\n",
    "Chrom = copy.deepcopy(chrom_list[k][0]) # 这里一定要再声明一次 不然就会被上一次爆炸后的烟花覆盖掉\n",
    "            cpd_list = Chrom.chrom.get_cpd_list()\n",
    "\n",
    "# 确定起始化合物 索引\n",
    "cpd_start_idx = np.random.choice(np.arange(len(cpd_list)-radius),size=1)[0]\n",
    "# 确定终止化合物 索引 可能会出现爆炸半径比路径长的情况\n",
    "cpd_end_idx = cpd_start_idx + radius\n",
    "\n",
    "# 确定起始化合物和终止化合物\n",
    "cpd_start = cpd_list[cpd_start_idx]\n",
    "cpd_end = cpd_list[cpd_end_idx]\n",
    "\n",
    "print(\"爆炸的起始化合物索引是：%d，起始化合物是 %s\" % (cpd_start_idx,cpd_start))\n",
    "print(\"爆炸的终止化合物索引是：%d, 终止化合物是 %s\" % (cpd_end_idx,cpd_end))\n",
    "\n",
    "while (1):\n",
    "    explode_middle_chrom = Chromesome(args, cfg, log, initial_substrate=cpd_start,initial_product=cpd_end)\n",
    "    if explode_middle_chrom.get_a_chrom():\n",
    "        # 已经找到了一条 中间两个化合物的路径\n",
    "        # 先剪枝\n",
    "        explode_middle_chrom.trim_chrom(explode_middle_chrom.chrom)\n",
    "        # 都先指向头节点\n",
    "        cur = Chrom.chrom._head\n",
    "        explode_middle_chrom_cur = explode_middle_chrom.chrom._head\n",
    "        # 声明哑节点 哑节点指向cur\n",
    "        dummy = SingleReaction(S=None, P=None, reaction={})\n",
    "        dummy.next = cur\n",
    "        cur = dummy\n",
    "\n",
    "        # 遍历cur 指向第 cpd_start_idx 个节点。\n",
    "        # 但因为是从第一个节点开始往下遍历的，所以需要-1\n",
    "        for i in range(cpd_start_idx):\n",
    "            cur = cur.next\n",
    "\n",
    "        ## 必须先存储好Chrom的 第cpd_start_idx 个节点 与 第 cpd_end+1 个节点\n",
    "        cur_middle_start = cur\n",
    "\n",
    "        cur = Chrom.chrom._head\n",
    "\n",
    "        # 遍历cur 指向第 cpd_end+1 个节点\n",
    "        # 但因为是从第一个节点开始往下遍历的，所以需要-1\n",
    "        for i in range(cpd_end_idx):\n",
    "            # 因为有报错 所以这里添加了if 但是按理说 不应该有报错才对\n",
    "            # cur = cur.next\n",
    "            if cur!=None:\n",
    "                cur = cur.next\n",
    "        cur_middle_end = cur\n",
    "\n",
    "\n",
    "        # 将 cur 的next节点指向 explode_middle_chrom 的头节点 explode_middle_chrom_cur\n",
    "        cur_middle_start.next = explode_middle_chrom_cur # 报错 但是怎么会为null呢\n",
    "        # 遍历 explode_middle_chrom_cur 指向尾节点\n",
    "        while(explode_middle_chrom_cur.next != None):\n",
    "            explode_middle_chrom_cur = explode_middle_chrom_cur.next\n",
    "        # 将 explode_middle_chrom_cur 尾节点的 next指针指向 Chrom的 第 cpd_end+1 个节点\n",
    "        explode_middle_chrom_cur.next = cur_middle_end\n",
    "\n",
    "        ## 最后再指定一下头节点\n",
    "        Chrom.chrom._head = dummy.next\n",
    "        # 拼接后 需要在做一次剪枝\n",
    "        Chrom.trim_chrom(Chrom.chrom)\n",
    "        \n",
    "        break\n",
    "        \n",
    "explode_fireworks[n][0] = Chrom\n",
    "n += 1\n",
    "\n",
    "print(\"爆炸后的烟花是：\")\n",
    "print(Chrom.chrom.travel())"
   ]
  },
  {
   "cell_type": "code",
   "execution_count": 20,
   "id": "38711051",
   "metadata": {},
   "outputs": [
    {
     "data": {
      "text/plain": [
       "array([], dtype=int64)"
      ]
     },
     "execution_count": 20,
     "metadata": {},
     "output_type": "execute_result"
    }
   ],
   "source": [
    "np.arange(0)"
   ]
  },
  {
   "cell_type": "markdown",
   "id": "ede8766e",
   "metadata": {},
   "source": [
    "np.random.choice(np.arange(1),size=1)"
   ]
  },
  {
   "cell_type": "markdown",
   "id": "49731e8a",
   "metadata": {},
   "source": [
    "## 测试"
   ]
  },
  {
   "cell_type": "markdown",
   "id": "0b37b255",
   "metadata": {},
   "source": [
    "#### 原始烟花"
   ]
  },
  {
   "cell_type": "code",
   "execution_count": 3,
   "id": "d310ec4d",
   "metadata": {},
   "outputs": [],
   "source": [
    "myReactions1 = ['R11620', 'R00874', 'R12250', 'R11959', 'R01745','R01394','R01393','R01333','R00465','R12692','R00373','R00491','R05053','R01447','R00214']\n",
    "myCompounds1 = ['C00267', 'C00794', 'C00031', 'C19792', 'C00258','C01146','C00168','C00266','C00160','C00048','C00037','C00049','C00402','C00036','C00149','C00022']\n",
    "# chrom1 = Chromesome(args, cfg, log,get_a_chrom(myReactions1,myCompounds1))\n",
    "Chrom = Chromesome(args, cfg, log, chrom=get_a_chrom(myReactions1,myCompounds1))"
   ]
  },
  {
   "cell_type": "code",
   "execution_count": 4,
   "id": "8f4a9d2e",
   "metadata": {},
   "outputs": [
    {
     "name": "stdout",
     "output_type": "stream",
     "text": [
      "[['R11620', 'C00267', 'C00794'], ['R00874', 'C00794', 'C00031'], ['R12250', 'C00031', 'C19792'], ['R11959', 'C19792', 'C00258'], ['R01745', 'C00258', 'C01146'], ['R01394', 'C01146', 'C00168'], ['R01393', 'C00168', 'C00266'], ['R01333', 'C00266', 'C00160'], ['R00465', 'C00160', 'C00048'], ['R12692', 'C00048', 'C00037'], ['R00373', 'C00037', 'C00049'], ['R00491', 'C00049', 'C00402'], ['R05053', 'C00402', 'C00036'], ['R01447', 'C00036', 'C00149'], ['R00214', 'C00149', 'C00022']]\n",
      "['R11620', 'R00874', 'R12250', 'R11959', 'R01745', 'R01394', 'R01393', 'R01333', 'R00465', 'R12692', 'R00373', 'R00491', 'R05053', 'R01447', 'R00214']\n"
     ]
    }
   ],
   "source": [
    "print(Chrom.chrom.travel())\n",
    "print(Chrom.chrom.get_rxn_list())"
   ]
  },
  {
   "cell_type": "markdown",
   "id": "833028a8",
   "metadata": {},
   "source": [
    "#### 爆炸后的烟花"
   ]
  },
  {
   "cell_type": "code",
   "execution_count": 7,
   "id": "21ea52ef",
   "metadata": {},
   "outputs": [],
   "source": [
    "myReactions2 = ['R01782', 'R09186', 'R00264', 'R01582', 'R00692','R00695']\n",
    "myCompounds2 = ['C00266', 'C03826', 'C00433', 'C00026', 'C00166','C00079','C00049']\n",
    "# chrom1 = Chromesome(args, cfg, log,get_a_chrom(myReactions1,myCompounds1))\n",
    "explode_middle_chrom = Chromesome(args, cfg, log, chrom=get_a_chrom(myReactions2,myCompounds2))"
   ]
  },
  {
   "cell_type": "code",
   "execution_count": 8,
   "id": "30ab5396",
   "metadata": {},
   "outputs": [
    {
     "name": "stdout",
     "output_type": "stream",
     "text": [
      "[['R01782', 'C00266', 'C03826'], ['R09186', 'C03826', 'C00433'], ['R00264', 'C00433', 'C00026'], ['R01582', 'C00026', 'C00166'], ['R00692', 'C00166', 'C00079'], ['R00695', 'C00079', 'C00049']]\n",
      "['R01782', 'R09186', 'R00264', 'R01582', 'R00692', 'R00695']\n"
     ]
    }
   ],
   "source": [
    "print(explode_middle_chrom.chrom.travel())\n",
    "print(explode_middle_chrom.chrom.get_rxn_list())"
   ]
  },
  {
   "cell_type": "markdown",
   "id": "742ae117",
   "metadata": {},
   "source": [
    "#### 起始化合物idx和终止化合物idx"
   ]
  },
  {
   "cell_type": "code",
   "execution_count": 9,
   "id": "1b1f0a87",
   "metadata": {},
   "outputs": [],
   "source": [
    "cpd_start_idx = 7\n",
    "cpd_end_idx = 11"
   ]
  },
  {
   "cell_type": "code",
   "execution_count": 10,
   "id": "d88bcfa7",
   "metadata": {},
   "outputs": [
    {
     "data": {
      "text/plain": [
       "(<mooseeker.utils.utils.SingleLinkList at 0x7f3307816a30>, True)"
      ]
     },
     "execution_count": 10,
     "metadata": {},
     "output_type": "execute_result"
    }
   ],
   "source": [
    "\n",
    "# 都先指向头节点\n",
    "cur = Chrom.chrom._head\n",
    "explode_middle_chrom_cur = explode_middle_chrom.chrom._head\n",
    "# 声明哑节点 哑节点指向cur\n",
    "dummy = SingleReaction(S=None, P=None, reaction={})\n",
    "dummy.next = cur\n",
    "cur = dummy\n",
    "\n",
    "# 遍历cur 指向第 cpd_start_idx 个节点。\n",
    "# 但因为是从第一个节点开始往下遍历的，所以需要-1\n",
    "for i in range(cpd_start_idx):\n",
    "    cur = cur.next\n",
    "\n",
    "## 必须先存储好Chrom的 第cpd_start_idx 个节点 与 第 cpd_end+1 个节点\n",
    "cur_middle_start = cur\n",
    "\n",
    "cur = Chrom.chrom._head\n",
    "\n",
    "# 遍历cur 指向第 cpd_end+1 个节点\n",
    "# 但因为是从第一个节点开始往下遍历的，所以需要-1\n",
    "for i in range(cpd_end_idx):\n",
    "    # 因为有报错 所以这里添加了if 但是按理说 不应该有报错才对\n",
    "    # cur = cur.next\n",
    "    if cur!=None:\n",
    "        cur = cur.next\n",
    "cur_middle_end = cur\n",
    "\n",
    "\n",
    "# 将 cur 的next节点指向 explode_middle_chrom 的头节点 explode_middle_chrom_cur\n",
    "cur_middle_start.next = explode_middle_chrom_cur # 报错 但是怎么会为null呢\n",
    "# 遍历 explode_middle_chrom_cur 指向尾节点\n",
    "while(explode_middle_chrom_cur.next != None):\n",
    "    explode_middle_chrom_cur = explode_middle_chrom_cur.next\n",
    "# 将 explode_middle_chrom_cur 尾节点的 next指针指向 Chrom的 第 cpd_end+1 个节点\n",
    "explode_middle_chrom_cur.next = cur_middle_end\n",
    "\n",
    "## 最后再指定一下头节点\n",
    "Chrom.chrom._head = dummy.next\n",
    "# 拼接后 需要在做一次剪枝\n",
    "Chrom.trim_chrom(Chrom.chrom)"
   ]
  },
  {
   "cell_type": "code",
   "execution_count": 9,
   "id": "8cdfc2cb",
   "metadata": {},
   "outputs": [
    {
     "name": "stdout",
     "output_type": "stream",
     "text": [
      "[['R11620', 'C00267', 'C00794'], ['R00874', 'C00794', 'C00031'], ['R12250', 'C00031', 'C19792'], ['R11959', 'C19792', 'C00258'], ['R01745', 'C00258', 'C01146'], ['R01394', 'C01146', 'C00168'], ['R01393', 'C00168', 'C00266'], ['R11620', 'C00267', 'C00794'], ['R00874', 'C00794', 'C00031'], ['R12250', 'C00031', 'C19792'], ['R11959', 'C19792', 'C00258'], ['R01745', 'C00258', 'C01146'], ['R01394', 'C01146', 'C00168'], ['R01393', 'C00168', 'C00266'], ['R01333', 'C00266', 'C00160'], ['R00465', 'C00160', 'C00048'], ['R12692', 'C00048', 'C00037'], ['R00373', 'C00037', 'C00049'], ['R00491', 'C00049', 'C00402'], ['R05053', 'C00402', 'C00036'], ['R01447', 'C00036', 'C00149'], ['R00214', 'C00149', 'C00022'], ['R00491', 'C00049', 'C00402'], ['R05053', 'C00402', 'C00036'], ['R01447', 'C00036', 'C00149'], ['R00214', 'C00149', 'C00022']]\n"
     ]
    }
   ],
   "source": [
    "print(Chrom.chrom.travel())\n",
    "print(Chrom.chrom.get_rxn_list())"
   ]
  }
 ],
 "metadata": {
  "kernelspec": {
   "display_name": "pytorch2",
   "language": "python",
   "name": "pytorch2"
  },
  "language_info": {
   "codemirror_mode": {
    "name": "ipython",
    "version": 3
   },
   "file_extension": ".py",
   "mimetype": "text/x-python",
   "name": "python",
   "nbconvert_exporter": "python",
   "pygments_lexer": "ipython3",
   "version": "3.8.13"
  }
 },
 "nbformat": 4,
 "nbformat_minor": 5
}
