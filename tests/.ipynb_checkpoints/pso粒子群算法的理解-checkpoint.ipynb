{
 "cells": [
  {
   "cell_type": "markdown",
   "id": "e03a23d4",
   "metadata": {},
   "source": [
    "### 参数设置"
   ]
  },
  {
   "cell_type": "code",
   "execution_count": 1,
   "id": "3a34bb2a",
   "metadata": {},
   "outputs": [
    {
     "name": "stdout",
     "output_type": "stream",
     "text": [
      "moo_dir: /home/cuisx/products/BDA/pathToNetwork-path-design/mooseeker-master\n",
      "sys.path: ['/home/cuisx/products/BDA/pathToNetwork-path-design/mooseeker-master/tests', '', '/opt/ros/lunar/lib/python2.7/dist-packages', '/home/cuisx/anaconda3/envs/pytorch2/lib/python38.zip', '/home/cuisx/anaconda3/envs/pytorch2/lib/python3.8', '/home/cuisx/anaconda3/envs/pytorch2/lib/python3.8/lib-dynload', '/home/cuisx/anaconda3/envs/pytorch2/lib/python3.8/site-packages', '..', '/home/cuisx/products/BDA/pathToNetwork-path-design/mooseeker-master', '/home/cuisx/products/BDA/pathToNetwork-path-design/mooseeker-master', '/home/cuisx/anaconda3/envs/pytorch2/lib/python3.8/site-packages/libsbml', '/home/cuisx/products/BDA/pathToNetwork-path-design/mooseeker-master', '/home/cuisx/products/BDA/pathToNetwork-path-design/mooseeker-master/mooseeker', '..']\n"
     ]
    }
   ],
   "source": [
    "import os\n",
    "import sys\n",
    "import csv\n",
    "import json\n",
    "import numpy as np\n",
    "import time\n",
    "\n",
    "# 吉布斯自由能和理论产量都要考虑\n",
    "sys.path.append(\"..\")\n",
    "\n",
    "from mooseeker.model.BiOperators import *\n",
    "from mooseeker.utils import *\n",
    "# from main import parser\n",
    "# 因为我这里用的是main_single\n",
    "from main_single import parser\n",
    "\n",
    "from mooseeker.fit_funcs import get_gibbs, get_yield"
   ]
  },
  {
   "cell_type": "code",
   "execution_count": 2,
   "id": "64f62f0a",
   "metadata": {},
   "outputs": [
    {
     "name": "stdout",
     "output_type": "stream",
     "text": [
      "main_single:args.save_path\n",
      "../009_C00267_C00022/\n"
     ]
    }
   ],
   "source": [
    "args = parser()\n",
    "cfg = get_config()\n",
    "log = Logger(cfg['file_path']['log_dir'] + 'real_1223.log', fmt='%(message)s')"
   ]
  },
  {
   "cell_type": "code",
   "execution_count": 3,
   "id": "a4444f2e",
   "metadata": {
    "scrolled": true
   },
   "outputs": [
    {
     "data": {
      "text/plain": [
       "Namespace(NrMax=15, abundant=['C00001', 'C00002', 'C00080'], algorithm='single', database=['KEGG', 'BiGG'], eva_func=['yield'], gen=20, host=['ecoli'], ob_product='C00022', ob_substrate='C00267', pop_size=10, project='009_C00267_C00022', save_path='../009_C00267_C00022/', task_id='009', w1=0, w2=0.3, w3=0.7)"
      ]
     },
     "execution_count": 3,
     "metadata": {},
     "output_type": "execute_result"
    }
   ],
   "source": [
    "args"
   ]
  },
  {
   "cell_type": "code",
   "execution_count": 4,
   "id": "a4302c5c",
   "metadata": {},
   "outputs": [
    {
     "data": {
      "text/plain": [
       "{'file_path': {'kegg_cofactors': '/home/cuisx/products/BDA/pathToNetwork-path-design/mooseeker-master/mooseeker/data/kegg/cofactors.csv',\n",
       "  'all_rxn_dict': '/home/cuisx/products/BDA/pathToNetwork-path-design/mooseeker-master/mooseeker/data/kegg/all_rxn_dict.json',\n",
       "  'all_cpd_dict': '/home/cuisx/products/BDA/pathToNetwork-path-design/mooseeker-master/mooseeker/data/kegg/all_cpd_dict.json',\n",
       "  'mypool': '/home/cuisx/products/BDA/pathToNetwork-path-design/mooseeker-master/mooseeker/cache/data/MYPOOL_20230914.npy',\n",
       "  'dG_dict': '/home/cuisx/products/BDA/pathToNetwork-path-design/mooseeker-master/mooseeker/data/gibbs/dG.json',\n",
       "  'gibb_concentration': '/home/cuisx/products/BDA/pathToNetwork-path-design/mooseeker-master/mooseeker/data/gibbs/concentrations.tab',\n",
       "  'gibb_rxn_ph7_quantity': '/home/cuisx/products/BDA/pathToNetwork-path-design/mooseeker-master/mooseeker/data/gibbs/kegg_reactions_CC_ph70_quantity.tsv',\n",
       "  'yield_dir': '/home/cuisx/products/BDA/pathToNetwork-path-design/mooseeker-master/mooseeker/data/theoretical_yield/',\n",
       "  'host_sbml': '/home/cuisx/products/BDA/pathToNetwork-path-design/mooseeker-master/mooseeker/data/theoretical_yield/iJO1366.xml',\n",
       "  'data_dir': '/home/cuisx/products/BDA/pathToNetwork-path-design/mooseeker-master/mooseeker/cache/data/',\n",
       "  'result_dir': '/home/cuisx/products/BDA/pathToNetwork-path-design/mooseeker-master/mooseeker/cache/result/',\n",
       "  'checkpoint_dir': '/home/cuisx/products/BDA/pathToNetwork-path-design/mooseeker-master/mooseeker/cache/checkpoint/',\n",
       "  'log_dir': '/home/cuisx/products/BDA/pathToNetwork-path-design/mooseeker-master/mooseeker/cache/log/'},\n",
       " 'init': {'gen': 30, 'pop_size': 20, 'NrMax': 20},\n",
       " 'glycolysis': {'abundant': ['C00001',\n",
       "   'C00002',\n",
       "   'C00003',\n",
       "   'C00004',\n",
       "   'C00005',\n",
       "   'C00006',\n",
       "   'C00007',\n",
       "   'C00008',\n",
       "   'C00009',\n",
       "   'C00010',\n",
       "   'C00080'],\n",
       "  'ob_substrate': 'C00267',\n",
       "  'ob_product': 'C00022'},\n",
       " 'vanillin': {'abundant': ['C00001',\n",
       "   'C00002',\n",
       "   'C00003',\n",
       "   'C00004',\n",
       "   'C00005',\n",
       "   'C00006',\n",
       "   'C00007',\n",
       "   'C00008',\n",
       "   'C00009',\n",
       "   'C00010',\n",
       "   'C00080'],\n",
       "  'ob_substrate': 'C00082',\n",
       "  'ob_product': 'C00755'}}"
      ]
     },
     "execution_count": 4,
     "metadata": {},
     "output_type": "execute_result"
    }
   ],
   "source": [
    "cfg"
   ]
  },
  {
   "cell_type": "markdown",
   "id": "a002255f",
   "metadata": {},
   "source": [
    "## 函数"
   ]
  },
  {
   "cell_type": "markdown",
   "id": "26359203",
   "metadata": {},
   "source": [
    "### 评估 计算适应度值 evaluate"
   ]
  },
  {
   "cell_type": "code",
   "execution_count": 5,
   "id": "27e7b893",
   "metadata": {},
   "outputs": [],
   "source": [
    "def evaluate(X):\n",
    "    weight1 = 0\n",
    "    weight2 = 0.3\n",
    "    weight3 = 0.7\n",
    "\n",
    "    #log.logger.info('---get pathway length---')\n",
    "    length = X[0].chrom.length()\n",
    "\n",
    "    #log.logger.info('---get pathway gibbs---')\n",
    "    # gibbs = get_gibbs(X[0].chrom.get_rxn_list()) # 得到吉布斯自由能值 师姐原本的函数\n",
    "    gibbs = get_gibbs(cfg,X[0].chrom.get_rxn_list())  # 得到吉布斯自由能值\n",
    "\n",
    "    #log.logger.info('---get pathway yield---')\n",
    "    # _yield = get_yield(X[0].chrom.get_rxn_list()) # 得到理论产量值 原本的\n",
    "    _yield = get_yield(cfg,X[0].chrom.get_rxn_list()) # 得到理论产量值\n",
    "\n",
    "    fit = float(weight1) * length + float(weight2) * gibbs - float(weight3) * _yield # 计算适应度值 适应度值越小越好\n",
    "\n",
    "    #print('The chromesome is:\\n', X.chrom.travel())\n",
    "    print('Length:%f \\nGibbs:%f \\nYield:%f \\nWeighted Score:%f \\n' % (length, gibbs, _yield, fit))\n",
    "\n",
    "    csv_file_path = result_dir + 'evaluation_data.csv'\n",
    "    if not os.path.exists(csv_file_path):\n",
    "        with open(csv_file_path, 'w', newline='') as file:\n",
    "            writer = csv.writer(file)\n",
    "            writer.writerow([\"fit\", \"gibbs\", \"yield\", \"length\"])\n",
    "\n",
    "    with open(csv_file_path, 'a', newline='') as file:\n",
    "        writer = csv.writer(file)\n",
    "        writer.writerow([fit, gibbs, _yield, length])\n",
    "\n",
    "    # 在评估的地方保存个体和适应度值\n",
    "    with open(result_dir + 'all_pso.txt', 'a') as f:\n",
    "        f.write(str([length, gibbs, _yield, fit]))\n",
    "        f.write('\\n')\n",
    "        f.write(str(X[0].chrom.get_rxn_list()))\n",
    "        f.write('\\n')\n",
    "        log.logger.info('---The chromesome is---')\n",
    "        travel_list = X[0].chrom.travel()\n",
    "        for line in travel_list:\n",
    "            for l in line:\n",
    "                f.write(l)\n",
    "                f.write('\\t')\n",
    "            f.write('\\n')\n",
    "        f.write('==' * 10)\n",
    "        f.write('\\n')\n",
    "\n",
    "    return fit"
   ]
  },
  {
   "cell_type": "markdown",
   "id": "0c904c2c",
   "metadata": {},
   "source": [
    "### 变异 mut"
   ]
  },
  {
   "cell_type": "code",
   "execution_count": 6,
   "id": "8f5e74ea",
   "metadata": {},
   "outputs": [],
   "source": [
    "def mut(Chrome):\n",
    "    chrom = copy.deepcopy(Chrome)\n",
    "\n",
    "    while True:\n",
    "        m = random.randint(0, chrom[0].chrom.length()-2)\n",
    "        cur = chrom[0].chrom._head\n",
    "        for i in range(m):\n",
    "            cur = cur.next\n",
    "\n",
    "        s = cur.P\n",
    "\n",
    "        # generate mut_chrom\n",
    "        mut_chrom = np.full((1, 1), None, dtype=object)\n",
    "        while (1):\n",
    "            # temp_chrom = Chromesome(args, cfg, log, initial_substrate=s) # 原本的\n",
    "            temp_chrom = Chromesome(args, cfg, log)\n",
    "            if temp_chrom.get_a_chrom():\n",
    "                mut_chrom[0] = temp_chrom\n",
    "                break\n",
    "\n",
    "        # connect chrom and mut_chrom\n",
    "        cur = chrom[0].chrom._head\n",
    "        mut_cur = mut_chrom[0][0].chrom._head\n",
    "\n",
    "        for i in range(m):\n",
    "            cur = cur.next\n",
    "\n",
    "        cur.next = mut_cur\n",
    "\n",
    "        # trim new chrom\n",
    "        chrom[0].trim_chrom(chrom[0].chrom)\n",
    "\n",
    "        # 检查修剪后的路径长度\n",
    "        if chrom[0].chrom.length() <= 20:\n",
    "            break\n",
    "    # update chrom's pool\n",
    "    chrom[0].update_pool_after_change()\n",
    "    if chrom[0].chrom.get_rxn_list() != Chrome[0].chrom.get_rxn_list():\n",
    "\n",
    "        log.logger.info(\"-----Mutation Successfully!-----\")\n",
    "        log.logger.info(\"Chromesomes before mutation is :\")\n",
    "        log.logger.info(Chrome[0].chrom.travel())\n",
    "        log.logger.info(\"Chromesomes after mutation is :\")\n",
    "        log.logger.info(chrom[0].chrom.travel())\n",
    "        log.logger.info('--' * 10)\n",
    "\n",
    "        return [True, chrom]\n",
    "    else:\n",
    "        # problem.log.logger.info(chrom.travel())\n",
    "        log.logger.info(\"-----Mutation Failed!-----\")\n",
    "        return [False, chrom]\n"
   ]
  },
  {
   "cell_type": "markdown",
   "id": "b8601956",
   "metadata": {},
   "source": [
    "### 交叉 cross"
   ]
  },
  {
   "cell_type": "code",
   "execution_count": 7,
   "id": "75a7b4bd",
   "metadata": {},
   "outputs": [],
   "source": [
    "def cross(chromA, chromB):\n",
    "    \"\"\"cross chromA and chromB\n",
    "    Args:\n",
    "        chromA (class Chromsomes):\n",
    "        chromB (class Chromsomes):\n",
    "    Returns:\n",
    "        newA (class Chromsomes):\n",
    "        newB (class Chromsomes):\n",
    "    \"\"\"\n",
    "    newA, newB = copy.deepcopy(chromA), copy.deepcopy(chromB)\n",
    "    # newA, newB = chromA, chromB\n",
    "    curA = newA.chrom._head\n",
    "    while (curA != None and curA.next != None):\n",
    "        curB = newB.chrom._head\n",
    "        while (curB != None and curB.next != None):\n",
    "            if (curA.P == curB.P):\n",
    "                # find the same point and crossover\n",
    "                temp = curA.next\n",
    "                curA.next = curB.next\n",
    "                curB.next = temp\n",
    "\n",
    "                newA.update_pool_after_change()\n",
    "                newB.update_pool_after_change()\n",
    "\n",
    "                log.logger.info(\"-----Crossover Successfully!-----\")\n",
    "                log.logger.info(\"Chromesomes before crossover is :\")\n",
    "                log.logger.info(chromA.chrom.travel())\n",
    "                log.logger.info(\"Chromesomes after crossover is :\")\n",
    "                log.logger.info(newA.chrom.travel())\n",
    "                log.logger.info('--'*4)\n",
    "\n",
    "                return newA, newB\n",
    "            else:\n",
    "                curB = curB.next\n",
    "        curA = curA.next\n"
   ]
  },
  {
   "cell_type": "markdown",
   "id": "3b8c0a9f",
   "metadata": {},
   "source": [
    "### 判断两个路径有相同的点位 也就是判断这两个是否能够交叉 has_same_node"
   ]
  },
  {
   "cell_type": "code",
   "execution_count": 8,
   "id": "16f1b1f4",
   "metadata": {},
   "outputs": [],
   "source": [
    "def has_same_node(chromA, chromB):\n",
    "    \"\"\"Judge chromA and chromB has the same point to crossover\n",
    "    Args:\n",
    "        chromA (class AChromsomes): _description_\n",
    "        chromB (class AChromsomes): _description_\n",
    "\n",
    "    Returns:\n",
    "        bool: true or false\n",
    "    \"\"\"\n",
    "    curA = chromA.chrom._head\n",
    "    # 遍历到链表的前一个节点 除掉最后一个节点\n",
    "    while (curA != None and curA.next != None):\n",
    "        curB = chromB.chrom._head\n",
    "        while (curB != None and curB.next != None):\n",
    "            if (curA.P == curB.P):\n",
    "                # 如果都是头节点 则不满足有相同节点的条件\n",
    "                if (curA == chromA.chrom._head and curB == chromB.chrom._head):\n",
    "                    curB = curB.next\n",
    "                    continue\n",
    "\n",
    "                # 如果都是倒数第二节点，也不满足有相同节点的条件\n",
    "                elif (curA.next.next == None and curB.next.next == None):\n",
    "                    curB = curB.next\n",
    "                    continue\n",
    "                else:\n",
    "                    return True\n",
    "            else:\n",
    "                curB = curB.next\n",
    "        curA = curA.next\n",
    "    return False\n"
   ]
  },
  {
   "cell_type": "markdown",
   "id": "b9d7f258",
   "metadata": {},
   "source": [
    "### 执行交叉 perform_crossover"
   ]
  },
  {
   "cell_type": "code",
   "execution_count": 9,
   "id": "35830073",
   "metadata": {},
   "outputs": [],
   "source": [
    "def perform_crossover(chrom1, chrom2):\n",
    "    chrom1 = np.array(chrom1)\n",
    "    chrom2 = np.array(chrom2)\n",
    "    stacked = np.vstack((chrom1, chrom2))\n",
    "    n_parents_, n_matings = stacked.shape\n",
    "    output = np.full_like(stacked, None, dtype=object)\n",
    "    for i in range(n_matings):\n",
    "        if has_same_node(stacked[0, i], stacked[1, i]):\n",
    "            output[0, i], output[1, i] = cross(stacked[0, i], stacked[1, i])\n",
    "        else:\n",
    "            output[0, i], output[1, i] = stacked[0, i], stacked[1, i]\n",
    "            log.logger.info(\"-----Has no same node, Crossover failed!-----\")\n",
    "\n",
    "    return output[0]"
   ]
  },
  {
   "cell_type": "markdown",
   "id": "9be5cd47",
   "metadata": {},
   "source": [
    "### remove_cycles 剪枝"
   ]
  },
  {
   "cell_type": "code",
   "execution_count": 10,
   "id": "8293655c",
   "metadata": {},
   "outputs": [],
   "source": [
    "def remove_cycles(chrom):\n",
    "    # 创建一个字典来代表反应路径\n",
    "    graph = {}\n",
    "    cur = chrom[0].chrom.get_first_node()\n",
    "    while cur:\n",
    "        if cur.S in graph:\n",
    "            graph[cur.S].append(cur.P)\n",
    "        else:\n",
    "            graph[cur.S] = [cur.P]\n",
    "        cur = cur.next\n",
    "\n",
    "    # 这个集合将存储循环中涉及的反应\n",
    "    nodes_to_remove = set()\n",
    "\n",
    "    def dfs(node, visited, stack):\n",
    "        visited.add(node)\n",
    "        stack.append(node)\n",
    "\n",
    "        for neighbor in graph.get(node, []):\n",
    "            if neighbor not in visited:\n",
    "                dfs(neighbor, visited, stack)\n",
    "            elif neighbor in stack:\n",
    "                idx = stack.index(neighbor)\n",
    "                for i in range(idx, len(stack)):\n",
    "                    nodes_to_remove.add(stack[i])\n",
    "\n",
    "        stack.pop()\n",
    "\n",
    "    # 使用深度优先搜索检测循环\n",
    "    visited = set()\n",
    "    for start_node in graph.keys():\n",
    "        if start_node not in visited:\n",
    "            dfs(start_node, visited, [])\n",
    "\n",
    "    # 去除循环中的节点\n",
    "    prev = None\n",
    "    cur = chrom[0].chrom.get_first_node()\n",
    "    while cur:\n",
    "        if cur.S in nodes_to_remove and cur.P in nodes_to_remove:\n",
    "            if prev:\n",
    "                prev.next = cur.next\n",
    "            else:\n",
    "                chrom[0].chrom._head = cur.next\n",
    "        else:\n",
    "            prev = cur\n",
    "        cur = cur.next\n",
    "\n",
    "    return chrom\n"
   ]
  },
  {
   "cell_type": "markdown",
   "id": "f4953545",
   "metadata": {},
   "source": [
    "## 整体流程"
   ]
  },
  {
   "cell_type": "markdown",
   "id": "fc06cde6",
   "metadata": {},
   "source": [
    "#### pop_size设置为3 生成第一代"
   ]
  },
  {
   "cell_type": "code",
   "execution_count": 11,
   "id": "6211c834",
   "metadata": {},
   "outputs": [
    {
     "name": "stdout",
     "output_type": "stream",
     "text": [
      "-----Sampling-----\n"
     ]
    },
    {
     "data": {
      "text/plain": [
       "array([[None],\n",
       "       [None],\n",
       "       [None]], dtype=object)"
      ]
     },
     "execution_count": 11,
     "metadata": {},
     "output_type": "execute_result"
    }
   ],
   "source": [
    "pop_size=3\n",
    "#chrom_list = []\n",
    "start_time = time.time()  # 开始计时\n",
    "\n",
    "print(\"-----Sampling-----\")\n",
    "chrom_list = np.full((pop_size, 1), None, dtype=object)\n",
    "chrom_list"
   ]
  },
  {
   "cell_type": "code",
   "execution_count": 12,
   "id": "6585d371",
   "metadata": {
    "collapsed": true
   },
   "outputs": [
    {
     "name": "stderr",
     "output_type": "stream",
     "text": [
      "=====> after trim_chrom:  长度是21---[['R01602', 'C00267', 'C00221'], ['R00026', 'C00221', 'C00185'], ['R01444', 'C00185', 'C06219'], ['R03801', 'C06219', 'C02013'], ['R03801', 'C02013', 'C00031'], ['R05196', 'C00031', 'C00208'], ['R10486', 'C00208', 'C02995'], ['R00838', 'C02995', 'C00092'], ['R00850', 'C00092', 'C00093'], ['R08657', 'C00093', 'C00111'], ['R01012', 'C00111', 'C00184'], ['R01034', 'C00184', 'C00116'], ['R07293', 'C00116', 'C01885'], ['R05209', 'C01885', 'C00165'], ['R12202', 'C00165', 'C00350'], ['R12702', 'C00350', 'C00641'], ['R02251', 'C00641', 'C00422'], ['R02250', 'C00422', 'C00162'], ['R00631', 'C00162', 'C00071'], ['R00636', 'C00071', 'C00161'], ['R01261', 'C00161', 'C00022']]<=====\n",
      "=====> after trim_chrom:  长度是11---[['R01602', 'C00267', 'C00221'], ['R02187', 'C00221', 'C01172'], ['R02739', 'C01172', 'C00668'], ['R02740', 'C00668', 'C05345'], ['R00867', 'C05345', 'C00095'], ['R08406', 'C00095', 'C00085'], ['R01067', 'C00085', 'C00279'], ['R01825', 'C00279', 'C03393'], ['R11726', 'C03393', 'C00111'], ['R01011', 'C00111', 'C00184'], ['R01012', 'C00184', 'C00022']]<=====\n"
     ]
    },
    {
     "name": "stdout",
     "output_type": "stream",
     "text": [
      "--This is the 1th chromsome---\n"
     ]
    },
    {
     "name": "stderr",
     "output_type": "stream",
     "text": [
      "=====> after trim_chrom:  长度是6---[['R01787', 'C00267', 'C00794'], ['R00874', 'C00794', 'C00031'], ['R00063', 'C00031', 'C01175'], ['R03323', 'C01175', 'C02887'], ['R03323', 'C02887', 'C00149'], ['R00216', 'C00149', 'C00022']]<=====\n",
      "=====> after trim_chrom:  长度是14---[['R11620', 'C00267', 'C00794'], ['R02866', 'C00794', 'C01096'], ['R03234', 'C01096', 'C02888'], ['R04076', 'C02888', 'C04261'], ['R05199', 'C04261', 'C00357'], ['R05199', 'C00357', 'C00140'], ['R01266', 'C00140', 'C04540'], ['R01266', 'C04540', 'C00152'], ['R00483', 'C00152', 'C00049'], ['R09805', 'C00049', 'C00441'], ['R06977', 'C00441', 'C03283'], ['R06977', 'C03283', 'C00025'], ['R01214', 'C00025', 'C00026'], ['R10539', 'C00026', 'C00022']]<=====\n",
      "=====> after trim_chrom:  长度是26---[['R01718', 'C00267', 'C00252'], ['R11309', 'C00252', 'C00372'], ['R12528', 'C00372', 'C00095'], ['R00801', 'C00095', 'C00089'], ['R05140', 'C00089', 'C00031'], ['R04333', 'C00031', 'C00137'], ['R01802', 'C00137', 'C01194'], ['R03332', 'C01194', 'C00641'], ['R03838', 'C00641', 'C02112'], ['R02758', 'C02112', 'C03974'], ['R02242', 'C03974', 'C00416'], ['R02241', 'C00416', 'C00681'], ['R00851', 'C00681', 'C00040'], ['R09035', 'C00040', 'C02737'], ['R04034', 'C02737', 'C00162'], ['R10912', 'C00162', 'C00071'], ['R00538', 'C00071', 'C00060'], ['R00630', 'C00060', 'C02391'], ['R00630', 'C02391', 'C00069'], ['R00629', 'C00069', 'C02000'], ['R12778', 'C02000', 'C00059'], ['R01145', 'C00059', 'C02704'], ['R01145', 'C02704', 'C00132'], ['R10705', 'C00132', 'C17530'], ['R10705', 'C17530', 'C00033'], ['R03145', 'C00033', 'C00022']]<=====\n",
      "=====> after trim_chrom:  长度是7---[['R00878', 'C00267', 'C00095'], ['R00877', 'C00095', 'C00159'], ['R02630', 'C00159', 'C00615'], ['R04076', 'C00615', 'C04261'], ['R08559', 'C04261', 'C16698'], ['R08555', 'C16698', 'C00256'], ['R13049', 'C00256', 'C00022']]<=====\n"
     ]
    },
    {
     "name": "stdout",
     "output_type": "stream",
     "text": [
      "--This is the 2th chromsome---\n"
     ]
    },
    {
     "name": "stderr",
     "output_type": "stream",
     "text": [
      "=====> after trim_chrom:  长度是6---[['R01678', 'C00267', 'C00243'], ['R01678', 'C00243', 'C00124'], ['R01097', 'C00124', 'C03383'], ['R03034', 'C03383', 'C00880'], ['R03033', 'C00880', 'C01216'], ['R10616', 'C01216', 'C00022']]<=====\n",
      "=====> after trim_chrom:  长度是18---[['R07265', 'C00267', 'C01083'], ['R10525', 'C01083', 'C00031'], ['R01006', 'C00031', 'C01246'], ['R01005', 'C01246', 'C00110'], ['R03356', 'C00110', 'C01191'], ['R01472', 'C01191', 'C00190'], ['R11289', 'C00190', 'C17701'], ['R11289', 'C17701', 'C01743'], ['R11274', 'C01743', 'C00073'], ['R08583', 'C00073', 'C04268'], ['R10174', 'C04268', 'C06018'], ['R02772', 'C06018', 'C00024'], ['R03153', 'C00024', 'C01011'], ['R02491', 'C01011', 'C00531'], ['R02407', 'C00531', 'C00490'], ['R02407', 'C00490', 'C00042'], ['R10640', 'C00042', 'C02612'], ['R07399', 'C02612', 'C00022']]<=====\n",
      "=====> after trim_chrom:  长度是13---[['R01718', 'C00267', 'C00252'], ['R11791', 'C00252', 'C00221'], ['R10035', 'C00221', 'C05143'], ['R10035', 'C05143', 'C03742'], ['R02676', 'C03742', 'C00633'], ['R01294', 'C00633', 'C00156'], ['R01298', 'C00156', 'C00230'], ['R01635', 'C00230', 'C03233'], ['R05275', 'C03233', 'C04783'], ['R03630', 'C04783', 'C01606'], ['R05643', 'C01606', 'C03057'], ['R03465', 'C03057', 'C01275'], ['R03465', 'C01275', 'C00022']]<=====\n",
      "=====> after trim_chrom:  长度是12---[['R01678', 'C00267', 'C00243'], ['R04393', 'C00243', 'C00615'], ['R04393', 'C00615', 'C04261'], ['R08366', 'C04261', 'C06376'], ['R05168', 'C06376', 'C06377'], ['R12220', 'C06377', 'C00352'], ['R02058', 'C00352', 'C00357'], ['R01201', 'C00357', 'C00140'], ['R01266', 'C00140', 'C04540'], ['R03421', 'C04540', 'C00049'], ['R00493', 'C00049', 'C00036'], ['R00217', 'C00036', 'C00022']]<=====\n",
      "=====> after trim_chrom:  长度是22---[['R01787', 'C00267', 'C00794'], ['R02868', 'C00794', 'C01096'], ['R05607', 'C01096', 'C05345'], ['R01830', 'C05345', 'C00279'], ['R01826', 'C00279', 'C04691'], ['R03083', 'C04691', 'C00944'], ['R08569', 'C00944', 'C16850'], ['R08568', 'C16850', 'C00441'], ['R09805', 'C00441', 'C00049'], ['R00493', 'C00049', 'C05167'], ['R01342', 'C05167', 'C00161'], ['R08626', 'C00161', 'C00151'], ['R01343', 'C00151', 'C00077'], ['R00667', 'C00077', 'C00025'], ['R04558', 'C00025', 'C00064'], ['R12507', 'C00064', 'C00940'], ['R00269', 'C00940', 'C00026'], ['R07329', 'C00026', 'C00042'], ['R00714', 'C00042', 'C00232'], ['R10178', 'C00232', 'C00334'], ['R10178', 'C00334', 'C00041'], ['R09048', 'C00041', 'C00022']]<=====\n",
      "=====> after trim_chrom:  长度是13---[['R07265', 'C00267', 'C01083'], ['R08946', 'C01083', 'C00031'], ['R08823', 'C00031', 'C17759'], ['R08839', 'C17759', 'C01494'], ['R05700', 'C01494', 'C02666'], ['R06572', 'C02666', 'C12204'], ['R06576', 'C12204', 'C05610'], ['R07441', 'C05610', 'C00482'], ['R02221', 'C00482', 'C00411'], ['R03965', 'C00411', 'C02750'], ['R03965', 'C02750', 'C02287'], ['R02969', 'C02287', 'C00830'], ['R02970', 'C00830', 'C00022']]<=====\n",
      "=====> after trim_chrom:  长度是19---[['R01786', 'C00267', 'C00668'], ['R02738', 'C00668', 'C00031'], ['R00337', 'C00031', 'C00394'], ['R00954', 'C00394', 'C00103'], ['R00955', 'C00103', 'C00446'], ['R00955', 'C00446', 'C00052'], ['R00504', 'C00052', 'C04739'], ['R00504', 'C04739', 'C00043'], ['R10266', 'C00043', 'C04613'], ['R12554', 'C04613', 'C19823'], ['R09825', 'C19823', 'C19961'], ['R09842', 'C19961', 'C19971'], ['R09842', 'C19971', 'C00024'], ['R00399', 'C00024', 'C03341'], ['R00399', 'C03341', 'C00133'], ['R01344', 'C00133', 'C00405'], ['R01265', 'C00405', 'C00151'], ['R08630', 'C00151', 'C00161'], ['R01344', 'C00161', 'C00022']]<=====\n",
      "=====> after trim_chrom:  长度是21---[['R01602', 'C00267', 'C00221'], ['R09086', 'C00221', 'C01172'], ['R02728', 'C01172', 'C00663'], ['R02727', 'C00663', 'C01083'], ['R10525', 'C01083', 'C00031'], ['R00063', 'C00031', 'C01175'], ['R03075', 'C01175', 'C00933'], ['R02381', 'C00933', 'C00482'], ['R07442', 'C00482', 'C05610'], ['R06576', 'C05610', 'C12204'], ['R06572', 'C12204', 'C02666'], ['R06574', 'C02666', 'C10945'], ['R06579', 'C10945', 'C05608'], ['R01615', 'C05608', 'C00223'], ['R12492', 'C00223', 'C00811'], ['R02950', 'C00811', 'C01197'], ['R11206', 'C01197', 'C10447'], ['R08846', 'C10447', 'C00355'], ['R13031', 'C00355', 'C00082'], ['R09254', 'C00082', 'C00041'], ['R11038', 'C00041', 'C00022']]<=====\n",
      "=====> after trim_chrom:  长度是16---[['R01788', 'C00267', 'C00668'], ['R02737', 'C00668', 'C00689'], ['R02168', 'C00689', 'C00092'], ['R00835', 'C00092', 'C01236'], ['R02736', 'C01236', 'C01172'], ['R02187', 'C01172', 'C00221'], ['R00026', 'C00221', 'C00185'], ['R00306', 'C00185', 'C00031'], ['R00503', 'C00031', 'C00243'], ['R01678', 'C00243', 'C00124'], ['R03355', 'C00124', 'C01290'], ['R12960', 'C01290', 'C00054'], ['R08669', 'C00054', 'C17244'], ['R08668', 'C17244', 'C17243'], ['R08667', 'C17243', 'C17242'], ['R08667', 'C17242', 'C00022']]<=====\n",
      "=====> after trim_chrom:  长度是20---[['R01718', 'C00267', 'C00252'], ['R01718', 'C00252', 'C00031'], ['R00303', 'C00031', 'C00092'], ['R00835', 'C00092', 'C01236'], ['R10907', 'C01236', 'C01172'], ['R09086', 'C01172', 'C00221'], ['R13052', 'C00221', 'C09126'], ['R13052', 'C09126', 'C06563'], ['R06794', 'C06563', 'C00021'], ['R05303', 'C00021', 'C06569'], ['R05302', 'C06569', 'C06568'], ['R05230', 'C06568', 'C03112'], ['R03062', 'C03112', 'C00916'], ['R03063', 'C00916', 'C04712'], ['R07401', 'C04712', 'C15666'], ['R07402', 'C15666', 'C00489'], ['R12216', 'C00489', 'C03196'], ['R00298', 'C03196', 'C00026'], ['R04051', 'C00026', 'C02798'], ['R08200', 'C02798', 'C00022']]<=====\n",
      "=====> after trim_chrom:  长度是21---[['R01788', 'C00267', 'C00668'], ['R02739', 'C00668', 'C01172'], ['R02736', 'C01172', 'C01236'], ['R00835', 'C01236', 'C00092'], ['R00850', 'C00092', 'C00031'], ['R04094', 'C00031', 'C05837'], ['R08167', 'C05837', 'C16517'], ['R08164', 'C16517', 'C16516'], ['R08170', 'C16516', 'C16518'], ['R08608', 'C16518', 'C00097'], ['R02508', 'C00097', 'C00542'], ['R01289', 'C00542', 'C00065'], ['R00586', 'C00065', 'C00979'], ['R03134', 'C00979', 'C00033'], ['R00909', 'C00033', 'C01073'], ['R00909', 'C01073', 'C00099'], ['R00907', 'C00099', 'C00222'], ['R00908', 'C00222', 'C00026'], ['R00355', 'C00026', 'C00036'], ['R00342', 'C00036', 'C00149'], ['R00214', 'C00149', 'C00022']]<=====\n",
      "=====> after trim_chrom:  长度是12---[['R02109', 'C00267', 'C00369'], ['R02109', 'C00369', 'C00718'], ['R05196', 'C00718', 'C00208'], ['R01555', 'C00208', 'C00663'], ['R07264', 'C00663', 'C15548'], ['R07264', 'C15548', 'C00031'], ['R00550', 'C00031', 'C00255'], ['R00550', 'C00255', 'C00061'], ['R04102', 'C00061', 'C01847'], ['R09559', 'C01847', 'C18054'], ['R08956', 'C18054', 'C00251'], ['R01302', 'C00251', 'C00022']]<=====\n",
      "=====> after trim_chrom:  长度是9---[['R00878', 'C00267', 'C00095'], ['R12349', 'C00095', 'C00089'], ['R00803', 'C00089', 'C00103'], ['R00550', 'C00103', 'C00031'], ['R04409', 'C00031', 'C04164'], ['R02256', 'C04164', 'C00423'], ['R00697', 'C00423', 'C00079'], ['R01375', 'C00079', 'C00166'], ['R00692', 'C00166', 'C00022']]<=====\n"
     ]
    },
    {
     "name": "stdout",
     "output_type": "stream",
     "text": [
      "--This is the 3th chromsome---\n",
      "-----Sampling Done-----\n"
     ]
    }
   ],
   "source": [
    "# count是用来计数 当前生成的子代数量是否达到pop_size\n",
    "count = 0\n",
    "while (count < pop_size):\n",
    "    chrom = Chromesome(args, cfg, log)\n",
    "    # get_a_chrom 函数才开始真正产生子代\n",
    "    if chrom.get_a_chrom():\n",
    "        print('--This is the %dth chromsome---' % (count+1))\n",
    "        #chrom_list.append(chrom)\n",
    "        chrom_list[count,0] = chrom\n",
    "        count += 1\n",
    "print(\"-----Sampling Done-----\")"
   ]
  },
  {
   "cell_type": "code",
   "execution_count": 13,
   "id": "b889ec4d",
   "metadata": {},
   "outputs": [
    {
     "data": {
      "text/plain": [
       "[['R01602', 'C00267', 'C00221'],\n",
       " ['R02187', 'C00221', 'C01172'],\n",
       " ['R02739', 'C01172', 'C00668'],\n",
       " ['R02740', 'C00668', 'C05345'],\n",
       " ['R00867', 'C05345', 'C00095'],\n",
       " ['R08406', 'C00095', 'C00085'],\n",
       " ['R01067', 'C00085', 'C00279'],\n",
       " ['R01825', 'C00279', 'C03393'],\n",
       " ['R11726', 'C03393', 'C00111'],\n",
       " ['R01011', 'C00111', 'C00184'],\n",
       " ['R01012', 'C00184', 'C00022']]"
      ]
     },
     "execution_count": 13,
     "metadata": {},
     "output_type": "execute_result"
    }
   ],
   "source": [
    "# 一条路径 chrom_list[0][0]  chrom_list[1][0]  chrom_list[2][0] \n",
    "chrom_list[0][0].chrom.travel()"
   ]
  },
  {
   "cell_type": "markdown",
   "id": "424b206a",
   "metadata": {},
   "source": [
    "### 计算第一代的适应度值 这里融合了evaluate函数中的内容"
   ]
  },
  {
   "cell_type": "code",
   "execution_count": 14,
   "id": "48647d06",
   "metadata": {},
   "outputs": [
    {
     "name": "stdout",
     "output_type": "stream",
     "text": [
      "get_yield -> rxn_list: ['R01602', 'R02187', 'R02739', 'R02740', 'R00867', 'R08406', 'R01067', 'R01825', 'R11726', 'R01011', 'R01012']\n"
     ]
    },
    {
     "name": "stderr",
     "output_type": "stream",
     "text": [
      "The current solver interface glpk doesn't support setting the optimality tolerance.\n",
      "The current solver interface glpk doesn't support setting the optimality tolerance.\n",
      "Compartment `e` sounds like an external compartment. Using this one without counting boundary reactions.\n",
      "Compartment `e` sounds like an external compartment. Using this one without counting boundary reactions.\n",
      "Compartment `e` sounds like an external compartment. Using this one without counting boundary reactions.\n"
     ]
    },
    {
     "name": "stdout",
     "output_type": "stream",
     "text": [
      "Maximum theoretical yield = 15.546249999999958 mmol-Dgly/mmol-glc\n",
      "Length:11.000000 \n",
      "Gibbs:-8.162686 \n",
      "Yield:15.546250 \n",
      "Weighted Score:-13.331181 \n",
      "\n",
      "'R13049'\n",
      "get_yield -> rxn_list: ['R00878', 'R00877', 'R02630', 'R04076', 'R08559', 'R08555', 'R13049']\n"
     ]
    },
    {
     "name": "stderr",
     "output_type": "stream",
     "text": [
      "The current solver interface glpk doesn't support setting the optimality tolerance.\n",
      "The current solver interface glpk doesn't support setting the optimality tolerance.\n",
      "Compartment `e` sounds like an external compartment. Using this one without counting boundary reactions.\n",
      "Compartment `e` sounds like an external compartment. Using this one without counting boundary reactions.\n",
      "Compartment `e` sounds like an external compartment. Using this one without counting boundary reactions.\n"
     ]
    },
    {
     "name": "stdout",
     "output_type": "stream",
     "text": [
      "This pathway EX_glc__D_e is 50, so the Maximum theoretical yield = 0\n",
      "Length:7.000000 \n",
      "Gibbs:-6.986481 \n",
      "Yield:0.010000 \n",
      "Weighted Score:-2.102944 \n",
      "\n",
      "get_yield -> rxn_list: ['R00878', 'R12349', 'R00803', 'R00550', 'R04409', 'R02256', 'R00697', 'R01375', 'R00692']\n"
     ]
    },
    {
     "name": "stderr",
     "output_type": "stream",
     "text": [
      "The current solver interface glpk doesn't support setting the optimality tolerance.\n",
      "The current solver interface glpk doesn't support setting the optimality tolerance.\n",
      "Compartment `e` sounds like an external compartment. Using this one without counting boundary reactions.\n",
      "Compartment `e` sounds like an external compartment. Using this one without counting boundary reactions.\n",
      "Compartment `e` sounds like an external compartment. Using this one without counting boundary reactions.\n"
     ]
    },
    {
     "name": "stdout",
     "output_type": "stream",
     "text": [
      "This pathway EX_glc__D_e is 50, so the Maximum theoretical yield = 0\n",
      "Length:9.000000 \n",
      "Gibbs:-4.286555 \n",
      "Yield:0.010000 \n",
      "Weighted Score:-1.292966 \n",
      "\n"
     ]
    }
   ],
   "source": [
    "fitness=[]\n",
    "for idx, chrom in enumerate(chrom_list):\n",
    "    chrom = remove_cycles(chrom)\n",
    "#     fit = evaluate(chrom)\n",
    "\n",
    "    weight1 = 0\n",
    "    weight2 = 0.3\n",
    "    weight3 = 0.7\n",
    "\n",
    "    #log.logger.info('---get pathway length---')\n",
    "    length = chrom[0].chrom.length()\n",
    "\n",
    "    gibbs = get_gibbs(cfg,chrom[0].chrom.get_rxn_list())  # 得到吉布斯自由能值\n",
    "\n",
    "    _yield = get_yield(cfg,chrom[0].chrom.get_rxn_list()) # 得到理论产量值\n",
    "\n",
    "    fit = float(weight1) * length + float(weight2) * gibbs - float(weight3) * _yield # 计算适应度值 适应度值越小越好\n",
    "\n",
    "    #print('The chromesome is:\\n', X.chrom.travel())\n",
    "    print('Length:%f \\nGibbs:%f \\nYield:%f \\nWeighted Score:%f \\n' % (length, gibbs, _yield, fit))\n",
    "    fitness.append(fit)"
   ]
  },
  {
   "cell_type": "code",
   "execution_count": 15,
   "id": "ab5d278d",
   "metadata": {},
   "outputs": [
    {
     "data": {
      "text/plain": [
       "[-13.331180875792331, -2.1029444480208004, -1.2929663574545196]"
      ]
     },
     "execution_count": 15,
     "metadata": {},
     "output_type": "execute_result"
    }
   ],
   "source": [
    "fitness"
   ]
  },
  {
   "cell_type": "markdown",
   "id": "0a301202",
   "metadata": {},
   "source": [
    "### 第一代的 个体最优解 和 全局最优解"
   ]
  },
  {
   "cell_type": "code",
   "execution_count": 16,
   "id": "c5b87798",
   "metadata": {},
   "outputs": [],
   "source": [
    "## 个体最优解就是当前值\n",
    "personal_best = chrom_list.copy()\n",
    "personal_best_fit = fitness\n",
    "\n",
    "# 全局最优解是适应度值最小的那个对应的子代\n",
    "global_best = chrom_list[np.argmin(fitness)]#.chrom.get_rxn_list()\n",
    "global_best_fit = min(fitness)"
   ]
  },
  {
   "cell_type": "code",
   "execution_count": 17,
   "id": "fe49c04d",
   "metadata": {
    "collapsed": true
   },
   "outputs": [
    {
     "name": "stdout",
     "output_type": "stream",
     "text": [
      "=====> Mututation of the 1th iter 1th particle<=====\n"
     ]
    },
    {
     "name": "stderr",
     "output_type": "stream",
     "text": [
      "=====> after trim_chrom:  长度是20---[['R01602', 'C00267', 'C00221'], ['R10236', 'C00221', 'C16827'], ['R08534', 'C16827', 'C00811'], ['R12492', 'C00811', 'C00223'], ['R05163', 'C00223', 'C06363'], ['R05163', 'C06363', 'C06361'], ['R10262', 'C06361', 'C15539'], ['R07255', 'C15539', 'C15540'], ['R07255', 'C15540', 'C00083'], ['R06625', 'C00083', 'C12324'], ['R06624', 'C12324', 'C12325'], ['R06634', 'C12325', 'C12026'], ['R06634', 'C12026', 'C00025'], ['R03248', 'C00025', 'C01602'], ['R03248', 'C01602', 'C01110'], ['R03250', 'C01110', 'C03771'], ['R02924', 'C03771', 'C00792'], ['R00567', 'C00792', 'C00062'], ['R08197', 'C00062', 'C00041'], ['R00369', 'C00041', 'C00022']]<=====\n",
      "=====> after trim_chrom:  长度是21---[['R02189', 'C00267', 'C00668'], ['R02738', 'C00668', 'C00031'], ['R00304', 'C00031', 'C00103'], ['R08515', 'C00103', 'C00498'], ['R08676', 'C00498', 'C00089'], ['R00803', 'C00089', 'C00095'], ['R08406', 'C00095', 'C00085'], ['R08406', 'C00085', 'C02133'], ['R08405', 'C02133', 'C00060'], ['R00634', 'C00060', 'C00071'], ['R00638', 'C00071', 'C00162'], ['R03417', 'C00162', 'C05973'], ['R04864', 'C05973', 'C00350'], ['R02055', 'C00350', 'C02737'], ['R09035', 'C02737', 'C00040'], ['R00391', 'C00040', 'C00264'], ['R00391', 'C00264', 'C00024'], ['R08248', 'C00024', 'C07585'], ['R08248', 'C07585', 'C07054'], ['R08253', 'C07054', 'C16624'], ['R08253', 'C16624', 'C00022']]<=====\n",
      "=====> after trim_chrom:  长度是15---[['R01788', 'C00267', 'C00668'], ['R02737', 'C00668', 'C00689'], ['R00837', 'C00689', 'C00031'], ['R08823', 'C00031', 'C17759'], ['R08839', 'C17759', 'C01494'], ['R07440', 'C01494', 'C05619'], ['R02379', 'C05619', 'C00482'], ['R07441', 'C00482', 'C05610'], ['R06576', 'C05610', 'C12204'], ['R06569', 'C12204', 'C12203'], ['R06578', 'C12203', 'C00411'], ['R03965', 'C00411', 'C02750'], ['R03965', 'C02750', 'C02287'], ['R02969', 'C02287', 'C00830'], ['R02970', 'C00830', 'C00022']]<=====\n",
      "=====> after trim_chrom:  长度是13---[['R09085', 'C00267', 'C00668'], ['R02740', 'C00668', 'C05345'], ['R01830', 'C05345', 'C00231'], ['R01440', 'C00231', 'C00118'], ['R01827', 'C00118', 'C00279'], ['R01826', 'C00279', 'C04691'], ['R03083', 'C04691', 'C00944'], ['R06846', 'C00944', 'C00296'], ['R02997', 'C00296', 'C00852'], ['R02998', 'C00852', 'C03062'], ['R02998', 'C03062', 'C00818'], ['R02752', 'C00818', 'C00679'], ['R02754', 'C00679', 'C00022']]<=====\n",
      "=====> after trim_chrom:  长度是29---[['R01678', 'C00267', 'C00243'], ['R01678', 'C00243', 'C00124'], ['R01101', 'C00124', 'C05402'], ['R01101', 'C05402', 'C00031'], ['R00953', 'C00031', 'C02048'], ['R00953', 'C02048', 'C00103'], ['R12607', 'C00103', 'C00636'], ['R01818', 'C00636', 'C00275'], ['R09645', 'C00275', 'C16699'], ['R09645', 'C16699', 'C00258'], ['R10615', 'C00258', 'C00577'], ['R01059', 'C00577', 'C00118'], ['R12668', 'C00118', 'C00111'], ['R01013', 'C00111', 'C03372'], ['R02756', 'C03372', 'C00681'], ['R00851', 'C00681', 'C00040'], ['R09034', 'C00040', 'C01194'], ['R03364', 'C01194', 'C04299'], ['R03333', 'C04299', 'C01177'], ['R03331', 'C01177', 'C01225'], ['R01193', 'C01225', 'C00093'], ['R01470', 'C00093', 'C01233'], ['R03415', 'C01233', 'C04635'], ['R07380', 'C04635', 'C00346'], ['R01468', 'C00346', 'C00189'], ['R07376', 'C00189', 'C00065'], ['R00585', 'C00065', 'C00041'], ['R00401', 'C00041', 'C00133'], ['R01147', 'C00133', 'C00022']]<=====\n",
      "=====> after trim_chrom:  长度是15---[['R07265', 'C00267', 'C01083'], ['R08946', 'C01083', 'C00031'], ['R00015', 'C00031', 'C00089'], ['R01823', 'C00089', 'C00718'], ['R07261', 'C00718', 'C15541'], ['R10525', 'C15541', 'C00454'], ['R07285', 'C00454', 'C00066'], ['R04684', 'C00066', 'C00344'], ['R02027', 'C00344', 'C00093'], ['R00845', 'C00093', 'C00118'], ['R07159', 'C00118', 'C00197'], ['R01511', 'C00197', 'C00258'], ['R01752', 'C00258', 'C00577'], ['R10050', 'C00577', 'C00546'], ['R00203', 'C00546', 'C00022']]<=====\n",
      "=====> after trim_chrom:  长度是19---[['R01602', 'C00267', 'C00221'], ['R11791', 'C00221', 'C00252'], ['R11309', 'C00252', 'C00372'], ['R02121', 'C00372', 'C00718'], ['R02421', 'C00718', 'C00498'], ['R00951', 'C00498', 'C00103'], ['R08639', 'C00103', 'C00092'], ['R05804', 'C00092', 'C00031'], ['R02595', 'C00031', 'C00761'], ['R02595', 'C00761', 'C00590'], ['R06573', 'C00590', 'C12205'], ['R06577', 'C12205', 'C02325'], ['R03918', 'C02325', 'C05610'], ['R07442', 'C05610', 'C00482'], ['R10261', 'C00482', 'C01175'], ['R03323', 'C01175', 'C02887'], ['R03323', 'C02887', 'C00149'], ['R11074', 'C00149', 'C00186'], ['R13050', 'C00186', 'C00022']]<=====\n",
      "=====> after trim_chrom:  长度是18---[['R01718', 'C00267', 'C00252'], ['R01718', 'C00252', 'C00031'], ['R03075', 'C00031', 'C01175'], ['R10298', 'C01175', 'C08725'], ['R07874', 'C08725', 'C12137'], ['R07927', 'C12137', 'C16368'], ['R07927', 'C16368', 'C00223'], ['R08767', 'C00223', 'C02949'], ['R05316', 'C02949', 'C00512'], ['R02452', 'C00512', 'C01586'], ['R01424', 'C01586', 'C00037'], ['R00371', 'C00037', 'C03508'], ['R01465', 'C03508', 'C00188'], ['R00751', 'C00188', 'C00084'], ['R00749', 'C00084', 'C00189'], ['R04248', 'C00189', 'C03557'], ['R04152', 'C03557', 'C00041'], ['R02293', 'C00041', 'C00022']]<=====\n",
      "=====> after trim_chrom:  长度是27---[['R01718', 'C00267', 'C00252'], ['R11309', 'C00252', 'C00372'], ['R02121', 'C00372', 'C00718'], ['R02421', 'C00718', 'C00498'], ['R08676', 'C00498', 'C00089'], ['R08676', 'C00089', 'C00095'], ['R00866', 'C00095', 'C01094'], ['R10050', 'C01094', 'C16848'], ['R08568', 'C16848', 'C16850'], ['R08568', 'C16850', 'C00441'], ['R09080', 'C00441', 'C18174'], ['R09082', 'C18174', 'C03375'], ['R03271', 'C03375', 'C00986'], ['R01919', 'C00986', 'C00134'], ['R01152', 'C00134', 'C00436'], ['R01416', 'C00436', 'C00179'], ['R00566', 'C00179', 'C00062'], ['R01886', 'C00062', 'C01201'], ['R01886', 'C01201', 'C00301'], ['R11553', 'C00301', 'C00117'], ['R01056', 'C00117', 'C00199'], ['R10221', 'C00199', 'C00345'], ['R02034', 'C00345', 'C01218'], ['R02658', 'C01218', 'C06473'], ['R01741', 'C06473', 'C00257'], ['R01538', 'C00257', 'C00204'], ['R08570', 'C00204', 'C00022']]<=====\n",
      "=====> after trim_chrom:  长度是11---[['R02189', 'C00267', 'C00668'], ['R02737', 'C00668', 'C00689'], ['R02168', 'C00689', 'C00092'], ['R09550', 'C00092', 'C01236'], ['R02035', 'C01236', 'C00345'], ['R02032', 'C00345', 'C01218'], ['R02658', 'C01218', 'C06473'], ['R01739', 'C06473', 'C00257'], ['R01538', 'C00257', 'C00204'], ['R01541', 'C00204', 'C04442'], ['R05605', 'C04442', 'C00022']]<=====\n",
      "=====> after trim_chrom:  长度是14---[['R01788', 'C00267', 'C00668'], ['R02740', 'C00668', 'C05345'], ['R03920', 'C05345', 'C02336'], ['R00802', 'C02336', 'C00089'], ['R08676', 'C00089', 'C00095'], ['R00876', 'C00095', 'C00085'], ['R00771', 'C00085', 'C00092'], ['R00835', 'C00092', 'C01236'], ['R02035', 'C01236', 'C00345'], ['R02032', 'C00345', 'C01218'], ['R02658', 'C01218', 'C06473'], ['R01739', 'C06473', 'C00257'], ['R01538', 'C00257', 'C00204'], ['R08570', 'C00204', 'C00022']]<=====\n",
      "=====> after trim_chrom:  长度是14---[['R01788', 'C00267', 'C00668'], ['R02738', 'C00668', 'C00031'], ['R12250', 'C00031', 'C19792'], ['R09664', 'C19792', 'C19791'], ['R09663', 'C19791', 'C00197'], ['R01513', 'C00197', 'C03232'], ['R04173', 'C03232', 'C01005'], ['R12092', 'C01005', 'C05824'], ['R02409', 'C05824', 'C00491'], ['R00892', 'C00491', 'C00097'], ['R07460', 'C00097', 'C00041'], ['R00400', 'C00041', 'C00049'], ['R01731', 'C00049', 'C00036'], ['R00217', 'C00036', 'C00022']]<=====\n",
      "-----Mutation Successfully!-----\n",
      "Chromesomes before mutation is :\n",
      "[['R01602', 'C00267', 'C00221'], ['R02187', 'C00221', 'C01172'], ['R02739', 'C01172', 'C00668'], ['R02740', 'C00668', 'C05345'], ['R00867', 'C05345', 'C00095'], ['R08406', 'C00095', 'C00085'], ['R01067', 'C00085', 'C00279'], ['R01825', 'C00279', 'C03393'], ['R11726', 'C03393', 'C00111'], ['R01011', 'C00111', 'C00184'], ['R01012', 'C00184', 'C00022']]\n",
      "Chromesomes after mutation is :\n",
      "[['R01602', 'C00267', 'C00221'], ['R01788', 'C00267', 'C00668'], ['R02738', 'C00668', 'C00031'], ['R12250', 'C00031', 'C19792'], ['R09664', 'C19792', 'C19791'], ['R09663', 'C19791', 'C00197'], ['R01513', 'C00197', 'C03232'], ['R04173', 'C03232', 'C01005'], ['R12092', 'C01005', 'C05824'], ['R02409', 'C05824', 'C00491'], ['R00892', 'C00491', 'C00097'], ['R07460', 'C00097', 'C00041'], ['R00400', 'C00041', 'C00049'], ['R01731', 'C00049', 'C00036'], ['R00217', 'C00036', 'C00022']]\n"
     ]
    },
    {
     "name": "stderr",
     "output_type": "stream",
     "text": [
      "--------------------\n"
     ]
    },
    {
     "name": "stdout",
     "output_type": "stream",
     "text": [
      "=====> Mututation of the 1th iter 2th particle<=====\n"
     ]
    },
    {
     "name": "stderr",
     "output_type": "stream",
     "text": [
      "=====> after trim_chrom:  长度是12---[['R02109', 'C00267', 'C00369'], ['R02112', 'C00369', 'C00721'], ['R01791', 'C00721', 'C00031'], ['R00801', 'C00031', 'C00089'], ['R00803', 'C00089', 'C00103'], ['R00955', 'C00103', 'C00446'], ['R09632', 'C00446', 'C19758'], ['R09632', 'C19758', 'C00507'], ['R10788', 'C00507', 'C02991'], ['R03772', 'C02991', 'C01934'], ['R03774', 'C01934', 'C03979'], ['R02261', 'C03979', 'C00022']]<=====\n",
      "=====> after trim_chrom:  长度是21---[['R00878', 'C00267', 'C00095'], ['R00873', 'C00095', 'C00390'], ['R08657', 'C00390', 'C00093'], ['R01030', 'C00093', 'C00670'], ['R02745', 'C00670', 'C04517'], ['R03107', 'C04517', 'C00958'], ['R07386', 'C00958', 'C04756'], ['R04413', 'C04756', 'C00040'], ['R09419', 'C00040', 'C00264'], ['R01780', 'C00264', 'C00091'], ['R02407', 'C00091', 'C00531'], ['R10600', 'C00531', 'C00024'], ['R08627', 'C00024', 'C17218'], ['R08628', 'C17218', 'C17219'], ['R08629', 'C17219', 'C17220'], ['R08630', 'C17220', 'C17221'], ['R08630', 'C17221', 'C00151'], ['R01346', 'C00151', 'C00152'], ['R00483', 'C00152', 'C00049'], ['R00400', 'C00049', 'C00041'], ['R00576', 'C00041', 'C00022']]<=====\n",
      "=====> after trim_chrom:  长度是17---[['R00947', 'C00267', 'C00103'], ['R00304', 'C00103', 'C00031'], ['R03703', 'C00031', 'C02074'], ['R03703', 'C02074', 'C01761'], ['R05877', 'C01761', 'C11807'], ['R05876', 'C11807', 'C00024'], ['R00391', 'C00024', 'C00264'], ['R00391', 'C00264', 'C00040'], ['R04413', 'C00040', 'C04756'], ['R04571', 'C04756', 'C04475'], ['R04721', 'C04475', 'C05212'], ['R03438', 'C05212', 'C04317'], ['R04722', 'C04317', 'C04598'], ['R04452', 'C04598', 'C00033'], ['R07183', 'C00033', 'C15499'], ['R07183', 'C15499', 'C00546'], ['R00203', 'C00546', 'C00022']]<=====\n",
      "=====> after trim_chrom:  长度是12---[['R01786', 'C00267', 'C00668'], ['R00959', 'C00668', 'C00103'], ['R00550', 'C00103', 'C00061'], ['R00161', 'C00061', 'C00016'], ['R02487', 'C00016', 'C00877'], ['R03028', 'C00877', 'C02411'], ['R05579', 'C02411', 'C00527'], ['R05586', 'C00527', 'C06715'], ['R05586', 'C06715', 'C00024'], ['R07399', 'C00024', 'C02612'], ['R03995', 'C02612', 'C06033'], ['R00008', 'C06033', 'C00022']]<=====\n",
      "=====> after trim_chrom:  长度是9---[['R01786', 'C00267', 'C00668'], ['R00959', 'C00668', 'C00103'], ['R10987', 'C00103', 'C02591'], ['R00766', 'C02591', 'C00085'], ['R00765', 'C00085', 'C00352'], ['R01961', 'C00352', 'C00329'], ['R01962', 'C00329', 'C03752'], ['R01544', 'C03752', 'C00204'], ['R08570', 'C00204', 'C00022']]<=====\n",
      "-----Mutation Successfully!-----\n",
      "Chromesomes before mutation is :\n",
      "[['R00878', 'C00267', 'C00095'], ['R00877', 'C00095', 'C00159'], ['R02630', 'C00159', 'C00615'], ['R04076', 'C00615', 'C04261'], ['R08559', 'C04261', 'C16698'], ['R08555', 'C16698', 'C00256'], ['R13049', 'C00256', 'C00022']]\n",
      "Chromesomes after mutation is :\n",
      "[['R00878', 'C00267', 'C00095'], ['R00877', 'C00095', 'C00159'], ['R02630', 'C00159', 'C00615'], ['R01786', 'C00267', 'C00668'], ['R00959', 'C00668', 'C00103'], ['R10987', 'C00103', 'C02591'], ['R00766', 'C02591', 'C00085'], ['R00765', 'C00085', 'C00352'], ['R01961', 'C00352', 'C00329'], ['R01962', 'C00329', 'C03752'], ['R01544', 'C03752', 'C00204'], ['R08570', 'C00204', 'C00022']]\n",
      "--------------------\n"
     ]
    },
    {
     "name": "stdout",
     "output_type": "stream",
     "text": [
      "=====> Mututation of the 1th iter 3th particle<=====\n"
     ]
    },
    {
     "name": "stderr",
     "output_type": "stream",
     "text": [
      "=====> after trim_chrom:  长度是19---[['R01602', 'C00267', 'C00221'], ['R12983', 'C00221', 'C15548'], ['R07264', 'C15548', 'C00663'], ['R11310', 'C00663', 'C00092'], ['R00850', 'C00092', 'C00093'], ['R00845', 'C00093', 'C00118'], ['R07159', 'C00118', 'C00197'], ['R03140', 'C00197', 'C01182'], ['R01523', 'C01182', 'C00199'], ['R01056', 'C00199', 'C00117'], ['R01049', 'C00117', 'C00119'], ['R08245', 'C00119', 'C16619'], ['R08244', 'C16619', 'C00064'], ['R05815', 'C00064', 'C00025'], ['R02313', 'C00025', 'C00449'], ['R09495', 'C00449', 'C04076'], ['R10699', 'C04076', 'C01092'], ['R03210', 'C01092', 'C00041'], ['R04187', 'C00041', 'C00022']]<=====\n",
      "=====> after trim_chrom:  长度是26---[['R00878', 'C00267', 'C00095'], ['R03921', 'C00095', 'C16688'], ['R03921', 'C16688', 'C00092'], ['R02168', 'C00092', 'C00689'], ['R02778', 'C00689', 'C01083'], ['R00010', 'C01083', 'C00031'], ['R02985', 'C00031', 'C08325'], ['R10639', 'C08325', 'C00844'], ['R02558', 'C00844', 'C00561'], ['R01767', 'C00561', 'C00261'], ['R01420', 'C00261', 'C00180'], ['R01424', 'C00180', 'C01586'], ['R01424', 'C01586', 'C00037'], ['R00369', 'C00037', 'C00048'], ['R00588', 'C00048', 'C00168'], ['R01393', 'C00168', 'C00266'], ['R01333', 'C00266', 'C00160'], ['R02857', 'C00160', 'C06108'], ['R07156', 'C06108', 'C15488'], ['R07247', 'C15488', 'C00084'], ['R09524', 'C00084', 'C00466'], ['R02344', 'C00466', 'C03046'], ['R03707', 'C03046', 'C01769'], ['R02949', 'C01769', 'C00810'], ['R02948', 'C00810', 'C06010'], ['R00226', 'C06010', 'C00022']]<=====\n",
      "=====> after trim_chrom:  长度是13---[['R07265', 'C00267', 'C01083'], ['R11256', 'C01083', 'C06400'], ['R11256', 'C06400', 'C01935'], ['R11261', 'C01935', 'C00369'], ['R02109', 'C00369', 'C00718'], ['R01823', 'C00718', 'C00095'], ['R01140', 'C00095', 'C00085'], ['R11623', 'C00085', 'C01097'], ['R03236', 'C01097', 'C03785'], ['R01069', 'C03785', 'C00118'], ['R02722', 'C00118', 'C00065'], ['R00589', 'C00065', 'C00740'], ['R00221', 'C00740', 'C00022']]<=====\n",
      "=====> after trim_chrom:  长度是21---[['R02189', 'C00267', 'C00668'], ['R00959', 'C00668', 'C00103'], ['R01660', 'C00103', 'C00197'], ['R01514', 'C00197', 'C00258'], ['R01388', 'C00258', 'C00168'], ['R01390', 'C00168', 'C00975'], ['R02544', 'C00975', 'C00552'], ['R02546', 'C00552', 'C00898'], ['R00339', 'C00898', 'C00036'], ['R00359', 'C00036', 'C00402'], ['R00491', 'C00402', 'C00049'], ['R00578', 'C00049', 'C00025'], ['R00243', 'C00025', 'C00026'], ['R11549', 'C00026', 'C00042'], ['R00714', 'C00042', 'C00232'], ['R10178', 'C00232', 'C00334'], ['R01989', 'C00334', 'C01035'], ['R01989', 'C01035', 'C00062'], ['R12506', 'C00062', 'C00077'], ['R00666', 'C00077', 'C04210'], ['R00666', 'C04210', 'C00022']]<=====\n",
      "=====> after trim_chrom:  长度是14---[['R11620', 'C00267', 'C00794'], ['R00874', 'C00794', 'C00031'], ['R08514', 'C00031', 'C00103'], ['R12607', 'C00103', 'C00636'], ['R00883', 'C00636', 'C00096'], ['R08947', 'C00096', 'C18050'], ['R08947', 'C18050', 'C00085'], ['R00762', 'C00085', 'C00354'], ['R01068', 'C00354', 'C00111'], ['R02263', 'C00111', 'C01131'], ['R02263', 'C01131', 'C00424'], ['R02260', 'C00424', 'C00546'], ['R09796', 'C00546', 'C00256'], ['R11591', 'C00256', 'C00022']]<=====\n",
      "=====> after trim_chrom:  长度是7---[['R09085', 'C00267', 'C00668'], ['R00959', 'C00668', 'C00103'], ['R00304', 'C00103', 'C00031'], ['R00015', 'C00031', 'C00089'], ['R08676', 'C00089', 'C00095'], ['R00873', 'C00095', 'C00390'], ['R03145', 'C00390', 'C00022']]<=====\n",
      "-----Mutation Successfully!-----\n",
      "Chromesomes before mutation is :\n",
      "[['R00878', 'C00267', 'C00095'], ['R12349', 'C00095', 'C00089'], ['R00803', 'C00089', 'C00103'], ['R00550', 'C00103', 'C00031'], ['R04409', 'C00031', 'C04164'], ['R02256', 'C04164', 'C00423'], ['R00697', 'C00423', 'C00079'], ['R01375', 'C00079', 'C00166'], ['R00692', 'C00166', 'C00022']]\n",
      "Chromesomes after mutation is :\n",
      "[['R00878', 'C00267', 'C00095'], ['R12349', 'C00095', 'C00089'], ['R00803', 'C00089', 'C00103'], ['R00550', 'C00103', 'C00031'], ['R04409', 'C00031', 'C04164'], ['R02256', 'C04164', 'C00423'], ['R09085', 'C00267', 'C00668'], ['R00959', 'C00668', 'C00103'], ['R00304', 'C00103', 'C00031'], ['R00015', 'C00031', 'C00089'], ['R08676', 'C00089', 'C00095'], ['R00873', 'C00095', 'C00390'], ['R03145', 'C00390', 'C00022']]\n",
      "--------------------\n"
     ]
    },
    {
     "name": "stdout",
     "output_type": "stream",
     "text": [
      "=====> Mututation of the 2th iter 1th particle<=====\n"
     ]
    },
    {
     "name": "stderr",
     "output_type": "stream",
     "text": [
      "=====> after trim_chrom:  长度是9---[['R00947', 'C00267', 'C00103'], ['R00803', 'C00103', 'C00089'], ['R12528', 'C00089', 'C00095'], ['R00760', 'C00095', 'C00085'], ['R00761', 'C00085', 'C00227'], ['R00317', 'C00227', 'C00033'], ['R00928', 'C00033', 'C00163'], ['R01449', 'C00163', 'C00186'], ['R00196', 'C00186', 'C00022']]<=====\n",
      "-----Mutation Successfully!-----\n",
      "Chromesomes before mutation is :\n",
      "[['R01602', 'C00267', 'C00221'], ['R02187', 'C00221', 'C01172'], ['R02739', 'C01172', 'C00668'], ['R02740', 'C00668', 'C05345'], ['R00867', 'C05345', 'C00095'], ['R08406', 'C00095', 'C00085'], ['R01067', 'C00085', 'C00279'], ['R01825', 'C00279', 'C03393'], ['R11726', 'C03393', 'C00111'], ['R01011', 'C00111', 'C00184'], ['R01012', 'C00184', 'C00022']]\n",
      "Chromesomes after mutation is :\n",
      "[['R01602', 'C00267', 'C00221'], ['R00947', 'C00267', 'C00103'], ['R00803', 'C00103', 'C00089'], ['R12528', 'C00089', 'C00095'], ['R00760', 'C00095', 'C00085'], ['R00761', 'C00085', 'C00227'], ['R00317', 'C00227', 'C00033'], ['R00928', 'C00033', 'C00163'], ['R01449', 'C00163', 'C00186'], ['R00196', 'C00186', 'C00022']]\n",
      "--------------------\n"
     ]
    },
    {
     "name": "stdout",
     "output_type": "stream",
     "text": [
      "=====> Mututation of the 2th iter 2th particle<=====\n"
     ]
    },
    {
     "name": "stderr",
     "output_type": "stream",
     "text": [
      "=====> after trim_chrom:  长度是8---[['R01718', 'C00267', 'C00252'], ['R11791', 'C00252', 'C00031'], ['R10525', 'C00031', 'C00454'], ['R09663', 'C00454', 'C00197'], ['R01513', 'C00197', 'C03232'], ['R04173', 'C03232', 'C00026'], ['R00355', 'C00026', 'C00036'], ['R00344', 'C00036', 'C00022']]<=====\n",
      "-----Mutation Successfully!-----\n",
      "Chromesomes before mutation is :\n",
      "[['R00878', 'C00267', 'C00095'], ['R00877', 'C00095', 'C00159'], ['R02630', 'C00159', 'C00615'], ['R04076', 'C00615', 'C04261'], ['R08559', 'C04261', 'C16698'], ['R08555', 'C16698', 'C00256'], ['R13049', 'C00256', 'C00022']]\n",
      "Chromesomes after mutation is :\n",
      "[['R00878', 'C00267', 'C00095'], ['R00877', 'C00095', 'C00159'], ['R02630', 'C00159', 'C00615'], ['R04076', 'C00615', 'C04261'], ['R01718', 'C00267', 'C00252'], ['R11791', 'C00252', 'C00031'], ['R10525', 'C00031', 'C00454'], ['R09663', 'C00454', 'C00197'], ['R01513', 'C00197', 'C03232'], ['R04173', 'C03232', 'C00026'], ['R00355', 'C00026', 'C00036'], ['R00344', 'C00036', 'C00022']]\n",
      "--------------------\n"
     ]
    },
    {
     "name": "stdout",
     "output_type": "stream",
     "text": [
      "=====> Mututation of the 2th iter 3th particle<=====\n"
     ]
    },
    {
     "name": "stderr",
     "output_type": "stream",
     "text": [
      "=====> after trim_chrom:  长度是15---[['R01602', 'C00267', 'C00221'], ['R00026', 'C00221', 'C00185'], ['R00306', 'C00185', 'C00031'], ['R08823', 'C00031', 'C17759'], ['R08819', 'C17759', 'C08542'], ['R08819', 'C08542', 'C08537'], ['R08824', 'C08537', 'C08540'], ['R08822', 'C08540', 'C08539'], ['R08829', 'C08539', 'C17753'], ['R08826', 'C17753', 'C08543'], ['R08826', 'C08543', 'C08565'], ['R08825', 'C08565', 'C00082'], ['R10246', 'C00082', 'C00073'], ['R08618', 'C00073', 'C01180'], ['R03001', 'C01180', 'C00022']]<=====\n",
      "=====> after trim_chrom:  长度是26---[['R01786', 'C00267', 'C00668'], ['R02740', 'C00668', 'C05345'], ['R03321', 'C05345', 'C01172'], ['R01600', 'C01172', 'C00221'], ['R03256', 'C00221', 'C05396'], ['R03256', 'C05396', 'C01113'], ['R11171', 'C01113', 'C00124'], ['R01093', 'C00124', 'C01697'], ['R02928', 'C01697', 'C00795'], ['R02927', 'C00795', 'C01097'], ['R03239', 'C01097', 'C03785'], ['R01069', 'C03785', 'C00111'], ['R00848', 'C00111', 'C00093'], ['R02027', 'C00093', 'C00344'], ['R12810', 'C00344', 'C00641'], ['R11204', 'C00641', 'C00350'], ['R02051', 'C00350', 'C00416'], ['R01310', 'C00416', 'C00157'], ['R02114', 'C00157', 'C04230'], ['R07291', 'C04230', 'C00670'], ['R02591', 'C00670', 'C00588'], ['R06871', 'C00588', 'C00114'], ['R08212', 'C00114', 'C00719'], ['R02821', 'C00719', 'C00073'], ['R00648', 'C00073', 'C01180'], ['R03001', 'C01180', 'C00022']]<=====\n",
      "=====> after trim_chrom:  长度是22---[['R01718', 'C00267', 'C00252'], ['R01718', 'C00252', 'C00031'], ['R06620', 'C00031', 'C00390'], ['R07980', 'C00390', 'C07481'], ['R07972', 'C07481', 'C07130'], ['R07973', 'C07130', 'C16357'], ['R07968', 'C16357', 'C00385'], ['R01769', 'C00385', 'C00262'], ['R01770', 'C00262', 'C00294'], ['R12588', 'C00294', 'C03431'], ['R00193', 'C03431', 'C00021'], ['R05674', 'C00021', 'C07029'], ['R05673', 'C07029', 'C07028'], ['R05672', 'C07028', 'C07027'], ['R05671', 'C07027', 'C00082'], ['R10246', 'C00082', 'C00073'], ['R02821', 'C00073', 'C00155'], ['R01283', 'C00155', 'C00109'], ['R04930', 'C00109', 'C05699'], ['R04945', 'C05699', 'C05688'], ['R03599', 'C05688', 'C00041'], ['R11038', 'C00041', 'C00022']]<=====\n",
      "=====> after trim_chrom:  长度是22---[['R00878', 'C00267', 'C00095'], ['R03232', 'C00095', 'C01094'], ['R08407', 'C01094', 'C02133'], ['R08404', 'C02133', 'C00060'], ['R03909', 'C00060', 'C03620'], ['R02828', 'C03620', 'C00726'], ['R08511', 'C00726', 'C01326'], ['R01553', 'C01326', 'C02659'], ['R01553', 'C02659', 'C00207'], ['R05735', 'C00207', 'C00164'], ['R01365', 'C00164', 'C00246'], ['R01179', 'C00246', 'C00033'], ['R09801', 'C00033', 'C19929'], ['R09801', 'C19929', 'C03283'], ['R06977', 'C03283', 'C00025'], ['R03905', 'C00025', 'C00064'], ['R00578', 'C00064', 'C00152'], ['R01346', 'C00152', 'C00151'], ['R01261', 'C00151', 'C00041'], ['R02271', 'C00041', 'C00430'], ['R02271', 'C00430', 'C02800'], ['R02271', 'C02800', 'C00022']]<=====\n",
      "=====> after trim_chrom:  长度是16---[['R01787', 'C00267', 'C00794'], ['R00874', 'C00794', 'C00031'], ['R05140', 'C00031', 'C06215'], ['R05140', 'C06215', 'C00089'], ['R00811', 'C00089', 'C00615'], ['R04111', 'C00615', 'C04261'], ['R02631', 'C04261', 'C00352'], ['R01964', 'C00352', 'C00329'], ['R01962', 'C00329', 'C03752'], ['R01544', 'C03752', 'C00204'], ['R08570', 'C00204', 'C00577'], ['R08571', 'C00577', 'C00258'], ['R01750', 'C00258', 'C03459'], ['R06180', 'C03459', 'C00898'], ['R00339', 'C00898', 'C00036'], ['R01447', 'C00036', 'C00022']]<=====\n",
      "=====> after trim_chrom:  长度是19---[['R01678', 'C00267', 'C00243'], ['R01100', 'C00243', 'C00031'], ['R00308', 'C00031', 'C00965'], ['R03116', 'C00965', 'C00103'], ['R08639', 'C00103', 'C00092'], ['R03921', 'C00092', 'C16688'], ['R03921', 'C16688', 'C00095'], ['R08406', 'C00095', 'C00085'], ['R00765', 'C00085', 'C00352'], ['R02631', 'C00352', 'C00329'], ['R01204', 'C00329', 'C00140'], ['R05326', 'C00140', 'C06372'], ['R05326', 'C06372', 'C00446'], ['R00502', 'C00446', 'C00052'], ['R01500', 'C00052', 'C02686'], ['R04018', 'C02686', 'C06128'], ['R04018', 'C06128', 'C00270'], ['R01804', 'C00270', 'C00074'], ['R00430', 'C00074', 'C00022']]<=====\n",
      "=====> after trim_chrom:  长度是13---[['R09085', 'C00267', 'C00668'], ['R02738', 'C00668', 'C00031'], ['R00503', 'C00031', 'C00243'], ['R01680', 'C00243', 'C05403'], ['R04783', 'C05403', 'C00221'], ['R10039', 'C00221', 'C08334'], ['R10037', 'C08334', 'C18796'], ['R11597', 'C18796', 'C19491'], ['R09403', 'C19491', 'C00407'], ['R02200', 'C00407', 'C00183'], ['R01214', 'C00183', 'C00141'], ['R01214', 'C00141', 'C00026'], ['R10542', 'C00026', 'C00022']]<=====\n",
      "=====> after trim_chrom:  长度是22---[['R01602', 'C00267', 'C00221'], ['R02187', 'C00221', 'C01172'], ['R02739', 'C01172', 'C00668'], ['R02740', 'C00668', 'C05345'], ['R02703', 'C05345', 'C00644'], ['R02704', 'C00644', 'C04261'], ['R08367', 'C04261', 'C06377'], ['R05168', 'C06377', 'C06376'], ['R08366', 'C06376', 'C01132'], ['R04184', 'C01132', 'C03272'], ['R04184', 'C03272', 'C04737'], ['R03486', 'C04737', 'C00052'], ['R01500', 'C00052', 'C02686'], ['R03617', 'C02686', 'C00195'], ['R01503', 'C00195', 'C06062'], ['R01503', 'C06062', 'C00570'], ['R02057', 'C00570', 'C00350'], ['R02055', 'C00350', 'C02737'], ['R09035', 'C02737', 'C00040'], ['R06361', 'C00040', 'C00956'], ['R03103', 'C00956', 'C04076'], ['R00453', 'C04076', 'C00022']]<=====\n",
      "=====> after trim_chrom:  长度是15---[['R00947', 'C00267', 'C00103'], ['R11959', 'C00103', 'C19792'], ['R12250', 'C19792', 'C00031'], ['R00837', 'C00031', 'C00689'], ['R05767', 'C00689', 'C00663'], ['R11310', 'C00663', 'C00092'], ['R00771', 'C00092', 'C00085'], ['R00761', 'C00085', 'C00227'], ['R01620', 'C00227', 'C02727'], ['R00458', 'C02727', 'C00047'], ['R00460', 'C00047', 'C00739'], ['R02851', 'C00739', 'C00405'], ['R01265', 'C00405', 'C00151'], ['R01261', 'C00151', 'C00041'], ['R00907', 'C00041', 'C00022']]<=====\n",
      "=====> after trim_chrom:  长度是17---[['R01678', 'C00267', 'C00243'], ['R05166', 'C00243', 'C06371'], ['R05166', 'C06371', 'C06372'], ['R05326', 'C06372', 'C00446'], ['R00955', 'C00446', 'C00103'], ['R05512', 'C00103', 'C06592'], ['R05512', 'C06592', 'C00201'], ['R02320', 'C00201', 'C00454'], ['R10525', 'C00454', 'C00031'], ['R04411', 'C00031', 'C04164'], ['R02256', 'C04164', 'C00423'], ['R01426', 'C00423', 'C00180'], ['R08838', 'C00180', 'C00805'], ['R07695', 'C00805', 'C16213'], ['R07696', 'C16213', 'C16212'], ['R07692', 'C16212', 'C16210'], ['R07692', 'C16210', 'C00022']]<=====\n",
      "=====> after trim_chrom:  长度是24---[['R01786', 'C00267', 'C00668'], ['R00959', 'C00668', 'C00103'], ['R00955', 'C00103', 'C00446'], ['R09632', 'C00446', 'C19758'], ['R09632', 'C19758', 'C00507'], ['R02436', 'C00507', 'C01750'], ['R09803', 'C01750', 'C00389'], ['R02159', 'C00389', 'C00616'], ['R02633', 'C00616', 'C00054'], ['R13047', 'C00054', 'C22551'], ['R13046', 'C22551', 'C22550'], ['R13046', 'C22550', 'C00033'], ['R04174', 'C00033', 'C05548'], ['R04029', 'C05548', 'C02727'], ['R01620', 'C02727', 'C00227'], ['R07228', 'C00227', 'C00719'], ['R02821', 'C00719', 'C00073'], ['R11063', 'C00073', 'C00155'], ['R01286', 'C00155', 'C02291'], ['R03260', 'C02291', 'C01118'], ['R00999', 'C01118', 'C00109'], ['R10992', 'C00109', 'C02356'], ['R10992', 'C02356', 'C00041'], ['R12343', 'C00041', 'C00022']]<=====\n",
      "=====> after trim_chrom:  长度是5---[['R00878', 'C00267', 'C00095'], ['R03921', 'C00095', 'C16688'], ['R00811', 'C16688', 'C04261'], ['R02628', 'C04261', 'C00074'], ['R00659', 'C00074', 'C00022']]<=====\n",
      "-----Mutation Successfully!-----\n",
      "Chromesomes before mutation is :\n",
      "[['R00878', 'C00267', 'C00095'], ['R12349', 'C00095', 'C00089'], ['R00803', 'C00089', 'C00103'], ['R00550', 'C00103', 'C00031'], ['R04409', 'C00031', 'C04164'], ['R02256', 'C04164', 'C00423'], ['R00697', 'C00423', 'C00079'], ['R01375', 'C00079', 'C00166'], ['R00692', 'C00166', 'C00022']]\n",
      "Chromesomes after mutation is :\n",
      "[['R00878', 'C00267', 'C00095'], ['R12349', 'C00095', 'C00089'], ['R00803', 'C00089', 'C00103'], ['R00550', 'C00103', 'C00031'], ['R00878', 'C00267', 'C00095'], ['R03921', 'C00095', 'C16688'], ['R00811', 'C16688', 'C04261'], ['R02628', 'C04261', 'C00074'], ['R00659', 'C00074', 'C00022']]\n",
      "--------------------\n"
     ]
    },
    {
     "name": "stdout",
     "output_type": "stream",
     "text": [
      "=====> Mututation of the 3th iter 1th particle<=====\n"
     ]
    },
    {
     "name": "stderr",
     "output_type": "stream",
     "text": [
      "=====> after trim_chrom:  长度是8---[['R07265', 'C00267', 'C01083'], ['R08946', 'C01083', 'C00031'], ['R04411', 'C00031', 'C04164'], ['R05061', 'C04164', 'C06360'], ['R05061', 'C06360', 'C05979'], ['R02377', 'C05979', 'C00479'], ['R05298', 'C00479', 'C06762'], ['R05298', 'C06762', 'C00022']]<=====\n",
      "=====> after trim_chrom:  长度是8---[['R01788', 'C00267', 'C00668'], ['R00959', 'C00668', 'C00103'], ['R00960', 'C00103', 'C00031'], ['R05140', 'C00031', 'C00089'], ['R00039', 'C00089', 'C00492'], ['R02410', 'C00492', 'C00095'], ['R01140', 'C00095', 'C00206'], ['R01138', 'C00206', 'C00022']]<=====\n",
      "-----Mutation Successfully!-----\n",
      "Chromesomes before mutation is :\n",
      "[['R01602', 'C00267', 'C00221'], ['R02187', 'C00221', 'C01172'], ['R02739', 'C01172', 'C00668'], ['R02740', 'C00668', 'C05345'], ['R00867', 'C05345', 'C00095'], ['R08406', 'C00095', 'C00085'], ['R01067', 'C00085', 'C00279'], ['R01825', 'C00279', 'C03393'], ['R11726', 'C03393', 'C00111'], ['R01011', 'C00111', 'C00184'], ['R01012', 'C00184', 'C00022']]\n",
      "Chromesomes after mutation is :\n",
      "[['R01602', 'C00267', 'C00221'], ['R02187', 'C00221', 'C01172'], ['R02739', 'C01172', 'C00668'], ['R01788', 'C00267', 'C00668'], ['R00959', 'C00668', 'C00103'], ['R00960', 'C00103', 'C00031'], ['R05140', 'C00031', 'C00089'], ['R00039', 'C00089', 'C00492'], ['R02410', 'C00492', 'C00095'], ['R01140', 'C00095', 'C00206'], ['R01138', 'C00206', 'C00022']]\n",
      "--------------------\n"
     ]
    },
    {
     "name": "stdout",
     "output_type": "stream",
     "text": [
      "=====> Mututation of the 3th iter 2th particle<=====\n"
     ]
    },
    {
     "name": "stderr",
     "output_type": "stream",
     "text": [
      "=====> after trim_chrom:  长度是25---[['R00947', 'C00267', 'C00103'], ['R02888', 'C00103', 'C00760'], ['R02890', 'C00760', 'C00394'], ['R00337', 'C00394', 'C00031'], ['R09941', 'C00031', 'C01518'], ['R11140', 'C01518', 'C02616'], ['R12527', 'C02616', 'C00089'], ['R00806', 'C00089', 'C00095'], ['R00760', 'C00095', 'C00085'], ['R01067', 'C00085', 'C00231'], ['R01440', 'C00231', 'C00118'], ['R01066', 'C00118', 'C00673'], ['R02749', 'C00673', 'C00672'], ['R02748', 'C00672', 'C05512'], ['R02556', 'C05512', 'C00559'], ['R02089', 'C00559', 'C00360'], ['R01547', 'C00360', 'C00206'], ['R02017', 'C00206', 'C00342'], ['R02021', 'C00342', 'C00343'], ['R02026', 'C00343', 'C01077'], ['R01287', 'C01077', 'C00155'], ['R10305', 'C00155', 'C00033'], ['R00458', 'C00033', 'C02727'], ['R01620', 'C02727', 'C00227'], ['R00207', 'C00227', 'C00022']]<=====\n",
      "=====> after trim_chrom:  长度是5---[['R01678', 'C00267', 'C00243'], ['R00503', 'C00243', 'C00031'], ['R03323', 'C00031', 'C00149'], ['R00360', 'C00149', 'C00036'], ['R01447', 'C00036', 'C00022']]<=====\n",
      "-----Mutation Successfully!-----\n",
      "Chromesomes before mutation is :\n",
      "[['R00878', 'C00267', 'C00095'], ['R00877', 'C00095', 'C00159'], ['R02630', 'C00159', 'C00615'], ['R04076', 'C00615', 'C04261'], ['R08559', 'C04261', 'C16698'], ['R08555', 'C16698', 'C00256'], ['R13049', 'C00256', 'C00022']]\n",
      "Chromesomes after mutation is :\n",
      "[['R00878', 'C00267', 'C00095'], ['R01678', 'C00267', 'C00243'], ['R00503', 'C00243', 'C00031'], ['R03323', 'C00031', 'C00149'], ['R00360', 'C00149', 'C00036'], ['R01447', 'C00036', 'C00022']]\n",
      "--------------------\n"
     ]
    },
    {
     "name": "stdout",
     "output_type": "stream",
     "text": [
      "=====> Mututation of the 3th iter 3th particle<=====\n"
     ]
    },
    {
     "name": "stderr",
     "output_type": "stream",
     "text": [
      "=====> after trim_chrom:  长度是13---[['R07265', 'C00267', 'C01083'], ['R07265', 'C01083', 'C00103'], ['R00960', 'C00103', 'C00031'], ['R02558', 'C00031', 'C00844'], ['R10638', 'C00844', 'C00561'], ['R11732', 'C00561', 'C19714'], ['R10041', 'C19714', 'C16075'], ['R08652', 'C16075', 'C00079'], ['R01795', 'C00079', 'C00082'], ['R09254', 'C00082', 'C00041'], ['R11528', 'C00041', 'C00097'], ['R00895', 'C00097', 'C00957'], ['R03105', 'C00957', 'C00022']]<=====\n",
      "=====> after trim_chrom:  长度是9---[['R00878', 'C00267', 'C00095'], ['R00877', 'C00095', 'C00159'], ['R01329', 'C00159', 'C05400'], ['R01329', 'C05400', 'C00124'], ['R08544', 'C00124', 'C02669'], ['R10604', 'C02669', 'C00880'], ['R03033', 'C00880', 'C01216'], ['R03387', 'C01216', 'C01286'], ['R01064', 'C01286', 'C00022']]<=====\n",
      "=====> after trim_chrom:  长度是16---[['R00802', 'C00267', 'C00089'], ['R12349', 'C00089', 'C00095'], ['R00876', 'C00095', 'C00104'], ['R01327', 'C00104', 'C00159'], ['R01327', 'C00159', 'C00275'], ['R00772', 'C00275', 'C00085'], ['R08575', 'C00085', 'C05382'], ['R06590', 'C05382', 'C00117'], ['R02345', 'C00117', 'C04359'], ['R02345', 'C04359', 'C00466'], ['R02344', 'C00466', 'C03046'], ['R03707', 'C03046', 'C01769'], ['R02949', 'C01769', 'C00810'], ['R02855', 'C00810', 'C00741'], ['R10506', 'C00741', 'C06010'], ['R00226', 'C06010', 'C00022']]<=====\n",
      "=====> after trim_chrom:  长度是17---[['R01678', 'C00267', 'C00243'], ['R00503', 'C00243', 'C00052'], ['R00504', 'C00052', 'C04739'], ['R00504', 'C04739', 'C00043'], ['R02335', 'C00043', 'C00461'], ['R02333', 'C00461', 'C00734'], ['R08715', 'C00734', 'C00329'], ['R01965', 'C00329', 'C00206'], ['R01140', 'C00206', 'C00095'], ['R00760', 'C00095', 'C00085'], ['R11623', 'C00085', 'C01097'], ['R03240', 'C01097', 'C01113'], ['R11171', 'C01113', 'C00124'], ['R01097', 'C00124', 'C03383'], ['R03034', 'C03383', 'C00880'], ['R03033', 'C00880', 'C01216'], ['R10616', 'C01216', 'C00022']]<=====\n",
      "=====> after trim_chrom:  长度是16---[['R07265', 'C00267', 'C01083'], ['R11306', 'C01083', 'C00031'], ['R08404', 'C00031', 'C00092'], ['R10520', 'C00092', 'C01236'], ['R02736', 'C01236', 'C01172'], ['R05134', 'C01172', 'C06188'], ['R04394', 'C06188', 'C04261'], ['R11172', 'C04261', 'C00615'], ['R01516', 'C00615', 'C00197'], ['R01513', 'C00197', 'C03232'], ['R04173', 'C03232', 'C00026'], ['R10141', 'C00026', 'C00025'], ['R00578', 'C00025', 'C00049'], ['R00400', 'C00049', 'C00036'], ['R00726', 'C00036', 'C00074'], ['R02320', 'C00074', 'C00022']]<=====\n",
      "=====> after trim_chrom:  长度是11---[['R02189', 'C00267', 'C00668'], ['R02739', 'C00668', 'C01172'], ['R03321', 'C01172', 'C05345'], ['R05607', 'C05345', 'C01096'], ['R07133', 'C01096', 'C00085'], ['R11623', 'C00085', 'C01097'], ['R03239', 'C01097', 'C00104'], ['R02406', 'C00104', 'C00490'], ['R10600', 'C00490', 'C00033'], ['R05508', 'C00033', 'C00186'], ['R00703', 'C00186', 'C00022']]<=====\n",
      "-----Mutation Successfully!-----\n",
      "Chromesomes before mutation is :\n",
      "[['R00878', 'C00267', 'C00095'], ['R12349', 'C00095', 'C00089'], ['R00803', 'C00089', 'C00103'], ['R00550', 'C00103', 'C00031'], ['R04409', 'C00031', 'C04164'], ['R02256', 'C04164', 'C00423'], ['R00697', 'C00423', 'C00079'], ['R01375', 'C00079', 'C00166'], ['R00692', 'C00166', 'C00022']]\n",
      "Chromesomes after mutation is :\n",
      "[['R00878', 'C00267', 'C00095'], ['R12349', 'C00095', 'C00089'], ['R00803', 'C00089', 'C00103'], ['R00550', 'C00103', 'C00031'], ['R04409', 'C00031', 'C04164'], ['R02189', 'C00267', 'C00668'], ['R02739', 'C00668', 'C01172'], ['R03321', 'C01172', 'C05345'], ['R05607', 'C05345', 'C01096'], ['R07133', 'C01096', 'C00085'], ['R11623', 'C00085', 'C01097'], ['R03239', 'C01097', 'C00104'], ['R02406', 'C00104', 'C00490'], ['R10600', 'C00490', 'C00033'], ['R05508', 'C00033', 'C00186'], ['R00703', 'C00186', 'C00022']]\n",
      "--------------------\n"
     ]
    },
    {
     "name": "stdout",
     "output_type": "stream",
     "text": [
      "=====> Mututation of the 4th iter 1th particle<=====\n"
     ]
    },
    {
     "name": "stderr",
     "output_type": "stream",
     "text": [
      "=====> after trim_chrom:  长度是10---[['R01786', 'C00267', 'C00668'], ['R02738', 'C00668', 'C00031'], ['R12250', 'C00031', 'C19792'], ['R09664', 'C19792', 'C19791'], ['R09663', 'C19791', 'C00197'], ['R01058', 'C00197', 'C00118'], ['R01059', 'C00118', 'C00577'], ['R10616', 'C00577', 'C01216'], ['R03387', 'C01216', 'C01286'], ['R01064', 'C01286', 'C00022']]<=====\n",
      "-----Mutation Successfully!-----\n",
      "Chromesomes before mutation is :\n",
      "[['R01602', 'C00267', 'C00221'], ['R02187', 'C00221', 'C01172'], ['R02739', 'C01172', 'C00668'], ['R02740', 'C00668', 'C05345'], ['R00867', 'C05345', 'C00095'], ['R08406', 'C00095', 'C00085'], ['R01067', 'C00085', 'C00279'], ['R01825', 'C00279', 'C03393'], ['R11726', 'C03393', 'C00111'], ['R01011', 'C00111', 'C00184'], ['R01012', 'C00184', 'C00022']]\n",
      "Chromesomes after mutation is :\n",
      "[['R01602', 'C00267', 'C00221'], ['R02187', 'C00221', 'C01172'], ['R02739', 'C01172', 'C00668'], ['R02740', 'C00668', 'C05345'], ['R01786', 'C00267', 'C00668'], ['R02738', 'C00668', 'C00031'], ['R12250', 'C00031', 'C19792'], ['R09664', 'C19792', 'C19791'], ['R09663', 'C19791', 'C00197'], ['R01058', 'C00197', 'C00118'], ['R01059', 'C00118', 'C00577'], ['R10616', 'C00577', 'C01216'], ['R03387', 'C01216', 'C01286'], ['R01064', 'C01286', 'C00022']]\n",
      "--------------------\n"
     ]
    },
    {
     "name": "stdout",
     "output_type": "stream",
     "text": [
      "=====> Mututation of the 4th iter 2th particle<=====\n"
     ]
    },
    {
     "name": "stderr",
     "output_type": "stream",
     "text": [
      "=====> after trim_chrom:  长度是13---[['R01602', 'C00267', 'C00221'], ['R12969', 'C00221', 'C01190'], ['R03354', 'C01190', 'C01290'], ['R03618', 'C01290', 'C04737'], ['R05631', 'C04737', 'C03272'], ['R05631', 'C03272', 'C00203'], ['R04584', 'C00203', 'C04884'], ['R04631', 'C04884', 'C04911'], ['R04633', 'C04911', 'C00124'], ['R01097', 'C00124', 'C03383'], ['R03034', 'C03383', 'C00880'], ['R03033', 'C00880', 'C01216'], ['R10616', 'C01216', 'C00022']]<=====\n",
      "=====> after trim_chrom:  长度是11---[['R09085', 'C00267', 'C00668'], ['R02739', 'C00668', 'C01172'], ['R02187', 'C01172', 'C00221'], ['R10035', 'C00221', 'C05143'], ['R04296', 'C05143', 'C03742'], ['R02708', 'C03742', 'C03766'], ['R04306', 'C03766', 'C04353'], ['R08659', 'C04353', 'C17238'], ['R10672', 'C17238', 'C00097'], ['R11528', 'C00097', 'C00041'], ['R02271', 'C00041', 'C00022']]<=====\n",
      "-----Mutation Successfully!-----\n",
      "Chromesomes before mutation is :\n",
      "[['R00878', 'C00267', 'C00095'], ['R00877', 'C00095', 'C00159'], ['R02630', 'C00159', 'C00615'], ['R04076', 'C00615', 'C04261'], ['R08559', 'C04261', 'C16698'], ['R08555', 'C16698', 'C00256'], ['R13049', 'C00256', 'C00022']]\n",
      "Chromesomes after mutation is :\n",
      "[['R00878', 'C00267', 'C00095'], ['R09085', 'C00267', 'C00668'], ['R02739', 'C00668', 'C01172'], ['R02187', 'C01172', 'C00221'], ['R10035', 'C00221', 'C05143'], ['R04296', 'C05143', 'C03742'], ['R02708', 'C03742', 'C03766'], ['R04306', 'C03766', 'C04353'], ['R08659', 'C04353', 'C17238'], ['R10672', 'C17238', 'C00097'], ['R11528', 'C00097', 'C00041'], ['R02271', 'C00041', 'C00022']]\n",
      "--------------------\n"
     ]
    },
    {
     "name": "stdout",
     "output_type": "stream",
     "text": [
      "=====> Mututation of the 4th iter 3th particle<=====\n"
     ]
    },
    {
     "name": "stderr",
     "output_type": "stream",
     "text": [
      "=====> after trim_chrom:  长度是14---[['R00878', 'C00267', 'C00095'], ['R00875', 'C00095', 'C00794'], ['R02868', 'C00794', 'C01096'], ['R03234', 'C01096', 'C02888'], ['R04076', 'C02888', 'C04261'], ['R04393', 'C04261', 'C05396'], ['R04393', 'C05396', 'C00243'], ['R00503', 'C00243', 'C00031'], ['R02558', 'C00031', 'C00844'], ['R02558', 'C00844', 'C00561'], ['R11732', 'C00561', 'C19714'], ['R09578', 'C19714', 'C00079'], ['R10499', 'C00079', 'C00166'], ['R00692', 'C00166', 'C00022']]<=====\n",
      "=====> after trim_chrom:  长度是19---[['R00947', 'C00267', 'C00103'], ['R00803', 'C00103', 'C00089'], ['R02411', 'C00089', 'C00137'], ['R03418', 'C00137', 'C01235'], ['R01192', 'C01235', 'C00052'], ['R02791', 'C00052', 'C04855'], ['R02791', 'C04855', 'C00694'], ['R02789', 'C00694', 'C04890'], ['R02789', 'C04890', 'C00043'], ['R10266', 'C00043', 'C04613'], ['R12554', 'C04613', 'C19823'], ['R09825', 'C19823', 'C19961'], ['R09842', 'C19961', 'C19971'], ['R09842', 'C19971', 'C00024'], ['R02569', 'C00024', 'C16255'], ['R03270', 'C16255', 'C15972'], ['R01701', 'C15972', 'C15977'], ['R01701', 'C15977', 'C00141'], ['R01215', 'C00141', 'C00022']]<=====\n",
      "=====> after trim_chrom:  长度是14---[['R07265', 'C00267', 'C01083'], ['R10525', 'C01083', 'C00031'], ['R02558', 'C00031', 'C00844'], ['R10638', 'C00844', 'C00561'], ['R01767', 'C00561', 'C00261'], ['R01766', 'C00261', 'C03290'], ['R01766', 'C03290', 'C00037'], ['R10062', 'C00037', 'C00021'], ['R07921', 'C00021', 'C13747'], ['R07960', 'C13747', 'C16358'], ['R07969', 'C16358', 'C00385'], ['R02103', 'C00385', 'C00366'], ['R10920', 'C00366', 'C00026'], ['R00258', 'C00026', 'C00022']]<=====\n",
      "=====> after trim_chrom:  长度是29---[['R01718', 'C00267', 'C00252'], ['R11791', 'C00252', 'C00221'], ['R13065', 'C00221', 'C05623'], ['R13065', 'C05623', 'C00389'], ['R09803', 'C00389', 'C01750'], ['R09803', 'C01750', 'C02199'], ['R06826', 'C02199', 'C12627'], ['R06826', 'C12627', 'C04608'], ['R04526', 'C04608', 'C04858'], ['R04618', 'C04858', 'C05622'], ['R04618', 'C05622', 'C00083'], ['R00742', 'C00083', 'C00024'], ['R07899', 'C00024', 'C16338'], ['R07898', 'C16338', 'C16337'], ['R07897', 'C16337', 'C16336'], ['R07896', 'C16336', 'C16335'], ['R07895', 'C16335', 'C16334'], ['R07894', 'C16334', 'C16333'], ['R07893', 'C16333', 'C16332'], ['R07892', 'C16332', 'C00016'], ['R03704', 'C00016', 'C01764'], ['R00594', 'C01764', 'C03446'], ['R12548', 'C03446', 'C00143'], ['R01669', 'C00143', 'C03997'], ['R01669', 'C03997', 'C00239'], ['R01663', 'C00239', 'C00365'], ['R02098', 'C00365', 'C01346'], ['R02018', 'C01346', 'C00342'], ['R03105', 'C00342', 'C00022']]<=====\n",
      "=====> after trim_chrom:  长度是11---[['R02189', 'C00267', 'C00668'], ['R00959', 'C00668', 'C00103'], ['R01660', 'C00103', 'C00197'], ['R01512', 'C00197', 'C00236'], ['R01063', 'C00236', 'C00118'], ['R01059', 'C00118', 'C00577'], ['R01041', 'C00577', 'C00116'], ['R07298', 'C00116', 'C00623'], ['R05680', 'C00623', 'C00111'], ['R01012', 'C00111', 'C00074'], ['R01012', 'C00074', 'C00022']]<=====\n",
      "=====> after trim_chrom:  长度是14---[['R00878', 'C00267', 'C00095'], ['R01823', 'C00095', 'C00089'], ['R00801', 'C00089', 'C00031'], ['R00299', 'C00031', 'C00092'], ['R10520', 'C00092', 'C01236'], ['R02035', 'C01236', 'C00345'], ['R01528', 'C00345', 'C00199'], ['R01529', 'C00199', 'C00231'], ['R01621', 'C00231', 'C00227'], ['R00315', 'C00227', 'C00033'], ['R04945', 'C00033', 'C05688'], ['R04946', 'C05688', 'C00042'], ['R12510', 'C00042', 'C00026'], ['R10487', 'C00026', 'C00022']]<=====\n",
      "-----Mutation Successfully!-----\n",
      "Chromesomes before mutation is :\n",
      "[['R00878', 'C00267', 'C00095'], ['R12349', 'C00095', 'C00089'], ['R00803', 'C00089', 'C00103'], ['R00550', 'C00103', 'C00031'], ['R04409', 'C00031', 'C04164'], ['R02256', 'C04164', 'C00423'], ['R00697', 'C00423', 'C00079'], ['R01375', 'C00079', 'C00166'], ['R00692', 'C00166', 'C00022']]\n",
      "Chromesomes after mutation is :\n",
      "[['R00878', 'C00267', 'C00095'], ['R12349', 'C00095', 'C00089'], ['R00878', 'C00267', 'C00095'], ['R01823', 'C00095', 'C00089'], ['R00801', 'C00089', 'C00031'], ['R00299', 'C00031', 'C00092'], ['R10520', 'C00092', 'C01236'], ['R02035', 'C01236', 'C00345'], ['R01528', 'C00345', 'C00199'], ['R01529', 'C00199', 'C00231'], ['R01621', 'C00231', 'C00227'], ['R00315', 'C00227', 'C00033'], ['R04945', 'C00033', 'C05688'], ['R04946', 'C05688', 'C00042'], ['R12510', 'C00042', 'C00026'], ['R10487', 'C00026', 'C00022']]\n",
      "--------------------\n"
     ]
    },
    {
     "name": "stdout",
     "output_type": "stream",
     "text": [
      "=====> Mututation of the 5th iter 1th particle<=====\n"
     ]
    },
    {
     "name": "stderr",
     "output_type": "stream",
     "text": [
      "=====> after trim_chrom:  长度是17---[['R01788', 'C00267', 'C00668'], ['R02738', 'C00668', 'C00031'], ['R04333', 'C00031', 'C00137'], ['R01193', 'C00137', 'C01225'], ['R01193', 'C01225', 'C00093'], ['R02027', 'C00093', 'C00344'], ['R10849', 'C00344', 'C00641'], ['R01321', 'C00641', 'C00157'], ['R01310', 'C00157', 'C00416'], ['R02242', 'C00416', 'C03974'], ['R02758', 'C03974', 'C02112'], ['R01352', 'C02112', 'C00116'], ['R01036', 'C00116', 'C00577'], ['R10324', 'C00577', 'C00258'], ['R01751', 'C00258', 'C00898'], ['R00339', 'C00898', 'C00036'], ['R00353', 'C00036', 'C00022']]<=====\n",
      "=====> after trim_chrom:  长度是15---[['R01718', 'C00267', 'C00252'], ['R11791', 'C00252', 'C00031'], ['R03075', 'C00031', 'C00114'], ['R08212', 'C00114', 'C00719'], ['R07244', 'C00719', 'C01026'], ['R13028', 'C01026', 'C00213'], ['R12967', 'C00213', 'C00037'], ['R00366', 'C00037', 'C00048'], ['R10245', 'C00048', 'C15809'], ['R10247', 'C15809', 'C15810'], ['R10247', 'C15810', 'C15814'], ['R07461', 'C15814', 'C15812'], ['R07460', 'C15812', 'C00097'], ['R11528', 'C00097', 'C00041'], ['R04187', 'C00041', 'C00022']]<=====\n",
      "=====> after trim_chrom:  长度是25---[['R03115', 'C00267', 'C00965'], ['R00308', 'C00965', 'C00031'], ['R11306', 'C00031', 'C01083'], ['R01557', 'C01083', 'C00208'], ['R00957', 'C00208', 'C00103'], ['R00959', 'C00103', 'C00668'], ['R02739', 'C00668', 'C01172'], ['R02736', 'C01172', 'C01236'], ['R00835', 'C01236', 'C00092'], ['R03921', 'C00092', 'C16688'], ['R00811', 'C16688', 'C00089'], ['R08676', 'C00089', 'C00095'], ['R00876', 'C00095', 'C00085'], ['R00765', 'C00085', 'C00352'], ['R02059', 'C00352', 'C00357'], ['R05199', 'C00357', 'C04261'], ['R03076', 'C04261', 'C00615'], ['R07671', 'C00615', 'C00072'], ['R00643', 'C00072', 'C01115'], ['R07680', 'C01115', 'C15930'], ['R12146', 'C15930', 'C00558'], ['R11624', 'C00558', 'C00905'], ['R02454', 'C00905', 'C00514'], ['R05606', 'C00514', 'C00204'], ['R08570', 'C00204', 'C00022']]<=====\n",
      "=====> after trim_chrom:  长度是20---[['R07265', 'C00267', 'C01083'], ['R11306', 'C01083', 'C00031'], ['R00327', 'C00031', 'C02655'], ['R00327', 'C02655', 'C00033'], ['R03217', 'C00033', 'C00097'], ['R11528', 'C00097', 'C00041'], ['R04187', 'C00041', 'C03284'], ['R04187', 'C03284', 'C06002'], ['R04188', 'C06002', 'C00026'], ['R12076', 'C00026', 'C00042'], ['R12650', 'C00042', 'C00407'], ['R11723', 'C00407', 'C08511'], ['R11723', 'C08511', 'C00332'], ['R01975', 'C00332', 'C01144'], ['R03026', 'C01144', 'C00877'], ['R03028', 'C00877', 'C02411'], ['R03937', 'C02411', 'C03058'], ['R04000', 'C03058', 'C00024'], ['R02569', 'C00024', 'C16255'], ['R01699', 'C16255', 'C00022']]<=====\n",
      "=====> after trim_chrom:  长度是23---[['R01786', 'C00267', 'C00668'], ['R02739', 'C00668', 'C01172'], ['R05133', 'C01172', 'C06187'], ['R05132', 'C06187', 'C04261'], ['R08559', 'C04261', 'C16698'], ['R08555', 'C16698', 'C00357'], ['R02058', 'C00357', 'C00352'], ['R02060', 'C00352', 'C06156'], ['R05332', 'C06156', 'C04501'], ['R09942', 'C04501', 'C01674'], ['R02334', 'C01674', 'C00461'], ['R02335', 'C00461', 'C00043'], ['R00420', 'C00043', 'C01170'], ['R05566', 'C01170', 'C04881'], ['R05566', 'C04881', 'C01289'], ['R08856', 'C01289', 'C17556'], ['R09781', 'C17556', 'C16157'], ['R09773', 'C16157', 'C19884'], ['R09773', 'C19884', 'C04919'], ['R04658', 'C04919', 'C06024'], ['R04658', 'C06024', 'C04121'], ['R03351', 'C04121', 'C01187'], ['R01576', 'C01187', 'C00022']]<=====\n",
      "=====> after trim_chrom:  长度是8---[['R09085', 'C00267', 'C00668'], ['R02739', 'C00668', 'C01172'], ['R03321', 'C01172', 'C05345'], ['R09780', 'C05345', 'C06019'], ['R05338', 'C06019', 'C00199'], ['R10221', 'C00199', 'C00345'], ['R02036', 'C00345', 'C04442'], ['R05605', 'C04442', 'C00022']]<=====\n",
      "-----Mutation Successfully!-----\n",
      "Chromesomes before mutation is :\n",
      "[['R01602', 'C00267', 'C00221'], ['R02187', 'C00221', 'C01172'], ['R02739', 'C01172', 'C00668'], ['R02740', 'C00668', 'C05345'], ['R00867', 'C05345', 'C00095'], ['R08406', 'C00095', 'C00085'], ['R01067', 'C00085', 'C00279'], ['R01825', 'C00279', 'C03393'], ['R11726', 'C03393', 'C00111'], ['R01011', 'C00111', 'C00184'], ['R01012', 'C00184', 'C00022']]\n",
      "Chromesomes after mutation is :\n",
      "[['R01602', 'C00267', 'C00221'], ['R02187', 'C00221', 'C01172'], ['R09085', 'C00267', 'C00668'], ['R02739', 'C00668', 'C01172'], ['R03321', 'C01172', 'C05345'], ['R09780', 'C05345', 'C06019'], ['R05338', 'C06019', 'C00199'], ['R10221', 'C00199', 'C00345'], ['R02036', 'C00345', 'C04442'], ['R05605', 'C04442', 'C00022']]\n",
      "--------------------\n"
     ]
    },
    {
     "name": "stdout",
     "output_type": "stream",
     "text": [
      "=====> Mututation of the 5th iter 2th particle<=====\n"
     ]
    },
    {
     "name": "stderr",
     "output_type": "stream",
     "text": [
      "=====> after trim_chrom:  长度是8---[['R11620', 'C00267', 'C00794'], ['R02867', 'C00794', 'C01096'], ['R07133', 'C01096', 'C00085'], ['R00760', 'C00085', 'C00095'], ['R00866', 'C00095', 'C01094'], ['R02568', 'C01094', 'C00111'], ['R01012', 'C00111', 'C00074'], ['R00206', 'C00074', 'C00022']]<=====\n",
      "-----Mutation Successfully!-----\n",
      "Chromesomes before mutation is :\n",
      "[['R00878', 'C00267', 'C00095'], ['R00877', 'C00095', 'C00159'], ['R02630', 'C00159', 'C00615'], ['R04076', 'C00615', 'C04261'], ['R08559', 'C04261', 'C16698'], ['R08555', 'C16698', 'C00256'], ['R13049', 'C00256', 'C00022']]\n",
      "Chromesomes after mutation is :\n",
      "[['R00878', 'C00267', 'C00095'], ['R00877', 'C00095', 'C00159'], ['R02630', 'C00159', 'C00615'], ['R04076', 'C00615', 'C04261'], ['R11620', 'C00267', 'C00794'], ['R02867', 'C00794', 'C01096'], ['R07133', 'C01096', 'C00085'], ['R00760', 'C00085', 'C00095'], ['R00866', 'C00095', 'C01094'], ['R02568', 'C01094', 'C00111'], ['R01012', 'C00111', 'C00074'], ['R00206', 'C00074', 'C00022']]\n",
      "--------------------\n"
     ]
    },
    {
     "name": "stdout",
     "output_type": "stream",
     "text": [
      "=====> Mututation of the 5th iter 3th particle<=====\n"
     ]
    },
    {
     "name": "stderr",
     "output_type": "stream",
     "text": [
      "=====> after trim_chrom:  长度是18---[['R01602', 'C00267', 'C00221'], ['R12983', 'C00221', 'C15548'], ['R12983', 'C15548', 'C00031'], ['R02985', 'C00031', 'C08325'], ['R02985', 'C08325', 'C00844'], ['R10638', 'C00844', 'C00561'], ['R10637', 'C00561', 'C16075'], ['R10041', 'C16075', 'C19714'], ['R09578', 'C19714', 'C00079'], ['R00689', 'C00079', 'C00166'], ['R01373', 'C00166', 'C00254'], ['R07276', 'C00254', 'C00826'], ['R01731', 'C00826', 'C00049'], ['R00491', 'C00049', 'C00402'], ['R05053', 'C00402', 'C05947'], ['R05052', 'C05947', 'C00025'], ['R00243', 'C00025', 'C00026'], ['R00258', 'C00026', 'C00022']]<=====\n",
      "=====> after trim_chrom:  长度是9---[['R00947', 'C00267', 'C00103'], ['R00949', 'C00103', 'C01231'], ['R01660', 'C01231', 'C00236'], ['R01662', 'C00236', 'C01159'], ['R02664', 'C01159', 'C00631'], ['R08572', 'C00631', 'C00258'], ['R01752', 'C00258', 'C00577'], ['R10050', 'C00577', 'C00546'], ['R00203', 'C00546', 'C00022']]<=====\n",
      "-----Mutation Successfully!-----\n",
      "Chromesomes before mutation is :\n",
      "[['R00878', 'C00267', 'C00095'], ['R12349', 'C00095', 'C00089'], ['R00803', 'C00089', 'C00103'], ['R00550', 'C00103', 'C00031'], ['R04409', 'C00031', 'C04164'], ['R02256', 'C04164', 'C00423'], ['R00697', 'C00423', 'C00079'], ['R01375', 'C00079', 'C00166'], ['R00692', 'C00166', 'C00022']]\n",
      "Chromesomes after mutation is :\n",
      "[['R00878', 'C00267', 'C00095'], ['R00947', 'C00267', 'C00103'], ['R00949', 'C00103', 'C01231'], ['R01660', 'C01231', 'C00236'], ['R01662', 'C00236', 'C01159'], ['R02664', 'C01159', 'C00631'], ['R08572', 'C00631', 'C00258'], ['R01752', 'C00258', 'C00577'], ['R10050', 'C00577', 'C00546'], ['R00203', 'C00546', 'C00022']]\n",
      "--------------------\n"
     ]
    },
    {
     "name": "stdout",
     "output_type": "stream",
     "text": [
      "=====> Mututation of the 6th iter 1th particle<=====\n"
     ]
    },
    {
     "name": "stderr",
     "output_type": "stream",
     "text": [
      "=====> after trim_chrom:  长度是10---[['R02189', 'C00267', 'C00668'], ['R02738', 'C00668', 'C00031'], ['R00303', 'C00031', 'C00092'], ['R08617', 'C00092', 'C17209'], ['R08890', 'C17209', 'C17580'], ['R08890', 'C17580', 'C00064'], ['R10089', 'C00064', 'C00025'], ['R04188', 'C00025', 'C03284'], ['R04187', 'C03284', 'C00041'], ['R08714', 'C00041', 'C00022']]<=====\n",
      "=====> after trim_chrom:  长度是18---[['R00878', 'C00267', 'C00095'], ['R08406', 'C00095', 'C00085'], ['R00766', 'C00085', 'C02591'], ['R10987', 'C02591', 'C05345'], ['R02740', 'C05345', 'C00668'], ['R02739', 'C00668', 'C01172'], ['R10907', 'C01172', 'C01236'], ['R09550', 'C01236', 'C00876'], ['R04456', 'C00876', 'C01080'], ['R09550', 'C01080', 'C00092'], ['R08125', 'C00092', 'C16489'], ['R08125', 'C16489', 'C00047'], ['R07598', 'C00047', 'C04076'], ['R00457', 'C04076', 'C00026'], ['R03063', 'C00026', 'C00217'], ['R01148', 'C00217', 'C00133'], ['R00401', 'C00133', 'C00041'], ['R02970', 'C00041', 'C00022']]<=====\n",
      "=====> after trim_chrom:  长度是13---[['R01718', 'C00267', 'C00252'], ['R11791', 'C00252', 'C00031'], ['R05140', 'C00031', 'C00089'], ['R01103', 'C00089', 'C00492'], ['R02410', 'C00492', 'C05402'], ['R05549', 'C05402', 'C05404'], ['R05549', 'C05404', 'C00124'], ['R04633', 'C00124', 'C04911'], ['R04649', 'C04911', 'C06141'], ['R05117', 'C06141', 'C06140'], ['R05117', 'C06140', 'C00270'], ['R01804', 'C00270', 'C00074'], ['R00572', 'C00074', 'C00022']]<=====\n",
      "=====> after trim_chrom:  长度是13---[['R00947', 'C00267', 'C00103'], ['R01660', 'C00103', 'C00197'], ['R09663', 'C00197', 'C19791'], ['R09663', 'C19791', 'C15541'], ['R09663', 'C15541', 'C00454'], ['R02321', 'C00454', 'C00881'], ['R02321', 'C00881', 'C00239'], ['R01669', 'C00239', 'C03997'], ['R01669', 'C03997', 'C00143'], ['R00611', 'C00143', 'C00213'], ['R00611', 'C00213', 'C00037'], ['R00368', 'C00037', 'C03790'], ['R00368', 'C03790', 'C00022']]<=====\n",
      "=====> after trim_chrom:  长度是11---[['R00947', 'C00267', 'C00103'], ['R00304', 'C00103', 'C00031'], ['R01791', 'C00031', 'C00721'], ['R02112', 'C00721', 'C00369'], ['R02112', 'C00369', 'C00208'], ['R01556', 'C00208', 'C02130'], ['R01556', 'C02130', 'C00024'], ['R10343', 'C00024', 'C00091'], ['R00406', 'C00091', 'C04348'], ['R10612', 'C04348', 'C00149'], ['R00214', 'C00149', 'C00022']]<=====\n",
      "=====> after trim_chrom:  长度是10---[['R01718', 'C00267', 'C00252'], ['R01718', 'C00252', 'C00031'], ['R01100', 'C00031', 'C00243'], ['R04393', 'C00243', 'C05396'], ['R03256', 'C05396', 'C01113'], ['R03240', 'C01113', 'C01097'], ['R03237', 'C01097', 'C03785'], ['R01069', 'C03785', 'C00111'], ['R01012', 'C00111', 'C00184'], ['R01012', 'C00184', 'C00022']]<=====\n",
      "=====> after trim_chrom:  长度是10---[['R01786', 'C00267', 'C00668'], ['R02738', 'C00668', 'C00031'], ['R02558', 'C00031', 'C00844'], ['R02558', 'C00844', 'C00561'], ['R11733', 'C00561', 'C16074'], ['R07638', 'C16074', 'C16075'], ['R08653', 'C16075', 'C17237'], ['R08653', 'C17237', 'C00097'], ['R07460', 'C00097', 'C00041'], ['R01215', 'C00041', 'C00022']]<=====\n",
      "=====> after trim_chrom:  长度是6---[['R00802', 'C00267', 'C00089'], ['R08676', 'C00089', 'C00498'], ['R09665', 'C00498', 'C19792'], ['R11959', 'C19792', 'C00258'], ['R01392', 'C00258', 'C00168'], ['R00585', 'C00168', 'C00022']]<=====\n",
      "-----Mutation Successfully!-----\n",
      "Chromesomes before mutation is :\n",
      "[['R01602', 'C00267', 'C00221'], ['R02187', 'C00221', 'C01172'], ['R02739', 'C01172', 'C00668'], ['R02740', 'C00668', 'C05345'], ['R00867', 'C05345', 'C00095'], ['R08406', 'C00095', 'C00085'], ['R01067', 'C00085', 'C00279'], ['R01825', 'C00279', 'C03393'], ['R11726', 'C03393', 'C00111'], ['R01011', 'C00111', 'C00184'], ['R01012', 'C00184', 'C00022']]\n",
      "Chromesomes after mutation is :\n",
      "[['R01602', 'C00267', 'C00221'], ['R02187', 'C00221', 'C01172'], ['R00802', 'C00267', 'C00089'], ['R08676', 'C00089', 'C00498'], ['R09665', 'C00498', 'C19792'], ['R11959', 'C19792', 'C00258'], ['R01392', 'C00258', 'C00168'], ['R00585', 'C00168', 'C00022']]\n",
      "--------------------\n"
     ]
    },
    {
     "name": "stdout",
     "output_type": "stream",
     "text": [
      "=====> Mututation of the 6th iter 2th particle<=====\n"
     ]
    },
    {
     "name": "stderr",
     "output_type": "stream",
     "text": [
      "=====> after trim_chrom:  长度是4---[['R02189', 'C00267', 'C00668'], ['R02738', 'C00668', 'C04261'], ['R02628', 'C04261', 'C00074'], ['R00724', 'C00074', 'C00022']]<=====\n",
      "-----Mutation Successfully!-----\n",
      "Chromesomes before mutation is :\n",
      "[['R00878', 'C00267', 'C00095'], ['R00877', 'C00095', 'C00159'], ['R02630', 'C00159', 'C00615'], ['R04076', 'C00615', 'C04261'], ['R08559', 'C04261', 'C16698'], ['R08555', 'C16698', 'C00256'], ['R13049', 'C00256', 'C00022']]\n",
      "Chromesomes after mutation is :\n",
      "[['R00878', 'C00267', 'C00095'], ['R00877', 'C00095', 'C00159'], ['R02189', 'C00267', 'C00668'], ['R02738', 'C00668', 'C04261'], ['R02628', 'C04261', 'C00074'], ['R00724', 'C00074', 'C00022']]\n",
      "--------------------\n"
     ]
    },
    {
     "name": "stdout",
     "output_type": "stream",
     "text": [
      "=====> Mututation of the 6th iter 3th particle<=====\n"
     ]
    },
    {
     "name": "stderr",
     "output_type": "stream",
     "text": [
      "=====> after trim_chrom:  长度是27---[['R01788', 'C00267', 'C00668'], ['R02740', 'C00668', 'C05345'], ['R02073', 'C05345', 'C05378'], ['R02071', 'C05378', 'C01094'], ['R08407', 'C01094', 'C00095'], ['R03635', 'C00095', 'C01613'], ['R03418', 'C01613', 'C00492'], ['R00039', 'C00492', 'C00089'], ['R04194', 'C00089', 'C03323'], ['R04194', 'C03323', 'C00031'], ['R04949', 'C00031', 'C05713'], ['R04948', 'C05713', 'C05712'], ['R02811', 'C05712', 'C00177'], ['R09359', 'C00177', 'C18797'], ['R09359', 'C18797', 'C00071'], ['R00638', 'C00071', 'C00162'], ['R01494', 'C00162', 'C00195'], ['R01495', 'C00195', 'C02960'], ['R02542', 'C02960', 'C00550'], ['R02543', 'C00550', 'C03640'], ['R01929', 'C03640', 'C00319'], ['R01926', 'C00319', 'C06124'], ['R06516', 'C06124', 'C00346'], ['R02817', 'C00346', 'C03872'], ['R02817', 'C03872', 'C00065'], ['R00585', 'C00065', 'C00168'], ['R00585', 'C00168', 'C00022']]<=====\n",
      "=====> after trim_chrom:  长度是17---[['R01787', 'C00267', 'C00794'], ['R02867', 'C00794', 'C00104'], ['R03239', 'C00104', 'C01097'], ['R08365', 'C01097', 'C06377'], ['R12220', 'C06377', 'C00352'], ['R00768', 'C00352', 'C00085'], ['R00876', 'C00085', 'C00095'], ['R03635', 'C00095', 'C01613'], ['R03418', 'C01613', 'C01235'], ['R02411', 'C01235', 'C00137'], ['R01183', 'C00137', 'C00691'], ['R02781', 'C00691', 'C01214'], ['R02781', 'C01214', 'C00064'], ['R07456', 'C00064', 'C00025'], ['R00578', 'C00025', 'C00049'], ['R00397', 'C00049', 'C00041'], ['R00907', 'C00041', 'C00022']]<=====\n",
      "=====> after trim_chrom:  长度是19---[['R09085', 'C00267', 'C00668'], ['R00959', 'C00668', 'C00103'], ['R08514', 'C00103', 'C00031'], ['R09039', 'C00031', 'C03993'], ['R09039', 'C03993', 'C00156'], ['R05616', 'C00156', 'C13425'], ['R05616', 'C13425', 'C01230'], ['R05613', 'C01230', 'C04217'], ['R07475', 'C04217', 'C00353'], ['R10349', 'C00353', 'C00118'], ['R10860', 'C00118', 'C00197'], ['R01513', 'C00197', 'C03232'], ['R04173', 'C03232', 'C01005'], ['R09530', 'C01005', 'C00506'], ['R00901', 'C00506', 'C00097'], ['R03260', 'C00097', 'C00042'], ['R12510', 'C00042', 'C00026'], ['R00895', 'C00026', 'C00957'], ['R12689', 'C00957', 'C00022']]<=====\n",
      "=====> after trim_chrom:  长度是15---[['R11620', 'C00267', 'C00794'], ['R02867', 'C00794', 'C00104'], ['R01964', 'C00104', 'C00329'], ['R01204', 'C00329', 'C00140'], ['R01205', 'C00140', 'C00611'], ['R04531', 'C00611', 'C04847'], ['R04531', 'C04847', 'C00052'], ['R04016', 'C00052', 'C06126'], ['R04019', 'C06126', 'C00124'], ['R01097', 'C00124', 'C03383'], ['R03034', 'C03383', 'C00880'], ['R03033', 'C00880', 'C01216'], ['R10616', 'C01216', 'C00577'], ['R10050', 'C00577', 'C00546'], ['R11352', 'C00546', 'C00022']]<=====\n",
      "=====> after trim_chrom:  长度是12---[['R01786', 'C00267', 'C00668'], ['R02740', 'C00668', 'C05345'], ['R10987', 'C05345', 'C02591'], ['R00766', 'C02591', 'C00085'], ['R00767', 'C00085', 'C00354'], ['R10049', 'C00354', 'C16848'], ['R08568', 'C16848', 'C16849'], ['R08568', 'C16849', 'C00441'], ['R09805', 'C00441', 'C00049'], ['R00373', 'C00049', 'C00037'], ['R07226', 'C00037', 'C00227'], ['R00207', 'C00227', 'C00022']]<=====\n",
      "=====> after trim_chrom:  长度是19---[['R02189', 'C00267', 'C00668'], ['R02737', 'C00668', 'C00689'], ['R00837', 'C00689', 'C00092'], ['R08617', 'C00092', 'C17209'], ['R08890', 'C17209', 'C00940'], ['R00269', 'C00940', 'C00026'], ['R00264', 'C00026', 'C00433'], ['R09253', 'C00433', 'C05941'], ['R04446', 'C05941', 'C04282'], ['R04221', 'C04282', 'C03440'], ['R03296', 'C03440', 'C01157'], ['R03293', 'C01157', 'C04281'], ['R04443', 'C04281', 'C05938'], ['R05051', 'C05938', 'C05947'], ['R05053', 'C05947', 'C05946'], ['R05053', 'C05946', 'C00036'], ['R07165', 'C00036', 'C00049'], ['R00400', 'C00049', 'C00041'], ['R02970', 'C00041', 'C00022']]<=====\n",
      "=====> after trim_chrom:  长度是21---[['R01602', 'C00267', 'C00221'], ['R01522', 'C00221', 'C00198'], ['R00300', 'C00198', 'C00031'], ['R12208', 'C00031', 'C04831'], ['R08973', 'C04831', 'C18062'], ['R08973', 'C18062', 'C00021'], ['R09822', 'C00021', 'C15682'], ['R10874', 'C15682', 'C11912'], ['R06451', 'C11912', 'C00363'], ['R12743', 'C00363', 'C03319'], ['R02777', 'C03319', 'C00688'], ['R06514', 'C00688', 'C11907'], ['R02773', 'C11907', 'C00026'], ['R00896', 'C00026', 'C00302'], ['R00896', 'C00302', 'C00097'], ['R02508', 'C00097', 'C00542'], ['R01289', 'C00542', 'C00155'], ['R12505', 'C00155', 'C00441'], ['R09805', 'C00441', 'C00049'], ['R00397', 'C00049', 'C00041'], ['R04187', 'C00041', 'C00022']]<=====\n",
      "=====> after trim_chrom:  长度是26---[['R07265', 'C00267', 'C01083'], ['R01557', 'C01083', 'C00208'], ['R04111', 'C00208', 'C02995'], ['R00838', 'C02995', 'C00092'], ['R11783', 'C00092', 'C00689'], ['R02168', 'C00689', 'C00394'], ['R12607', 'C00394', 'C00096'], ['R00883', 'C00096', 'C00636'], ['R12607', 'C00636', 'C00103'], ['R00803', 'C00103', 'C00089'], ['R12528', 'C00089', 'C00095'], ['R00868', 'C00095', 'C00392'], ['R05698', 'C00392', 'C00159'], ['R12095', 'C00159', 'C11544'], ['R05790', 'C11544', 'C11516'], ['R05768', 'C11516', 'C00197'], ['R03140', 'C00197', 'C01182'], ['R01523', 'C01182', 'C00199'], ['R01529', 'C00199', 'C00231'], ['R01621', 'C00231', 'C00118'], ['R01063', 'C00118', 'C00236'], ['R01662', 'C00236', 'C01159'], ['R09532', 'C01159', 'C00631'], ['R08572', 'C00631', 'C00258'], ['R01388', 'C00258', 'C00168'], ['R00585', 'C00168', 'C00022']]<=====\n",
      "=====> after trim_chrom:  长度是23---[['R01678', 'C00267', 'C00243'], ['R01100', 'C00243', 'C00031'], ['R02595', 'C00031', 'C00761'], ['R02595', 'C00761', 'C00590'], ['R06573', 'C00590', 'C12205'], ['R06570', 'C12205', 'C12204'], ['R06569', 'C12204', 'C12203'], ['R06584', 'C12203', 'C00406'], ['R08810', 'C00406', 'C10443'], ['R08812', 'C10443', 'C17742'], ['R08811', 'C17742', 'C17743'], ['R08807', 'C17743', 'C17740'], ['R08805', 'C17740', 'C00083'], ['R05190', 'C00083', 'C02843'], ['R12328', 'C02843', 'C00024'], ['R04000', 'C00024', 'C03058'], ['R03937', 'C03058', 'C02411'], ['R03884', 'C02411', 'C02214'], ['R03884', 'C02214', 'C00033'], ['R05508', 'C00033', 'C00186'], ['R01447', 'C00186', 'C00149'], ['R00360', 'C00149', 'C00036'], ['R00400', 'C00036', 'C00022']]<=====\n",
      "=====> after trim_chrom:  长度是19---[['R07265', 'C00267', 'C01083'], ['R07265', 'C01083', 'C00103'], ['R02888', 'C00103', 'C00760'], ['R11307', 'C00760', 'C01898'], ['R11308', 'C01898', 'C00185'], ['R00952', 'C00185', 'C00031'], ['R02985', 'C00031', 'C08325'], ['R10639', 'C08325', 'C00844'], ['R10638', 'C00844', 'C00561'], ['R11733', 'C00561', 'C16074'], ['R07855', 'C16074', 'C07086'], ['R02536', 'C07086', 'C00601'], ['R11918', 'C00601', 'C00079'], ['R10499', 'C00079', 'C00166'], ['R00694', 'C00166', 'C00026'], ['R07184', 'C00026', 'C00042'], ['R11773', 'C00042', 'C00163'], ['R01449', 'C00163', 'C00186'], ['R00703', 'C00186', 'C00022']]<=====\n",
      "=====> after trim_chrom:  长度是9---[['R02109', 'C00267', 'C00369'], ['R02111', 'C00369', 'C00103'], ['R00304', 'C00103', 'C00031'], ['R00874', 'C00031', 'C00794'], ['R00875', 'C00794', 'C00095'], ['R03232', 'C00095', 'C01094'], ['R10050', 'C01094', 'C16848'], ['R10050', 'C16848', 'C00546'], ['R11352', 'C00546', 'C00022']]<=====\n",
      "=====> after trim_chrom:  长度是13---[['R00802', 'C00267', 'C00089'], ['R12349', 'C00089', 'C00095'], ['R00760', 'C00095', 'C00085'], ['R00764', 'C00085', 'C00354'], ['R01068', 'C00354', 'C00118'], ['R12668', 'C00118', 'C00111'], ['R01012', 'C00111', 'C00074'], ['R00345', 'C00074', 'C00036'], ['R00355', 'C00036', 'C00026'], ['R00895', 'C00026', 'C00025'], ['R04188', 'C00025', 'C03284'], ['R04187', 'C03284', 'C06002'], ['R04187', 'C06002', 'C00022']]<=====\n",
      "=====> after trim_chrom:  长度是19---[['R01718', 'C00267', 'C00252'], ['R01718', 'C00252', 'C00031'], ['R02887', 'C00031', 'C01898'], ['R02887', 'C01898', 'C00185'], ['R11172', 'C00185', 'C00615'], ['R01516', 'C00615', 'C00197'], ['R01515', 'C00197', 'C00236'], ['R01662', 'C00236', 'C01159'], ['R09532', 'C01159', 'C00631'], ['R01748', 'C00631', 'C00258'], ['R01388', 'C00258', 'C00168'], ['R01393', 'C00168', 'C00266'], ['R01469', 'C00266', 'C00189'], ['R07376', 'C00189', 'C00065'], ['R00588', 'C00065', 'C00037'], ['R12967', 'C00037', 'C00213'], ['R05862', 'C00213', 'C00048'], ['R00470', 'C00048', 'C01127'], ['R00470', 'C01127', 'C00022']]<=====\n",
      "=====> after trim_chrom:  长度是9---[['R00878', 'C00267', 'C00095'], ['R00876', 'C00095', 'C00085'], ['R00761', 'C00085', 'C00279'], ['R01830', 'C00279', 'C00118'], ['R01059', 'C00118', 'C00577'], ['R01752', 'C00577', 'C00258'], ['R08572', 'C00258', 'C00631'], ['R00658', 'C00631', 'C00074'], ['R00572', 'C00074', 'C00022']]<=====\n"
     ]
    },
    {
     "name": "stderr",
     "output_type": "stream",
     "text": [
      "-----Mutation Successfully!-----\n",
      "Chromesomes before mutation is :\n",
      "[['R00878', 'C00267', 'C00095'], ['R12349', 'C00095', 'C00089'], ['R00803', 'C00089', 'C00103'], ['R00550', 'C00103', 'C00031'], ['R04409', 'C00031', 'C04164'], ['R02256', 'C04164', 'C00423'], ['R00697', 'C00423', 'C00079'], ['R01375', 'C00079', 'C00166'], ['R00692', 'C00166', 'C00022']]\n",
      "Chromesomes after mutation is :\n",
      "[['R00878', 'C00267', 'C00095'], ['R12349', 'C00095', 'C00089'], ['R00803', 'C00089', 'C00103'], ['R00550', 'C00103', 'C00031'], ['R04409', 'C00031', 'C04164'], ['R02256', 'C04164', 'C00423'], ['R00697', 'C00423', 'C00079'], ['R00878', 'C00267', 'C00095'], ['R00876', 'C00095', 'C00085'], ['R00761', 'C00085', 'C00279'], ['R01830', 'C00279', 'C00118'], ['R01059', 'C00118', 'C00577'], ['R01752', 'C00577', 'C00258'], ['R08572', 'C00258', 'C00631'], ['R00658', 'C00631', 'C00074'], ['R00572', 'C00074', 'C00022']]\n",
      "--------------------\n"
     ]
    },
    {
     "name": "stdout",
     "output_type": "stream",
     "text": [
      "=====> Mututation of the 7th iter 1th particle<=====\n"
     ]
    },
    {
     "name": "stderr",
     "output_type": "stream",
     "text": [
      "=====> after trim_chrom:  长度是14---[['R11620', 'C00267', 'C00794'], ['R07346', 'C00794', 'C00247'], ['R01694', 'C00247', 'C00273'], ['R00871', 'C00273', 'C10906'], ['R07256', 'C10906', 'C00089'], ['R04194', 'C00089', 'C00031'], ['R01498', 'C00031', 'C01190'], ['R03354', 'C01190', 'C01290'], ['R03355', 'C01290', 'C00124'], ['R01094', 'C00124', 'C03383'], ['R03034', 'C03383', 'C00880'], ['R03033', 'C00880', 'C01216'], ['R03387', 'C01216', 'C01286'], ['R01064', 'C01286', 'C00022']]<=====\n",
      "-----Mutation Successfully!-----\n",
      "Chromesomes before mutation is :\n",
      "[['R01602', 'C00267', 'C00221'], ['R02187', 'C00221', 'C01172'], ['R02739', 'C01172', 'C00668'], ['R02740', 'C00668', 'C05345'], ['R00867', 'C05345', 'C00095'], ['R08406', 'C00095', 'C00085'], ['R01067', 'C00085', 'C00279'], ['R01825', 'C00279', 'C03393'], ['R11726', 'C03393', 'C00111'], ['R01011', 'C00111', 'C00184'], ['R01012', 'C00184', 'C00022']]\n",
      "Chromesomes after mutation is :\n",
      "[['R01602', 'C00267', 'C00221'], ['R02187', 'C00221', 'C01172'], ['R02739', 'C01172', 'C00668'], ['R02740', 'C00668', 'C05345'], ['R11620', 'C00267', 'C00794'], ['R07346', 'C00794', 'C00247'], ['R01694', 'C00247', 'C00273'], ['R00871', 'C00273', 'C10906'], ['R07256', 'C10906', 'C00089'], ['R04194', 'C00089', 'C00031'], ['R01498', 'C00031', 'C01190'], ['R03354', 'C01190', 'C01290'], ['R03355', 'C01290', 'C00124'], ['R01094', 'C00124', 'C03383'], ['R03034', 'C03383', 'C00880'], ['R03033', 'C00880', 'C01216'], ['R03387', 'C01216', 'C01286'], ['R01064', 'C01286', 'C00022']]\n",
      "--------------------\n"
     ]
    },
    {
     "name": "stdout",
     "output_type": "stream",
     "text": [
      "=====> Mututation of the 7th iter 2th particle<=====\n"
     ]
    },
    {
     "name": "stderr",
     "output_type": "stream",
     "text": [
      "=====> after trim_chrom:  长度是13---[['R01718', 'C00267', 'C00252'], ['R11791', 'C00252', 'C00031'], ['R08819', 'C00031', 'C17759'], ['R08823', 'C17759', 'C08552'], ['R08823', 'C08552', 'C08540'], ['R08824', 'C08540', 'C08537'], ['R08824', 'C08537', 'C00167'], ['R08259', 'C00167', 'C11376'], ['R08260', 'C11376', 'C00191'], ['R01483', 'C00191', 'C02670'], ['R02957', 'C02670', 'C00818'], ['R08056', 'C00818', 'C03921'], ['R03277', 'C03921', 'C00022']]<=====\n",
      "=====> after trim_chrom:  长度是25---[['R09085', 'C00267', 'C00668'], ['R02737', 'C00668', 'C00689'], ['R11783', 'C00689', 'C00092'], ['R02185', 'C00092', 'C00404'], ['R02187', 'C00404', 'C01172'], ['R03321', 'C01172', 'C05345'], ['R00867', 'C05345', 'C00095'], ['R00865', 'C00095', 'C00392'], ['R07135', 'C00392', 'C00159'], ['R08405', 'C00159', 'C00275'], ['R00772', 'C00275', 'C00085'], ['R08575', 'C00085', 'C05382'], ['R01641', 'C05382', 'C00231'], ['R01529', 'C00231', 'C00199'], ['R07456', 'C00199', 'C00025'], ['R00575', 'C00025', 'C00288'], ['R03546', 'C00288', 'C01563'], ['R01395', 'C01563', 'C00169'], ['R05230', 'C00169', 'C06568'], ['R05230', 'C06568', 'C03112'], ['R05228', 'C03112', 'C00026'], ['R10735', 'C00026', 'C00042'], ['R10343', 'C00042', 'C00033'], ['R00319', 'C00033', 'C00186'], ['R13050', 'C00186', 'C00022']]<=====\n",
      "=====> after trim_chrom:  长度是15---[['R00878', 'C00267', 'C00095'], ['R02410', 'C00095', 'C00492'], ['R03634', 'C00492', 'C01613'], ['R03418', 'C01613', 'C01235'], ['R01192', 'C01235', 'C00052'], ['R05110', 'C00052', 'C06141'], ['R05116', 'C06141', 'C06140'], ['R04661', 'C06140', 'C04927'], ['R04648', 'C04927', 'C04911'], ['R04631', 'C04911', 'C04884'], ['R04586', 'C04884', 'C01132'], ['R08366', 'C01132', 'C06376'], ['R08366', 'C06376', 'C04261'], ['R04393', 'C04261', 'C00615'], ['R02628', 'C00615', 'C00022']]<=====\n",
      "=====> after trim_chrom:  长度是26---[['R01786', 'C00267', 'C00668'], ['R00959', 'C00668', 'C00103'], ['R00957', 'C00103', 'C00208'], ['R04111', 'C00208', 'C00615'], ['R11169', 'C00615', 'C04261'], ['R03232', 'C04261', 'C01094'], ['R00866', 'C01094', 'C00095'], ['R00870', 'C00095', 'C00392'], ['R02704', 'C00392', 'C00644'], ['R01817', 'C00644', 'C00275'], ['R01818', 'C00275', 'C00636'], ['R10811', 'C00636', 'C17207'], ['R08614', 'C17207', 'C00159'], ['R01328', 'C00159', 'C03862'], ['R01009', 'C03862', 'C00096'], ['R04331', 'C00096', 'C04615'], ['R04331', 'C04615', 'C04537'], ['R04494', 'C04537', 'C04500'], ['R01007', 'C04500', 'C00043'], ['R00417', 'C00043', 'C04375'], ['R08707', 'C04375', 'C01239'], ['R03421', 'C01239', 'C04540'], ['R01266', 'C04540', 'C00152'], ['R01346', 'C00152', 'C00151'], ['R01261', 'C00151', 'C00041'], ['R00576', 'C00041', 'C00022']]<=====\n",
      "=====> after trim_chrom:  长度是14---[['R01786', 'C00267', 'C00668'], ['R00959', 'C00668', 'C00103'], ['R07265', 'C00103', 'C01083'], ['R02727', 'C01083', 'C00031'], ['R04194', 'C00031', 'C03323'], ['R04194', 'C03323', 'C00089'], ['R02411', 'C00089', 'C00137'], ['R01183', 'C00137', 'C00691'], ['R02781', 'C00691', 'C01214'], ['R03384', 'C01214', 'C01283'], ['R03477', 'C01283', 'C01294'], ['R03496', 'C01294', 'C04280'], ['R08843', 'C04280', 'C04673'], ['R03502', 'C04673', 'C00022']]<=====\n",
      "=====> after trim_chrom:  长度是24---[['R01602', 'C00267', 'C00221'], ['R01521', 'C00221', 'C00198'], ['R01519', 'C00198', 'C00257'], ['R01538', 'C00257', 'C00204'], ['R08570', 'C00204', 'C00577'], ['R10324', 'C00577', 'C00258'], ['R01511', 'C00258', 'C00197'], ['R07159', 'C00197', 'C00118'], ['R00845', 'C00118', 'C00093'], ['R00842', 'C00093', 'C00111'], ['R12613', 'C00111', 'C04582'], ['R07392', 'C04582', 'C15650'], ['R07393', 'C15650', 'C15651'], ['R07394', 'C15651', 'C15606'], ['R07363', 'C15606', 'C08276'], ['R10333', 'C08276', 'C04022'], ['R02574', 'C04022', 'C00511'], ['R05509', 'C00511', 'C00033'], ['R12515', 'C00033', 'C00849'], ['R12515', 'C00849', 'C00469'], ['R09479', 'C00469', 'C00084'], ['R12763', 'C00084', 'C05123'], ['R02600', 'C05123', 'C00593'], ['R05652', 'C00593', 'C00022']]<=====\n",
      "=====> after trim_chrom:  长度是13---[['R01602', 'C00267', 'C00221'], ['R09086', 'C00221', 'C01172'], ['R02736', 'C01172', 'C01236'], ['R09550', 'C01236', 'C00876'], ['R09400', 'C00876', 'C00025'], ['R01939', 'C00025', 'C00026'], ['R07184', 'C00026', 'C00042'], ['R02508', 'C00042', 'C01118'], ['R00999', 'C01118', 'C00109'], ['R00994', 'C00109', 'C06032'], ['R03898', 'C06032', 'C02226'], ['R03896', 'C02226', 'C02612'], ['R07399', 'C02612', 'C00022']]<=====\n",
      "-----Mutation Successfully!-----\n",
      "Chromesomes before mutation is :\n",
      "[['R00878', 'C00267', 'C00095'], ['R00877', 'C00095', 'C00159'], ['R02630', 'C00159', 'C00615'], ['R04076', 'C00615', 'C04261'], ['R08559', 'C04261', 'C16698'], ['R08555', 'C16698', 'C00256'], ['R13049', 'C00256', 'C00022']]\n",
      "Chromesomes after mutation is :\n",
      "[['R00878', 'C00267', 'C00095'], ['R00877', 'C00095', 'C00159'], ['R02630', 'C00159', 'C00615'], ['R01602', 'C00267', 'C00221'], ['R09086', 'C00221', 'C01172'], ['R02736', 'C01172', 'C01236'], ['R09550', 'C01236', 'C00876'], ['R09400', 'C00876', 'C00025'], ['R01939', 'C00025', 'C00026'], ['R07184', 'C00026', 'C00042'], ['R02508', 'C00042', 'C01118'], ['R00999', 'C01118', 'C00109'], ['R00994', 'C00109', 'C06032'], ['R03898', 'C06032', 'C02226'], ['R03896', 'C02226', 'C02612'], ['R07399', 'C02612', 'C00022']]\n",
      "--------------------\n"
     ]
    },
    {
     "name": "stdout",
     "output_type": "stream",
     "text": [
      "=====> Mututation of the 7th iter 3th particle<=====\n"
     ]
    },
    {
     "name": "stderr",
     "output_type": "stream",
     "text": [
      "=====> after trim_chrom:  长度是17---[['R01678', 'C00267', 'C00243'], ['R01678', 'C00243', 'C00124'], ['R04470', 'C00124', 'C06037'], ['R04469', 'C06037', 'C00052'], ['R01205', 'C00052', 'C00611'], ['R01205', 'C00611', 'C00140'], ['R01266', 'C00140', 'C04540'], ['R01266', 'C04540', 'C00152'], ['R03648', 'C00152', 'C03402'], ['R04212', 'C03402', 'C06113'], ['R03647', 'C06113', 'C00049'], ['R01731', 'C00049', 'C00826'], ['R01731', 'C00826', 'C00254'], ['R01731', 'C00254', 'C00036'], ['R00363', 'C00036', 'C03981'], ['R04177', 'C03981', 'C03248'], ['R00218', 'C03248', 'C00022']]<=====\n",
      "=====> after trim_chrom:  长度是13---[['R09085', 'C00267', 'C00668'], ['R02738', 'C00668', 'C00031'], ['R00801', 'C00031', 'C00089'], ['R12527', 'C00089', 'C00095'], ['R00867', 'C00095', 'C05345'], ['R03321', 'C05345', 'C01172'], ['R02728', 'C01172', 'C00663'], ['R11127', 'C00663', 'C11546'], ['R05791', 'C11546', 'C10517'], ['R05328', 'C10517', 'C00093'], ['R00848', 'C00093', 'C00111'], ['R01012', 'C00111', 'C00074'], ['R01858', 'C00074', 'C00022']]<=====\n",
      "-----Mutation Successfully!-----\n",
      "Chromesomes before mutation is :\n",
      "[['R00878', 'C00267', 'C00095'], ['R12349', 'C00095', 'C00089'], ['R00803', 'C00089', 'C00103'], ['R00550', 'C00103', 'C00031'], ['R04409', 'C00031', 'C04164'], ['R02256', 'C04164', 'C00423'], ['R00697', 'C00423', 'C00079'], ['R01375', 'C00079', 'C00166'], ['R00692', 'C00166', 'C00022']]\n",
      "Chromesomes after mutation is :\n",
      "[['R00878', 'C00267', 'C00095'], ['R12349', 'C00095', 'C00089'], ['R00803', 'C00089', 'C00103'], ['R00550', 'C00103', 'C00031'], ['R04409', 'C00031', 'C04164'], ['R02256', 'C04164', 'C00423'], ['R00697', 'C00423', 'C00079'], ['R09085', 'C00267', 'C00668'], ['R02738', 'C00668', 'C00031'], ['R00801', 'C00031', 'C00089'], ['R12527', 'C00089', 'C00095'], ['R00867', 'C00095', 'C05345'], ['R03321', 'C05345', 'C01172'], ['R02728', 'C01172', 'C00663'], ['R11127', 'C00663', 'C11546'], ['R05791', 'C11546', 'C10517'], ['R05328', 'C10517', 'C00093'], ['R00848', 'C00093', 'C00111'], ['R01012', 'C00111', 'C00074'], ['R01858', 'C00074', 'C00022']]\n",
      "--------------------\n"
     ]
    },
    {
     "name": "stdout",
     "output_type": "stream",
     "text": [
      "=====> Mututation of the 8th iter 1th particle<=====\n"
     ]
    },
    {
     "name": "stderr",
     "output_type": "stream",
     "text": [
      "=====> after trim_chrom:  长度是17---[['R01786', 'C00267', 'C00668'], ['R02737', 'C00668', 'C00689'], ['R02780', 'C00689', 'C04261'], ['R06236', 'C04261', 'C00615'], ['R08559', 'C00615', 'C02713'], ['R08559', 'C02713', 'C16698'], ['R08555', 'C16698', 'C00357'], ['R02058', 'C00357', 'C00024'], ['R01323', 'C00024', 'C00566'], ['R01323', 'C00566', 'C00158'], ['R00362', 'C00158', 'C00036'], ['R01713', 'C00036', 'C00049'], ['R00487', 'C00049', 'C01042'], ['R10687', 'C01042', 'C12270'], ['R10678', 'C12270', 'C00025'], ['R07613', 'C00025', 'C00026'], ['R10527', 'C00026', 'C00022']]<=====\n",
      "=====> after trim_chrom:  长度是5---[['R01718', 'C00267', 'C00252'], ['R11791', 'C00252', 'C00031'], ['R08404', 'C00031', 'C00060'], ['R00543', 'C00060', 'C02119'], ['R00543', 'C02119', 'C00022']]<=====\n",
      "=====> after trim_chrom:  长度是7---[['R02189', 'C00267', 'C00668'], ['R00959', 'C00668', 'C00103'], ['R01660', 'C00103', 'C00197'], ['R10860', 'C00197', 'C00118'], ['R07456', 'C00118', 'C00025'], ['R00372', 'C00025', 'C00026'], ['R10539', 'C00026', 'C00022']]<=====\n",
      "-----Mutation Successfully!-----\n",
      "Chromesomes before mutation is :\n",
      "[['R01602', 'C00267', 'C00221'], ['R02187', 'C00221', 'C01172'], ['R02739', 'C01172', 'C00668'], ['R02740', 'C00668', 'C05345'], ['R00867', 'C05345', 'C00095'], ['R08406', 'C00095', 'C00085'], ['R01067', 'C00085', 'C00279'], ['R01825', 'C00279', 'C03393'], ['R11726', 'C03393', 'C00111'], ['R01011', 'C00111', 'C00184'], ['R01012', 'C00184', 'C00022']]\n",
      "Chromesomes after mutation is :\n",
      "[['R01602', 'C00267', 'C00221'], ['R02187', 'C00221', 'C01172'], ['R02739', 'C01172', 'C00668'], ['R02740', 'C00668', 'C05345'], ['R00867', 'C05345', 'C00095'], ['R08406', 'C00095', 'C00085'], ['R02189', 'C00267', 'C00668'], ['R00959', 'C00668', 'C00103'], ['R01660', 'C00103', 'C00197'], ['R10860', 'C00197', 'C00118'], ['R07456', 'C00118', 'C00025'], ['R00372', 'C00025', 'C00026'], ['R10539', 'C00026', 'C00022']]\n",
      "--------------------\n"
     ]
    },
    {
     "name": "stdout",
     "output_type": "stream",
     "text": [
      "=====> Mututation of the 8th iter 2th particle<=====\n"
     ]
    },
    {
     "name": "stderr",
     "output_type": "stream",
     "text": [
      "=====> after trim_chrom:  长度是16---[['R01718', 'C00267', 'C00252'], ['R11791', 'C00252', 'C00221'], ['R09086', 'C00221', 'C01172'], ['R02739', 'C01172', 'C00668'], ['R02737', 'C00668', 'C00689'], ['R05767', 'C00689', 'C00663'], ['R11127', 'C00663', 'C11546'], ['R05791', 'C11546', 'C10517'], ['R05328', 'C10517', 'C00093'], ['R00846', 'C00093', 'C00111'], ['R01014', 'C00111', 'C03394'], ['R11332', 'C03394', 'C03604'], ['R11333', 'C03604', 'C00279'], ['R01827', 'C00279', 'C00118'], ['R10049', 'C00118', 'C00546'], ['R11352', 'C00546', 'C00022']]<=====\n",
      "=====> after trim_chrom:  长度是22---[['R03115', 'C00267', 'C00965'], ['R00308', 'C00965', 'C00031'], ['R00049', 'C00031', 'C01158'], ['R03297', 'C01158', 'C01424'], ['R09271', 'C01424', 'C05616'], ['R04280', 'C05616', 'C03671'], ['R04279', 'C03671', 'C05375'], ['R04489', 'C05375', 'C04484'], ['R04488', 'C04484', 'C06035'], ['R09277', 'C06035', 'C18349'], ['R09277', 'C18349', 'C18338'], ['R09278', 'C18338', 'C06672'], ['R10296', 'C06672', 'C12137'], ['R10298', 'C12137', 'C08725'], ['R10298', 'C08725', 'C01175'], ['R02380', 'C01175', 'C00482'], ['R02379', 'C00482', 'C05619'], ['R06583', 'C05619', 'C12203'], ['R06578', 'C12203', 'C00021'], ['R08547', 'C00021', 'C00078'], ['R10180', 'C00078', 'C00041'], ['R04152', 'C00041', 'C00022']]<=====\n",
      "=====> after trim_chrom:  长度是19---[['R03115', 'C00267', 'C00965'], ['R03116', 'C00965', 'C00103'], ['R00956', 'C00103', 'C00501'], ['R02426', 'C00501', 'C01219'], ['R03391', 'C01219', 'C04297'], ['R08711', 'C04297', 'C01788'], ['R04581', 'C01788', 'C04808'], ['R04581', 'C04808', 'C04724'], ['R08858', 'C04724', 'C00096'], ['R00888', 'C00096', 'C01222'], ['R10460', 'C01222', 'C00026'], ['R03248', 'C00026', 'C01110'], ['R02457', 'C01110', 'C00515'], ['R02458', 'C00515', 'C00792'], ['R00567', 'C00792', 'C00062'], ['R12506', 'C00062', 'C00077'], ['R00565', 'C00077', 'C00037'], ['R01957', 'C00037', 'C00048'], ['R00369', 'C00048', 'C00022']]<=====\n",
      "=====> after trim_chrom:  长度是19---[['R00947', 'C00267', 'C00103'], ['R08639', 'C00103', 'C00092'], ['R08125', 'C00092', 'C16489'], ['R08125', 'C16489', 'C00047'], ['R00716', 'C00047', 'C00449'], ['R09495', 'C00449', 'C00025'], ['R01339', 'C00025', 'C00026'], ['R07396', 'C00026', 'C01180'], ['R07364', 'C01180', 'C15606'], ['R07363', 'C15606', 'C08276'], ['R10333', 'C08276', 'C04022'], ['R02574', 'C04022', 'C00580'], ['R12319', 'C00580', 'C11143'], ['R12320', 'C11143', 'C11142'], ['R10203', 'C11142', 'C11145'], ['R09513', 'C11145', 'C00094'], ['R00533', 'C00094', 'C00059'], ['R00532', 'C00059', 'C02703'], ['R00532', 'C02703', 'C00022']]<=====\n",
      "=====> after trim_chrom:  长度是16---[['R02189', 'C00267', 'C00668'], ['R02737', 'C00668', 'C00689'], ['R02780', 'C00689', 'C04261'], ['R07671', 'C04261', 'C16186'], ['R07671', 'C16186', 'C00072'], ['R02535', 'C00072', 'C00547'], ['R02533', 'C00547', 'C00021'], ['R10449', 'C00021', 'C11863'], ['R06337', 'C11863', 'C11865'], ['R06337', 'C11865', 'C00026'], ['R01214', 'C00026', 'C00141'], ['R02200', 'C00141', 'C00671'], ['R02197', 'C00671', 'C00407'], ['R02200', 'C00407', 'C00183'], ['R01215', 'C00183', 'C00041'], ['R02271', 'C00041', 'C00022']]<=====\n",
      "=====> after trim_chrom:  长度是10---[['R07265', 'C00267', 'C01083'], ['R01557', 'C01083', 'C00208'], ['R00957', 'C00208', 'C00103'], ['R01821', 'C00103', 'C00718'], ['R02421', 'C00718', 'C00498'], ['R09665', 'C00498', 'C19792'], ['R12250', 'C19792', 'C00258'], ['R01745', 'C00258', 'C01146'], ['R01394', 'C01146', 'C00168'], ['R00585', 'C00168', 'C00022']]<=====\n",
      "-----Mutation Successfully!-----\n",
      "Chromesomes before mutation is :\n",
      "[['R00878', 'C00267', 'C00095'], ['R00877', 'C00095', 'C00159'], ['R02630', 'C00159', 'C00615'], ['R04076', 'C00615', 'C04261'], ['R08559', 'C04261', 'C16698'], ['R08555', 'C16698', 'C00256'], ['R13049', 'C00256', 'C00022']]\n",
      "Chromesomes after mutation is :\n",
      "[['R00878', 'C00267', 'C00095'], ['R00877', 'C00095', 'C00159'], ['R02630', 'C00159', 'C00615'], ['R04076', 'C00615', 'C04261'], ['R07265', 'C00267', 'C01083'], ['R01557', 'C01083', 'C00208'], ['R00957', 'C00208', 'C00103'], ['R01821', 'C00103', 'C00718'], ['R02421', 'C00718', 'C00498'], ['R09665', 'C00498', 'C19792'], ['R12250', 'C19792', 'C00258'], ['R01745', 'C00258', 'C01146'], ['R01394', 'C01146', 'C00168'], ['R00585', 'C00168', 'C00022']]\n",
      "--------------------\n"
     ]
    },
    {
     "name": "stdout",
     "output_type": "stream",
     "text": [
      "=====> Mututation of the 8th iter 3th particle<=====\n"
     ]
    },
    {
     "name": "stderr",
     "output_type": "stream",
     "text": [
      "=====> after trim_chrom:  长度是15---[['R09085', 'C00267', 'C00668'], ['R02739', 'C00668', 'C01172'], ['R02728', 'C01172', 'C00663'], ['R11140', 'C00663', 'C02616'], ['R12527', 'C02616', 'C00095'], ['R00872', 'C00095', 'C03267'], ['R02730', 'C03267', 'C00665'], ['R02731', 'C00665', 'C05345'], ['R01830', 'C05345', 'C00231'], ['R06861', 'C00231', 'C00118'], ['R01063', 'C00118', 'C00236'], ['R01517', 'C00236', 'C00197'], ['R01514', 'C00197', 'C00258'], ['R01388', 'C00258', 'C00168'], ['R00585', 'C00168', 'C00022']]<=====\n",
      "=====> after trim_chrom:  长度是11---[['R01788', 'C00267', 'C00668'], ['R02740', 'C00668', 'C05345'], ['R02732', 'C05345', 'C00665'], ['R00763', 'C00665', 'C00085'], ['R00761', 'C00085', 'C00227'], ['R01621', 'C00227', 'C00231'], ['R01830', 'C00231', 'C00118'], ['R08575', 'C00118', 'C00279'], ['R01826', 'C00279', 'C04691'], ['R01826', 'C04691', 'C00074'], ['R01012', 'C00074', 'C00022']]<=====\n",
      "=====> after trim_chrom:  长度是7---[['R00878', 'C00267', 'C00095'], ['R00877', 'C00095', 'C00159'], ['R01330', 'C00159', 'C00275'], ['R09645', 'C00275', 'C16699'], ['R09645', 'C16699', 'C00258'], ['R01388', 'C00258', 'C00168'], ['R00585', 'C00168', 'C00022']]<=====\n",
      "=====> after trim_chrom:  长度是14---[['R01718', 'C00267', 'C00252'], ['R01718', 'C00252', 'C00031'], ['R01790', 'C00031', 'C00369'], ['R02112', 'C00369', 'C00208'], ['R00957', 'C00208', 'C00103'], ['R00803', 'C00103', 'C00089'], ['R00805', 'C00089', 'C02591'], ['R10987', 'C02591', 'C05345'], ['R01830', 'C05345', 'C00279'], ['R08575', 'C00279', 'C00118'], ['R01058', 'C00118', 'C00197'], ['R01518', 'C00197', 'C00631'], ['R00658', 'C00631', 'C00074'], ['R01858', 'C00074', 'C00022']]<=====\n",
      "=====> after trim_chrom:  长度是26---[['R01786', 'C00267', 'C00668'], ['R02737', 'C00668', 'C00689'], ['R02168', 'C00689', 'C00394'], ['R12607', 'C00394', 'C00096'], ['R09667', 'C00096', 'C19793'], ['R09667', 'C19793', 'C19791'], ['R09664', 'C19791', 'C19792'], ['R12250', 'C19792', 'C00258'], ['R01749', 'C00258', 'C03459'], ['R06180', 'C03459', 'C00898'], ['R00339', 'C00898', 'C00036'], ['R00345', 'C00036', 'C00074'], ['R01826', 'C00074', 'C04691'], ['R03083', 'C04691', 'C00944'], ['R09322', 'C00944', 'C00296'], ['R01873', 'C00296', 'C01359'], ['R02415', 'C01359', 'C00493'], ['R02415', 'C00493', 'C02637'], ['R01627', 'C02637', 'C00230'], ['R01296', 'C00230', 'C00156'], ['R05000', 'C00156', 'C05848'], ['R08770', 'C05848', 'C17554'], ['R08771', 'C17554', 'C00021'], ['R04931', 'C00021', 'C05688'], ['R04931', 'C05688', 'C05689'], ['R09366', 'C05689', 'C00022']]<=====\n",
      "=====> after trim_chrom:  长度是11---[['R02189', 'C00267', 'C00668'], ['R02737', 'C00668', 'C00689'], ['R02168', 'C00689', 'C00092'], ['R05804', 'C00092', 'C00031'], ['R12209', 'C00031', 'C15772'], ['R08972', 'C15772', 'C18062'], ['R08972', 'C18062', 'C00026'], ['R05419', 'C00026', 'C00042'], ['R00999', 'C00042', 'C01118'], ['R03260', 'C01118', 'C02291'], ['R01286', 'C02291', 'C00022']]<=====\n",
      "=====> after trim_chrom:  长度是20---[['R02189', 'C00267', 'C00668'], ['R02740', 'C00668', 'C05345'], ['R01819', 'C05345', 'C00275'], ['R01327', 'C00275', 'C00159'], ['R00877', 'C00159', 'C00095'], ['R02410', 'C00095', 'C00492'], ['R02411', 'C00492', 'C01235'], ['R01194', 'C01235', 'C00124'], ['R10619', 'C00124', 'C00984'], ['R01092', 'C00984', 'C00446'], ['R00502', 'C00446', 'C00052'], ['R06808', 'C00052', 'C12626'], ['R06808', 'C12626', 'C05903'], ['R13068', 'C05903', 'C00974'], ['R02444', 'C00974', 'C00509'], ['R02443', 'C00509', 'C05911'], ['R04902', 'C05911', 'C05631'], ['R03590', 'C05631', 'C01514'], ['R03590', 'C01514', 'C00026'], ['R10487', 'C00026', 'C00022']]<=====\n",
      "=====> after trim_chrom:  长度是19---[['R02189', 'C00267', 'C00668'], ['R02739', 'C00668', 'C01172'], ['R10907', 'C01172', 'C01236'], ['R10520', 'C01236', 'C00092'], ['R01139', 'C00092', 'C00031'], ['R01790', 'C00031', 'C00369'], ['R02109', 'C00369', 'C00718'], ['R01823', 'C00718', 'C00089'], ['R00802', 'C00089', 'C02336'], ['R03920', 'C02336', 'C05345'], ['R01819', 'C05345', 'C00275'], ['R01326', 'C00275', 'C00159'], ['R01332', 'C00159', 'C02492'], ['R00890', 'C02492', 'C00096'], ['R09666', 'C00096', 'C11544'], ['R12095', 'C11544', 'C00258'], ['R01747', 'C00258', 'C01146'], ['R01394', 'C01146', 'C00168'], ['R00585', 'C00168', 'C00022']]<=====\n",
      "=====> after trim_chrom:  长度是21---[['R01602', 'C00267', 'C00221'], ['R00026', 'C00221', 'C00185'], ['R01441', 'C00185', 'C04534'], ['R00839', 'C04534', 'C00092'], ['R01139', 'C00092', 'C00031'], ['R00837', 'C00031', 'C00689'], ['R11783', 'C00689', 'C00498'], ['R09665', 'C00498', 'C19792'], ['R09665', 'C19792', 'C00258'], ['R01748', 'C00258', 'C00631'], ['R02664', 'C00631', 'C01159'], ['R01662', 'C01159', 'C00236'], ['R02188', 'C00236', 'C00197'], ['R03140', 'C00197', 'C01182'], ['R10555', 'C01182', 'C01151'], ['R06836', 'C01151', 'C00119'], ['R01072', 'C00119', 'C00025'], ['R04475', 'C00025', 'C00026'], ['R08198', 'C00026', 'C02630'], ['R04000', 'C02630', 'C00033'], ['R03145', 'C00033', 'C00022']]<=====\n",
      "=====> after trim_chrom:  长度是5---[['R01718', 'C00267', 'C00252'], ['R01718', 'C00252', 'C00031'], ['R03323', 'C00031', 'C00149'], ['R01447', 'C00149', 'C00186'], ['R11996', 'C00186', 'C00022']]<=====\n",
      "=====> after trim_chrom:  长度是10---[['R01718', 'C00267', 'C00252'], ['R11791', 'C00252', 'C00221'], ['R13081', 'C00221', 'C09099'], ['R06820', 'C09099', 'C09789'], ['R08024', 'C09789', 'C16423'], ['R08023', 'C16423', 'C00811'], ['R02253', 'C00811', 'C00423'], ['R00697', 'C00423', 'C00079'], ['R00692', 'C00079', 'C00041'], ['R03001', 'C00041', 'C00022']]<=====\n",
      "-----Mutation Successfully!-----\n",
      "Chromesomes before mutation is :\n",
      "[['R00878', 'C00267', 'C00095'], ['R12349', 'C00095', 'C00089'], ['R00803', 'C00089', 'C00103'], ['R00550', 'C00103', 'C00031'], ['R04409', 'C00031', 'C04164'], ['R02256', 'C04164', 'C00423'], ['R00697', 'C00423', 'C00079'], ['R01375', 'C00079', 'C00166'], ['R00692', 'C00166', 'C00022']]\n",
      "Chromesomes after mutation is :\n",
      "[['R00878', 'C00267', 'C00095'], ['R12349', 'C00095', 'C00089'], ['R00803', 'C00089', 'C00103'], ['R00550', 'C00103', 'C00031'], ['R01718', 'C00267', 'C00252'], ['R11791', 'C00252', 'C00221'], ['R13081', 'C00221', 'C09099'], ['R06820', 'C09099', 'C09789'], ['R08024', 'C09789', 'C16423'], ['R08023', 'C16423', 'C00811'], ['R02253', 'C00811', 'C00423'], ['R00697', 'C00423', 'C00079'], ['R00692', 'C00079', 'C00041'], ['R03001', 'C00041', 'C00022']]\n",
      "--------------------\n"
     ]
    },
    {
     "name": "stdout",
     "output_type": "stream",
     "text": [
      "=====> Mututation of the 9th iter 1th particle<=====\n"
     ]
    },
    {
     "name": "stderr",
     "output_type": "stream",
     "text": [
      "=====> after trim_chrom:  长度是14---[['R02109', 'C00267', 'C00369'], ['R11261', 'C00369', 'C01935'], ['R11262', 'C01935', 'C00208'], ['R01555', 'C00208', 'C00031'], ['R00015', 'C00031', 'C00089'], ['R07256', 'C00089', 'C15541'], ['R07256', 'C15541', 'C00454'], ['R02321', 'C00454', 'C00201'], ['R02320', 'C00201', 'C00074'], ['R01826', 'C00074', 'C04691'], ['R01826', 'C04691', 'C00279'], ['R08575', 'C00279', 'C00118'], ['R01064', 'C00118', 'C01286'], ['R01064', 'C01286', 'C00022']]<=====\n",
      "=====> after trim_chrom:  长度是10---[['R00947', 'C00267', 'C00103'], ['R00949', 'C00103', 'C01231'], ['R01660', 'C01231', 'C00236'], ['R01660', 'C00236', 'C00197'], ['R01058', 'C00197', 'C00118'], ['R01830', 'C00118', 'C00231'], ['R01529', 'C00231', 'C00199'], ['R01528', 'C00199', 'C00345'], ['R02036', 'C00345', 'C04442'], ['R05605', 'C04442', 'C00022']]<=====\n",
      "=====> after trim_chrom:  长度是9---[['R09085', 'C00267', 'C00668'], ['R02737', 'C00668', 'C00689'], ['R11783', 'C00689', 'C00092'], ['R00850', 'C00092', 'C00093'], ['R08657', 'C00093', 'C00111'], ['R12668', 'C00111', 'C00118'], ['R01064', 'C00118', 'C01286'], ['R03387', 'C01286', 'C01216'], ['R10616', 'C01216', 'C00022']]<=====\n",
      "-----Mutation Successfully!-----\n",
      "Chromesomes before mutation is :\n",
      "[['R01602', 'C00267', 'C00221'], ['R02187', 'C00221', 'C01172'], ['R02739', 'C01172', 'C00668'], ['R02740', 'C00668', 'C05345'], ['R00867', 'C05345', 'C00095'], ['R08406', 'C00095', 'C00085'], ['R01067', 'C00085', 'C00279'], ['R01825', 'C00279', 'C03393'], ['R11726', 'C03393', 'C00111'], ['R01011', 'C00111', 'C00184'], ['R01012', 'C00184', 'C00022']]\n",
      "Chromesomes after mutation is :\n",
      "[['R01602', 'C00267', 'C00221'], ['R09085', 'C00267', 'C00668'], ['R02737', 'C00668', 'C00689'], ['R11783', 'C00689', 'C00092'], ['R00850', 'C00092', 'C00093'], ['R08657', 'C00093', 'C00111'], ['R12668', 'C00111', 'C00118'], ['R01064', 'C00118', 'C01286'], ['R03387', 'C01286', 'C01216'], ['R10616', 'C01216', 'C00022']]\n",
      "--------------------\n"
     ]
    },
    {
     "name": "stdout",
     "output_type": "stream",
     "text": [
      "=====> Mututation of the 9th iter 2th particle<=====\n"
     ]
    },
    {
     "name": "stderr",
     "output_type": "stream",
     "text": [
      "=====> after trim_chrom:  长度是9---[['R01786', 'C00267', 'C00668'], ['R02738', 'C00668', 'C00031'], ['R02985', 'C00031', 'C08325'], ['R02985', 'C08325', 'C00844'], ['R02558', 'C00844', 'C00561'], ['R10637', 'C00561', 'C16075'], ['R10041', 'C16075', 'C19714'], ['R10670', 'C19714', 'C17237'], ['R08654', 'C17237', 'C00022']]<=====\n",
      "=====> after trim_chrom:  长度是8---[['R02189', 'C00267', 'C00668'], ['R02737', 'C00668', 'C00689'], ['R11783', 'C00689', 'C00092'], ['R01139', 'C00092', 'C00031'], ['R03323', 'C00031', 'C00149'], ['R01447', 'C00149', 'C00186'], ['R00753', 'C00186', 'C00058'], ['R00212', 'C00058', 'C00022']]<=====\n",
      "-----Mutation Successfully!-----\n",
      "Chromesomes before mutation is :\n",
      "[['R00878', 'C00267', 'C00095'], ['R00877', 'C00095', 'C00159'], ['R02630', 'C00159', 'C00615'], ['R04076', 'C00615', 'C04261'], ['R08559', 'C04261', 'C16698'], ['R08555', 'C16698', 'C00256'], ['R13049', 'C00256', 'C00022']]\n",
      "Chromesomes after mutation is :\n",
      "[['R00878', 'C00267', 'C00095'], ['R02189', 'C00267', 'C00668'], ['R02737', 'C00668', 'C00689'], ['R11783', 'C00689', 'C00092'], ['R01139', 'C00092', 'C00031'], ['R03323', 'C00031', 'C00149'], ['R01447', 'C00149', 'C00186'], ['R00753', 'C00186', 'C00058'], ['R00212', 'C00058', 'C00022']]\n",
      "--------------------\n"
     ]
    },
    {
     "name": "stdout",
     "output_type": "stream",
     "text": [
      "=====> Mututation of the 9th iter 3th particle<=====\n"
     ]
    },
    {
     "name": "stderr",
     "output_type": "stream",
     "text": [
      "=====> after trim_chrom:  长度是6---[['R02109', 'C00267', 'C00369'], ['R02108', 'C00369', 'C00721'], ['R01791', 'C00721', 'C00031'], ['R03323', 'C00031', 'C00149'], ['R01257', 'C00149', 'C00036'], ['R00344', 'C00036', 'C00022']]<=====\n",
      "-----Mutation Successfully!-----\n",
      "Chromesomes before mutation is :\n",
      "[['R00878', 'C00267', 'C00095'], ['R12349', 'C00095', 'C00089'], ['R00803', 'C00089', 'C00103'], ['R00550', 'C00103', 'C00031'], ['R04409', 'C00031', 'C04164'], ['R02256', 'C04164', 'C00423'], ['R00697', 'C00423', 'C00079'], ['R01375', 'C00079', 'C00166'], ['R00692', 'C00166', 'C00022']]\n",
      "Chromesomes after mutation is :\n",
      "[['R00878', 'C00267', 'C00095'], ['R12349', 'C00095', 'C00089'], ['R00803', 'C00089', 'C00103'], ['R00550', 'C00103', 'C00031'], ['R04409', 'C00031', 'C04164'], ['R02256', 'C04164', 'C00423'], ['R00697', 'C00423', 'C00079'], ['R02109', 'C00267', 'C00369'], ['R02108', 'C00369', 'C00721'], ['R01791', 'C00721', 'C00031'], ['R03323', 'C00031', 'C00149'], ['R01257', 'C00149', 'C00036'], ['R00344', 'C00036', 'C00022']]\n",
      "--------------------\n"
     ]
    },
    {
     "name": "stdout",
     "output_type": "stream",
     "text": [
      "=====> Mututation of the 10th iter 1th particle<=====\n"
     ]
    },
    {
     "name": "stderr",
     "output_type": "stream",
     "text": [
      "=====> after trim_chrom:  长度是12---[['R01786', 'C00267', 'C00668'], ['R02739', 'C00668', 'C01172'], ['R01600', 'C01172', 'C00221'], ['R10236', 'C00221', 'C16827'], ['R08534', 'C16827', 'C00811'], ['R00737', 'C00811', 'C00082'], ['R00735', 'C00082', 'C02993'], ['R00735', 'C02993', 'C00062'], ['R09363', 'C00062', 'C00042'], ['R10742', 'C00042', 'C00026'], ['R02619', 'C00026', 'C05527'], ['R04861', 'C05527', 'C00022']]<=====\n",
      "=====> after trim_chrom:  长度是20---[['R01788', 'C00267', 'C00668'], ['R02738', 'C00668', 'C00031'], ['R01139', 'C00031', 'C00206'], ['R01547', 'C00206', 'C00360'], ['R02088', 'C00360', 'C00559'], ['R02557', 'C00559', 'C00147'], ['R01561', 'C00147', 'C00212'], ['R01561', 'C00212', 'C00620'], ['R02147', 'C00620', 'C00387'], ['R02145', 'C00387', 'C01762'], ['R02143', 'C01762', 'C00385'], ['R07969', 'C00385', 'C16358'], ['R07975', 'C16358', 'C07130'], ['R07971', 'C07130', 'C07481'], ['R07921', 'C07481', 'C13747'], ['R07922', 'C13747', 'C16353'], ['R07919', 'C16353', 'C00021'], ['R00683', 'C00021', 'C00078'], ['R10180', 'C00078', 'C00041'], ['R02050', 'C00041', 'C00022']]<=====\n",
      "=====> after trim_chrom:  长度是24---[['R00802', 'C00267', 'C00089'], ['R05140', 'C00089', 'C00031'], ['R08819', 'C00031', 'C08537'], ['R08818', 'C08537', 'C08538'], ['R08821', 'C08538', 'C08539'], ['R08829', 'C08539', 'C17753'], ['R08828', 'C17753', 'C08543'], ['R08827', 'C08543', 'C00355'], ['R11916', 'C00355', 'C04043'], ['R03302', 'C04043', 'C01161'], ['R03299', 'C01161', 'C05593'], ['R02515', 'C05593', 'C00544'], ['R07500', 'C00544', 'C15882'], ['R07501', 'C15882', 'C15883'], ['R07502', 'C15883', 'C02483'], ['R07236', 'C02483', 'C00021'], ['R12929', 'C00021', 'C00062'], ['R09593', 'C00062', 'C19713'], ['R09593', 'C19713', 'C19710'], ['R09592', 'C19710', 'C00049'], ['R00485', 'C00049', 'C00152'], ['R10446', 'C00152', 'C00042'], ['R10742', 'C00042', 'C00026'], ['R10527', 'C00026', 'C00022']]<=====\n",
      "=====> after trim_chrom:  长度是11---[['R01602', 'C00267', 'C00221'], ['R12969', 'C00221', 'C01190'], ['R03354', 'C01190', 'C01290'], ['R03618', 'C01290', 'C04737'], ['R05631', 'C04737', 'C03272'], ['R04184', 'C03272', 'C01132'], ['R08366', 'C01132', 'C06376'], ['R05168', 'C06376', 'C00033'], ['R08944', 'C00033', 'C00383'], ['R01604', 'C00383', 'C00222'], ['R00907', 'C00222', 'C00022']]<=====\n",
      "-----Mutation Successfully!-----\n",
      "Chromesomes before mutation is :\n",
      "[['R01602', 'C00267', 'C00221'], ['R02187', 'C00221', 'C01172'], ['R02739', 'C01172', 'C00668'], ['R02740', 'C00668', 'C05345'], ['R00867', 'C05345', 'C00095'], ['R08406', 'C00095', 'C00085'], ['R01067', 'C00085', 'C00279'], ['R01825', 'C00279', 'C03393'], ['R11726', 'C03393', 'C00111'], ['R01011', 'C00111', 'C00184'], ['R01012', 'C00184', 'C00022']]\n",
      "Chromesomes after mutation is :\n",
      "[['R01602', 'C00267', 'C00221'], ['R02187', 'C00221', 'C01172'], ['R02739', 'C01172', 'C00668'], ['R02740', 'C00668', 'C05345'], ['R00867', 'C05345', 'C00095'], ['R08406', 'C00095', 'C00085'], ['R01067', 'C00085', 'C00279'], ['R01825', 'C00279', 'C03393'], ['R01602', 'C00267', 'C00221'], ['R12969', 'C00221', 'C01190'], ['R03354', 'C01190', 'C01290'], ['R03618', 'C01290', 'C04737'], ['R05631', 'C04737', 'C03272'], ['R04184', 'C03272', 'C01132'], ['R08366', 'C01132', 'C06376'], ['R05168', 'C06376', 'C00033'], ['R08944', 'C00033', 'C00383'], ['R01604', 'C00383', 'C00222'], ['R00907', 'C00222', 'C00022']]\n",
      "--------------------\n"
     ]
    },
    {
     "name": "stdout",
     "output_type": "stream",
     "text": [
      "=====> Mututation of the 10th iter 2th particle<=====\n"
     ]
    },
    {
     "name": "stderr",
     "output_type": "stream",
     "text": [
      "=====> after trim_chrom:  长度是7---[['R01678', 'C00267', 'C00243'], ['R01100', 'C00243', 'C00031'], ['R04094', 'C00031', 'C05837'], ['R08167', 'C05837', 'C16517'], ['R08164', 'C16517', 'C16516'], ['R08170', 'C16516', 'C16518'], ['R08170', 'C16518', 'C00022']]<=====\n",
      "=====> after trim_chrom:  长度是10---[['R00878', 'C00267', 'C00095'], ['R08407', 'C00095', 'C01094'], ['R02071', 'C01094', 'C05378'], ['R04779', 'C05378', 'C05345'], ['R12731', 'C05345', 'C00118'], ['R07456', 'C00118', 'C00025'], ['R00262', 'C00025', 'C03618'], ['R04269', 'C03618', 'C06030'], ['R04269', 'C06030', 'C00026'], ['R11593', 'C00026', 'C00022']]<=====\n",
      "=====> after trim_chrom:  长度是21---[['R00947', 'C00267', 'C00103'], ['R02111', 'C00103', 'C00369'], ['R02112', 'C00369', 'C00721'], ['R01791', 'C00721', 'C00031'], ['R03323', 'C00031', 'C01175'], ['R10298', 'C01175', 'C08725'], ['R10298', 'C08725', 'C12137'], ['R07927', 'C12137', 'C16368'], ['R07927', 'C16368', 'C00223'], ['R08796', 'C00223', 'C17744'], ['R08796', 'C17744', 'C05270'], ['R04751', 'C05270', 'C05271'], ['R04749', 'C05271', 'C05268'], ['R04748', 'C05268', 'C05269'], ['R01177', 'C05269', 'C00024'], ['R01023', 'C00024', 'C01996'], ['R01023', 'C01996', 'C00114'], ['R07386', 'C00114', 'C00189'], ['R07376', 'C00189', 'C00065'], ['R00585', 'C00065', 'C00041'], ['R01261', 'C00041', 'C00022']]<=====\n",
      "=====> after trim_chrom:  长度是9---[['R00878', 'C00267', 'C00095'], ['R00806', 'C00095', 'C00089'], ['R04194', 'C00089', 'C00031'], ['R10581', 'C00031', 'C08897'], ['R10582', 'C08897', 'C00507'], ['R10788', 'C00507', 'C02991'], ['R03772', 'C02991', 'C01934'], ['R03774', 'C01934', 'C03979'], ['R02261', 'C03979', 'C00022']]<=====\n",
      "-----Mutation Successfully!-----\n",
      "Chromesomes before mutation is :\n",
      "[['R00878', 'C00267', 'C00095'], ['R00877', 'C00095', 'C00159'], ['R02630', 'C00159', 'C00615'], ['R04076', 'C00615', 'C04261'], ['R08559', 'C04261', 'C16698'], ['R08555', 'C16698', 'C00256'], ['R13049', 'C00256', 'C00022']]\n",
      "Chromesomes after mutation is :\n",
      "[['R00878', 'C00267', 'C00095'], ['R00877', 'C00095', 'C00159'], ['R02630', 'C00159', 'C00615'], ['R04076', 'C00615', 'C04261'], ['R00878', 'C00267', 'C00095'], ['R00806', 'C00095', 'C00089'], ['R04194', 'C00089', 'C00031'], ['R10581', 'C00031', 'C08897'], ['R10582', 'C08897', 'C00507'], ['R10788', 'C00507', 'C02991'], ['R03772', 'C02991', 'C01934'], ['R03774', 'C01934', 'C03979'], ['R02261', 'C03979', 'C00022']]\n",
      "--------------------\n"
     ]
    },
    {
     "name": "stdout",
     "output_type": "stream",
     "text": [
      "=====> Mututation of the 10th iter 3th particle<=====\n"
     ]
    },
    {
     "name": "stderr",
     "output_type": "stream",
     "text": [
      "=====> after trim_chrom:  长度是10---[['R02189', 'C00267', 'C00404'], ['R02188', 'C00404', 'C00236'], ['R02188', 'C00236', 'C00197'], ['R01511', 'C00197', 'C00258'], ['R10324', 'C00258', 'C00577'], ['R01041', 'C00577', 'C00116'], ['R01039', 'C00116', 'C00184'], ['R01010', 'C00184', 'C00111'], ['R01012', 'C00111', 'C00074'], ['R00208', 'C00074', 'C00022']]<=====\n",
      "=====> after trim_chrom:  长度是13---[['R01718', 'C00267', 'C00252'], ['R11309', 'C00252', 'C00372'], ['R02120', 'C00372', 'C00095'], ['R08548', 'C00095', 'C01094'], ['R02568', 'C01094', 'C00111'], ['R00842', 'C00111', 'C00093'], ['R01470', 'C00093', 'C01233'], ['R03416', 'C01233', 'C04438'], ['R04480', 'C04438', 'C00350'], ['R02055', 'C00350', 'C02737'], ['R01800', 'C02737', 'C00065'], ['R00588', 'C00065', 'C00168'], ['R00585', 'C00168', 'C00022']]<=====\n",
      "-----Mutation Successfully!-----\n",
      "Chromesomes before mutation is :\n",
      "[['R00878', 'C00267', 'C00095'], ['R12349', 'C00095', 'C00089'], ['R00803', 'C00089', 'C00103'], ['R00550', 'C00103', 'C00031'], ['R04409', 'C00031', 'C04164'], ['R02256', 'C04164', 'C00423'], ['R00697', 'C00423', 'C00079'], ['R01375', 'C00079', 'C00166'], ['R00692', 'C00166', 'C00022']]\n",
      "Chromesomes after mutation is :\n",
      "[['R00878', 'C00267', 'C00095'], ['R12349', 'C00095', 'C00089'], ['R00803', 'C00089', 'C00103'], ['R00550', 'C00103', 'C00031'], ['R01718', 'C00267', 'C00252'], ['R11309', 'C00252', 'C00372'], ['R02120', 'C00372', 'C00095'], ['R08548', 'C00095', 'C01094'], ['R02568', 'C01094', 'C00111'], ['R00842', 'C00111', 'C00093'], ['R01470', 'C00093', 'C01233'], ['R03416', 'C01233', 'C04438'], ['R04480', 'C04438', 'C00350'], ['R02055', 'C00350', 'C02737'], ['R01800', 'C02737', 'C00065'], ['R00588', 'C00065', 'C00168'], ['R00585', 'C00168', 'C00022']]\n",
      "--------------------\n"
     ]
    },
    {
     "name": "stdout",
     "output_type": "stream",
     "text": [
      "=====> Mututation of the 11th iter 1th particle<=====\n"
     ]
    },
    {
     "name": "stderr",
     "output_type": "stream",
     "text": [
      "=====> after trim_chrom:  长度是22---[['R02189', 'C00267', 'C00668'], ['R02740', 'C00668', 'C05345'], ['R01819', 'C05345', 'C00275'], ['R09645', 'C00275', 'C16699'], ['R11169', 'C16699', 'C11544'], ['R11169', 'C11544', 'C00615'], ['R05570', 'C00615', 'C04261'], ['R11171', 'C04261', 'C01113'], ['R11171', 'C01113', 'C00124'], ['R03355', 'C00124', 'C01290'], ['R03491', 'C01290', 'C04730'], ['R04584', 'C04730', 'C04884'], ['R04586', 'C04884', 'C01132'], ['R08366', 'C01132', 'C06376'], ['R05168', 'C06376', 'C06377'], ['R12220', 'C06377', 'C00352'], ['R00768', 'C00352', 'C00085'], ['R01067', 'C00085', 'C00231'], ['R13001', 'C00231', 'C00118'], ['R12668', 'C00118', 'C00111'], ['R01011', 'C00111', 'C00184'], ['R01012', 'C00184', 'C00022']]<=====\n",
      "=====> after trim_chrom:  长度是12---[['R01786', 'C00267', 'C00668'], ['R00959', 'C00668', 'C00103'], ['R00957', 'C00103', 'C00208'], ['R04111', 'C00208', 'C00615'], ['R11172', 'C00615', 'C00185'], ['R00306', 'C00185', 'C00031'], ['R01139', 'C00031', 'C00092'], ['R00771', 'C00092', 'C00085'], ['R00764', 'C00085', 'C00354'], ['R01068', 'C00354', 'C00118'], ['R05636', 'C00118', 'C11437'], ['R05636', 'C11437', 'C00022']]<=====\n",
      "=====> after trim_chrom:  长度是21---[['R09085', 'C00267', 'C00668'], ['R02738', 'C00668', 'C00031'], ['R10581', 'C00031', 'C08897'], ['R10581', 'C08897', 'C00507'], ['R02436', 'C00507', 'C01750'], ['R09803', 'C01750', 'C00389'], ['R02157', 'C00389', 'C04443'], ['R05323', 'C04443', 'C01265'], ['R03456', 'C01265', 'C00021'], ['R10061', 'C00021', 'C00213'], ['R00610', 'C00213', 'C00037'], ['R00945', 'C00037', 'C00065'], ['R00674', 'C00065', 'C00078'], ['R12055', 'C00078', 'C00331'], ['R12055', 'C00331', 'C01180'], ['R12507', 'C01180', 'C00940'], ['R02781', 'C00940', 'C00064'], ['R00578', 'C00064', 'C00152'], ['R00482', 'C00152', 'C00049'], ['R00400', 'C00049', 'C00041'], ['R05652', 'C00041', 'C00022']]<=====\n",
      "=====> after trim_chrom:  长度是8---[['R09085', 'C00267', 'C00668'], ['R02740', 'C00668', 'C05345'], ['R09780', 'C05345', 'C06019'], ['R05338', 'C06019', 'C00199'], ['R01528', 'C00199', 'C00345'], ['R02036', 'C00345', 'C04442'], ['R01541', 'C04442', 'C00204'], ['R08570', 'C00204', 'C00022']]<=====\n",
      "-----Mutation Successfully!-----\n",
      "Chromesomes before mutation is :\n",
      "[['R01602', 'C00267', 'C00221'], ['R02187', 'C00221', 'C01172'], ['R02739', 'C01172', 'C00668'], ['R02740', 'C00668', 'C05345'], ['R00867', 'C05345', 'C00095'], ['R08406', 'C00095', 'C00085'], ['R01067', 'C00085', 'C00279'], ['R01825', 'C00279', 'C03393'], ['R11726', 'C03393', 'C00111'], ['R01011', 'C00111', 'C00184'], ['R01012', 'C00184', 'C00022']]\n",
      "Chromesomes after mutation is :\n",
      "[['R01602', 'C00267', 'C00221'], ['R02187', 'C00221', 'C01172'], ['R02739', 'C01172', 'C00668'], ['R02740', 'C00668', 'C05345'], ['R00867', 'C05345', 'C00095'], ['R08406', 'C00095', 'C00085'], ['R09085', 'C00267', 'C00668'], ['R02740', 'C00668', 'C05345'], ['R09780', 'C05345', 'C06019'], ['R05338', 'C06019', 'C00199'], ['R01528', 'C00199', 'C00345'], ['R02036', 'C00345', 'C04442'], ['R01541', 'C04442', 'C00204'], ['R08570', 'C00204', 'C00022']]\n",
      "--------------------\n"
     ]
    },
    {
     "name": "stdout",
     "output_type": "stream",
     "text": [
      "=====> Mututation of the 11th iter 2th particle<=====\n"
     ]
    },
    {
     "name": "stderr",
     "output_type": "stream",
     "text": [
      "=====> after trim_chrom:  长度是20---[['R01787', 'C00267', 'C00794'], ['R05820', 'C00794', 'C01096'], ['R03234', 'C01096', 'C02888'], ['R04076', 'C02888', 'C00247'], ['R02925', 'C00247', 'C00016'], ['R03857', 'C00016', 'C03221'], ['R03856', 'C03221', 'C01832'], ['R12735', 'C01832', 'C05759'], ['R12735', 'C05759', 'C01209'], ['R08944', 'C01209', 'C00383'], ['R00743', 'C00383', 'C00033'], ['R03217', 'C00033', 'C00097'], ['R03217', 'C00097', 'C02291'], ['R03260', 'C02291', 'C01118'], ['R04946', 'C01118', 'C00042'], ['R05127', 'C00042', 'C00026'], ['R11270', 'C00026', 'C00025'], ['R01214', 'C00025', 'C00183'], ['R01215', 'C00183', 'C00041'], ['R08197', 'C00041', 'C00022']]<=====\n",
      "=====> after trim_chrom:  长度是21---[['R02109', 'C00267', 'C00369'], ['R02111', 'C00369', 'C00718'], ['R07261', 'C00718', 'C00454'], ['R10525', 'C00454', 'C15541'], ['R10525', 'C15541', 'C01083'], ['R11306', 'C01083', 'C00031'], ['R09941', 'C00031', 'C01518'], ['R09941', 'C01518', 'C00663'], ['R11310', 'C00663', 'C00092'], ['R00771', 'C00092', 'C00085'], ['R00876', 'C00085', 'C00095'], ['R03635', 'C00095', 'C01613'], ['R03634', 'C01613', 'C00124'], ['R01678', 'C00124', 'C00243'], ['R00503', 'C00243', 'C00052'], ['R06808', 'C00052', 'C12626'], ['R06808', 'C12626', 'C05903'], ['R06538', 'C05903', 'C00389'], ['R10258', 'C00389', 'C10107'], ['R06539', 'C10107', 'C00026'], ['R01148', 'C00026', 'C00022']]<=====\n",
      "=====> after trim_chrom:  长度是31---[['R09085', 'C00267', 'C00668'], ['R02739', 'C00668', 'C01172'], ['R01600', 'C01172', 'C00221'], ['R12983', 'C00221', 'C15548'], ['R07264', 'C15548', 'C00663'], ['R05767', 'C00663', 'C00689'], ['R02778', 'C00689', 'C01083'], ['R11306', 'C01083', 'C00031'], ['R00337', 'C00031', 'C00394'], ['R12607', 'C00394', 'C00096'], ['R07678', 'C00096', 'C00636'], ['R12607', 'C00636', 'C00103'], ['R00803', 'C00103', 'C00089'], ['R07256', 'C00089', 'C15541'], ['R09663', 'C15541', 'C19791'], ['R09664', 'C19791', 'C19792'], ['R12250', 'C19792', 'C00258'], ['R08572', 'C00258', 'C00631'], ['R01518', 'C00631', 'C00197'], ['R01058', 'C00197', 'C00118'], ['R01621', 'C00118', 'C00231'], ['R01067', 'C00231', 'C00085'], ['R05339', 'C00085', 'C06019'], ['R05338', 'C06019', 'C00199'], ['R01523', 'C00199', 'C01182'], ['R03140', 'C01182', 'C00988'], ['R01334', 'C00988', 'C00160'], ['R00475', 'C00160', 'C00048'], ['R00369', 'C00048', 'C00037'], ['R07226', 'C00037', 'C00227'], ['R00207', 'C00227', 'C00022']]<=====\n",
      "=====> after trim_chrom:  长度是9---[['R01678', 'C00267', 'C00243'], ['R01678', 'C00243', 'C00124'], ['R10622', 'C00124', 'C00446'], ['R09632', 'C00446', 'C19758'], ['R09632', 'C19758', 'C00507'], ['R10995', 'C00507', 'C02991'], ['R03772', 'C02991', 'C01934'], ['R03774', 'C01934', 'C03979'], ['R02261', 'C03979', 'C00022']]<=====\n",
      "=====> after trim_chrom:  长度是11---[['R02109', 'C00267', 'C00369'], ['R02111', 'C00369', 'C00718'], ['R01823', 'C00718', 'C00095'], ['R00760', 'C00095', 'C00085'], ['R00765', 'C00085', 'C00352'], ['R02060', 'C00352', 'C06156'], ['R05332', 'C06156', 'C04501'], ['R08193', 'C04501', 'C00357'], ['R05199', 'C00357', 'C04261'], ['R08559', 'C04261', 'C00615'], ['R02628', 'C00615', 'C00022']]<=====\n",
      "-----Mutation Successfully!-----\n",
      "Chromesomes before mutation is :\n",
      "[['R00878', 'C00267', 'C00095'], ['R00877', 'C00095', 'C00159'], ['R02630', 'C00159', 'C00615'], ['R04076', 'C00615', 'C04261'], ['R08559', 'C04261', 'C16698'], ['R08555', 'C16698', 'C00256'], ['R13049', 'C00256', 'C00022']]\n",
      "Chromesomes after mutation is :\n",
      "[['R00878', 'C00267', 'C00095'], ['R00877', 'C00095', 'C00159'], ['R02630', 'C00159', 'C00615'], ['R04076', 'C00615', 'C04261'], ['R08559', 'C04261', 'C16698'], ['R08555', 'C16698', 'C00256'], ['R02109', 'C00267', 'C00369'], ['R02111', 'C00369', 'C00718'], ['R01823', 'C00718', 'C00095'], ['R00760', 'C00095', 'C00085'], ['R00765', 'C00085', 'C00352'], ['R02060', 'C00352', 'C06156'], ['R05332', 'C06156', 'C04501'], ['R08193', 'C04501', 'C00357'], ['R05199', 'C00357', 'C04261'], ['R08559', 'C04261', 'C00615'], ['R02628', 'C00615', 'C00022']]\n",
      "--------------------\n"
     ]
    },
    {
     "name": "stdout",
     "output_type": "stream",
     "text": [
      "=====> Mututation of the 11th iter 3th particle<=====\n"
     ]
    },
    {
     "name": "stderr",
     "output_type": "stream",
     "text": [
      "=====> after trim_chrom:  长度是14---[['R01602', 'C00267', 'C00221'], ['R01520', 'C00221', 'C00198'], ['R07147', 'C00198', 'C00031'], ['R00337', 'C00031', 'C00394'], ['R09752', 'C00394', 'C00103'], ['R12607', 'C00103', 'C00636'], ['R07678', 'C00636', 'C00096'], ['R09666', 'C00096', 'C11544'], ['R12095', 'C11544', 'C00159'], ['R01329', 'C00159', 'C05400'], ['R01329', 'C05400', 'C00124'], ['R01098', 'C00124', 'C00880'], ['R03033', 'C00880', 'C01216'], ['R10616', 'C01216', 'C00022']]<=====\n",
      "=====> after trim_chrom:  长度是6---[['R01602', 'C00267', 'C00221'], ['R01600', 'C00221', 'C01172'], ['R05134', 'C01172', 'C06188'], ['R04394', 'C06188', 'C04261'], ['R02628', 'C04261', 'C00074'], ['R00199', 'C00074', 'C00022']]<=====\n",
      "-----Mutation Successfully!-----\n",
      "Chromesomes before mutation is :\n",
      "[['R00878', 'C00267', 'C00095'], ['R12349', 'C00095', 'C00089'], ['R00803', 'C00089', 'C00103'], ['R00550', 'C00103', 'C00031'], ['R04409', 'C00031', 'C04164'], ['R02256', 'C04164', 'C00423'], ['R00697', 'C00423', 'C00079'], ['R01375', 'C00079', 'C00166'], ['R00692', 'C00166', 'C00022']]\n",
      "Chromesomes after mutation is :\n",
      "[['R00878', 'C00267', 'C00095'], ['R01602', 'C00267', 'C00221'], ['R01600', 'C00221', 'C01172'], ['R05134', 'C01172', 'C06188'], ['R04394', 'C06188', 'C04261'], ['R02628', 'C04261', 'C00074'], ['R00199', 'C00074', 'C00022']]\n",
      "--------------------\n"
     ]
    },
    {
     "name": "stdout",
     "output_type": "stream",
     "text": [
      "=====> Mututation of the 12th iter 1th particle<=====\n"
     ]
    },
    {
     "name": "stderr",
     "output_type": "stream",
     "text": [
      "=====> after trim_chrom:  长度是14---[['R03115', 'C00267', 'C00965'], ['R03116', 'C00965', 'C00103'], ['R11959', 'C00103', 'C19792'], ['R09665', 'C19792', 'C00498'], ['R08676', 'C00498', 'C00089'], ['R12349', 'C00089', 'C00095'], ['R03232', 'C00095', 'C01094'], ['R10050', 'C01094', 'C16848'], ['R08568', 'C16848', 'C16850'], ['R08568', 'C16850', 'C00441'], ['R01773', 'C00441', 'C00263'], ['R01776', 'C00263', 'C01077'], ['R04945', 'C01077', 'C05699'], ['R04941', 'C05699', 'C00022']]<=====\n",
      "=====> after trim_chrom:  长度是13---[['R07265', 'C00267', 'C01083'], ['R11256', 'C01083', 'C06400'], ['R01824', 'C06400', 'C01935'], ['R11262', 'C01935', 'C00208'], ['R04111', 'C00208', 'C02995'], ['R00838', 'C02995', 'C00031'], ['R08404', 'C00031', 'C00092'], ['R02168', 'C00092', 'C00689'], ['R02780', 'C00689', 'C04261'], ['R11172', 'C04261', 'C00615'], ['R13015', 'C00615', 'C00042'], ['R10413', 'C00042', 'C00026'], ['R00258', 'C00026', 'C00022']]<=====\n",
      "-----Mutation Successfully!-----\n",
      "Chromesomes before mutation is :\n",
      "[['R01602', 'C00267', 'C00221'], ['R02187', 'C00221', 'C01172'], ['R02739', 'C01172', 'C00668'], ['R02740', 'C00668', 'C05345'], ['R00867', 'C05345', 'C00095'], ['R08406', 'C00095', 'C00085'], ['R01067', 'C00085', 'C00279'], ['R01825', 'C00279', 'C03393'], ['R11726', 'C03393', 'C00111'], ['R01011', 'C00111', 'C00184'], ['R01012', 'C00184', 'C00022']]\n",
      "Chromesomes after mutation is :\n",
      "[['R01602', 'C00267', 'C00221'], ['R02187', 'C00221', 'C01172'], ['R07265', 'C00267', 'C01083'], ['R11256', 'C01083', 'C06400'], ['R01824', 'C06400', 'C01935'], ['R11262', 'C01935', 'C00208'], ['R04111', 'C00208', 'C02995'], ['R00838', 'C02995', 'C00031'], ['R08404', 'C00031', 'C00092'], ['R02168', 'C00092', 'C00689'], ['R02780', 'C00689', 'C04261'], ['R11172', 'C04261', 'C00615'], ['R13015', 'C00615', 'C00042'], ['R10413', 'C00042', 'C00026'], ['R00258', 'C00026', 'C00022']]\n",
      "--------------------\n"
     ]
    },
    {
     "name": "stdout",
     "output_type": "stream",
     "text": [
      "=====> Mututation of the 12th iter 2th particle<=====\n"
     ]
    },
    {
     "name": "stderr",
     "output_type": "stream",
     "text": [
      "=====> after trim_chrom:  长度是18---[['R00947', 'C00267', 'C00103'], ['R10987', 'C00103', 'C02591'], ['R00766', 'C02591', 'C00085'], ['R00768', 'C00085', 'C00352'], ['R12594', 'C00352', 'C00329'], ['R01963', 'C00329', 'C01075'], ['R03216', 'C01075', 'C03789'], ['R03216', 'C03789', 'C00059'], ['R00528', 'C00059', 'C00094'], ['R04859', 'C00094', 'C00342'], ['R02024', 'C00342', 'C00705'], ['R01667', 'C00705', 'C00239'], ['R01666', 'C00239', 'C00881'], ['R02485', 'C00881', 'C00526'], ['R01879', 'C00526', 'C00299'], ['R01879', 'C00299', 'C00026'], ['R03266', 'C00026', 'C01127'], ['R00470', 'C01127', 'C00022']]<=====\n",
      "=====> after trim_chrom:  长度是11---[['R00947', 'C00267', 'C00103'], ['R00304', 'C00103', 'C00031'], ['R04998', 'C00031', 'C05839'], ['R04686', 'C05839', 'C05158'], ['R03710', 'C05158', 'C01772'], ['R03709', 'C01772', 'C01198'], ['R04899', 'C01198', 'C05629'], ['R12535', 'C05629', 'C00423'], ['R00697', 'C00423', 'C00079'], ['R00692', 'C00079', 'C00041'], ['R02970', 'C00041', 'C00022']]<=====\n",
      "-----Mutation Successfully!-----\n",
      "Chromesomes before mutation is :\n",
      "[['R00878', 'C00267', 'C00095'], ['R00877', 'C00095', 'C00159'], ['R02630', 'C00159', 'C00615'], ['R04076', 'C00615', 'C04261'], ['R08559', 'C04261', 'C16698'], ['R08555', 'C16698', 'C00256'], ['R13049', 'C00256', 'C00022']]\n",
      "Chromesomes after mutation is :\n",
      "[['R00878', 'C00267', 'C00095'], ['R00877', 'C00095', 'C00159'], ['R02630', 'C00159', 'C00615'], ['R00947', 'C00267', 'C00103'], ['R00304', 'C00103', 'C00031'], ['R04998', 'C00031', 'C05839'], ['R04686', 'C05839', 'C05158'], ['R03710', 'C05158', 'C01772'], ['R03709', 'C01772', 'C01198'], ['R04899', 'C01198', 'C05629'], ['R12535', 'C05629', 'C00423'], ['R00697', 'C00423', 'C00079'], ['R00692', 'C00079', 'C00041'], ['R02970', 'C00041', 'C00022']]\n",
      "--------------------\n"
     ]
    },
    {
     "name": "stdout",
     "output_type": "stream",
     "text": [
      "=====> Mututation of the 12th iter 3th particle<=====\n"
     ]
    },
    {
     "name": "stderr",
     "output_type": "stream",
     "text": [
      "=====> after trim_chrom:  长度是29---[['R02189', 'C00267', 'C00668'], ['R02738', 'C00668', 'C00031'], ['R04194', 'C00031', 'C00089'], ['R01103', 'C00089', 'C00492'], ['R01103', 'C00492', 'C00124'], ['R04633', 'C00124', 'C04911'], ['R04649', 'C04911', 'C06141'], ['R05117', 'C06141', 'C06140'], ['R05117', 'C06140', 'C00270'], ['R08601', 'C00270', 'C04017'], ['R01808', 'C04017', 'C00024'], ['R08248', 'C00024', 'C07585'], ['R08249', 'C07585', 'C07447'], ['R11903', 'C07447', 'C00033'], ['R05336', 'C00033', 'C00989'], ['R09281', 'C00989', 'C00232'], ['R00713', 'C00232', 'C00042'], ['R07184', 'C00042', 'C00026'], ['R02199', 'C00026', 'C00671'], ['R02200', 'C00671', 'C00407'], ['R02199', 'C00407', 'C00025'], ['R00708', 'C00025', 'C03912'], ['R01248', 'C03912', 'C00148'], ['R00671', 'C00148', 'C00077'], ['R03477', 'C00077', 'C00062'], ['R01686', 'C00062', 'C01959'], ['R01686', 'C01959', 'C00245'], ['R07167', 'C00245', 'C00593'], ['R05652', 'C00593', 'C00022']]<=====\n",
      "=====> after trim_chrom:  长度是16---[['R01602', 'C00267', 'C00221'], ['R01522', 'C00221', 'C00198'], ['R10411', 'C00198', 'C00031'], ['R01444', 'C00031', 'C06219'], ['R01444', 'C06219', 'C00185'], ['R11308', 'C00185', 'C01898'], ['R11307', 'C01898', 'C00760'], ['R02888', 'C00760', 'C00103'], ['R00955', 'C00103', 'C00446'], ['R10622', 'C00446', 'C00124'], ['R01097', 'C00124', 'C03383'], ['R03034', 'C03383', 'C00880'], ['R03033', 'C00880', 'C01216'], ['R10616', 'C01216', 'C00577'], ['R10050', 'C00577', 'C00546'], ['R00205', 'C00546', 'C00022']]<=====\n",
      "=====> after trim_chrom:  长度是14---[['R07265', 'C00267', 'C01083'], ['R02780', 'C01083', 'C00689'], ['R00836', 'C00689', 'C00092'], ['R00839', 'C00092', 'C04534'], ['R11172', 'C04534', 'C00185'], ['R00952', 'C00185', 'C00031'], ['R00305', 'C00031', 'C00198'], ['R00874', 'C00198', 'C00095'], ['R00876', 'C00095', 'C00085'], ['R05339', 'C00085', 'C06019'], ['R05338', 'C06019', 'C00199'], ['R01528', 'C00199', 'C00345'], ['R02036', 'C00345', 'C04442'], ['R05605', 'C04442', 'C00022']]<=====\n",
      "-----Mutation Successfully!-----\n",
      "Chromesomes before mutation is :\n",
      "[['R00878', 'C00267', 'C00095'], ['R12349', 'C00095', 'C00089'], ['R00803', 'C00089', 'C00103'], ['R00550', 'C00103', 'C00031'], ['R04409', 'C00031', 'C04164'], ['R02256', 'C04164', 'C00423'], ['R00697', 'C00423', 'C00079'], ['R01375', 'C00079', 'C00166'], ['R00692', 'C00166', 'C00022']]\n",
      "Chromesomes after mutation is :\n",
      "[['R00878', 'C00267', 'C00095'], ['R12349', 'C00095', 'C00089'], ['R00803', 'C00089', 'C00103'], ['R00550', 'C00103', 'C00031'], ['R04409', 'C00031', 'C04164'], ['R07265', 'C00267', 'C01083'], ['R02780', 'C01083', 'C00689'], ['R00836', 'C00689', 'C00092'], ['R00839', 'C00092', 'C04534'], ['R11172', 'C04534', 'C00185'], ['R00952', 'C00185', 'C00031'], ['R00305', 'C00031', 'C00198'], ['R00874', 'C00198', 'C00095'], ['R00876', 'C00095', 'C00085'], ['R05339', 'C00085', 'C06019'], ['R05338', 'C06019', 'C00199'], ['R01528', 'C00199', 'C00345'], ['R02036', 'C00345', 'C04442'], ['R05605', 'C04442', 'C00022']]\n",
      "--------------------\n"
     ]
    },
    {
     "name": "stdout",
     "output_type": "stream",
     "text": [
      "=====> Mututation of the 13th iter 1th particle<=====\n"
     ]
    },
    {
     "name": "stderr",
     "output_type": "stream",
     "text": [
      "=====> after trim_chrom:  长度是10---[['R01602', 'C00267', 'C00221'], ['R13051', 'C00221', 'C10216'], ['R13051', 'C10216', 'C10208'], ['R06554', 'C10208', 'C09762'], ['R07996', 'C09762', 'C00042'], ['R01559', 'C00042', 'C00209'], ['R10614', 'C00209', 'C00033'], ['R05508', 'C00033', 'C00186'], ['R01450', 'C00186', 'C00256'], ['R11591', 'C00256', 'C00022']]<=====\n",
      "=====> after trim_chrom:  长度是19---[['R01787', 'C00267', 'C00794'], ['R00875', 'C00794', 'C00095'], ['R00865', 'C00095', 'C00125'], ['R00528', 'C00125', 'C00126'], ['R09938', 'C00126', 'C10772'], ['R08421', 'C10772', 'C01672'], ['R06740', 'C01672', 'C12455'], ['R12215', 'C12455', 'C00431'], ['R02276', 'C00431', 'C03087'], ['R04142', 'C03087', 'C05548'], ['R04029', 'C05548', 'C02727'], ['R01620', 'C02727', 'C00047'], ['R00451', 'C00047', 'C00680'], ['R02755', 'C00680', 'C03871'], ['R04336', 'C03871', 'C03972'], ['R07613', 'C03972', 'C00666'], ['R07613', 'C00666', 'C00025'], ['R06423', 'C00025', 'C00026'], ['R10487', 'C00026', 'C00022']]<=====\n",
      "=====> after trim_chrom:  长度是15---[['R07265', 'C00267', 'C01083'], ['R11306', 'C01083', 'C00031'], ['R04498', 'C00031', 'C04516'], ['R04498', 'C04516', 'C04576'], ['R04498', 'C04576', 'C01158'], ['R03297', 'C01158', 'C01424'], ['R01637', 'C01424', 'C00230'], ['R10136', 'C00230', 'C06672'], ['R10296', 'C06672', 'C12137'], ['R07874', 'C12137', 'C08725'], ['R10298', 'C08725', 'C01175'], ['R03323', 'C01175', 'C02887'], ['R03323', 'C02887', 'C00149'], ['R00361', 'C00149', 'C00036'], ['R00353', 'C00036', 'C00022']]<=====\n",
      "=====> after trim_chrom:  长度是29---[['R00947', 'C00267', 'C00103'], ['R00951', 'C00103', 'C00498'], ['R11783', 'C00498', 'C00689'], ['R02778', 'C00689', 'C01083'], ['R10525', 'C01083', 'C15541'], ['R10525', 'C15541', 'C00454'], ['R10442', 'C00454', 'C01117'], ['R02934', 'C01117', 'C00676'], ['R04267', 'C00676', 'C04232'], ['R04294', 'C04232', 'C03723'], ['R04294', 'C03723', 'C00343'], ['R04859', 'C00343', 'C00979'], ['R10305', 'C00979', 'C02291'], ['R08632', 'C02291', 'C17234'], ['R08633', 'C17234', 'C00155'], ['R00946', 'C00155', 'C00073'], ['R12055', 'C00073', 'C01180'], ['R09373', 'C01180', 'C18904'], ['R09373', 'C18904', 'C05689'], ['R04935', 'C05689', 'C05695'], ['R04935', 'C05695', 'C03193'], ['R04159', 'C03193', 'C00012'], ['R00135', 'C00012', 'C00148'], ['R00671', 'C00148', 'C00077'], ['R12506', 'C00077', 'C00047'], ['R00457', 'C00047', 'C04076'], ['R10699', 'C04076', 'C01092'], ['R03210', 'C01092', 'C00041'], ['R05652', 'C00041', 'C00022']]<=====\n",
      "=====> after trim_chrom:  长度是8---[['R00802', 'C00267', 'C00089'], ['R12527', 'C00089', 'C00095'], ['R12528', 'C00095', 'C00372'], ['R11309', 'C00372', 'C00252'], ['R11791', 'C00252', 'C00031'], ['R00327', 'C00031', 'C02655'], ['R00327', 'C02655', 'C00033'], ['R03145', 'C00033', 'C00022']]<=====\n",
      "=====> after trim_chrom:  长度是17---[['R07265', 'C00267', 'C01083'], ['R02780', 'C01083', 'C00689'], ['R05767', 'C00689', 'C00663'], ['R01555', 'C00663', 'C00208'], ['R00957', 'C00208', 'C00103'], ['R08639', 'C00103', 'C00092'], ['R09550', 'C00092', 'C01236'], ['R02736', 'C01236', 'C01172'], ['R09086', 'C01172', 'C00221'], ['R01522', 'C00221', 'C00198'], ['R06620', 'C00198', 'C00031'], ['R10581', 'C00031', 'C08897'], ['R10582', 'C08897', 'C00507'], ['R10788', 'C00507', 'C02991'], ['R03772', 'C02991', 'C01934'], ['R03774', 'C01934', 'C03979'], ['R02261', 'C03979', 'C00022']]<=====\n",
      "=====> after trim_chrom:  长度是19---[['R00947', 'C00267', 'C00103'], ['R12243', 'C00103', 'C11546'], ['R05791', 'C11546', 'C10517'], ['R05328', 'C10517', 'C00093'], ['R00853', 'C00093', 'C04641'], ['R00853', 'C04641', 'C00052'], ['R01192', 'C00052', 'C01235'], ['R02411', 'C01235', 'C00137'], ['R01185', 'C00137', 'C01177'], ['R03333', 'C01177', 'C04299'], ['R03364', 'C04299', 'C01194'], ['R03364', 'C01194', 'C00641'], ['R02694', 'C00641', 'C00422'], ['R02251', 'C00422', 'C00040'], ['R00393', 'C00040', 'C00024'], ['R08213', 'C00024', 'C16579'], ['R08213', 'C16579', 'C00026'], ['R01214', 'C00026', 'C00141'], ['R01215', 'C00141', 'C00022']]<=====\n",
      "=====> after trim_chrom:  长度是19---[['R02189', 'C00267', 'C00668'], ['R02738', 'C00668', 'C04261'], ['R03076', 'C04261', 'C00615'], ['R11259', 'C00615', 'C04262'], ['R01516', 'C04262', 'C01159'], ['R01662', 'C01159', 'C00236'], ['R01660', 'C00236', 'C00197'], ['R01058', 'C00197', 'C00118'], ['R00845', 'C00118', 'C00093'], ['R00848', 'C00093', 'C00111'], ['R08650', 'C00111', 'C12115'], ['R08650', 'C12115', 'C00441'], ['R12505', 'C00441', 'C00155'], ['R04153', 'C00155', 'C00073'], ['R00655', 'C00073', 'C00855'], ['R03001', 'C00855', 'C00041'], ['R04187', 'C00041', 'C03284'], ['R04187', 'C03284', 'C06002'], ['R04187', 'C06002', 'C00022']]<=====\n",
      "=====> after trim_chrom:  长度是21---[['R01718', 'C00267', 'C00252'], ['R11309', 'C00252', 'C00372'], ['R02121', 'C00372', 'C00718'], ['R07261', 'C00718', 'C00454'], ['R02320', 'C00454', 'C00201'], ['R02320', 'C00201', 'C00074'], ['R01826', 'C00074', 'C04691'], ['R01826', 'C04691', 'C00279'], ['R01067', 'C00279', 'C00118'], ['R01015', 'C00118', 'C00111'], ['R01070', 'C00111', 'C05378'], ['R04779', 'C05378', 'C05345'], ['R01830', 'C05345', 'C00231'], ['R01529', 'C00231', 'C00199'], ['R01530', 'C00199', 'C01112'], ['R01573', 'C01112', 'C00216'], ['R01574', 'C00216', 'C00652'], ['R02714', 'C00652', 'C00878'], ['R03032', 'C00878', 'C03826'], ['R04375', 'C03826', 'C05406'], ['R01335', 'C05406', 'C00022']]<=====\n",
      "=====> after trim_chrom:  长度是16---[['R07265', 'C00267', 'C01083'], ['R08946', 'C01083', 'C00498'], ['R00948', 'C00498', 'C00103'], ['R12607', 'C00103', 'C00636'], ['R07678', 'C00636', 'C15926'], ['R07674', 'C15926', 'C01825'], ['R07675', 'C01825', 'C01115'], ['R12144', 'C01115', 'C00126'], ['R09499', 'C00126', 'C00125'], ['R00640', 'C00125', 'C00072'], ['R01108', 'C00072', 'C05422'], ['R01108', 'C05422', 'C00127'], ['R01109', 'C00127', 'C01420'], ['R01109', 'C01420', 'C00736'], ['R02818', 'C00736', 'C00716'], ['R00223', 'C00716', 'C00022']]<=====\n",
      "=====> after trim_chrom:  长度是16---[['R03115', 'C00267', 'C00965'], ['R03116', 'C00965', 'C00103'], ['R08514', 'C00103', 'C00031'], ['R10525', 'C00031', 'C00454'], ['R09663', 'C00454', 'C00197'], ['R01058', 'C00197', 'C00118'], ['R12668', 'C00118', 'C00111'], ['R01013', 'C00111', 'C03372'], ['R02756', 'C03372', 'C00681'], ['R12241', 'C00681', 'C02133'], ['R03841', 'C02133', 'C00060'], ['R02192', 'C00060', 'C06378'], ['R02192', 'C06378', 'C00405'], ['R01344', 'C00405', 'C00133'], ['R00401', 'C00133', 'C00041'], ['R09254', 'C00041', 'C00022']]<=====\n",
      "=====> after trim_chrom:  长度是24---[['R07265', 'C00267', 'C01083'], ['R08946', 'C01083', 'C00498'], ['R11783', 'C00498', 'C00689'], ['R00836', 'C00689', 'C00092'], ['R09550', 'C00092', 'C01236'], ['R02035', 'C01236', 'C00345'], ['R01528', 'C00345', 'C00199'], ['R05338', 'C00199', 'C06019'], ['R05339', 'C06019', 'C00085'], ['R01067', 'C00085', 'C00279'], ['R01827', 'C00279', 'C00118'], ['R01063', 'C00118', 'C00236'], ['R02188', 'C00236', 'C00197'], ['R05768', 'C00197', 'C11516'], ['R05790', 'C11516', 'C11544'], ['R12095', 'C11544', 'C00258'], ['R01748', 'C00258', 'C00631'], ['R00658', 'C00631', 'C00074'], ['R00346', 'C00074', 'C00036'], ['R05053', 'C00036', 'C00402'], ['R05053', 'C00402', 'C05947'], ['R05053', 'C05947', 'C05946'], ['R05052', 'C05946', 'C00026'], ['R10487', 'C00026', 'C00022']]<=====\n",
      "=====> after trim_chrom:  长度是22---[['R03115', 'C00267', 'C00965'], ['R00308', 'C00965', 'C00031'], ['R00063', 'C00031', 'C01175'], ['R02380', 'C01175', 'C00482'], ['R02221', 'C00482', 'C00411'], ['R06578', 'C00411', 'C12203'], ['R06584', 'C12203', 'C00406'], ['R01942', 'C00406', 'C00323'], ['R07944', 'C00323', 'C16313'], ['R07944', 'C16313', 'C16312'], ['R07883', 'C16312', 'C16351'], ['R07883', 'C16351', 'C00223'], ['R10233', 'C00223', 'C17743'], ['R10233', 'C17743', 'C00083'], ['R07251', 'C00083', 'C00021'], ['R00367', 'C00021', 'C00037'], ['R04777', 'C00037', 'C05596'], ['R04777', 'C05596', 'C05338'], ['R04776', 'C05338', 'C05595'], ['R04776', 'C05595', 'C00025'], ['R01939', 'C00025', 'C00026'], ['R10539', 'C00026', 'C00022']]<=====\n",
      "=====> after trim_chrom:  长度是8---[['R00947', 'C00267', 'C00103'], ['R00955', 'C00103', 'C00446'], ['R09632', 'C00446', 'C19758'], ['R09632', 'C19758', 'C00507'], ['R10995', 'C00507', 'C02991'], ['R03772', 'C02991', 'C01934'], ['R03774', 'C01934', 'C03979'], ['R02261', 'C03979', 'C00022']]<=====\n"
     ]
    },
    {
     "name": "stderr",
     "output_type": "stream",
     "text": [
      "=====> after trim_chrom:  长度是35---[['R11620', 'C00267', 'C00794'], ['R00875', 'C00794', 'C00095'], ['R12527', 'C00095', 'C00089'], ['R01823', 'C00089', 'C00718'], ['R05196', 'C00718', 'C00208'], ['R00028', 'C00208', 'C00031'], ['R00010', 'C00031', 'C01083'], ['R10525', 'C01083', 'C15541'], ['R09663', 'C15541', 'C19791'], ['R09663', 'C19791', 'C00197'], ['R02188', 'C00197', 'C00236'], ['R01662', 'C00236', 'C01159'], ['R09532', 'C01159', 'C00631'], ['R08572', 'C00631', 'C00258'], ['R01747', 'C00258', 'C01146'], ['R01394', 'C01146', 'C00168'], ['R00588', 'C00168', 'C00048'], ['R05862', 'C00048', 'C00213'], ['R01563', 'C00213', 'C01043'], ['R03187', 'C01043', 'C02565'], ['R02922', 'C02565', 'C00791'], ['R07420', 'C00791', 'C02305'], ['R01881', 'C02305', 'C00300'], ['R01883', 'C00300', 'C00581'], ['R00565', 'C00581', 'C00037'], ['R07226', 'C00037', 'C00227'], ['R00320', 'C00227', 'C00033'], ['R00319', 'C00033', 'C00186'], ['R00753', 'C00186', 'C00084'], ['R00746', 'C00084', 'C00469'], ['R02682', 'C00469', 'C04202'], ['R02682', 'C04202', 'C00638'], ['R01407', 'C00638', 'C03371'], ['R01407', 'C03371', 'C02743'], ['R12689', 'C02743', 'C00022']]<=====\n",
      "=====> after trim_chrom:  长度是17---[['R01718', 'C00267', 'C00252'], ['R11791', 'C00252', 'C00031'], ['R08432', 'C00031', 'C00729'], ['R02832', 'C00729', 'C00783'], ['R06734', 'C00783', 'C02066'], ['R06736', 'C02066', 'C12453'], ['R06736', 'C12453', 'C00024'], ['R04386', 'C00024', 'C06250'], ['R04869', 'C06250', 'C00012'], ['R04159', 'C00012', 'C00045'], ['R08679', 'C00045', 'C00161'], ['R01343', 'C00161', 'C00151'], ['R01265', 'C00151', 'C00405'], ['R02851', 'C00405', 'C00739'], ['R00460', 'C00739', 'C00047'], ['R00452', 'C00047', 'C04020'], ['R00452', 'C04020', 'C00022']]<=====\n",
      "=====> after trim_chrom:  长度是10---[['R02189', 'C00267', 'C00668'], ['R02737', 'C00668', 'C00689'], ['R02168', 'C00689', 'C00092'], ['R03921', 'C00092', 'C16688'], ['R00811', 'C16688', 'C04261'], ['R02631', 'C04261', 'C00615'], ['R11169', 'C00615', 'C11544'], ['R09666', 'C11544', 'C00258'], ['R01392', 'C00258', 'C00168'], ['R00585', 'C00168', 'C00022']]<=====\n",
      "-----Mutation Successfully!-----\n",
      "Chromesomes before mutation is :\n",
      "[['R01602', 'C00267', 'C00221'], ['R02187', 'C00221', 'C01172'], ['R02739', 'C01172', 'C00668'], ['R02740', 'C00668', 'C05345'], ['R00867', 'C05345', 'C00095'], ['R08406', 'C00095', 'C00085'], ['R01067', 'C00085', 'C00279'], ['R01825', 'C00279', 'C03393'], ['R11726', 'C03393', 'C00111'], ['R01011', 'C00111', 'C00184'], ['R01012', 'C00184', 'C00022']]\n",
      "Chromesomes after mutation is :\n",
      "[['R01602', 'C00267', 'C00221'], ['R02187', 'C00221', 'C01172'], ['R02739', 'C01172', 'C00668'], ['R02740', 'C00668', 'C05345'], ['R00867', 'C05345', 'C00095'], ['R08406', 'C00095', 'C00085'], ['R01067', 'C00085', 'C00279'], ['R01825', 'C00279', 'C03393'], ['R11726', 'C03393', 'C00111'], ['R02189', 'C00267', 'C00668'], ['R02737', 'C00668', 'C00689'], ['R02168', 'C00689', 'C00092'], ['R03921', 'C00092', 'C16688'], ['R00811', 'C16688', 'C04261'], ['R02631', 'C04261', 'C00615'], ['R11169', 'C00615', 'C11544'], ['R09666', 'C11544', 'C00258'], ['R01392', 'C00258', 'C00168'], ['R00585', 'C00168', 'C00022']]\n",
      "--------------------\n"
     ]
    },
    {
     "name": "stdout",
     "output_type": "stream",
     "text": [
      "=====> Mututation of the 13th iter 2th particle<=====\n"
     ]
    },
    {
     "name": "stderr",
     "output_type": "stream",
     "text": [
      "=====> after trim_chrom:  长度是5---[['R00878', 'C00267', 'C00095'], ['R08407', 'C00095', 'C01094'], ['R03232', 'C01094', 'C04261'], ['R02628', 'C04261', 'C00074'], ['R00206', 'C00074', 'C00022']]<=====\n",
      "-----Mutation Successfully!-----\n",
      "Chromesomes before mutation is :\n",
      "[['R00878', 'C00267', 'C00095'], ['R00877', 'C00095', 'C00159'], ['R02630', 'C00159', 'C00615'], ['R04076', 'C00615', 'C04261'], ['R08559', 'C04261', 'C16698'], ['R08555', 'C16698', 'C00256'], ['R13049', 'C00256', 'C00022']]\n",
      "Chromesomes after mutation is :\n",
      "[['R00878', 'C00267', 'C00095'], ['R00878', 'C00267', 'C00095'], ['R08407', 'C00095', 'C01094'], ['R03232', 'C01094', 'C04261'], ['R02628', 'C04261', 'C00074'], ['R00206', 'C00074', 'C00022']]\n",
      "--------------------\n"
     ]
    },
    {
     "name": "stdout",
     "output_type": "stream",
     "text": [
      "=====> Mututation of the 13th iter 3th particle<=====\n"
     ]
    },
    {
     "name": "stderr",
     "output_type": "stream",
     "text": [
      "=====> after trim_chrom:  长度是13---[['R01678', 'C00267', 'C00243'], ['R01100', 'C00243', 'C00031'], ['R09039', 'C00031', 'C03993'], ['R09039', 'C03993', 'C00156'], ['R01303', 'C00156', 'C00633'], ['R02673', 'C00633', 'C03198'], ['R04160', 'C03198', 'C03590'], ['R06626', 'C03590', 'C12323'], ['R06626', 'C12323', 'C00082'], ['R07211', 'C00082', 'C00079'], ['R08463', 'C00079', 'C08301'], ['R09089', 'C08301', 'C17268'], ['R09088', 'C17268', 'C00022']]<=====\n",
      "=====> after trim_chrom:  长度是4---[['R01678', 'C00267', 'C00243'], ['R01100', 'C00243', 'C00031'], ['R00725', 'C00031', 'C00104'], ['R00724', 'C00104', 'C00022']]<=====\n",
      "-----Mutation Successfully!-----\n",
      "Chromesomes before mutation is :\n",
      "[['R00878', 'C00267', 'C00095'], ['R12349', 'C00095', 'C00089'], ['R00803', 'C00089', 'C00103'], ['R00550', 'C00103', 'C00031'], ['R04409', 'C00031', 'C04164'], ['R02256', 'C04164', 'C00423'], ['R00697', 'C00423', 'C00079'], ['R01375', 'C00079', 'C00166'], ['R00692', 'C00166', 'C00022']]\n",
      "Chromesomes after mutation is :\n",
      "[['R00878', 'C00267', 'C00095'], ['R12349', 'C00095', 'C00089'], ['R01678', 'C00267', 'C00243'], ['R01100', 'C00243', 'C00031'], ['R00725', 'C00031', 'C00104'], ['R00724', 'C00104', 'C00022']]\n",
      "--------------------\n"
     ]
    },
    {
     "name": "stdout",
     "output_type": "stream",
     "text": [
      "=====> Mututation of the 14th iter 1th particle<=====\n"
     ]
    },
    {
     "name": "stderr",
     "output_type": "stream",
     "text": [
      "=====> after trim_chrom:  长度是27---[['R02109', 'C00267', 'C00369'], ['R02111', 'C00369', 'C00718'], ['R02421', 'C00718', 'C00498'], ['R05328', 'C00498', 'C10517'], ['R05791', 'C10517', 'C11546'], ['R12243', 'C11546', 'C00103'], ['R00960', 'C00103', 'C00031'], ['R05140', 'C00031', 'C00089'], ['R12528', 'C00089', 'C00095'], ['R00865', 'C00095', 'C00392'], ['R07135', 'C00392', 'C00159'], ['R08405', 'C00159', 'C00275'], ['R01819', 'C00275', 'C05345'], ['R01827', 'C05345', 'C05382'], ['R01641', 'C05382', 'C00231'], ['R01529', 'C00231', 'C00199'], ['R12150', 'C00199', 'C05235'], ['R02528', 'C05235', 'C00546'], ['R07183', 'C00546', 'C15499'], ['R07183', 'C15499', 'C00033'], ['R00710', 'C00033', 'C00084'], ['R02345', 'C00084', 'C00466'], ['R02344', 'C00466', 'C03046'], ['R03707', 'C03046', 'C01769'], ['R02949', 'C01769', 'C00810'], ['R02948', 'C00810', 'C06010'], ['R04672', 'C06010', 'C00022']]<=====\n",
      "=====> after trim_chrom:  长度是5---[['R01602', 'C00267', 'C00221'], ['R10040', 'C00221', 'C01594'], ['R10040', 'C01594', 'C02659'], ['R01553', 'C02659', 'C00207'], ['R03796', 'C00207', 'C00022']]<=====\n",
      "=====> after trim_chrom:  长度是21---[['R01786', 'C00267', 'C00668'], ['R02738', 'C00668', 'C04261'], ['R04393', 'C04261', 'C05396'], ['R03256', 'C05396', 'C00221'], ['R12983', 'C00221', 'C15548'], ['R12983', 'C15548', 'C00031'], ['R02595', 'C00031', 'C00761'], ['R02594', 'C00761', 'C00590'], ['R02593', 'C00590', 'C02666'], ['R06572', 'C02666', 'C12204'], ['R06570', 'C12204', 'C12205'], ['R06577', 'C12205', 'C00021'], ['R02931', 'C00021', 'C06563'], ['R06553', 'C06563', 'C00509'], ['R13074', 'C00509', 'C22568'], ['R13075', 'C22568', 'C22569'], ['R13076', 'C22569', 'C00036'], ['R00931', 'C00036', 'C02225'], ['R04424', 'C02225', 'C04225'], ['R04425', 'C04225', 'C04593'], ['R00409', 'C04593', 'C00022']]<=====\n",
      "=====> after trim_chrom:  长度是6---[['R00878', 'C00267', 'C00095'], ['R08407', 'C00095', 'C01094'], ['R02071', 'C01094', 'C05378'], ['R01070', 'C05378', 'C00118'], ['R13001', 'C00118', 'C00593'], ['R05652', 'C00593', 'C00022']]<=====\n",
      "-----Mutation Successfully!-----\n",
      "Chromesomes before mutation is :\n",
      "[['R01602', 'C00267', 'C00221'], ['R02187', 'C00221', 'C01172'], ['R02739', 'C01172', 'C00668'], ['R02740', 'C00668', 'C05345'], ['R00867', 'C05345', 'C00095'], ['R08406', 'C00095', 'C00085'], ['R01067', 'C00085', 'C00279'], ['R01825', 'C00279', 'C03393'], ['R11726', 'C03393', 'C00111'], ['R01011', 'C00111', 'C00184'], ['R01012', 'C00184', 'C00022']]\n",
      "Chromesomes after mutation is :\n",
      "[['R01602', 'C00267', 'C00221'], ['R02187', 'C00221', 'C01172'], ['R02739', 'C01172', 'C00668'], ['R02740', 'C00668', 'C05345'], ['R00867', 'C05345', 'C00095'], ['R08406', 'C00095', 'C00085'], ['R01067', 'C00085', 'C00279'], ['R01825', 'C00279', 'C03393'], ['R00878', 'C00267', 'C00095'], ['R08407', 'C00095', 'C01094'], ['R02071', 'C01094', 'C05378'], ['R01070', 'C05378', 'C00118'], ['R13001', 'C00118', 'C00593'], ['R05652', 'C00593', 'C00022']]\n",
      "--------------------\n"
     ]
    },
    {
     "name": "stdout",
     "output_type": "stream",
     "text": [
      "=====> Mututation of the 14th iter 2th particle<=====\n"
     ]
    },
    {
     "name": "stderr",
     "output_type": "stream",
     "text": [
      "=====> after trim_chrom:  长度是13---[['R01787', 'C00267', 'C00794'], ['R01697', 'C00794', 'C00247'], ['R01695', 'C00247', 'C00273'], ['R08651', 'C00273', 'C00095'], ['R00867', 'C00095', 'C05345'], ['R04780', 'C05345', 'C05378'], ['R02071', 'C05378', 'C01094'], ['R08407', 'C01094', 'C02133'], ['R08407', 'C02133', 'C00060'], ['R00545', 'C00060', 'C02444'], ['R00545', 'C02444', 'C00047'], ['R00452', 'C00047', 'C04020'], ['R00452', 'C04020', 'C00022']]<=====\n",
      "=====> after trim_chrom:  长度是18---[['R01718', 'C00267', 'C00252'], ['R11309', 'C00252', 'C00372'], ['R12528', 'C00372', 'C00095'], ['R01140', 'C00095', 'C00085'], ['R11623', 'C00085', 'C01097'], ['R08365', 'C01097', 'C06377'], ['R05168', 'C06377', 'C06376'], ['R08366', 'C06376', 'C01132'], ['R08967', 'C01132', 'C18060'], ['R10183', 'C18060', 'C00203'], ['R00418', 'C00203', 'C00043'], ['R04493', 'C00043', 'C04845'], ['R04493', 'C04845', 'C01290'], ['R03486', 'C01290', 'C04737'], ['R03618', 'C04737', 'C00124'], ['R01098', 'C00124', 'C00880'], ['R03033', 'C00880', 'C01216'], ['R10616', 'C01216', 'C00022']]<=====\n",
      "=====> after trim_chrom:  长度是10---[['R01788', 'C00267', 'C00668'], ['R02738', 'C00668', 'C00031'], ['R02185', 'C00031', 'C00092'], ['R09550', 'C00092', 'C01080'], ['R05459', 'C01080', 'C00876'], ['R10803', 'C00876', 'C00094'], ['R00533', 'C00094', 'C00059'], ['R12778', 'C00059', 'C00026'], ['R00355', 'C00026', 'C00036'], ['R00217', 'C00036', 'C00022']]<=====\n",
      "-----Mutation Successfully!-----\n",
      "Chromesomes before mutation is :\n",
      "[['R00878', 'C00267', 'C00095'], ['R00877', 'C00095', 'C00159'], ['R02630', 'C00159', 'C00615'], ['R04076', 'C00615', 'C04261'], ['R08559', 'C04261', 'C16698'], ['R08555', 'C16698', 'C00256'], ['R13049', 'C00256', 'C00022']]\n",
      "Chromesomes after mutation is :\n",
      "[['R00878', 'C00267', 'C00095'], ['R00877', 'C00095', 'C00159'], ['R02630', 'C00159', 'C00615'], ['R04076', 'C00615', 'C04261'], ['R08559', 'C04261', 'C16698'], ['R01788', 'C00267', 'C00668'], ['R02738', 'C00668', 'C00031'], ['R02185', 'C00031', 'C00092'], ['R09550', 'C00092', 'C01080'], ['R05459', 'C01080', 'C00876'], ['R10803', 'C00876', 'C00094'], ['R00533', 'C00094', 'C00059'], ['R12778', 'C00059', 'C00026'], ['R00355', 'C00026', 'C00036'], ['R00217', 'C00036', 'C00022']]\n",
      "--------------------\n"
     ]
    },
    {
     "name": "stdout",
     "output_type": "stream",
     "text": [
      "=====> Mututation of the 14th iter 3th particle<=====\n"
     ]
    },
    {
     "name": "stderr",
     "output_type": "stream",
     "text": [
      "=====> after trim_chrom:  长度是23---[['R01788', 'C00267', 'C00668'], ['R00959', 'C00668', 'C00103'], ['R01660', 'C00103', 'C01231'], ['R01660', 'C01231', 'C00236'], ['R02188', 'C00236', 'C00197'], ['R10860', 'C00197', 'C00118'], ['R08575', 'C00118', 'C00279'], ['R08575', 'C00279', 'C05382'], ['R01845', 'C05382', 'C00447'], ['R01829', 'C00447', 'C00111'], ['R12613', 'C00111', 'C04582'], ['R04420', 'C04582', 'C04188'], ['R01402', 'C04188', 'C00170'], ['R10529', 'C00170', 'C00223'], ['R07883', 'C00223', 'C16351'], ['R07883', 'C16351', 'C16312'], ['R10299', 'C16312', 'C12138'], ['R06536', 'C12138', 'C05908'], ['R05037', 'C05908', 'C00026'], ['R04529', 'C00026', 'C00025'], ['R06977', 'C00025', 'C03283'], ['R02293', 'C03283', 'C00041'], ['R00258', 'C00041', 'C00022']]<=====\n",
      "=====> after trim_chrom:  长度是12---[['R01786', 'C00267', 'C00668'], ['R00959', 'C00668', 'C00103'], ['R00550', 'C00103', 'C00061'], ['R05218', 'C00061', 'C06504'], ['R12184', 'C06504', 'C06506'], ['R05225', 'C06506', 'C06507'], ['R05225', 'C06507', 'C00064'], ['R00093', 'C00064', 'C00025'], ['R01090', 'C00025', 'C00123'], ['R01090', 'C00123', 'C00233'], ['R01090', 'C00233', 'C00026'], ['R10527', 'C00026', 'C00022']]<=====\n",
      "=====> after trim_chrom:  长度是10---[['R00878', 'C00267', 'C00095'], ['R08406', 'C00095', 'C00085'], ['R00764', 'C00085', 'C00354'], ['R09100', 'C00354', 'C00197'], ['R00024', 'C00197', 'C01182'], ['R01523', 'C01182', 'C00199'], ['R10221', 'C00199', 'C00345'], ['R01737', 'C00345', 'C00257'], ['R01538', 'C00257', 'C00204'], ['R08570', 'C00204', 'C00022']]<=====\n",
      "-----Mutation Successfully!-----\n",
      "Chromesomes before mutation is :\n",
      "[['R00878', 'C00267', 'C00095'], ['R12349', 'C00095', 'C00089'], ['R00803', 'C00089', 'C00103'], ['R00550', 'C00103', 'C00031'], ['R04409', 'C00031', 'C04164'], ['R02256', 'C04164', 'C00423'], ['R00697', 'C00423', 'C00079'], ['R01375', 'C00079', 'C00166'], ['R00692', 'C00166', 'C00022']]\n",
      "Chromesomes after mutation is :\n",
      "[['R00878', 'C00267', 'C00095'], ['R12349', 'C00095', 'C00089'], ['R00878', 'C00267', 'C00095'], ['R08406', 'C00095', 'C00085'], ['R00764', 'C00085', 'C00354'], ['R09100', 'C00354', 'C00197'], ['R00024', 'C00197', 'C01182'], ['R01523', 'C01182', 'C00199'], ['R10221', 'C00199', 'C00345'], ['R01737', 'C00345', 'C00257'], ['R01538', 'C00257', 'C00204'], ['R08570', 'C00204', 'C00022']]\n",
      "--------------------\n"
     ]
    },
    {
     "name": "stdout",
     "output_type": "stream",
     "text": [
      "=====> Mututation of the 15th iter 1th particle<=====\n"
     ]
    },
    {
     "name": "stderr",
     "output_type": "stream",
     "text": [
      "=====> after trim_chrom:  长度是13---[['R01602', 'C00267', 'C00221'], ['R12983', 'C00221', 'C15548'], ['R07264', 'C15548', 'C00031'], ['R10525', 'C00031', 'C00454'], ['R06365', 'C00454', 'C06592'], ['R05512', 'C06592', 'C00201'], ['R02320', 'C00201', 'C00074'], ['R00346', 'C00074', 'C00036'], ['R09683', 'C00036', 'C19813'], ['R09717', 'C19813', 'C00037'], ['R12694', 'C00037', 'C00048'], ['R00588', 'C00048', 'C00168'], ['R00585', 'C00168', 'C00022']]<=====\n",
      "-----Mutation Successfully!-----\n",
      "Chromesomes before mutation is :\n",
      "[['R01602', 'C00267', 'C00221'], ['R02187', 'C00221', 'C01172'], ['R02739', 'C01172', 'C00668'], ['R02740', 'C00668', 'C05345'], ['R00867', 'C05345', 'C00095'], ['R08406', 'C00095', 'C00085'], ['R01067', 'C00085', 'C00279'], ['R01825', 'C00279', 'C03393'], ['R11726', 'C03393', 'C00111'], ['R01011', 'C00111', 'C00184'], ['R01012', 'C00184', 'C00022']]\n",
      "Chromesomes after mutation is :\n",
      "[['R01602', 'C00267', 'C00221'], ['R02187', 'C00221', 'C01172'], ['R02739', 'C01172', 'C00668'], ['R01602', 'C00267', 'C00221'], ['R12983', 'C00221', 'C15548'], ['R07264', 'C15548', 'C00031'], ['R10525', 'C00031', 'C00454'], ['R06365', 'C00454', 'C06592'], ['R05512', 'C06592', 'C00201'], ['R02320', 'C00201', 'C00074'], ['R00346', 'C00074', 'C00036'], ['R09683', 'C00036', 'C19813'], ['R09717', 'C19813', 'C00037'], ['R12694', 'C00037', 'C00048'], ['R00588', 'C00048', 'C00168'], ['R00585', 'C00168', 'C00022']]\n",
      "--------------------\n"
     ]
    },
    {
     "name": "stdout",
     "output_type": "stream",
     "text": [
      "=====> Mututation of the 15th iter 2th particle<=====\n"
     ]
    },
    {
     "name": "stderr",
     "output_type": "stream",
     "text": [
      "=====> after trim_chrom:  长度是9---[['R01786', 'C00267', 'C00668'], ['R02738', 'C00668', 'C00031'], ['R10581', 'C00031', 'C08897'], ['R10581', 'C08897', 'C00507'], ['R02438', 'C00507', 'C02431'], ['R03942', 'C02431', 'C02991'], ['R03772', 'C02991', 'C01934'], ['R03774', 'C01934', 'C03979'], ['R02261', 'C03979', 'C00022']]<=====\n",
      "=====> after trim_chrom:  长度是14---[['R01786', 'C00267', 'C00668'], ['R02738', 'C00668', 'C00031'], ['R03323', 'C00031', 'C01175'], ['R03075', 'C01175', 'C00933'], ['R03075', 'C00933', 'C00114'], ['R07386', 'C00114', 'C00189'], ['R05381', 'C00189', 'C06772'], ['R05381', 'C06772', 'C00084'], ['R00753', 'C00084', 'C00186'], ['R01449', 'C00186', 'C00163'], ['R00928', 'C00163', 'C00033'], ['R00320', 'C00033', 'C00227'], ['R05651', 'C00227', 'C00593'], ['R05652', 'C00593', 'C00022']]<=====\n",
      "=====> after trim_chrom:  长度是12---[['R01718', 'C00267', 'C00252'], ['R11791', 'C00252', 'C00221'], ['R10035', 'C00221', 'C05143'], ['R10035', 'C05143', 'C03742'], ['R02708', 'C03742', 'C03766'], ['R04306', 'C03766', 'C04353'], ['R08659', 'C04353', 'C17238'], ['R08659', 'C17238', 'C00097'], ['R07460', 'C00097', 'C00041'], ['R10992', 'C00041', 'C02356'], ['R10992', 'C02356', 'C00109'], ['R10992', 'C00109', 'C00022']]<=====\n",
      "=====> after trim_chrom:  长度是9---[['R01788', 'C00267', 'C00668'], ['R02739', 'C00668', 'C01172'], ['R03321', 'C01172', 'C05345'], ['R04779', 'C05345', 'C05378'], ['R01070', 'C05378', 'C00111'], ['R05680', 'C00111', 'C00623'], ['R01044', 'C00623', 'C00116'], ['R01034', 'C00116', 'C00184'], ['R01012', 'C00184', 'C00022']]<=====\n",
      "-----Mutation Successfully!-----\n",
      "Chromesomes before mutation is :\n",
      "[['R00878', 'C00267', 'C00095'], ['R00877', 'C00095', 'C00159'], ['R02630', 'C00159', 'C00615'], ['R04076', 'C00615', 'C04261'], ['R08559', 'C04261', 'C16698'], ['R08555', 'C16698', 'C00256'], ['R13049', 'C00256', 'C00022']]\n",
      "Chromesomes after mutation is :\n",
      "[['R00878', 'C00267', 'C00095'], ['R00877', 'C00095', 'C00159'], ['R01788', 'C00267', 'C00668'], ['R02739', 'C00668', 'C01172'], ['R03321', 'C01172', 'C05345'], ['R04779', 'C05345', 'C05378'], ['R01070', 'C05378', 'C00111'], ['R05680', 'C00111', 'C00623'], ['R01044', 'C00623', 'C00116'], ['R01034', 'C00116', 'C00184'], ['R01012', 'C00184', 'C00022']]\n",
      "--------------------\n"
     ]
    },
    {
     "name": "stdout",
     "output_type": "stream",
     "text": [
      "=====> Mututation of the 15th iter 3th particle<=====\n"
     ]
    },
    {
     "name": "stderr",
     "output_type": "stream",
     "text": [
      "=====> after trim_chrom:  长度是19---[['R01788', 'C00267', 'C00668'], ['R02740', 'C00668', 'C05345'], ['R03321', 'C05345', 'C01172'], ['R02728', 'C01172', 'C00663'], ['R09941', 'C00663', 'C01518'], ['R09941', 'C01518', 'C00031'], ['R04409', 'C00031', 'C04164'], ['R04410', 'C04164', 'C06359'], ['R04410', 'C06359', 'C00469'], ['R00754', 'C00469', 'C00084'], ['R00751', 'C00084', 'C00188'], ['R01466', 'C00188', 'C01102'], ['R01771', 'C01102', 'C00263'], ['R01773', 'C00263', 'C00441'], ['R02291', 'C00441', 'C03082'], ['R00480', 'C03082', 'C00049'], ['R07410', 'C00049', 'C05840'], ['R13023', 'C05840', 'C00036'], ['R00217', 'C00036', 'C00022']]<=====\n",
      "=====> after trim_chrom:  长度是10---[['R01602', 'C00267', 'C00221'], ['R00026', 'C00221', 'C00185'], ['R01441', 'C00185', 'C04534'], ['R00839', 'C04534', 'C00092'], ['R05804', 'C00092', 'C00031'], ['R03323', 'C00031', 'C00149'], ['R01257', 'C00149', 'C00036'], ['R00363', 'C00036', 'C03981'], ['R04177', 'C03981', 'C03248'], ['R00218', 'C03248', 'C00022']]<=====\n",
      "-----Mutation Successfully!-----\n",
      "Chromesomes before mutation is :\n",
      "[['R00878', 'C00267', 'C00095'], ['R12349', 'C00095', 'C00089'], ['R00803', 'C00089', 'C00103'], ['R00550', 'C00103', 'C00031'], ['R04409', 'C00031', 'C04164'], ['R02256', 'C04164', 'C00423'], ['R00697', 'C00423', 'C00079'], ['R01375', 'C00079', 'C00166'], ['R00692', 'C00166', 'C00022']]\n",
      "Chromesomes after mutation is :\n",
      "[['R00878', 'C00267', 'C00095'], ['R12349', 'C00095', 'C00089'], ['R00803', 'C00089', 'C00103'], ['R00550', 'C00103', 'C00031'], ['R04409', 'C00031', 'C04164'], ['R02256', 'C04164', 'C00423'], ['R01602', 'C00267', 'C00221'], ['R00026', 'C00221', 'C00185'], ['R01441', 'C00185', 'C04534'], ['R00839', 'C04534', 'C00092'], ['R05804', 'C00092', 'C00031'], ['R03323', 'C00031', 'C00149'], ['R01257', 'C00149', 'C00036'], ['R00363', 'C00036', 'C03981'], ['R04177', 'C03981', 'C03248'], ['R00218', 'C03248', 'C00022']]\n",
      "--------------------\n"
     ]
    },
    {
     "name": "stdout",
     "output_type": "stream",
     "text": [
      "=====> Mututation of the 16th iter 1th particle<=====\n"
     ]
    },
    {
     "name": "stderr",
     "output_type": "stream",
     "text": [
      "=====> after trim_chrom:  长度是16---[['R00878', 'C00267', 'C00095'], ['R03921', 'C00095', 'C16688'], ['R03921', 'C16688', 'C00092'], ['R00835', 'C00092', 'C01236'], ['R02736', 'C01236', 'C01172'], ['R05133', 'C01172', 'C06187'], ['R05132', 'C06187', 'C04261'], ['R03232', 'C04261', 'C01094'], ['R02071', 'C01094', 'C05378'], ['R09084', 'C05378', 'C05345'], ['R10987', 'C05345', 'C02591'], ['R10987', 'C02591', 'C00103'], ['R05512', 'C00103', 'C06592'], ['R05512', 'C06592', 'C00201'], ['R02320', 'C00201', 'C00074'], ['R00206', 'C00074', 'C00022']]<=====\n",
      "=====> after trim_chrom:  长度是7---[['R00878', 'C00267', 'C00095'], ['R00760', 'C00095', 'C00085'], ['R00769', 'C00085', 'C00354'], ['R01068', 'C00354', 'C00118'], ['R01064', 'C00118', 'C01286'], ['R03387', 'C01286', 'C01216'], ['R10616', 'C01216', 'C00022']]<=====\n",
      "-----Mutation Successfully!-----\n",
      "Chromesomes before mutation is :\n",
      "[['R01602', 'C00267', 'C00221'], ['R02187', 'C00221', 'C01172'], ['R02739', 'C01172', 'C00668'], ['R02740', 'C00668', 'C05345'], ['R00867', 'C05345', 'C00095'], ['R08406', 'C00095', 'C00085'], ['R01067', 'C00085', 'C00279'], ['R01825', 'C00279', 'C03393'], ['R11726', 'C03393', 'C00111'], ['R01011', 'C00111', 'C00184'], ['R01012', 'C00184', 'C00022']]\n",
      "Chromesomes after mutation is :\n",
      "[['R01602', 'C00267', 'C00221'], ['R02187', 'C00221', 'C01172'], ['R02739', 'C01172', 'C00668'], ['R02740', 'C00668', 'C05345'], ['R00867', 'C05345', 'C00095'], ['R00878', 'C00267', 'C00095'], ['R00760', 'C00095', 'C00085'], ['R00769', 'C00085', 'C00354'], ['R01068', 'C00354', 'C00118'], ['R01064', 'C00118', 'C01286'], ['R03387', 'C01286', 'C01216'], ['R10616', 'C01216', 'C00022']]\n",
      "--------------------\n"
     ]
    },
    {
     "name": "stdout",
     "output_type": "stream",
     "text": [
      "=====> Mututation of the 16th iter 2th particle<=====\n"
     ]
    },
    {
     "name": "stderr",
     "output_type": "stream",
     "text": [
      "=====> after trim_chrom:  长度是17---[['R00802', 'C00267', 'C00089'], ['R05140', 'C00089', 'C06215'], ['R05140', 'C06215', 'C00031'], ['R00550', 'C00031', 'C00255'], ['R00549', 'C00255', 'C00061'], ['R09798', 'C00061', 'C14695'], ['R09798', 'C14695', 'C00048'], ['R03121', 'C00048', 'C00037'], ['R10722', 'C00037', 'C05678'], ['R10724', 'C05678', 'C00026'], ['R12214', 'C00026', 'C00025'], ['R00667', 'C00025', 'C00077'], ['R00672', 'C00077', 'C00515'], ['R02459', 'C00515', 'C01110'], ['R03248', 'C01110', 'C01602'], ['R02854', 'C01602', 'C00740'], ['R00221', 'C00740', 'C00022']]<=====\n",
      "=====> after trim_chrom:  长度是12---[['R01678', 'C00267', 'C00243'], ['R01678', 'C00243', 'C00124'], ['R01194', 'C00124', 'C01235'], ['R03418', 'C01235', 'C01613'], ['R03634', 'C01613', 'C00492'], ['R02411', 'C00492', 'C00089'], ['R00805', 'C00089', 'C02591'], ['R10987', 'C02591', 'C05345'], ['R01819', 'C05345', 'C00275'], ['R02630', 'C00275', 'C04261'], ['R08366', 'C04261', 'C00615'], ['R02628', 'C00615', 'C00022']]<=====\n",
      "=====> after trim_chrom:  长度是22---[['R02109', 'C00267', 'C00369'], ['R02112', 'C00369', 'C00208'], ['R01555', 'C00208', 'C00031'], ['R02595', 'C00031', 'C00761'], ['R02594', 'C00761', 'C00590'], ['R06573', 'C00590', 'C12205'], ['R06570', 'C12205', 'C12204'], ['R06569', 'C12204', 'C12203'], ['R06584', 'C12203', 'C00406'], ['R12566', 'C00406', 'C00024'], ['R04024', 'C00024', 'C02709'], ['R04024', 'C02709', 'C02720'], ['R05383', 'C02720', 'C01987'], ['R02669', 'C01987', 'C00632'], ['R07730', 'C00632', 'C16235'], ['R07734', 'C16235', 'C00108'], ['R00988', 'C00108', 'C05653'], ['R03936', 'C05653', 'C02700'], ['R01959', 'C02700', 'C00328'], ['R01957', 'C00328', 'C01252'], ['R01956', 'C01252', 'C00026'], ['R10487', 'C00026', 'C00022']]<=====\n",
      "=====> after trim_chrom:  长度是11---[['R01678', 'C00267', 'C00243'], ['R05166', 'C00243', 'C06371'], ['R05166', 'C06371', 'C06372'], ['R05326', 'C06372', 'C00446'], ['R09632', 'C00446', 'C19758'], ['R09632', 'C19758', 'C00507'], ['R02437', 'C00507', 'C00861'], ['R03014', 'C00861', 'C01131'], ['R02263', 'C01131', 'C00424'], ['R02260', 'C00424', 'C00546'], ['R00205', 'C00546', 'C00022']]<=====\n",
      "=====> after trim_chrom:  长度是17---[['R01718', 'C00267', 'C00252'], ['R01718', 'C00252', 'C00031'], ['R00299', 'C00031', 'C00092'], ['R08617', 'C00092', 'C17209'], ['R08890', 'C17209', 'C00940'], ['R12507', 'C00940', 'C00064'], ['R04463', 'C00064', 'C00025'], ['R08897', 'C00025', 'C00026'], ['R04173', 'C00026', 'C03232'], ['R01513', 'C03232', 'C00197'], ['R01058', 'C00197', 'C00118'], ['R01830', 'C00118', 'C00231'], ['R01529', 'C00231', 'C00199'], ['R01530', 'C00199', 'C01112'], ['R03254', 'C01112', 'C04478'], ['R03350', 'C04478', 'C01187'], ['R01576', 'C01187', 'C00022']]<=====\n",
      "=====> after trim_chrom:  长度是17---[['R00947', 'C00267', 'C00103'], ['R00948', 'C00103', 'C00498'], ['R02420', 'C00498', 'C01140'], ['R02420', 'C01140', 'C00017'], ['R00165', 'C00017', 'C00886'], ['R08779', 'C00886', 'C17550'], ['R08779', 'C17550', 'C05893'], ['R08855', 'C05893', 'C05894'], ['R08855', 'C05894', 'C00064'], ['R09599', 'C00064', 'C00025'], ['R10089', 'C00025', 'C00118'], ['R07159', 'C00118', 'C00197'], ['R01513', 'C00197', 'C03232'], ['R04173', 'C03232', 'C00026'], ['R03120', 'C00026', 'C00972'], ['R03121', 'C00972', 'C00048'], ['R00369', 'C00048', 'C00022']]<=====\n",
      "=====> after trim_chrom:  长度是14---[['R07265', 'C00267', 'C01083'], ['R10525', 'C01083', 'C00031'], ['R00838', 'C00031', 'C02995'], ['R10486', 'C02995', 'C00208'], ['R02112', 'C00208', 'C00369'], ['R02111', 'C00369', 'C00718'], ['R01821', 'C00718', 'C00103'], ['R11959', 'C00103', 'C19792'], ['R09665', 'C19792', 'C00258'], ['R01749', 'C00258', 'C03459'], ['R02545', 'C03459', 'C00552'], ['R02546', 'C00552', 'C00898'], ['R00339', 'C00898', 'C00036'], ['R00353', 'C00036', 'C00022']]<=====\n",
      "-----Mutation Successfully!-----\n",
      "Chromesomes before mutation is :\n",
      "[['R00878', 'C00267', 'C00095'], ['R00877', 'C00095', 'C00159'], ['R02630', 'C00159', 'C00615'], ['R04076', 'C00615', 'C04261'], ['R08559', 'C04261', 'C16698'], ['R08555', 'C16698', 'C00256'], ['R13049', 'C00256', 'C00022']]\n",
      "Chromesomes after mutation is :\n",
      "[['R00878', 'C00267', 'C00095'], ['R00877', 'C00095', 'C00159'], ['R02630', 'C00159', 'C00615'], ['R04076', 'C00615', 'C04261'], ['R08559', 'C04261', 'C16698'], ['R07265', 'C00267', 'C01083'], ['R10525', 'C01083', 'C00031'], ['R00838', 'C00031', 'C02995'], ['R10486', 'C02995', 'C00208'], ['R02112', 'C00208', 'C00369'], ['R02111', 'C00369', 'C00718'], ['R01821', 'C00718', 'C00103'], ['R11959', 'C00103', 'C19792'], ['R09665', 'C19792', 'C00258'], ['R01749', 'C00258', 'C03459'], ['R02545', 'C03459', 'C00552'], ['R02546', 'C00552', 'C00898'], ['R00339', 'C00898', 'C00036'], ['R00353', 'C00036', 'C00022']]\n",
      "--------------------\n"
     ]
    },
    {
     "name": "stdout",
     "output_type": "stream",
     "text": [
      "=====> Mututation of the 16th iter 3th particle<=====\n"
     ]
    },
    {
     "name": "stderr",
     "output_type": "stream",
     "text": [
      "=====> after trim_chrom:  长度是16---[['R00878', 'C00267', 'C00095'], ['R08548', 'C00095', 'C01094'], ['R10050', 'C01094', 'C16848'], ['R10049', 'C16848', 'C00354'], ['R05805', 'C00354', 'C00085'], ['R08575', 'C00085', 'C00118'], ['R01830', 'C00118', 'C00279'], ['R01827', 'C00279', 'C05382'], ['R01641', 'C05382', 'C00117'], ['R01050', 'C00117', 'C01151'], ['R06836', 'C01151', 'C00119'], ['R04378', 'C00119', 'C04677'], ['R12152', 'C04677', 'C04916'], ['R04558', 'C04916', 'C00025'], ['R08931', 'C00025', 'C00026'], ['R10542', 'C00026', 'C00022']]<=====\n",
      "=====> after trim_chrom:  长度是19---[['R02189', 'C00267', 'C00668'], ['R02738', 'C00668', 'C00031'], ['R00550', 'C00031', 'C00103'], ['R10987', 'C00103', 'C02591'], ['R10987', 'C02591', 'C05345'], ['R01827', 'C05345', 'C05382'], ['R01845', 'C05382', 'C00447'], ['R01829', 'C00447', 'C00279'], ['R08575', 'C00279', 'C00118'], ['R05465', 'C00118', 'C06655'], ['R05467', 'C06655', 'C06656'], ['R05466', 'C06656', 'C06657'], ['R05357', 'C06657', 'C00086'], ['R00775', 'C00086', 'C00581'], ['R00775', 'C00581', 'C00037'], ['R00945', 'C00037', 'C00065'], ['R03923', 'C00065', 'C00097'], ['R11528', 'C00097', 'C00041'], ['R08714', 'C00041', 'C00022']]<=====\n",
      "=====> after trim_chrom:  长度是23---[['R01602', 'C00267', 'C00221'], ['R01521', 'C00221', 'C00198'], ['R07147', 'C00198', 'C00031'], ['R00028', 'C00031', 'C00208'], ['R01556', 'C00208', 'C02130'], ['R01556', 'C02130', 'C00024'], ['R00391', 'C00024', 'C00264'], ['R01780', 'C00264', 'C00091'], ['R11773', 'C00091', 'C00100'], ['R00918', 'C00100', 'C03240'], ['R05270', 'C03240', 'C06635'], ['R05530', 'C06635', 'C00363'], ['R02094', 'C00363', 'C00364'], ['R06613', 'C00364', 'C00143'], ['R03704', 'C00143', 'C03446'], ['R00594', 'C03446', 'C01764'], ['R03704', 'C01764', 'C00016'], ['R03857', 'C00016', 'C03221'], ['R03856', 'C03221', 'C01832'], ['R03735', 'C01832', 'C04655'], ['R03735', 'C04655', 'C00036'], ['R00350', 'C00036', 'C04115'], ['R00350', 'C04115', 'C00022']]<=====\n",
      "=====> after trim_chrom:  长度是23---[['R01678', 'C00267', 'C00243'], ['R04393', 'C00243', 'C00615'], ['R05199', 'C00615', 'C00140'], ['R01205', 'C00140', 'C00611'], ['R04531', 'C00611', 'C04847'], ['R04531', 'C04847', 'C00052'], ['R04334', 'C00052', 'C04695'], ['R04334', 'C04695', 'C03868'], ['R04333', 'C03868', 'C04197'], ['R04333', 'C04197', 'C00031'], ['R04194', 'C00031', 'C03323'], ['R04194', 'C03323', 'C00089'], ['R12349', 'C00089', 'C00095'], ['R00876', 'C00095', 'C00085'], ['R01067', 'C00085', 'C00279'], ['R01825', 'C00279', 'C03393'], ['R04210', 'C03393', 'C06054'], ['R05085', 'C06054', 'C00026'], ['R04029', 'C00026', 'C05548'], ['R04029', 'C05548', 'C02727'], ['R00454', 'C02727', 'C00047'], ['R00453', 'C00047', 'C00041'], ['R04187', 'C00041', 'C00022']]<=====\n",
      "=====> after trim_chrom:  长度是8---[['R01602', 'C00267', 'C00221'], ['R10035', 'C00221', 'C05143'], ['R04296', 'C05143', 'C03742'], ['R05728', 'C03742', 'C04350'], ['R10671', 'C04350', 'C00082'], ['R12540', 'C00082', 'C00079'], ['R00692', 'C00079', 'C00166'], ['R00692', 'C00166', 'C00022']]<=====\n",
      "=====> after trim_chrom:  长度是42---[['R01678', 'C00267', 'C00243'], ['R04393', 'C00243', 'C05396'], ['R03256', 'C05396', 'C01113'], ['R03240', 'C01113', 'C01097'], ['R03237', 'C01097', 'C03785'], ['R01069', 'C03785', 'C00111'], ['R11726', 'C00111', 'C03393'], ['R01825', 'C03393', 'C00279'], ['R08575', 'C00279', 'C05382'], ['R06863', 'C05382', 'C00117'], ['R01052', 'C00117', 'C00301'], ['R01886', 'C00301', 'C01201'], ['R01886', 'C01201', 'C00062'], ['R00912', 'C00062', 'C05340'], ['R03935', 'C05340', 'C02385'], ['R02854', 'C02385', 'C01602'], ['R02854', 'C01602', 'C00740'], ['R00589', 'C00740', 'C00065'], ['R02563', 'C00065', 'C03872'], ['R02563', 'C03872', 'C00570'], ['R02057', 'C00570', 'C00350'], ['R04480', 'C00350', 'C04438'], ['R03416', 'C04438', 'C01233'], ['R03415', 'C01233', 'C04635'], ['R07379', 'C04635', 'C04756'], ['R04571', 'C04756', 'C04475'], ['R04721', 'C04475', 'C05209'], ['R04721', 'C05209', 'C04317'], ['R04452', 'C04317', 'C04598'], ['R04321', 'C04598', 'C00307'], ['R01891', 'C00307', 'C00550'], ['R02541', 'C00550', 'C00588'], ['R02591', 'C00588', 'C00670'], ['R02745', 'C00670', 'C04517'], ['R03107', 'C04517', 'C00958'], ['R03109', 'C00958', 'C00040'], ['R00385', 'C00040', 'C00605'], ['R02617', 'C00605', 'C00681'], ['R09380', 'C00681', 'C00093'], ['R00847', 'C00093', 'C00116'], ['R01045', 'C00116', 'C00184'], ['R01012', 'C00184', 'C00022']]<=====\n",
      "=====> after trim_chrom:  长度是9---[['R07265', 'C00267', 'C01083'], ['R11256', 'C01083', 'C06400'], ['R11256', 'C06400', 'C01935'], ['R11261', 'C01935', 'C00369'], ['R02111', 'C00369', 'C00103'], ['R01660', 'C00103', 'C00197'], ['R01513', 'C00197', 'C03232'], ['R04173', 'C03232', 'C00026'], ['R10542', 'C00026', 'C00022']]<=====\n",
      "=====> after trim_chrom:  长度是16---[['R00947', 'C00267', 'C00103'], ['R02111', 'C00103', 'C00369'], ['R09995', 'C00369', 'C01083'], ['R01557', 'C01083', 'C00208'], ['R00028', 'C00208', 'C00031'], ['R03604', 'C00031', 'C01533'], ['R03604', 'C01533', 'C02325'], ['R03918', 'C02325', 'C05610'], ['R06576', 'C05610', 'C12204'], ['R06576', 'C12204', 'C00021'], ['R07244', 'C00021', 'C01026'], ['R10060', 'C01026', 'C00037'], ['R00369', 'C00037', 'C00041'], ['R03599', 'C00041', 'C05688'], ['R10430', 'C05688', 'C05689'], ['R09366', 'C05689', 'C00022']]<=====\n",
      "=====> after trim_chrom:  长度是6---[['R09085', 'C00267', 'C00668'], ['R02740', 'C00668', 'C05345'], ['R01827', 'C05345', 'C00118'], ['R10049', 'C00118', 'C00546'], ['R09796', 'C00546', 'C00256'], ['R13049', 'C00256', 'C00022']]<=====\n",
      "-----Mutation Successfully!-----\n",
      "Chromesomes before mutation is :\n",
      "[['R00878', 'C00267', 'C00095'], ['R12349', 'C00095', 'C00089'], ['R00803', 'C00089', 'C00103'], ['R00550', 'C00103', 'C00031'], ['R04409', 'C00031', 'C04164'], ['R02256', 'C04164', 'C00423'], ['R00697', 'C00423', 'C00079'], ['R01375', 'C00079', 'C00166'], ['R00692', 'C00166', 'C00022']]\n",
      "Chromesomes after mutation is :\n",
      "[['R00878', 'C00267', 'C00095'], ['R12349', 'C00095', 'C00089'], ['R00803', 'C00089', 'C00103'], ['R00550', 'C00103', 'C00031'], ['R09085', 'C00267', 'C00668'], ['R02740', 'C00668', 'C05345'], ['R01827', 'C05345', 'C00118'], ['R10049', 'C00118', 'C00546'], ['R09796', 'C00546', 'C00256'], ['R13049', 'C00256', 'C00022']]\n",
      "--------------------\n"
     ]
    },
    {
     "name": "stdout",
     "output_type": "stream",
     "text": [
      "=====> Mututation of the 17th iter 1th particle<=====\n"
     ]
    },
    {
     "name": "stderr",
     "output_type": "stream",
     "text": [
      "=====> after trim_chrom:  长度是19---[['R01602', 'C00267', 'C00221'], ['R12983', 'C00221', 'C15548'], ['R07264', 'C15548', 'C00663'], ['R01555', 'C00663', 'C00208'], ['R01556', 'C00208', 'C02130'], ['R01556', 'C02130', 'C00024'], ['R03064', 'C00024', 'C00916'], ['R03062', 'C00916', 'C03112'], ['R05228', 'C03112', 'C06564'], ['R04147', 'C06564', 'C05557'], ['R04872', 'C05557', 'C05556'], ['R04870', 'C05556', 'C00183'], ['R01214', 'C00183', 'C00025'], ['R03248', 'C00025', 'C01602'], ['R02854', 'C01602', 'C02385'], ['R03935', 'C02385', 'C05340'], ['R00912', 'C05340', 'C00062'], ['R08197', 'C00062', 'C00041'], ['R09254', 'C00041', 'C00022']]<=====\n",
      "=====> after trim_chrom:  长度是21---[['R02189', 'C00267', 'C00668'], ['R02189', 'C00668', 'C00404'], ['R02185', 'C00404', 'C00031'], ['R00028', 'C00031', 'C00208'], ['R04111', 'C00208', 'C02995'], ['R00838', 'C02995', 'C00092'], ['R00771', 'C00092', 'C00085'], ['R05805', 'C00085', 'C00354'], ['R01068', 'C00354', 'C00118'], ['R01641', 'C00118', 'C00117'], ['R01057', 'C00117', 'C00620'], ['R06837', 'C00620', 'C01151'], ['R06836', 'C01151', 'C00119'], ['R08898', 'C00119', 'C18004'], ['R08898', 'C18004', 'C01441'], ['R11275', 'C01441', 'C05198'], ['R08583', 'C05198', 'C04268'], ['R08583', 'C04268', 'C11909'], ['R06426', 'C11909', 'C00026'], ['R02619', 'C00026', 'C05527'], ['R04861', 'C05527', 'C00022']]<=====\n",
      "=====> after trim_chrom:  长度是8---[['R00947', 'C00267', 'C00103'], ['R00960', 'C00103', 'C01231'], ['R01660', 'C01231', 'C00236'], ['R01517', 'C00236', 'C00197'], ['R01514', 'C00197', 'C00258'], ['R08572', 'C00258', 'C00631'], ['R00658', 'C00631', 'C00074'], ['R00200', 'C00074', 'C00022']]<=====\n",
      "-----Mutation Successfully!-----\n",
      "Chromesomes before mutation is :\n",
      "[['R01602', 'C00267', 'C00221'], ['R02187', 'C00221', 'C01172'], ['R02739', 'C01172', 'C00668'], ['R02740', 'C00668', 'C05345'], ['R00867', 'C05345', 'C00095'], ['R08406', 'C00095', 'C00085'], ['R01067', 'C00085', 'C00279'], ['R01825', 'C00279', 'C03393'], ['R11726', 'C03393', 'C00111'], ['R01011', 'C00111', 'C00184'], ['R01012', 'C00184', 'C00022']]\n",
      "Chromesomes after mutation is :\n",
      "[['R01602', 'C00267', 'C00221'], ['R02187', 'C00221', 'C01172'], ['R02739', 'C01172', 'C00668'], ['R00947', 'C00267', 'C00103'], ['R00960', 'C00103', 'C01231'], ['R01660', 'C01231', 'C00236'], ['R01517', 'C00236', 'C00197'], ['R01514', 'C00197', 'C00258'], ['R08572', 'C00258', 'C00631'], ['R00658', 'C00631', 'C00074'], ['R00200', 'C00074', 'C00022']]\n",
      "--------------------\n"
     ]
    },
    {
     "name": "stdout",
     "output_type": "stream",
     "text": [
      "=====> Mututation of the 17th iter 2th particle<=====\n"
     ]
    },
    {
     "name": "stderr",
     "output_type": "stream",
     "text": [
      "=====> after trim_chrom:  长度是27---[['R07265', 'C00267', 'C01083'], ['R02727', 'C01083', 'C00031'], ['R01006', 'C00031', 'C01246'], ['R01005', 'C01246', 'C00110'], ['R01007', 'C00110', 'C04500'], ['R01007', 'C04500', 'C00043'], ['R09677', 'C00043', 'C19804'], ['R09673', 'C19804', 'C00140'], ['R01266', 'C00140', 'C04540'], ['R01266', 'C04540', 'C00152'], ['R01267', 'C00152', 'C02512'], ['R02846', 'C02512', 'C00736'], ['R01109', 'C00736', 'C01420'], ['R01109', 'C01420', 'C00127'], ['R03984', 'C00127', 'C03684'], ['R04286', 'C03684', 'C04895'], ['R11719', 'C04895', 'C01300'], ['R03503', 'C01300', 'C04807'], ['R03067', 'C04807', 'C00921'], ['R03066', 'C00921', 'C00568'], ['R05280', 'C00568', 'C00230'], ['R00822', 'C00230', 'C00090'], ['R10043', 'C00090', 'C00146'], ['R01241', 'C00146', 'C00548'], ['R01241', 'C00548', 'C00033'], ['R03153', 'C00033', 'C02614'], ['R00325', 'C02614', 'C00022']]<=====\n",
      "=====> after trim_chrom:  长度是8---[['R01788', 'C00267', 'C00668'], ['R02738', 'C00668', 'C00031'], ['R00303', 'C00031', 'C00092'], ['R07324', 'C00092', 'C04006'], ['R07279', 'C04006', 'C00137'], ['R01183', 'C00137', 'C00691'], ['R02781', 'C00691', 'C00940'], ['R00576', 'C00940', 'C00022']]<=====\n",
      "-----Mutation Successfully!-----\n",
      "Chromesomes before mutation is :\n",
      "[['R00878', 'C00267', 'C00095'], ['R00877', 'C00095', 'C00159'], ['R02630', 'C00159', 'C00615'], ['R04076', 'C00615', 'C04261'], ['R08559', 'C04261', 'C16698'], ['R08555', 'C16698', 'C00256'], ['R13049', 'C00256', 'C00022']]\n",
      "Chromesomes after mutation is :\n",
      "[['R00878', 'C00267', 'C00095'], ['R00877', 'C00095', 'C00159'], ['R01788', 'C00267', 'C00668'], ['R02738', 'C00668', 'C00031'], ['R00303', 'C00031', 'C00092'], ['R07324', 'C00092', 'C04006'], ['R07279', 'C04006', 'C00137'], ['R01183', 'C00137', 'C00691'], ['R02781', 'C00691', 'C00940'], ['R00576', 'C00940', 'C00022']]\n",
      "--------------------\n"
     ]
    },
    {
     "name": "stdout",
     "output_type": "stream",
     "text": [
      "=====> Mututation of the 17th iter 3th particle<=====\n"
     ]
    },
    {
     "name": "stderr",
     "output_type": "stream",
     "text": [
      "=====> after trim_chrom:  长度是6---[['R11620', 'C00267', 'C00794'], ['R00874', 'C00794', 'C00095'], ['R12528', 'C00095', 'C00089'], ['R07256', 'C00089', 'C15541'], ['R07256', 'C15541', 'C00454'], ['R02320', 'C00454', 'C00022']]<=====\n",
      "=====> after trim_chrom:  长度是8---[['R01678', 'C00267', 'C00243'], ['R00503', 'C00243', 'C00031'], ['R05061', 'C00031', 'C05979'], ['R02377', 'C05979', 'C00479'], ['R02376', 'C00479', 'C00583'], ['R02259', 'C00583', 'C00424'], ['R02261', 'C00424', 'C03979'], ['R02261', 'C03979', 'C00022']]<=====\n",
      "=====> after trim_chrom:  长度是22---[['R02189', 'C00267', 'C00668'], ['R02737', 'C00668', 'C00689'], ['R05767', 'C00689', 'C00092'], ['R00834', 'C00092', 'C01096'], ['R05607', 'C01096', 'C05345'], ['R04780', 'C05345', 'C05378'], ['R02071', 'C05378', 'C01094'], ['R00866', 'C01094', 'C00095'], ['R00865', 'C00095', 'C00125'], ['R12144', 'C00125', 'C05422'], ['R04785', 'C05422', 'C04575'], ['R02637', 'C04575', 'C00618'], ['R07127', 'C00618', 'C14899'], ['R07677', 'C14899', 'C16186'], ['R07671', 'C16186', 'C00072'], ['R02535', 'C00072', 'C00547'], ['R02535', 'C00547', 'C03758'], ['R04300', 'C03758', 'C04043'], ['R11916', 'C04043', 'C00355'], ['R00031', 'C00355', 'C00082'], ['R09254', 'C00082', 'C00041'], ['R00369', 'C00041', 'C00022']]<=====\n",
      "=====> after trim_chrom:  长度是15---[['R01786', 'C00267', 'C00668'], ['R02740', 'C00668', 'C05345'], ['R10987', 'C05345', 'C02591'], ['R00805', 'C02591', 'C00089'], ['R08616', 'C00089', 'C00492'], ['R01103', 'C00492', 'C00124'], ['R10622', 'C00124', 'C00446'], ['R00955', 'C00446', 'C00103'], ['R08514', 'C00103', 'C00031'], ['R02558', 'C00031', 'C00844'], ['R02558', 'C00844', 'C00561'], ['R01767', 'C00561', 'C00261'], ['R01419', 'C00261', 'C00180'], ['R09088', 'C00180', 'C17268'], ['R09088', 'C17268', 'C00022']]<=====\n",
      "=====> after trim_chrom:  长度是16---[['R01788', 'C00267', 'C00668'], ['R00959', 'C00668', 'C00103'], ['R07265', 'C00103', 'C01083'], ['R01557', 'C01083', 'C00208'], ['R00028', 'C00208', 'C00031'], ['R03323', 'C00031', 'C00149'], ['R00343', 'C00149', 'C00036'], ['R01731', 'C00036', 'C00049'], ['R00487', 'C00049', 'C01042'], ['R10678', 'C01042', 'C12270'], ['R10678', 'C12270', 'C00025'], ['R04188', 'C00025', 'C00026'], ['R10991', 'C00026', 'C00109'], ['R10991', 'C00109', 'C02356'], ['R10992', 'C02356', 'C00041'], ['R09254', 'C00041', 'C00022']]<=====\n",
      "=====> after trim_chrom:  长度是8---[['R02109', 'C00267', 'C00369'], ['R02112', 'C00369', 'C00208'], ['R00028', 'C00208', 'C00031'], ['R00063', 'C00031', 'C01175'], ['R03075', 'C01175', 'C00933'], ['R03075', 'C00933', 'C00114'], ['R07377', 'C00114', 'C00065'], ['R00220', 'C00065', 'C00022']]<=====\n",
      "=====> after trim_chrom:  长度是10---[['R00878', 'C00267', 'C00095'], ['R08406', 'C00095', 'C00085'], ['R08575', 'C00085', 'C05382'], ['R06590', 'C05382', 'C00117'], ['R01050', 'C00117', 'C01151'], ['R10555', 'C01151', 'C01182'], ['R03140', 'C01182', 'C00988'], ['R01334', 'C00988', 'C00160'], ['R01335', 'C00160', 'C05406'], ['R01335', 'C05406', 'C00022']]<=====\n",
      "=====> after trim_chrom:  长度是22---[['R02109', 'C00267', 'C00369'], ['R11261', 'C00369', 'C01935'], ['R11256', 'C01935', 'C06400'], ['R11256', 'C06400', 'C01083'], ['R02780', 'C01083', 'C00689'], ['R05767', 'C00689', 'C00092'], ['R00850', 'C00092', 'C00031'], ['R01498', 'C00031', 'C01190'], ['R01497', 'C01190', 'C00195'], ['R06522', 'C00195', 'C02960'], ['R02542', 'C02960', 'C00550'], ['R02542', 'C00550', 'C00114'], ['R01021', 'C00114', 'C00588'], ['R01312', 'C00588', 'C00157'], ['R07377', 'C00157', 'C02737'], ['R01800', 'C02737', 'C00065'], ['R00891', 'C00065', 'C00097'], ['R00896', 'C00097', 'C00957'], ['R00895', 'C00957', 'C00026'], ['R11768', 'C00026', 'C00433'], ['R02278', 'C00433', 'C00684'], ['R01784', 'C00684', 'C00022']]<=====\n",
      "=====> after trim_chrom:  长度是10---[['R07265', 'C00267', 'C01083'], ['R08946', 'C01083', 'C00498'], ['R02421', 'C00498', 'C00718'], ['R01823', 'C00718', 'C00089'], ['R07256', 'C00089', 'C15541'], ['R09663', 'C15541', 'C19791'], ['R09664', 'C19791', 'C19792'], ['R12250', 'C19792', 'C00258'], ['R01392', 'C00258', 'C00168'], ['R00585', 'C00168', 'C00022']]<=====\n",
      "-----Mutation Successfully!-----\n",
      "Chromesomes before mutation is :\n",
      "[['R00878', 'C00267', 'C00095'], ['R12349', 'C00095', 'C00089'], ['R00803', 'C00089', 'C00103'], ['R00550', 'C00103', 'C00031'], ['R04409', 'C00031', 'C04164'], ['R02256', 'C04164', 'C00423'], ['R00697', 'C00423', 'C00079'], ['R01375', 'C00079', 'C00166'], ['R00692', 'C00166', 'C00022']]\n",
      "Chromesomes after mutation is :\n",
      "[['R00878', 'C00267', 'C00095'], ['R12349', 'C00095', 'C00089'], ['R00803', 'C00089', 'C00103'], ['R07265', 'C00267', 'C01083'], ['R08946', 'C01083', 'C00498'], ['R02421', 'C00498', 'C00718'], ['R01823', 'C00718', 'C00089'], ['R07256', 'C00089', 'C15541'], ['R09663', 'C15541', 'C19791'], ['R09664', 'C19791', 'C19792'], ['R12250', 'C19792', 'C00258'], ['R01392', 'C00258', 'C00168'], ['R00585', 'C00168', 'C00022']]\n",
      "--------------------\n"
     ]
    },
    {
     "name": "stdout",
     "output_type": "stream",
     "text": [
      "=====> Mututation of the 18th iter 1th particle<=====\n"
     ]
    },
    {
     "name": "stderr",
     "output_type": "stream",
     "text": [
      "=====> after trim_chrom:  长度是14---[['R07265', 'C00267', 'C01083'], ['R11256', 'C01083', 'C06400'], ['R01824', 'C06400', 'C01935'], ['R11262', 'C01935', 'C00208'], ['R01555', 'C00208', 'C00663'], ['R07264', 'C00663', 'C15548'], ['R12983', 'C15548', 'C00221'], ['R03256', 'C00221', 'C05396'], ['R03256', 'C05396', 'C01113'], ['R11171', 'C01113', 'C00124'], ['R01097', 'C00124', 'C03383'], ['R03034', 'C03383', 'C00880'], ['R03033', 'C00880', 'C01216'], ['R10616', 'C01216', 'C00022']]<=====\n",
      "=====> after trim_chrom:  长度是13---[['R01602', 'C00267', 'C00221'], ['R01600', 'C00221', 'C01172'], ['R02736', 'C01172', 'C01236'], ['R00835', 'C01236', 'C00092'], ['R08404', 'C00092', 'C02133'], ['R03841', 'C02133', 'C00060'], ['R07293', 'C00060', 'C01885'], ['R02687', 'C01885', 'C00641'], ['R03838', 'C00641', 'C02112'], ['R01352', 'C02112', 'C00116'], ['R01036', 'C00116', 'C00577'], ['R10050', 'C00577', 'C00546'], ['R00205', 'C00546', 'C00022']]<=====\n",
      "-----Mutation Successfully!-----\n",
      "Chromesomes before mutation is :\n",
      "[['R01602', 'C00267', 'C00221'], ['R02187', 'C00221', 'C01172'], ['R02739', 'C01172', 'C00668'], ['R02740', 'C00668', 'C05345'], ['R00867', 'C05345', 'C00095'], ['R08406', 'C00095', 'C00085'], ['R01067', 'C00085', 'C00279'], ['R01825', 'C00279', 'C03393'], ['R11726', 'C03393', 'C00111'], ['R01011', 'C00111', 'C00184'], ['R01012', 'C00184', 'C00022']]\n",
      "Chromesomes after mutation is :\n",
      "[['R01602', 'C00267', 'C00221'], ['R02187', 'C00221', 'C01172'], ['R01602', 'C00267', 'C00221'], ['R01600', 'C00221', 'C01172'], ['R02736', 'C01172', 'C01236'], ['R00835', 'C01236', 'C00092'], ['R08404', 'C00092', 'C02133'], ['R03841', 'C02133', 'C00060'], ['R07293', 'C00060', 'C01885'], ['R02687', 'C01885', 'C00641'], ['R03838', 'C00641', 'C02112'], ['R01352', 'C02112', 'C00116'], ['R01036', 'C00116', 'C00577'], ['R10050', 'C00577', 'C00546'], ['R00205', 'C00546', 'C00022']]\n",
      "--------------------\n"
     ]
    },
    {
     "name": "stdout",
     "output_type": "stream",
     "text": [
      "=====> Mututation of the 18th iter 2th particle<=====\n"
     ]
    },
    {
     "name": "stderr",
     "output_type": "stream",
     "text": [
      "=====> after trim_chrom:  长度是11---[['R02109', 'C00267', 'C00369'], ['R11261', 'C00369', 'C01935'], ['R11262', 'C01935', 'C00208'], ['R01556', 'C00208', 'C02130'], ['R01556', 'C02130', 'C00024'], ['R03668', 'C00024', 'C03537'], ['R03668', 'C03537', 'C01678'], ['R02467', 'C01678', 'C00519'], ['R02466', 'C00519', 'C00606'], ['R00863', 'C00606', 'C00041'], ['R00453', 'C00041', 'C00022']]<=====\n",
      "=====> after trim_chrom:  长度是17---[['R01786', 'C00267', 'C00668'], ['R02739', 'C00668', 'C01172'], ['R02187', 'C01172', 'C00221'], ['R13065', 'C00221', 'C05623'], ['R02158', 'C05623', 'C00389'], ['R13067', 'C00389', 'C01617'], ['R03639', 'C01617', 'C02906'], ['R05038', 'C02906', 'C05909'], ['R05037', 'C05909', 'C05908'], ['R06536', 'C05908', 'C12138'], ['R07929', 'C12138', 'C16370'], ['R07929', 'C16370', 'C00223'], ['R08815', 'C00223', 'C00540'], ['R02255', 'C00540', 'C00423'], ['R07796', 'C00423', 'C05607'], ['R01371', 'C05607', 'C00166'], ['R00692', 'C00166', 'C00022']]<=====\n",
      "=====> after trim_chrom:  长度是23---[['R01602', 'C00267', 'C00221'], ['R11791', 'C00221', 'C00252'], ['R01718', 'C00252', 'C00031'], ['R04194', 'C00031', 'C00089'], ['R02411', 'C00089', 'C00492'], ['R03418', 'C00492', 'C01613'], ['R03635', 'C01613', 'C00095'], ['R00865', 'C00095', 'C00125'], ['R00196', 'C00125', 'C00126'], ['R07679', 'C00126', 'C00072'], ['R07671', 'C00072', 'C00615'], ['R08559', 'C00615', 'C02713'], ['R11785', 'C02713', 'C16698'], ['R08555', 'C16698', 'C00357'], ['R08193', 'C00357', 'C04501'], ['R08968', 'C04501', 'C00140'], ['R01266', 'C00140', 'C04540'], ['R03421', 'C04540', 'C00049'], ['R00481', 'C00049', 'C05840'], ['R13023', 'C05840', 'C00036'], ['R00343', 'C00036', 'C00149'], ['R11074', 'C00149', 'C00186'], ['R01447', 'C00186', 'C00022']]<=====\n",
      "=====> after trim_chrom:  长度是9---[['R01786', 'C00267', 'C00668'], ['R02738', 'C00668', 'C04261'], ['R05132', 'C04261', 'C00615'], ['R11259', 'C00615', 'C04262'], ['R01516', 'C04262', 'C01159'], ['R02664', 'C01159', 'C00631'], ['R01748', 'C00631', 'C00258'], ['R01392', 'C00258', 'C00168'], ['R00585', 'C00168', 'C00022']]<=====\n",
      "-----Mutation Successfully!-----\n",
      "Chromesomes before mutation is :\n",
      "[['R00878', 'C00267', 'C00095'], ['R00877', 'C00095', 'C00159'], ['R02630', 'C00159', 'C00615'], ['R04076', 'C00615', 'C04261'], ['R08559', 'C04261', 'C16698'], ['R08555', 'C16698', 'C00256'], ['R13049', 'C00256', 'C00022']]\n",
      "Chromesomes after mutation is :\n",
      "[['R00878', 'C00267', 'C00095'], ['R00877', 'C00095', 'C00159'], ['R02630', 'C00159', 'C00615'], ['R04076', 'C00615', 'C04261'], ['R01786', 'C00267', 'C00668'], ['R02738', 'C00668', 'C04261'], ['R05132', 'C04261', 'C00615'], ['R11259', 'C00615', 'C04262'], ['R01516', 'C04262', 'C01159'], ['R02664', 'C01159', 'C00631'], ['R01748', 'C00631', 'C00258'], ['R01392', 'C00258', 'C00168'], ['R00585', 'C00168', 'C00022']]\n",
      "--------------------\n"
     ]
    },
    {
     "name": "stdout",
     "output_type": "stream",
     "text": [
      "=====> Mututation of the 18th iter 3th particle<=====\n"
     ]
    },
    {
     "name": "stderr",
     "output_type": "stream",
     "text": [
      "=====> after trim_chrom:  长度是8---[['R02109', 'C00267', 'C00369'], ['R02112', 'C00369', 'C00208'], ['R01556', 'C00208', 'C02130'], ['R01556', 'C02130', 'C00024'], ['R00271', 'C00024', 'C01251'], ['R00271', 'C01251', 'C00026'], ['R02619', 'C00026', 'C05527'], ['R04861', 'C05527', 'C00022']]<=====\n",
      "=====> after trim_chrom:  长度是11---[['R01678', 'C00267', 'C00243'], ['R01678', 'C00243', 'C00124'], ['R05549', 'C00124', 'C05404'], ['R05549', 'C05404', 'C05402'], ['R01101', 'C05402', 'C00031'], ['R10581', 'C00031', 'C08897'], ['R10582', 'C08897', 'C00507'], ['R10995', 'C00507', 'C02991'], ['R03772', 'C02991', 'C01934'], ['R03774', 'C01934', 'C03979'], ['R02261', 'C03979', 'C00022']]<=====\n",
      "=====> after trim_chrom:  长度是13---[['R00878', 'C00267', 'C00095'], ['R08406', 'C00095', 'C00060'], ['R08405', 'C00060', 'C00159'], ['R01326', 'C00159', 'C00275'], ['R00772', 'C00275', 'C00085'], ['R00761', 'C00085', 'C00227'], ['R00315', 'C00227', 'C00033'], ['R10705', 'C00033', 'C17530'], ['R10704', 'C17530', 'C00207'], ['R05735', 'C00207', 'C00164'], ['R00410', 'C00164', 'C00042'], ['R06336', 'C00042', 'C00026'], ['R11593', 'C00026', 'C00022']]<=====\n",
      "-----Mutation Successfully!-----\n",
      "Chromesomes before mutation is :\n",
      "[['R00878', 'C00267', 'C00095'], ['R12349', 'C00095', 'C00089'], ['R00803', 'C00089', 'C00103'], ['R00550', 'C00103', 'C00031'], ['R04409', 'C00031', 'C04164'], ['R02256', 'C04164', 'C00423'], ['R00697', 'C00423', 'C00079'], ['R01375', 'C00079', 'C00166'], ['R00692', 'C00166', 'C00022']]\n",
      "Chromesomes after mutation is :\n",
      "[['R00878', 'C00267', 'C00095'], ['R12349', 'C00095', 'C00089'], ['R00803', 'C00089', 'C00103'], ['R00550', 'C00103', 'C00031'], ['R04409', 'C00031', 'C04164'], ['R02256', 'C04164', 'C00423'], ['R00878', 'C00267', 'C00095'], ['R08406', 'C00095', 'C00060'], ['R08405', 'C00060', 'C00159'], ['R01326', 'C00159', 'C00275'], ['R00772', 'C00275', 'C00085'], ['R00761', 'C00085', 'C00227'], ['R00315', 'C00227', 'C00033'], ['R10705', 'C00033', 'C17530'], ['R10704', 'C17530', 'C00207'], ['R05735', 'C00207', 'C00164'], ['R00410', 'C00164', 'C00042'], ['R06336', 'C00042', 'C00026'], ['R11593', 'C00026', 'C00022']]\n",
      "--------------------\n"
     ]
    },
    {
     "name": "stdout",
     "output_type": "stream",
     "text": [
      "=====> Mututation of the 19th iter 1th particle<=====\n"
     ]
    },
    {
     "name": "stderr",
     "output_type": "stream",
     "text": [
      "=====> after trim_chrom:  长度是14---[['R01788', 'C00267', 'C00668'], ['R02737', 'C00668', 'C00689'], ['R02778', 'C00689', 'C01083'], ['R07265', 'C01083', 'C00103'], ['R00955', 'C00103', 'C00446'], ['R02329', 'C00446', 'C02097'], ['R02984', 'C02097', 'C00842'], ['R06513', 'C00842', 'C11907'], ['R02772', 'C11907', 'C06018'], ['R02772', 'C06018', 'C00024'], ['R08871', 'C00024', 'C17949'], ['R08872', 'C17949', 'C17950'], ['R08872', 'C17950', 'C00041'], ['R04187', 'C00041', 'C00022']]<=====\n",
      "=====> after trim_chrom:  长度是13---[['R01602', 'C00267', 'C00221'], ['R13051', 'C00221', 'C10216'], ['R13051', 'C10216', 'C10208'], ['R06564', 'C10208', 'C00858'], ['R06560', 'C00858', 'C02920'], ['R06562', 'C02920', 'C00786'], ['R06565', 'C00786', 'C10503'], ['R07740', 'C10503', 'C16223'], ['R07742', 'C16223', 'C16224'], ['R07741', 'C16224', 'C00083'], ['R09195', 'C00083', 'C00025'], ['R10086', 'C00025', 'C00026'], ['R10527', 'C00026', 'C00022']]<=====\n",
      "=====> after trim_chrom:  长度是12---[['R07265', 'C00267', 'C01083'], ['R10525', 'C01083', 'C00031'], ['R08432', 'C00031', 'C00729'], ['R08712', 'C00729', 'C02089'], ['R08712', 'C02089', 'C00040'], ['R01013', 'C00040', 'C03372'], ['R02756', 'C03372', 'C00681'], ['R09380', 'C00681', 'C00093'], ['R01030', 'C00093', 'C00670'], ['R02591', 'C00670', 'C00116'], ['R01045', 'C00116', 'C00184'], ['R01012', 'C00184', 'C00022']]<=====\n",
      "=====> after trim_chrom:  长度是6---[['R01602', 'C00267', 'C00221'], ['R12983', 'C00221', 'C15548'], ['R12983', 'C15548', 'C00031'], ['R03323', 'C00031', 'C00149'], ['R11074', 'C00149', 'C00186'], ['R13050', 'C00186', 'C00022']]<=====\n",
      "=====> after trim_chrom:  长度是17---[['R07265', 'C00267', 'C01083'], ['R10525', 'C01083', 'C00031'], ['R12983', 'C00031', 'C15548'], ['R12983', 'C15548', 'C00221'], ['R02187', 'C00221', 'C01172'], ['R02739', 'C01172', 'C00668'], ['R02740', 'C00668', 'C05345'], ['R04779', 'C05345', 'C05378'], ['R02071', 'C05378', 'C01094'], ['R03232', 'C01094', 'C00095'], ['R00876', 'C00095', 'C00085'], ['R05805', 'C00085', 'C00354'], ['R01068', 'C00354', 'C00111'], ['R01012', 'C00111', 'C00074'], ['R07476', 'C00074', 'C11536'], ['R05789', 'C11536', 'C11537'], ['R07633', 'C11537', 'C00022']]<=====\n",
      "=====> after trim_chrom:  长度是23---[['R00947', 'C00267', 'C00103'], ['R02111', 'C00103', 'C00369'], ['R01790', 'C00369', 'C00031'], ['R10525', 'C00031', 'C00454'], ['R06365', 'C00454', 'C04767'], ['R04222', 'C04767', 'C03442'], ['R05516', 'C03442', 'C03319'], ['R02777', 'C03319', 'C00688'], ['R06445', 'C00688', 'C11927'], ['R08597', 'C11927', 'C11922'], ['R05526', 'C11922', 'C06620'], ['R06443', 'C06620', 'C00363'], ['R02094', 'C00363', 'C00364'], ['R06613', 'C00364', 'C00365'], ['R02102', 'C00365', 'C00526'], ['R02486', 'C00526', 'C00042'], ['R12510', 'C00042', 'C00026'], ['R07613', 'C00026', 'C00025'], ['R03970', 'C00025', 'C05711'], ['R03970', 'C05711', 'C02512'], ['R00486', 'C02512', 'C00049'], ['R00400', 'C00049', 'C00041'], ['R08714', 'C00041', 'C00022']]<=====\n",
      "=====> after trim_chrom:  长度是16---[['R00802', 'C00267', 'C00089'], ['R12527', 'C00089', 'C00095'], ['R00867', 'C00095', 'C05345'], ['R02740', 'C05345', 'C00668'], ['R02739', 'C00668', 'C01172'], ['R02736', 'C01172', 'C01236'], ['R10520', 'C01236', 'C00092'], ['R00837', 'C00092', 'C00689'], ['R00837', 'C00689', 'C00031'], ['R10581', 'C00031', 'C08897'], ['R10582', 'C08897', 'C00507'], ['R02438', 'C00507', 'C02431'], ['R03942', 'C02431', 'C02991'], ['R03772', 'C02991', 'C01934'], ['R03774', 'C01934', 'C03979'], ['R02261', 'C03979', 'C00022']]<=====\n",
      "=====> after trim_chrom:  长度是14---[['R01678', 'C00267', 'C00243'], ['R00503', 'C00243', 'C00031'], ['R05140', 'C00031', 'C06215'], ['R05140', 'C06215', 'C00089'], ['R00039', 'C00089', 'C00492'], ['R02410', 'C00492', 'C00095'], ['R01140', 'C00095', 'C00085'], ['R00768', 'C00085', 'C00025'], ['R01090', 'C00025', 'C00123'], ['R01090', 'C00123', 'C00233'], ['R01090', 'C00233', 'C00026'], ['R04269', 'C00026', 'C06030'], ['R00995', 'C06030', 'C00109'], ['R10992', 'C00109', 'C00022']]<=====\n",
      "=====> after trim_chrom:  长度是17---[['R09085', 'C00267', 'C00668'], ['R00959', 'C00668', 'C00103'], ['R00803', 'C00103', 'C00089'], ['R08616', 'C00089', 'C00492'], ['R02410', 'C00492', 'C00095'], ['R00876', 'C00095', 'C00085'], ['R00756', 'C00085', 'C00354'], ['R10049', 'C00354', 'C16848'], ['R10050', 'C16848', 'C01094'], ['R02071', 'C01094', 'C05378'], ['R02073', 'C05378', 'C05345'], ['R09780', 'C05345', 'C06019'], ['R05338', 'C06019', 'C00199'], ['R01530', 'C00199', 'C01112'], ['R03254', 'C01112', 'C04478'], ['R03350', 'C04478', 'C01187'], ['R01576', 'C01187', 'C00022']]<=====\n",
      "=====> after trim_chrom:  长度是18---[['R01786', 'C00267', 'C00668'], ['R00959', 'C00668', 'C00103'], ['R08514', 'C00103', 'C00031'], ['R02985', 'C00031', 'C08325'], ['R10639', 'C08325', 'C00844'], ['R02558', 'C00844', 'C00561'], ['R11733', 'C00561', 'C16074'], ['R07855', 'C16074', 'C07086'], ['R06790', 'C07086', 'C00642'], ['R02514', 'C00642', 'C00544'], ['R02521', 'C00544', 'C01179'], ['R03337', 'C01179', 'C03964'], ['R12492', 'C03964', 'C00811'], ['R00737', 'C00811', 'C00082'], ['R10246', 'C00082', 'C15809'], ['R07463', 'C15809', 'C00037'], ['R00366', 'C00037', 'C00048'], ['R00369', 'C00048', 'C00022']]<=====\n",
      "=====> after trim_chrom:  长度是11---[['R01786', 'C00267', 'C00668'], ['R00959', 'C00668', 'C00103'], ['R09752', 'C00103', 'C00394'], ['R12607', 'C00394', 'C00096'], ['R00885', 'C00096', 'C00636'], ['R01818', 'C00636', 'C00275'], ['R01327', 'C00275', 'C00159'], ['R01327', 'C00159', 'C00104'], ['R02849', 'C00104', 'C00738'], ['R02850', 'C00738', 'C00206'], ['R01138', 'C00206', 'C00022']]<=====\n",
      "=====> after trim_chrom:  长度是21---[['R02189', 'C00267', 'C00668'], ['R00959', 'C00668', 'C00103'], ['R00304', 'C00103', 'C00031'], ['R00302', 'C00031', 'C02779'], ['R04048', 'C02779', 'C06440'], ['R02659', 'C06440', 'C06473'], ['R02658', 'C06473', 'C01218'], ['R02034', 'C01218', 'C00345'], ['R01528', 'C00345', 'C00199'], ['R12150', 'C00199', 'C05235'], ['R10717', 'C05235', 'C00583'], ['R02259', 'C00583', 'C00424'], ['R10715', 'C00424', 'C00546'], ['R02529', 'C00546', 'C01888'], ['R03758', 'C01888', 'C03508'], ['R00371', 'C03508', 'C00037'], ['R10179', 'C00037', 'C00048'], ['R00476', 'C00048', 'C00160'], ['R01333', 'C00160', 'C00266'], ['R01393', 'C00266', 'C00168'], ['R00585', 'C00168', 'C00022']]<=====\n",
      "=====> after trim_chrom:  长度是12---[['R01602', 'C00267', 'C00221'], ['R11791', 'C00221', 'C00252'], ['R01718', 'C00252', 'C00031'], ['R08432', 'C00031', 'C00729'], ['R02832', 'C00729', 'C00783'], ['R06734', 'C00783', 'C02066'], ['R06736', 'C02066', 'C12453'], ['R06736', 'C12453', 'C00024'], ['R10745', 'C00024', 'C17377'], ['R10745', 'C17377', 'C06664'], ['R10740', 'C06664', 'C00026'], ['R10487', 'C00026', 'C00022']]<=====\n",
      "=====> after trim_chrom:  长度是10---[['R01678', 'C00267', 'C00243'], ['R00503', 'C00243', 'C00031'], ['R08404', 'C00031', 'C00092'], ['R00835', 'C00092', 'C01236'], ['R02035', 'C01236', 'C00345'], ['R10221', 'C00345', 'C00199'], ['R07456', 'C00199', 'C00025'], ['R06426', 'C00025', 'C00026'], ['R00895', 'C00026', 'C00957'], ['R12689', 'C00957', 'C00022']]<=====\n",
      "-----Mutation Successfully!-----\n",
      "Chromesomes before mutation is :\n",
      "[['R01602', 'C00267', 'C00221'], ['R02187', 'C00221', 'C01172'], ['R02739', 'C01172', 'C00668'], ['R02740', 'C00668', 'C05345'], ['R00867', 'C05345', 'C00095'], ['R08406', 'C00095', 'C00085'], ['R01067', 'C00085', 'C00279'], ['R01825', 'C00279', 'C03393'], ['R11726', 'C03393', 'C00111'], ['R01011', 'C00111', 'C00184'], ['R01012', 'C00184', 'C00022']]\n",
      "Chromesomes after mutation is :\n",
      "[['R01602', 'C00267', 'C00221'], ['R02187', 'C00221', 'C01172'], ['R02739', 'C01172', 'C00668'], ['R02740', 'C00668', 'C05345'], ['R01678', 'C00267', 'C00243'], ['R00503', 'C00243', 'C00031'], ['R08404', 'C00031', 'C00092'], ['R00835', 'C00092', 'C01236'], ['R02035', 'C01236', 'C00345'], ['R10221', 'C00345', 'C00199'], ['R07456', 'C00199', 'C00025'], ['R06426', 'C00025', 'C00026'], ['R00895', 'C00026', 'C00957'], ['R12689', 'C00957', 'C00022']]\n",
      "--------------------\n"
     ]
    },
    {
     "name": "stdout",
     "output_type": "stream",
     "text": [
      "=====> Mututation of the 19th iter 2th particle<=====\n"
     ]
    },
    {
     "name": "stderr",
     "output_type": "stream",
     "text": [
      "=====> after trim_chrom:  长度是13---[['R02189', 'C00267', 'C00668'], ['R02738', 'C00668', 'C00031'], ['R08946', 'C00031', 'C01083'], ['R02780', 'C01083', 'C00689'], ['R02168', 'C00689', 'C00092'], ['R08617', 'C00092', 'C17209'], ['R08890', 'C17209', 'C17580'], ['R08890', 'C17580', 'C00064'], ['R04463', 'C00064', 'C00025'], ['R02077', 'C00025', 'C00026'], ['R03225', 'C00026', 'C00164'], ['R01366', 'C00164', 'C00207'], ['R03796', 'C00207', 'C00022']]<=====\n",
      "=====> after trim_chrom:  长度是21---[['R02109', 'C00267', 'C00369'], ['R02110', 'C00369', 'C00718'], ['R01823', 'C00718', 'C00089'], ['R01103', 'C00089', 'C00492'], ['R02411', 'C00492', 'C01235'], ['R01194', 'C01235', 'C00124'], ['R03634', 'C00124', 'C01613'], ['R03635', 'C01613', 'C00095'], ['R12527', 'C00095', 'C02616'], ['R11140', 'C02616', 'C01518'], ['R09941', 'C01518', 'C00663'], ['R02728', 'C00663', 'C01172'], ['R09086', 'C01172', 'C00221'], ['R10035', 'C00221', 'C05143'], ['R04296', 'C05143', 'C03742'], ['R05728', 'C03742', 'C04350'], ['R11442', 'C04350', 'C04353'], ['R08659', 'C04353', 'C17238'], ['R10672', 'C17238', 'C00097'], ['R07460', 'C00097', 'C00041'], ['R02271', 'C00041', 'C00022']]<=====\n",
      "=====> after trim_chrom:  长度是16---[['R07265', 'C00267', 'C01083'], ['R00010', 'C01083', 'C00031'], ['R02558', 'C00031', 'C00844'], ['R02558', 'C00844', 'C00561'], ['R01767', 'C00561', 'C00261'], ['R01420', 'C00261', 'C00180'], ['R02606', 'C00180', 'C01273'], ['R02606', 'C01273', 'C00596'], ['R02603', 'C00596', 'C04479'], ['R02603', 'C04479', 'C00042'], ['R05301', 'C00042', 'C00026'], ['R09363', 'C00026', 'C18473'], ['R09363', 'C18473', 'C00062'], ['R03477', 'C00062', 'C00077'], ['R00666', 'C00077', 'C04210'], ['R00666', 'C04210', 'C00022']]<=====\n",
      "=====> after trim_chrom:  长度是10---[['R00878', 'C00267', 'C00095'], ['R00760', 'C00095', 'C00085'], ['R00758', 'C00085', 'C00644'], ['R01817', 'C00644', 'C00275'], ['R02630', 'C00275', 'C00159'], ['R01329', 'C00159', 'C05400'], ['R01329', 'C05400', 'C00124'], ['R01098', 'C00124', 'C00880'], ['R03033', 'C00880', 'C01216'], ['R10616', 'C01216', 'C00022']]<=====\n",
      "=====> after trim_chrom:  长度是12---[['R01786', 'C00267', 'C00668'], ['R02738', 'C00668', 'C00031'], ['R04333', 'C00031', 'C00137'], ['R01183', 'C00137', 'C00691'], ['R02781', 'C00691', 'C00940'], ['R01375', 'C00940', 'C00064'], ['R03905', 'C00064', 'C00025'], ['R06586', 'C00025', 'C00026'], ['R10991', 'C00026', 'C00109'], ['R10992', 'C00109', 'C02356'], ['R10992', 'C02356', 'C00041'], ['R12622', 'C00041', 'C00022']]<=====\n",
      "=====> after trim_chrom:  长度是20---[['R01602', 'C00267', 'C00221'], ['R03256', 'C00221', 'C05396'], ['R04393', 'C05396', 'C00243'], ['R01100', 'C00243', 'C00031'], ['R00063', 'C00031', 'C01175'], ['R10299', 'C01175', 'C16312'], ['R07911', 'C16312', 'C12138'], ['R07926', 'C12138', 'C16367'], ['R07926', 'C16367', 'C00323'], ['R01942', 'C00323', 'C00406'], ['R12566', 'C00406', 'C00024'], ['R08248', 'C00024', 'C07585'], ['R08249', 'C07585', 'C07447'], ['R11903', 'C07447', 'C00033'], ['R00317', 'C00033', 'C00227'], ['R07227', 'C00227', 'C00213'], ['R01565', 'C00213', 'C01026'], ['R10060', 'C01026', 'C00037'], ['R00365', 'C00037', 'C00048'], ['R00369', 'C00048', 'C00022']]<=====\n",
      "=====> after trim_chrom:  长度是32---[['R00878', 'C00267', 'C00095'], ['R01140', 'C00095', 'C00206'], ['R01330', 'C00206', 'C00159'], ['R12095', 'C00159', 'C11544'], ['R09666', 'C11544', 'C00258'], ['R01747', 'C00258', 'C01146'], ['R02754', 'C01146', 'C00679'], ['R05608', 'C00679', 'C00879'], ['R01981', 'C00879', 'C00333'], ['R01980', 'C00333', 'C04037'], ['R02634', 'C04037', 'C00617'], ['R02636', 'C00617', 'C00935'], ['R04335', 'C00935', 'C04611'], ['R04335', 'C04611', 'C03868'], ['R04333', 'C03868', 'C00137'], ['R02411', 'C00137', 'C00089'], ['R00803', 'C00089', 'C00103'], ['R00960', 'C00103', 'C00031'], ['R12983', 'C00031', 'C15548'], ['R12983', 'C15548', 'C00221'], ['R13051', 'C00221', 'C10216'], ['R07720', 'C10216', 'C10208'], ['R07724', 'C10208', 'C00021'], ['R09191', 'C00021', 'C06654'], ['R09191', 'C06654', 'C02811'], ['R04060', 'C02811', 'C03206'], ['R05459', 'C03206', 'C00876'], ['R04464', 'C00876', 'C01080'], ['R05459', 'C01080', 'C06570'], ['R11478', 'C06570', 'C00016'], ['R01257', 'C00016', 'C00036'], ['R00930', 'C00036', 'C00022']]<=====\n",
      "=====> after trim_chrom:  长度是21---[['R02189', 'C00267', 'C00668'], ['R02738', 'C00668', 'C00031'], ['R02558', 'C00031', 'C00844'], ['R10638', 'C00844', 'C00561'], ['R11732', 'C00561', 'C19714'], ['R10670', 'C19714', 'C17237'], ['R08653', 'C17237', 'C16075'], ['R07638', 'C16075', 'C16074'], ['R07855', 'C16074', 'C07086'], ['R02536', 'C07086', 'C00601'], ['R11918', 'C00601', 'C00079'], ['R00694', 'C00079', 'C00166'], ['R01582', 'C00166', 'C00026'], ['R10460', 'C00026', 'C00025'], ['R00114', 'C00025', 'C00064'], ['R01716', 'C00064', 'C11355'], ['R12938', 'C11355', 'C18054'], ['R12937', 'C18054', 'C00251'], ['R01714', 'C00251', 'C01269'], ['R03460', 'C01269', 'C00074'], ['R00206', 'C00074', 'C00022']]<=====\n",
      "=====> after trim_chrom:  长度是26---[['R03115', 'C00267', 'C00965'], ['R00308', 'C00965', 'C00031'], ['R04006', 'C00031', 'C05855'], ['R04006', 'C05855', 'C02646'], ['R06580', 'C02646', 'C12206'], ['R06571', 'C12206', 'C10945'], ['R06574', 'C10945', 'C02666'], ['R05700', 'C02666', 'C01494'], ['R07440', 'C01494', 'C05619'], ['R02379', 'C05619', 'C00482'], ['R02380', 'C00482', 'C01175'], ['R10299', 'C01175', 'C16312'], ['R07944', 'C16312', 'C16313'], ['R07944', 'C16313', 'C00323'], ['R07436', 'C00323', 'C00223'], ['R06544', 'C00223', 'C12095'], ['R06544', 'C12095', 'C08604'], ['R06817', 'C08604', 'C12643'], ['R06817', 'C12643', 'C00083'], ['R05190', 'C00083', 'C02843'], ['R05190', 'C02843', 'C00024'], ['R01323', 'C00024', 'C00033'], ['R00325', 'C00033', 'C02614'], ['R03154', 'C02614', 'C00042'], ['R02160', 'C00042', 'C00026'], ['R10539', 'C00026', 'C00022']]<=====\n",
      "=====> after trim_chrom:  长度是5---[['R00878', 'C00267', 'C00095'], ['R00867', 'C00095', 'C05345'], ['R01827', 'C05345', 'C00118'], ['R01064', 'C00118', 'C01286'], ['R01064', 'C01286', 'C00022']]<=====\n",
      "=====> after trim_chrom:  长度是19---[['R01786', 'C00267', 'C00668'], ['R02739', 'C00668', 'C01172'], ['R02728', 'C01172', 'C00663'], ['R09941', 'C00663', 'C01518'], ['R09941', 'C01518', 'C00031'], ['R00725', 'C00031', 'C00092'], ['R03921', 'C00092', 'C16688'], ['R00811', 'C16688', 'C00089'], ['R00039', 'C00089', 'C00492'], ['R03418', 'C00492', 'C01613'], ['R03634', 'C01613', 'C00124'], ['R01329', 'C00124', 'C05400'], ['R01329', 'C05400', 'C00159'], ['R12095', 'C00159', 'C11544'], ['R12095', 'C11544', 'C00258'], ['R01388', 'C00258', 'C00168'], ['R00581', 'C00168', 'C00065'], ['R00585', 'C00065', 'C00041'], ['R03001', 'C00041', 'C00022']]<=====\n",
      "=====> after trim_chrom:  长度是11---[['R00878', 'C00267', 'C00095'], ['R00872', 'C00095', 'C03267'], ['R02730', 'C03267', 'C00665'], ['R00763', 'C00665', 'C00085'], ['R11623', 'C00085', 'C01097'], ['R08365', 'C01097', 'C06377'], ['R12220', 'C06377', 'C00352'], ['R01965', 'C00352', 'C00329'], ['R01964', 'C00329', 'C00104'], ['R00726', 'C00104', 'C00036'], ['R00930', 'C00036', 'C00022']]<=====\n",
      "-----Mutation Successfully!-----\n",
      "Chromesomes before mutation is :\n",
      "[['R00878', 'C00267', 'C00095'], ['R00877', 'C00095', 'C00159'], ['R02630', 'C00159', 'C00615'], ['R04076', 'C00615', 'C04261'], ['R08559', 'C04261', 'C16698'], ['R08555', 'C16698', 'C00256'], ['R13049', 'C00256', 'C00022']]\n",
      "Chromesomes after mutation is :\n",
      "[['R00878', 'C00267', 'C00095'], ['R00877', 'C00095', 'C00159'], ['R02630', 'C00159', 'C00615'], ['R00878', 'C00267', 'C00095'], ['R00872', 'C00095', 'C03267'], ['R02730', 'C03267', 'C00665'], ['R00763', 'C00665', 'C00085'], ['R11623', 'C00085', 'C01097'], ['R08365', 'C01097', 'C06377'], ['R12220', 'C06377', 'C00352'], ['R01965', 'C00352', 'C00329'], ['R01964', 'C00329', 'C00104'], ['R00726', 'C00104', 'C00036'], ['R00930', 'C00036', 'C00022']]\n",
      "--------------------\n"
     ]
    },
    {
     "name": "stdout",
     "output_type": "stream",
     "text": [
      "=====> Mututation of the 19th iter 3th particle<=====\n"
     ]
    },
    {
     "name": "stderr",
     "output_type": "stream",
     "text": [
      "=====> after trim_chrom:  长度是7---[['R07265', 'C00267', 'C01083'], ['R10525', 'C01083', 'C00031'], ['R00874', 'C00031', 'C00198'], ['R01519', 'C00198', 'C00257'], ['R01538', 'C00257', 'C00204'], ['R01541', 'C00204', 'C04442'], ['R05605', 'C04442', 'C00022']]<=====\n",
      "-----Mutation Successfully!-----\n",
      "Chromesomes before mutation is :\n",
      "[['R00878', 'C00267', 'C00095'], ['R12349', 'C00095', 'C00089'], ['R00803', 'C00089', 'C00103'], ['R00550', 'C00103', 'C00031'], ['R04409', 'C00031', 'C04164'], ['R02256', 'C04164', 'C00423'], ['R00697', 'C00423', 'C00079'], ['R01375', 'C00079', 'C00166'], ['R00692', 'C00166', 'C00022']]\n",
      "Chromesomes after mutation is :\n",
      "[['R00878', 'C00267', 'C00095'], ['R12349', 'C00095', 'C00089'], ['R07265', 'C00267', 'C01083'], ['R10525', 'C01083', 'C00031'], ['R00874', 'C00031', 'C00198'], ['R01519', 'C00198', 'C00257'], ['R01538', 'C00257', 'C00204'], ['R01541', 'C00204', 'C04442'], ['R05605', 'C04442', 'C00022']]\n",
      "--------------------\n"
     ]
    },
    {
     "name": "stdout",
     "output_type": "stream",
     "text": [
      "=====> Mututation of the 20th iter 1th particle<=====\n"
     ]
    },
    {
     "name": "stderr",
     "output_type": "stream",
     "text": [
      "=====> after trim_chrom:  长度是36---[['R00802', 'C00267', 'C00089'], ['R00811', 'C00089', 'C16688'], ['R00811', 'C16688', 'C04261'], ['R08367', 'C04261', 'C06377'], ['R08365', 'C06377', 'C01097'], ['R11623', 'C01097', 'C00085'], ['R00765', 'C00085', 'C00352'], ['R02058', 'C00352', 'C00357'], ['R08193', 'C00357', 'C04501'], ['R05332', 'C04501', 'C00024'], ['R08332', 'C00024', 'C16598'], ['R08332', 'C16598', 'C16588'], ['R08214', 'C16588', 'C16597'], ['R10391', 'C16597', 'C16583'], ['R08331', 'C16583', 'C00322'], ['R01940', 'C00322', 'C06157'], ['R01940', 'C06157', 'C15972'], ['R07602', 'C15972', 'C15975'], ['R01702', 'C15975', 'C00233'], ['R01088', 'C00233', 'C00123'], ['R02552', 'C00123', 'C04335'], ['R02552', 'C04335', 'C00556'], ['R01763', 'C00556', 'C00261'], ['R01420', 'C00261', 'C00180'], ['R01295', 'C00180', 'C00156'], ['R01307', 'C00156', 'C02370'], ['R05359', 'C02370', 'C06587'], ['R05359', 'C06587', 'C00596'], ['R07802', 'C00596', 'C16264'], ['R07802', 'C16264', 'C01606'], ['R05643', 'C01606', 'C03057'], ['R03465', 'C03057', 'C01275'], ['R03466', 'C01275', 'C03203'], ['R05649', 'C03203', 'C11427'], ['R05648', 'C11427', 'C11426'], ['R05648', 'C11426', 'C00022']]<=====\n",
      "=====> after trim_chrom:  长度是13---[['R01718', 'C00267', 'C00252'], ['R01718', 'C00252', 'C00031'], ['R04498', 'C00031', 'C01158'], ['R03297', 'C01158', 'C01424'], ['R01637', 'C01424', 'C00230'], ['R01298', 'C00230', 'C00156'], ['R01303', 'C00156', 'C00633'], ['R02676', 'C00633', 'C03742'], ['R02708', 'C03742', 'C03766'], ['R04306', 'C03766', 'C04353'], ['R11442', 'C04353', 'C04350'], ['R10672', 'C04350', 'C17238'], ['R08660', 'C17238', 'C00022']]<=====\n",
      "=====> after trim_chrom:  长度是23---[['R01786', 'C00267', 'C00668'], ['R02739', 'C00668', 'C01172'], ['R03321', 'C01172', 'C05345'], ['R09780', 'C05345', 'C06019'], ['R05338', 'C06019', 'C00067'], ['R12150', 'C00067', 'C00199'], ['R01526', 'C00199', 'C00309'], ['R01081', 'C00309', 'C00121'], ['R01677', 'C00121', 'C00387'], ['R02145', 'C00387', 'C01762'], ['R07917', 'C01762', 'C16352'], ['R07918', 'C16352', 'C16353'], ['R07965', 'C16353', 'C00385'], ['R01769', 'C00385', 'C00262'], ['R01244', 'C00262', 'C00147'], ['R09675', 'C00147', 'C00882'], ['R03036', 'C00882', 'C01134'], ['R03269', 'C01134', 'C04352'], ['R04230', 'C04352', 'C03492'], ['R03018', 'C03492', 'C00864'], ['R02473', 'C00864', 'C00099'], ['R00907', 'C00099', 'C00041'], ['R10992', 'C00041', 'C00022']]<=====\n",
      "=====> after trim_chrom:  长度是11---[['R01786', 'C00267', 'C00668'], ['R02737', 'C00668', 'C00689'], ['R02778', 'C00689', 'C01083'], ['R08946', 'C01083', 'C00031'], ['R05061', 'C00031', 'C05979'], ['R02377', 'C05979', 'C00479'], ['R02376', 'C00479', 'C00583'], ['R02259', 'C00583', 'C00424'], ['R01446', 'C00424', 'C00186'], ['R01450', 'C00186', 'C00256'], ['R00198', 'C00256', 'C00022']]<=====\n",
      "-----Mutation Successfully!-----\n",
      "Chromesomes before mutation is :\n",
      "[['R01602', 'C00267', 'C00221'], ['R02187', 'C00221', 'C01172'], ['R02739', 'C01172', 'C00668'], ['R02740', 'C00668', 'C05345'], ['R00867', 'C05345', 'C00095'], ['R08406', 'C00095', 'C00085'], ['R01067', 'C00085', 'C00279'], ['R01825', 'C00279', 'C03393'], ['R11726', 'C03393', 'C00111'], ['R01011', 'C00111', 'C00184'], ['R01012', 'C00184', 'C00022']]\n",
      "Chromesomes after mutation is :\n",
      "[['R01602', 'C00267', 'C00221'], ['R02187', 'C00221', 'C01172'], ['R02739', 'C01172', 'C00668'], ['R02740', 'C00668', 'C05345'], ['R00867', 'C05345', 'C00095'], ['R08406', 'C00095', 'C00085'], ['R01067', 'C00085', 'C00279'], ['R01825', 'C00279', 'C03393'], ['R01786', 'C00267', 'C00668'], ['R02737', 'C00668', 'C00689'], ['R02778', 'C00689', 'C01083'], ['R08946', 'C01083', 'C00031'], ['R05061', 'C00031', 'C05979'], ['R02377', 'C05979', 'C00479'], ['R02376', 'C00479', 'C00583'], ['R02259', 'C00583', 'C00424'], ['R01446', 'C00424', 'C00186'], ['R01450', 'C00186', 'C00256'], ['R00198', 'C00256', 'C00022']]\n",
      "--------------------\n"
     ]
    },
    {
     "name": "stdout",
     "output_type": "stream",
     "text": [
      "=====> Mututation of the 20th iter 2th particle<=====\n"
     ]
    },
    {
     "name": "stderr",
     "output_type": "stream",
     "text": [
      "=====> after trim_chrom:  长度是18---[['R01678', 'C00267', 'C00243'], ['R01100', 'C00243', 'C00031'], ['R01790', 'C00031', 'C00369'], ['R02111', 'C00369', 'C00103'], ['R05512', 'C00103', 'C06592'], ['R06365', 'C06592', 'C00454'], ['R07285', 'C00454', 'C00066'], ['R04684', 'C00066', 'C05156'], ['R04684', 'C05156', 'C05976'], ['R04684', 'C05976', 'C00344'], ['R12900', 'C00344', 'C00641'], ['R11205', 'C00641', 'C00350'], ['R02051', 'C00350', 'C00416'], ['R12796', 'C00416', 'C03974'], ['R06872', 'C03974', 'C00093'], ['R00844', 'C00093', 'C00111'], ['R01012', 'C00111', 'C00184'], ['R01012', 'C00184', 'C00022']]<=====\n",
      "=====> after trim_chrom:  长度是7---[['R01678', 'C00267', 'C00243'], ['R00503', 'C00243', 'C00031'], ['R00850', 'C00031', 'C00092'], ['R00850', 'C00092', 'C00093'], ['R00845', 'C00093', 'C00118'], ['R01064', 'C00118', 'C01286'], ['R01064', 'C01286', 'C00022']]<=====\n",
      "=====> after trim_chrom:  长度是28---[['R01718', 'C00267', 'C00252'], ['R11791', 'C00252', 'C00221'], ['R01520', 'C00221', 'C00198'], ['R07147', 'C00198', 'C00031'], ['R03323', 'C00031', 'C01175'], ['R03323', 'C01175', 'C02887'], ['R03323', 'C02887', 'C00149'], ['R00406', 'C00149', 'C04348'], ['R00406', 'C04348', 'C00091'], ['R00410', 'C00091', 'C00332'], ['R09527', 'C00332', 'C00083'], ['R04709', 'C00083', 'C06355'], ['R04709', 'C06355', 'C05195'], ['R02449', 'C05195', 'C00512'], ['R02450', 'C00512', 'C02137'], ['R07664', 'C02137', 'C01984'], ['R03794', 'C01984', 'C03198'], ['R06633', 'C03198', 'C03590'], ['R04234', 'C03590', 'C00026'], ['R00684', 'C00026', 'C00025'], ['R07643', 'C00025', 'C04138'], ['R07643', 'C04138', 'C00388'], ['R01167', 'C00388', 'C00135'], ['R01166', 'C00135', 'C00386'], ['R02144', 'C00386', 'C01262'], ['R03288', 'C01262', 'C00099'], ['R00907', 'C00099', 'C00041'], ['R10178', 'C00041', 'C00022']]<=====\n",
      "=====> after trim_chrom:  长度是15---[['R01602', 'C00267', 'C00221'], ['R01522', 'C00221', 'C00198'], ['R07147', 'C00198', 'C00031'], ['R08432', 'C00031', 'C00729'], ['R02832', 'C00729', 'C00783'], ['R08431', 'C00783', 'C06178'], ['R04027', 'C06178', 'C02723'], ['R01153', 'C02723', 'C00134'], ['R01154', 'C00134', 'C02714'], ['R01156', 'C02714', 'C00033'], ['R10343', 'C00033', 'C00042'], ['R03008', 'C00042', 'C00026'], ['R10460', 'C00026', 'C00025'], ['R07456', 'C00025', 'C00064'], ['R00986', 'C00064', 'C00022']]<=====\n",
      "=====> after trim_chrom:  长度是9---[['R07265', 'C00267', 'C01083'], ['R01557', 'C01083', 'C00208'], ['R01555', 'C00208', 'C00031'], ['R01100', 'C00031', 'C00243'], ['R01678', 'C00243', 'C00124'], ['R01096', 'C00124', 'C02669'], ['R10604', 'C02669', 'C00880'], ['R03033', 'C00880', 'C01216'], ['R10616', 'C01216', 'C00022']]<=====\n",
      "-----Mutation Successfully!-----\n",
      "Chromesomes before mutation is :\n",
      "[['R00878', 'C00267', 'C00095'], ['R00877', 'C00095', 'C00159'], ['R02630', 'C00159', 'C00615'], ['R04076', 'C00615', 'C04261'], ['R08559', 'C04261', 'C16698'], ['R08555', 'C16698', 'C00256'], ['R13049', 'C00256', 'C00022']]\n",
      "Chromesomes after mutation is :\n",
      "[['R00878', 'C00267', 'C00095'], ['R00877', 'C00095', 'C00159'], ['R02630', 'C00159', 'C00615'], ['R04076', 'C00615', 'C04261'], ['R08559', 'C04261', 'C16698'], ['R07265', 'C00267', 'C01083'], ['R01557', 'C01083', 'C00208'], ['R01555', 'C00208', 'C00031'], ['R01100', 'C00031', 'C00243'], ['R01678', 'C00243', 'C00124'], ['R01096', 'C00124', 'C02669'], ['R10604', 'C02669', 'C00880'], ['R03033', 'C00880', 'C01216'], ['R10616', 'C01216', 'C00022']]\n",
      "--------------------\n"
     ]
    },
    {
     "name": "stdout",
     "output_type": "stream",
     "text": [
      "=====> Mututation of the 20th iter 3th particle<=====\n"
     ]
    },
    {
     "name": "stderr",
     "output_type": "stream",
     "text": [
      "=====> after trim_chrom:  长度是9---[['R03115', 'C00267', 'C00965'], ['R03116', 'C00965', 'C00103'], ['R07265', 'C00103', 'C01083'], ['R02780', 'C01083', 'C00689'], ['R02168', 'C00689', 'C00092'], ['R08125', 'C00092', 'C16489'], ['R08125', 'C16489', 'C00047'], ['R00453', 'C00047', 'C04076'], ['R00453', 'C04076', 'C00022']]<=====\n",
      "=====> after trim_chrom:  长度是18---[['R09085', 'C00267', 'C00668'], ['R02739', 'C00668', 'C01172'], ['R05133', 'C01172', 'C06187'], ['R05132', 'C06187', 'C06186'], ['R05132', 'C06186', 'C00615'], ['R11258', 'C00615', 'C04261'], ['R04393', 'C04261', 'C05396'], ['R03256', 'C05396', 'C00221'], ['R01521', 'C00221', 'C00198'], ['R00300', 'C00198', 'C00031'], ['R04411', 'C00031', 'C04164'], ['R04410', 'C04164', 'C06359'], ['R04410', 'C06359', 'C00469'], ['R12515', 'C00469', 'C00849'], ['R12515', 'C00849', 'C00033'], ['R00743', 'C00033', 'C00383'], ['R01604', 'C00383', 'C00222'], ['R00907', 'C00222', 'C00022']]<=====\n",
      "=====> after trim_chrom:  长度是11---[['R01678', 'C00267', 'C00243'], ['R01100', 'C00243', 'C00031'], ['R00010', 'C00031', 'C01083'], ['R09995', 'C01083', 'C00369'], ['R02111', 'C00369', 'C00718'], ['R01821', 'C00718', 'C00103'], ['R01660', 'C00103', 'C00197'], ['R10860', 'C00197', 'C00118'], ['R10049', 'C00118', 'C00546'], ['R09796', 'C00546', 'C00256'], ['R00704', 'C00256', 'C00022']]<=====\n",
      "-----Mutation Successfully!-----\n",
      "Chromesomes before mutation is :\n",
      "[['R00878', 'C00267', 'C00095'], ['R12349', 'C00095', 'C00089'], ['R00803', 'C00089', 'C00103'], ['R00550', 'C00103', 'C00031'], ['R04409', 'C00031', 'C04164'], ['R02256', 'C04164', 'C00423'], ['R00697', 'C00423', 'C00079'], ['R01375', 'C00079', 'C00166'], ['R00692', 'C00166', 'C00022']]\n",
      "Chromesomes after mutation is :\n",
      "[['R00878', 'C00267', 'C00095'], ['R12349', 'C00095', 'C00089'], ['R00803', 'C00089', 'C00103'], ['R00550', 'C00103', 'C00031'], ['R01678', 'C00267', 'C00243'], ['R01100', 'C00243', 'C00031'], ['R00010', 'C00031', 'C01083'], ['R09995', 'C01083', 'C00369'], ['R02111', 'C00369', 'C00718'], ['R01821', 'C00718', 'C00103'], ['R01660', 'C00103', 'C00197'], ['R10860', 'C00197', 'C00118'], ['R10049', 'C00118', 'C00546'], ['R09796', 'C00546', 'C00256'], ['R00704', 'C00256', 'C00022']]\n",
      "--------------------\n"
     ]
    },
    {
     "name": "stdout",
     "output_type": "stream",
     "text": [
      "=====> Mututation of the 21th iter 1th particle<=====\n"
     ]
    },
    {
     "name": "stderr",
     "output_type": "stream",
     "text": [
      "=====> after trim_chrom:  长度是11---[['R01787', 'C00267', 'C00794'], ['R00875', 'C00794', 'C00095'], ['R00866', 'C00095', 'C01094'], ['R03232', 'C01094', 'C04261'], ['R07671', 'C04261', 'C00615'], ['R01516', 'C00615', 'C00197'], ['R01058', 'C00197', 'C00118'], ['R10049', 'C00118', 'C00546'], ['R02260', 'C00546', 'C00424'], ['R02261', 'C00424', 'C03979'], ['R02261', 'C03979', 'C00022']]<=====\n",
      "=====> after trim_chrom:  长度是13---[['R02109', 'C00267', 'C00369'], ['R02112', 'C00369', 'C00721'], ['R01791', 'C00721', 'C00031'], ['R00302', 'C00031', 'C02779'], ['R04048', 'C02779', 'C06440'], ['R02659', 'C06440', 'C06473'], ['R02658', 'C06473', 'C01218'], ['R02032', 'C01218', 'C00345'], ['R10221', 'C00345', 'C00199'], ['R01529', 'C00199', 'C00231'], ['R01067', 'C00231', 'C00118'], ['R01064', 'C00118', 'C01286'], ['R01064', 'C01286', 'C00022']]<=====\n",
      "=====> after trim_chrom:  长度是13---[['R00878', 'C00267', 'C00095'], ['R00876', 'C00095', 'C00085'], ['R01067', 'C00085', 'C00231'], ['R01621', 'C00231', 'C00227'], ['R00317', 'C00227', 'C00033'], ['R09483', 'C00033', 'C00383'], ['R01604', 'C00383', 'C00222'], ['R00907', 'C00222', 'C00099'], ['R10821', 'C00099', 'C00864'], ['R10821', 'C00864', 'C00522'], ['R02472', 'C00522', 'C00966'], ['R01226', 'C00966', 'C00141'], ['R01215', 'C00141', 'C00022']]<=====\n",
      "=====> after trim_chrom:  长度是10---[['R00802', 'C00267', 'C00089'], ['R08616', 'C00089', 'C00492'], ['R03418', 'C00492', 'C01613'], ['R03635', 'C01613', 'C00095'], ['R00874', 'C00095', 'C00198'], ['R01521', 'C00198', 'C00221'], ['R10040', 'C00221', 'C01594'], ['R10040', 'C01594', 'C02659'], ['R01553', 'C02659', 'C00207'], ['R03796', 'C00207', 'C00022']]<=====\n",
      "=====> after trim_chrom:  长度是35---[['R01786', 'C00267', 'C00668'], ['R00959', 'C00668', 'C00103'], ['R00952', 'C00103', 'C00185'], ['R01441', 'C00185', 'C04534'], ['R00839', 'C04534', 'C00031'], ['R00010', 'C00031', 'C01083'], ['R09995', 'C01083', 'C00369'], ['R02109', 'C00369', 'C00718'], ['R07261', 'C00718', 'C15541'], ['R07256', 'C15541', 'C00454'], ['R02321', 'C00454', 'C00881'], ['R01666', 'C00881', 'C00239'], ['R02321', 'C00239', 'C00201'], ['R10443', 'C00201', 'C01117'], ['R02934', 'C01117', 'C00676'], ['R05304', 'C00676', 'C02269'], ['R02806', 'C02269', 'C00214'], ['R01567', 'C00214', 'C00364'], ['R02094', 'C00364', 'C00363'], ['R06486', 'C00363', 'C11972'], ['R06476', 'C11972', 'C11971'], ['R06472', 'C11971', 'C11970'], ['R06465', 'C11970', 'C11969'], ['R06480', 'C11969', 'C00083'], ['R02482', 'C00083', 'C03414'], ['R02482', 'C03414', 'C00525'], ['R02481', 'C00525', 'C03137'], ['R02481', 'C03137', 'C00024'], ['R01089', 'C00024', 'C02710'], ['R01089', 'C02710', 'C00123'], ['R01090', 'C00123', 'C00233'], ['R01090', 'C00233', 'C00026'], ['R06586', 'C00026', 'C00025'], ['R00258', 'C00025', 'C00041'], ['R00585', 'C00041', 'C00022']]<=====\n",
      "=====> after trim_chrom:  长度是21---[['R07265', 'C00267', 'C01083'], ['R07265', 'C01083', 'C00103'], ['R01821', 'C00103', 'C00718'], ['R02121', 'C00718', 'C00372'], ['R02120', 'C00372', 'C00089'], ['R00809', 'C00089', 'C03848'], ['R00809', 'C03848', 'C00052'], ['R04016', 'C00052', 'C06126'], ['R04019', 'C06126', 'C02686'], ['R12970', 'C02686', 'C00195'], ['R06522', 'C00195', 'C02960'], ['R02542', 'C02960', 'C00550'], ['R02541', 'C00550', 'C00588'], ['R01890', 'C00588', 'C00307'], ['R01321', 'C00307', 'C00157'], ['R01310', 'C00157', 'C00416'], ['R09381', 'C00416', 'C00681'], ['R09380', 'C00681', 'C00093'], ['R00849', 'C00093', 'C00111'], ['R01012', 'C00111', 'C00184'], ['R01012', 'C00184', 'C00022']]<=====\n",
      "=====> after trim_chrom:  长度是7---[['R01788', 'C00267', 'C00668'], ['R02738', 'C00668', 'C04261'], ['R08559', 'C04261', 'C16698'], ['R11785', 'C16698', 'C02713'], ['R04112', 'C02713', 'C02999'], ['R04112', 'C02999', 'C00041'], ['R08197', 'C00041', 'C00022']]<=====\n",
      "=====> after trim_chrom:  长度是24---[['R07265', 'C00267', 'C01083'], ['R08946', 'C01083', 'C00498'], ['R00951', 'C00498', 'C00103'], ['R01660', 'C00103', 'C00197'], ['R00024', 'C00197', 'C01182'], ['R01523', 'C01182', 'C00199'], ['R01056', 'C00199', 'C00117'], ['R01050', 'C00117', 'C01151'], ['R06837', 'C01151', 'C00620'], ['R01863', 'C00620', 'C00294'], ['R12588', 'C00294', 'C03431'], ['R00193', 'C03431', 'C00021'], ['R04496', 'C00021', 'C04506'], ['R04496', 'C04506', 'C04748'], ['R09847', 'C04748', 'C19691'], ['R09562', 'C19691', 'C00097'], ['R00897', 'C00097', 'C00979'], ['R03132', 'C00979', 'C00033'], ['R05508', 'C00033', 'C00186'], ['R01449', 'C00186', 'C00163'], ['R11773', 'C00163', 'C00042'], ['R10522', 'C00042', 'C00026'], ['R05052', 'C00026', 'C05946'], ['R00471', 'C05946', 'C00022']]<=====\n",
      "=====> after trim_chrom:  长度是18---[['R02109', 'C00267', 'C00369'], ['R02111', 'C00369', 'C00718'], ['R02121', 'C00718', 'C00372'], ['R11309', 'C00372', 'C00252'], ['R01718', 'C00252', 'C00031'], ['R12208', 'C00031', 'C04831'], ['R08973', 'C04831', 'C18062'], ['R08973', 'C18062', 'C00021'], ['R04237', 'C00021', 'C03516'], ['R04237', 'C03516', 'C04536'], ['R06268', 'C04536', 'C11829'], ['R06266', 'C11829', 'C11830'], ['R06270', 'C11830', 'C00073'], ['R00650', 'C00073', 'C00155'], ['R12505', 'C00155', 'C00441'], ['R09805', 'C00441', 'C00049'], ['R00493', 'C00049', 'C00036'], ['R01447', 'C00036', 'C00022']]<=====\n",
      "=====> after trim_chrom:  长度是9---[['R01602', 'C00267', 'C00221'], ['R12969', 'C00221', 'C01190'], ['R01498', 'C01190', 'C00195'], ['R06519', 'C00195', 'C12126'], ['R06518', 'C12126', 'C00836'], ['R02978', 'C00836', 'C02934'], ['R01281', 'C02934', 'C00065'], ['R00590', 'C00065', 'C02218'], ['R08698', 'C02218', 'C00022']]<=====\n",
      "-----Mutation Successfully!-----\n",
      "Chromesomes before mutation is :\n",
      "[['R01602', 'C00267', 'C00221'], ['R02187', 'C00221', 'C01172'], ['R02739', 'C01172', 'C00668'], ['R02740', 'C00668', 'C05345'], ['R00867', 'C05345', 'C00095'], ['R08406', 'C00095', 'C00085'], ['R01067', 'C00085', 'C00279'], ['R01825', 'C00279', 'C03393'], ['R11726', 'C03393', 'C00111'], ['R01011', 'C00111', 'C00184'], ['R01012', 'C00184', 'C00022']]\n",
      "Chromesomes after mutation is :\n",
      "[['R01602', 'C00267', 'C00221'], ['R02187', 'C00221', 'C01172'], ['R02739', 'C01172', 'C00668'], ['R01602', 'C00267', 'C00221'], ['R12969', 'C00221', 'C01190'], ['R01498', 'C01190', 'C00195'], ['R06519', 'C00195', 'C12126'], ['R06518', 'C12126', 'C00836'], ['R02978', 'C00836', 'C02934'], ['R01281', 'C02934', 'C00065'], ['R00590', 'C00065', 'C02218'], ['R08698', 'C02218', 'C00022']]\n",
      "--------------------\n"
     ]
    },
    {
     "name": "stdout",
     "output_type": "stream",
     "text": [
      "=====> Mututation of the 21th iter 2th particle<=====\n"
     ]
    },
    {
     "name": "stderr",
     "output_type": "stream",
     "text": [
      "=====> after trim_chrom:  长度是13---[['R02189', 'C00267', 'C00668'], ['R02737', 'C00668', 'C00689'], ['R02168', 'C00689', 'C00092'], ['R01139', 'C00092', 'C00031'], ['R10581', 'C00031', 'C08897'], ['R10582', 'C08897', 'C00507'], ['R02438', 'C00507', 'C02431'], ['R03942', 'C02431', 'C02991'], ['R03772', 'C02991', 'C01934'], ['R03774', 'C01934', 'C03979'], ['R02261', 'C03979', 'C00424'], ['R01446', 'C00424', 'C00186'], ['R00196', 'C00186', 'C00022']]<=====\n",
      "-----Mutation Successfully!-----\n",
      "Chromesomes before mutation is :\n",
      "[['R00878', 'C00267', 'C00095'], ['R00877', 'C00095', 'C00159'], ['R02630', 'C00159', 'C00615'], ['R04076', 'C00615', 'C04261'], ['R08559', 'C04261', 'C16698'], ['R08555', 'C16698', 'C00256'], ['R13049', 'C00256', 'C00022']]\n",
      "Chromesomes after mutation is :\n",
      "[['R00878', 'C00267', 'C00095'], ['R02189', 'C00267', 'C00668'], ['R02737', 'C00668', 'C00689'], ['R02168', 'C00689', 'C00092'], ['R01139', 'C00092', 'C00031'], ['R10581', 'C00031', 'C08897'], ['R10582', 'C08897', 'C00507'], ['R02438', 'C00507', 'C02431'], ['R03942', 'C02431', 'C02991'], ['R03772', 'C02991', 'C01934'], ['R03774', 'C01934', 'C03979'], ['R02261', 'C03979', 'C00424'], ['R01446', 'C00424', 'C00186'], ['R00196', 'C00186', 'C00022']]\n",
      "--------------------\n"
     ]
    },
    {
     "name": "stdout",
     "output_type": "stream",
     "text": [
      "=====> Mututation of the 21th iter 3th particle<=====\n"
     ]
    },
    {
     "name": "stderr",
     "output_type": "stream",
     "text": [
      "=====> after trim_chrom:  长度是21---[['R09085', 'C00267', 'C00668'], ['R02737', 'C00668', 'C00689'], ['R05767', 'C00689', 'C00663'], ['R11310', 'C00663', 'C00092'], ['R07324', 'C00092', 'C04006'], ['R09634', 'C04006', 'C19761'], ['R09634', 'C19761', 'C00043'], ['R00660', 'C00043', 'C04631'], ['R00660', 'C04631', 'C00074'], ['R00341', 'C00074', 'C00036'], ['R01447', 'C00036', 'C00149'], ['R03323', 'C00149', 'C02887'], ['R03323', 'C02887', 'C01175'], ['R10299', 'C01175', 'C16312'], ['R07911', 'C16312', 'C12138'], ['R10299', 'C12138', 'C00482'], ['R02221', 'C00482', 'C00411'], ['R03965', 'C00411', 'C02750'], ['R03965', 'C02750', 'C02287'], ['R02969', 'C02287', 'C00830'], ['R02970', 'C00830', 'C00022']]<=====\n",
      "=====> after trim_chrom:  长度是16---[['R07265', 'C00267', 'C01083'], ['R02727', 'C01083', 'C00663'], ['R02728', 'C00663', 'C01172'], ['R10907', 'C01172', 'C01236'], ['R02035', 'C01236', 'C00345'], ['R01528', 'C00345', 'C00199'], ['R01523', 'C00199', 'C01182'], ['R10555', 'C01182', 'C01151'], ['R06836', 'C01151', 'C00119'], ['R08237', 'C00119', 'C04646'], ['R08239', 'C04646', 'C00021'], ['R00650', 'C00021', 'C00155'], ['R10305', 'C00155', 'C02291'], ['R08632', 'C02291', 'C00097'], ['R07460', 'C00097', 'C00041'], ['R09048', 'C00041', 'C00022']]<=====\n",
      "=====> after trim_chrom:  长度是11---[['R01788', 'C00267', 'C00668'], ['R02737', 'C00668', 'C00689'], ['R11783', 'C00689', 'C00498'], ['R00948', 'C00498', 'C00103'], ['R01660', 'C00103', 'C00197'], ['R01516', 'C00197', 'C01159'], ['R09532', 'C01159', 'C00631'], ['R08572', 'C00631', 'C00258'], ['R10615', 'C00258', 'C00577'], ['R10050', 'C00577', 'C00546'], ['R00203', 'C00546', 'C00022']]<=====\n",
      "-----Mutation Successfully!-----\n",
      "Chromesomes before mutation is :\n",
      "[['R00878', 'C00267', 'C00095'], ['R12349', 'C00095', 'C00089'], ['R00803', 'C00089', 'C00103'], ['R00550', 'C00103', 'C00031'], ['R04409', 'C00031', 'C04164'], ['R02256', 'C04164', 'C00423'], ['R00697', 'C00423', 'C00079'], ['R01375', 'C00079', 'C00166'], ['R00692', 'C00166', 'C00022']]\n",
      "Chromesomes after mutation is :\n",
      "[['R00878', 'C00267', 'C00095'], ['R12349', 'C00095', 'C00089'], ['R00803', 'C00089', 'C00103'], ['R00550', 'C00103', 'C00031'], ['R01788', 'C00267', 'C00668'], ['R02737', 'C00668', 'C00689'], ['R11783', 'C00689', 'C00498'], ['R00948', 'C00498', 'C00103'], ['R01660', 'C00103', 'C00197'], ['R01516', 'C00197', 'C01159'], ['R09532', 'C01159', 'C00631'], ['R08572', 'C00631', 'C00258'], ['R10615', 'C00258', 'C00577'], ['R10050', 'C00577', 'C00546'], ['R00203', 'C00546', 'C00022']]\n",
      "--------------------\n"
     ]
    },
    {
     "name": "stdout",
     "output_type": "stream",
     "text": [
      "=====> Mututation of the 22th iter 1th particle<=====\n"
     ]
    },
    {
     "name": "stderr",
     "output_type": "stream",
     "text": [
      "=====> after trim_chrom:  长度是13---[['R09085', 'C00267', 'C00668'], ['R02740', 'C00668', 'C05345'], ['R01819', 'C05345', 'C00275'], ['R01817', 'C00275', 'C00644'], ['R00758', 'C00644', 'C00085'], ['R00761', 'C00085', 'C00227'], ['R01620', 'C00227', 'C02727'], ['R01620', 'C02727', 'C00047'], ['R07598', 'C00047', 'C04076'], ['R02313', 'C04076', 'C00449'], ['R02315', 'C00449', 'C00025'], ['R10094', 'C00025', 'C00026'], ['R10527', 'C00026', 'C00022']]<=====\n",
      "=====> after trim_chrom:  长度是13---[['R00802', 'C00267', 'C00089'], ['R00805', 'C00089', 'C02591'], ['R00766', 'C02591', 'C00085'], ['R01067', 'C00085', 'C00231'], ['R06861', 'C00231', 'C00118'], ['R10349', 'C00118', 'C03506'], ['R02722', 'C03506', 'C00078'], ['R00674', 'C00078', 'C00065'], ['R00586', 'C00065', 'C00979'], ['R03601', 'C00979', 'C05688'], ['R04946', 'C05688', 'C00042'], ['R02444', 'C00042', 'C00026'], ['R10487', 'C00026', 'C00022']]<=====\n",
      "-----Mutation Successfully!-----\n",
      "Chromesomes before mutation is :\n",
      "[['R01602', 'C00267', 'C00221'], ['R02187', 'C00221', 'C01172'], ['R02739', 'C01172', 'C00668'], ['R02740', 'C00668', 'C05345'], ['R00867', 'C05345', 'C00095'], ['R08406', 'C00095', 'C00085'], ['R01067', 'C00085', 'C00279'], ['R01825', 'C00279', 'C03393'], ['R11726', 'C03393', 'C00111'], ['R01011', 'C00111', 'C00184'], ['R01012', 'C00184', 'C00022']]\n",
      "Chromesomes after mutation is :\n",
      "[['R01602', 'C00267', 'C00221'], ['R02187', 'C00221', 'C01172'], ['R02739', 'C01172', 'C00668'], ['R02740', 'C00668', 'C05345'], ['R00802', 'C00267', 'C00089'], ['R00805', 'C00089', 'C02591'], ['R00766', 'C02591', 'C00085'], ['R01067', 'C00085', 'C00231'], ['R06861', 'C00231', 'C00118'], ['R10349', 'C00118', 'C03506'], ['R02722', 'C03506', 'C00078'], ['R00674', 'C00078', 'C00065'], ['R00586', 'C00065', 'C00979'], ['R03601', 'C00979', 'C05688'], ['R04946', 'C05688', 'C00042'], ['R02444', 'C00042', 'C00026'], ['R10487', 'C00026', 'C00022']]\n",
      "--------------------\n"
     ]
    },
    {
     "name": "stdout",
     "output_type": "stream",
     "text": [
      "=====> Mututation of the 22th iter 2th particle<=====\n"
     ]
    },
    {
     "name": "stderr",
     "output_type": "stream",
     "text": [
      "=====> after trim_chrom:  长度是20---[['R02189', 'C00267', 'C00668'], ['R02738', 'C00668', 'C00031'], ['R08432', 'C00031', 'C00729'], ['R06735', 'C00729', 'C12452'], ['R06735', 'C12452', 'C00024'], ['R04386', 'C00024', 'C00083'], ['R05331', 'C00083', 'C07350'], ['R05331', 'C07350', 'C02939'], ['R10526', 'C02939', 'C00170'], ['R01402', 'C00170', 'C04188'], ['R04420', 'C04188', 'C04582'], ['R07392', 'C04582', 'C15650'], ['R07393', 'C15650', 'C15651'], ['R07394', 'C15651', 'C15606'], ['R07364', 'C15606', 'C01180'], ['R09373', 'C01180', 'C00073'], ['R08618', 'C00073', 'C00151'], ['R01265', 'C00151', 'C00405'], ['R01344', 'C00405', 'C00133'], ['R01147', 'C00133', 'C00022']]<=====\n",
      "=====> after trim_chrom:  长度是24---[['R01718', 'C00267', 'C00252'], ['R11309', 'C00252', 'C00372'], ['R12349', 'C00372', 'C00095'], ['R03921', 'C00095', 'C16688'], ['R00811', 'C16688', 'C00089'], ['R00809', 'C00089', 'C03848'], ['R00809', 'C03848', 'C00052'], ['R01205', 'C00052', 'C00611'], ['R01205', 'C00611', 'C00140'], ['R00022', 'C00140', 'C01674'], ['R11889', 'C01674', 'C00033'], ['R11903', 'C00033', 'C07447'], ['R08249', 'C07447', 'C07585'], ['R08248', 'C07585', 'C00024'], ['R06978', 'C00024', 'C06442'], ['R06978', 'C06442', 'C03283'], ['R06977', 'C03283', 'C00025'], ['R02315', 'C00025', 'C00449'], ['R00716', 'C00449', 'C00026'], ['R12216', 'C00026', 'C00042'], ['R11773', 'C00042', 'C00163'], ['R01449', 'C00163', 'C00186'], ['R01450', 'C00186', 'C00256'], ['R00704', 'C00256', 'C00022']]<=====\n",
      "=====> after trim_chrom:  长度是15---[['R01788', 'C00267', 'C00668'], ['R02739', 'C00668', 'C01172'], ['R02187', 'C01172', 'C00221'], ['R01520', 'C00221', 'C00198'], ['R10411', 'C00198', 'C00031'], ['R04949', 'C00031', 'C05713'], ['R04948', 'C05713', 'C05712'], ['R01409', 'C05712', 'C00177'], ['R09359', 'C00177', 'C18797'], ['R09359', 'C18797', 'C00071'], ['R00538', 'C00071', 'C00060'], ['R00546', 'C00060', 'C02715'], ['R00546', 'C02715', 'C00049'], ['R00357', 'C00049', 'C00036'], ['R00353', 'C00036', 'C00022']]<=====\n",
      "=====> after trim_chrom:  长度是7---[['R00802', 'C00267', 'C00089'], ['R05140', 'C00089', 'C00031'], ['R04410', 'C00031', 'C04164'], ['R04410', 'C04164', 'C06359'], ['R04410', 'C06359', 'C00469'], ['R09552', 'C00469', 'C00084'], ['R00224', 'C00084', 'C00022']]<=====\n",
      "=====> after trim_chrom:  长度是15---[['R02189', 'C00267', 'C00404'], ['R02187', 'C00404', 'C00221'], ['R02187', 'C00221', 'C01172'], ['R02739', 'C01172', 'C00668'], ['R02737', 'C00668', 'C00689'], ['R05767', 'C00689', 'C00092'], ['R08125', 'C00092', 'C16489'], ['R08125', 'C16489', 'C00047'], ['R12506', 'C00047', 'C01924'], ['R12506', 'C01924', 'C00062'], ['R00832', 'C00062', 'C03296'], ['R04189', 'C03296', 'C03415'], ['R04217', 'C03415', 'C00025'], ['R00248', 'C00025', 'C00026'], ['R01148', 'C00026', 'C00022']]<=====\n",
      "=====> after trim_chrom:  长度是11---[['R02109', 'C00267', 'C00369'], ['R01790', 'C00369', 'C00031'], ['R04411', 'C00031', 'C04164'], ['R02256', 'C04164', 'C00423'], ['R06781', 'C00423', 'C12621'], ['R06787', 'C12621', 'C12623'], ['R06788', 'C12623', 'C12624'], ['R06789', 'C12624', 'C00122'], ['R00408', 'C00122', 'C00042'], ['R10640', 'C00042', 'C02612'], ['R07399', 'C02612', 'C00022']]<=====\n",
      "-----Mutation Successfully!-----\n",
      "Chromesomes before mutation is :\n",
      "[['R00878', 'C00267', 'C00095'], ['R00877', 'C00095', 'C00159'], ['R02630', 'C00159', 'C00615'], ['R04076', 'C00615', 'C04261'], ['R08559', 'C04261', 'C16698'], ['R08555', 'C16698', 'C00256'], ['R13049', 'C00256', 'C00022']]\n",
      "Chromesomes after mutation is :\n",
      "[['R00878', 'C00267', 'C00095'], ['R00877', 'C00095', 'C00159'], ['R02630', 'C00159', 'C00615'], ['R04076', 'C00615', 'C04261'], ['R08559', 'C04261', 'C16698'], ['R02109', 'C00267', 'C00369'], ['R01790', 'C00369', 'C00031'], ['R04411', 'C00031', 'C04164'], ['R02256', 'C04164', 'C00423'], ['R06781', 'C00423', 'C12621'], ['R06787', 'C12621', 'C12623'], ['R06788', 'C12623', 'C12624'], ['R06789', 'C12624', 'C00122'], ['R00408', 'C00122', 'C00042'], ['R10640', 'C00042', 'C02612'], ['R07399', 'C02612', 'C00022']]\n",
      "--------------------\n"
     ]
    },
    {
     "name": "stdout",
     "output_type": "stream",
     "text": [
      "=====> Mututation of the 22th iter 3th particle<=====\n"
     ]
    },
    {
     "name": "stderr",
     "output_type": "stream",
     "text": [
      "=====> after trim_chrom:  长度是11---[['R01678', 'C00267', 'C00243'], ['R01680', 'C00243', 'C05403'], ['R04783', 'C05403', 'C00221'], ['R12983', 'C00221', 'C15548'], ['R12983', 'C15548', 'C00031'], ['R12250', 'C00031', 'C19792'], ['R12250', 'C19792', 'C00258'], ['R10615', 'C00258', 'C00577'], ['R10616', 'C00577', 'C01216'], ['R03387', 'C01216', 'C01286'], ['R01064', 'C01286', 'C00022']]<=====\n",
      "=====> after trim_chrom:  长度是13---[['R00878', 'C00267', 'C00095'], ['R00803', 'C00095', 'C00089'], ['R00802', 'C00089', 'C02336'], ['R03920', 'C02336', 'C05345'], ['R01827', 'C05345', 'C05382'], ['R06590', 'C05382', 'C00117'], ['R02345', 'C00117', 'C04359'], ['R02345', 'C04359', 'C00466'], ['R02343', 'C00466', 'C00741'], ['R10506', 'C00741', 'C06010'], ['R05071', 'C06010', 'C04181'], ['R03052', 'C04181', 'C00900'], ['R00006', 'C00900', 'C00022']]<=====\n",
      "=====> after trim_chrom:  长度是19---[['R02109', 'C00267', 'C00369'], ['R02109', 'C00369', 'C00718'], ['R01823', 'C00718', 'C00089'], ['R00039', 'C00089', 'C00492'], ['R01103', 'C00492', 'C00124'], ['R02926', 'C00124', 'C05399'], ['R02926', 'C05399', 'C00794'], ['R02868', 'C00794', 'C01096'], ['R00834', 'C01096', 'C00092'], ['R11310', 'C00092', 'C00663'], ['R01555', 'C00663', 'C00208'], ['R01555', 'C00208', 'C00031'], ['R00304', 'C00031', 'C00103'], ['R01660', 'C00103', 'C00197'], ['R01058', 'C00197', 'C00118'], ['R10089', 'C00118', 'C00025'], ['R00457', 'C00025', 'C00026'], ['R00734', 'C00026', 'C01179'], ['R09254', 'C01179', 'C00022']]<=====\n",
      "=====> after trim_chrom:  长度是10---[['R01718', 'C00267', 'C00252'], ['R11791', 'C00252', 'C00031'], ['R04411', 'C00031', 'C04164'], ['R02256', 'C04164', 'C00423'], ['R12535', 'C00423', 'C05629'], ['R04899', 'C05629', 'C01198'], ['R05537', 'C01198', 'C00805'], ['R02941', 'C00805', 'C06202'], ['R05136', 'C06202', 'C06203'], ['R05136', 'C06203', 'C00022']]<=====\n",
      "=====> after trim_chrom:  长度是13---[['R01602', 'C00267', 'C00221'], ['R13081', 'C00221', 'C09099'], ['R13081', 'C09099', 'C00509'], ['R13074', 'C00509', 'C22568'], ['R13075', 'C22568', 'C22569'], ['R13076', 'C22569', 'C22570'], ['R13077', 'C22570', 'C22571'], ['R13078', 'C22571', 'C22572'], ['R13079', 'C22572', 'C12088'], ['R10234', 'C12088', 'C00223'], ['R08767', 'C00223', 'C00024'], ['R00928', 'C00024', 'C00100'], ['R00930', 'C00100', 'C00022']]<=====\n",
      "=====> after trim_chrom:  长度是19---[['R02189', 'C00267', 'C00668'], ['R02738', 'C00668', 'C04261'], ['R08559', 'C04261', 'C16698'], ['R08555', 'C16698', 'C00357'], ['R02087', 'C00357', 'C04257'], ['R02706', 'C04257', 'C00645'], ['R02707', 'C00645', 'C01170'], ['R05566', 'C01170', 'C04881'], ['R05566', 'C04881', 'C01289'], ['R08856', 'C01289', 'C17556'], ['R05629', 'C17556', 'C04851'], ['R05662', 'C04851', 'C05893'], ['R08779', 'C05893', 'C17550'], ['R08779', 'C17550', 'C00886'], ['R04613', 'C00886', 'C04894'], ['R04613', 'C04894', 'C04702'], ['R04573', 'C04702', 'C00993'], ['R01150', 'C00993', 'C00133'], ['R01148', 'C00133', 'C00022']]<=====\n",
      "=====> after trim_chrom:  长度是9---[['R03115', 'C00267', 'C00965'], ['R00308', 'C00965', 'C00031'], ['R02727', 'C00031', 'C01083'], ['R02727', 'C01083', 'C00663'], ['R01555', 'C00663', 'C00208'], ['R04111', 'C00208', 'C02995'], ['R04111', 'C02995', 'C04261'], ['R02628', 'C04261', 'C00074'], ['R00199', 'C00074', 'C00022']]<=====\n",
      "=====> after trim_chrom:  长度是17---[['R01602', 'C00267', 'C00221'], ['R10040', 'C00221', 'C01594'], ['R03625', 'C01594', 'C02659'], ['R01553', 'C02659', 'C01326'], ['R08511', 'C01326', 'C00726'], ['R02828', 'C00726', 'C03620'], ['R03909', 'C03620', 'C00060'], ['R07158', 'C00060', 'C00071'], ['R00636', 'C00071', 'C00161'], ['R08630', 'C00161', 'C00151'], ['R08618', 'C00151', 'C00073'], ['R08873', 'C00073', 'C17949'], ['R08872', 'C17949', 'C17950'], ['R08872', 'C17950', 'C00041'], ['R00907', 'C00041', 'C00099'], ['R00908', 'C00099', 'C00222'], ['R00907', 'C00222', 'C00022']]<=====\n",
      "=====> after trim_chrom:  长度是24---[['R02189', 'C00267', 'C00668'], ['R02740', 'C00668', 'C05345'], ['R09780', 'C05345', 'C06019'], ['R05338', 'C06019', 'C00199'], ['R01526', 'C00199', 'C00309'], ['R07134', 'C00309', 'C01904'], ['R05604', 'C01904', 'C00310'], ['R01896', 'C00310', 'C00379'], ['R09477', 'C00379', 'C00181'], ['R12643', 'C00181', 'C02753'], ['R02428', 'C02753', 'C00502'], ['R02429', 'C00502', 'C03826'], ['R01782', 'C03826', 'C00266'], ['R01333', 'C00266', 'C00160'], ['R00475', 'C00160', 'C00048'], ['R00466', 'C00048', 'C00209'], ['R09157', 'C00209', 'C11150'], ['R07107', 'C11150', 'C07490'], ['R09148', 'C07490', 'C18246'], ['R09154', 'C18246', 'C18247'], ['R09155', 'C18247', 'C18248'], ['R09156', 'C18248', 'C00084'], ['R00753', 'C00084', 'C00186'], ['R11996', 'C00186', 'C00022']]<=====\n",
      "=====> after trim_chrom:  长度是8---[['R00947', 'C00267', 'C00103'], ['R10987', 'C00103', 'C02591'], ['R00766', 'C02591', 'C00085'], ['R05805', 'C00085', 'C00354'], ['R01068', 'C00354', 'C00118'], ['R10049', 'C00118', 'C00546'], ['R09796', 'C00546', 'C00256'], ['R00704', 'C00256', 'C00022']]<=====\n",
      "-----Mutation Successfully!-----\n",
      "Chromesomes before mutation is :\n",
      "[['R00878', 'C00267', 'C00095'], ['R12349', 'C00095', 'C00089'], ['R00803', 'C00089', 'C00103'], ['R00550', 'C00103', 'C00031'], ['R04409', 'C00031', 'C04164'], ['R02256', 'C04164', 'C00423'], ['R00697', 'C00423', 'C00079'], ['R01375', 'C00079', 'C00166'], ['R00692', 'C00166', 'C00022']]\n",
      "Chromesomes after mutation is :\n",
      "[['R00878', 'C00267', 'C00095'], ['R12349', 'C00095', 'C00089'], ['R00803', 'C00089', 'C00103'], ['R00550', 'C00103', 'C00031'], ['R00947', 'C00267', 'C00103'], ['R10987', 'C00103', 'C02591'], ['R00766', 'C02591', 'C00085'], ['R05805', 'C00085', 'C00354'], ['R01068', 'C00354', 'C00118'], ['R10049', 'C00118', 'C00546'], ['R09796', 'C00546', 'C00256'], ['R00704', 'C00256', 'C00022']]\n",
      "--------------------\n"
     ]
    },
    {
     "name": "stdout",
     "output_type": "stream",
     "text": [
      "=====> Mututation of the 23th iter 1th particle<=====\n"
     ]
    },
    {
     "name": "stderr",
     "output_type": "stream",
     "text": [
      "=====> after trim_chrom:  长度是22---[['R02109', 'C00267', 'C00369'], ['R11261', 'C00369', 'C01935'], ['R11262', 'C01935', 'C00208'], ['R00957', 'C00208', 'C00103'], ['R02328', 'C00103', 'C00842'], ['R06513', 'C00842', 'C11907'], ['R02773', 'C11907', 'C04268'], ['R08583', 'C04268', 'C11909'], ['R06426', 'C11909', 'C11910'], ['R06427', 'C11910', 'C00021'], ['R03304', 'C00021', 'C01161'], ['R03299', 'C01161', 'C05593'], ['R02517', 'C05593', 'C00544'], ['R02518', 'C00544', 'C05585'], ['R02657', 'C05585', 'C00628'], ['R02589', 'C00628', 'C00587'], ['R01628', 'C00587', 'C00230'], ['R05280', 'C00230', 'C00568'], ['R05553', 'C00568', 'C11355'], ['R12938', 'C11355', 'C18054'], ['R08956', 'C18054', 'C00251'], ['R00985', 'C00251', 'C00022']]<=====\n",
      "=====> after trim_chrom:  长度是8---[['R01718', 'C00267', 'C00252'], ['R11791', 'C00252', 'C00031'], ['R10581', 'C00031', 'C08897'], ['R10582', 'C08897', 'C00507'], ['R10788', 'C00507', 'C02991'], ['R03772', 'C02991', 'C01934'], ['R03774', 'C01934', 'C03979'], ['R02261', 'C03979', 'C00022']]<=====\n",
      "-----Mutation Successfully!-----\n",
      "Chromesomes before mutation is :\n",
      "[['R01602', 'C00267', 'C00221'], ['R02187', 'C00221', 'C01172'], ['R02739', 'C01172', 'C00668'], ['R02740', 'C00668', 'C05345'], ['R00867', 'C05345', 'C00095'], ['R08406', 'C00095', 'C00085'], ['R01067', 'C00085', 'C00279'], ['R01825', 'C00279', 'C03393'], ['R11726', 'C03393', 'C00111'], ['R01011', 'C00111', 'C00184'], ['R01012', 'C00184', 'C00022']]\n",
      "Chromesomes after mutation is :\n",
      "[['R01602', 'C00267', 'C00221'], ['R02187', 'C00221', 'C01172'], ['R02739', 'C01172', 'C00668'], ['R02740', 'C00668', 'C05345'], ['R00867', 'C05345', 'C00095'], ['R08406', 'C00095', 'C00085'], ['R01067', 'C00085', 'C00279'], ['R01825', 'C00279', 'C03393'], ['R11726', 'C03393', 'C00111'], ['R01011', 'C00111', 'C00184'], ['R01718', 'C00267', 'C00252'], ['R11791', 'C00252', 'C00031'], ['R10581', 'C00031', 'C08897'], ['R10582', 'C08897', 'C00507'], ['R10788', 'C00507', 'C02991'], ['R03772', 'C02991', 'C01934'], ['R03774', 'C01934', 'C03979'], ['R02261', 'C03979', 'C00022']]\n",
      "--------------------\n"
     ]
    },
    {
     "name": "stdout",
     "output_type": "stream",
     "text": [
      "=====> Mututation of the 23th iter 2th particle<=====\n"
     ]
    },
    {
     "name": "stderr",
     "output_type": "stream",
     "text": [
      "=====> after trim_chrom:  长度是18---[['R03115', 'C00267', 'C00965'], ['R00308', 'C00965', 'C00031'], ['R00874', 'C00031', 'C00794'], ['R02926', 'C00794', 'C05399'], ['R02926', 'C05399', 'C00124'], ['R11171', 'C00124', 'C01113'], ['R03240', 'C01113', 'C01097'], ['R08365', 'C01097', 'C06377'], ['R12220', 'C06377', 'C00352'], ['R02059', 'C00352', 'C00357'], ['R02059', 'C00357', 'C00033'], ['R04450', 'C00033', 'C04334'], ['R04588', 'C04334', 'C03725'], ['R04588', 'C03725', 'C01134'], ['R03269', 'C01134', 'C04352'], ['R04230', 'C04352', 'C00097'], ['R08653', 'C00097', 'C17237'], ['R08654', 'C17237', 'C00022']]<=====\n",
      "=====> after trim_chrom:  长度是20---[['R02109', 'C00267', 'C00369'], ['R02111', 'C00369', 'C00718'], ['R01821', 'C00718', 'C00103'], ['R00304', 'C00103', 'C00031'], ['R12983', 'C00031', 'C15548'], ['R12983', 'C15548', 'C00221'], ['R10039', 'C00221', 'C08334'], ['R10037', 'C08334', 'C18796'], ['R09358', 'C18796', 'C01326'], ['R03524', 'C01326', 'C02512'], ['R00486', 'C02512', 'C00049'], ['R09805', 'C00049', 'C00441'], ['R06977', 'C00441', 'C03283'], ['R02293', 'C03283', 'C00041'], ['R05652', 'C00041', 'C00245'], ['R12959', 'C00245', 'C00519'], ['R02466', 'C00519', 'C00606'], ['R00893', 'C00606', 'C00097'], ['R00895', 'C00097', 'C00957'], ['R12689', 'C00957', 'C00022']]<=====\n",
      "=====> after trim_chrom:  长度是15---[['R02189', 'C00267', 'C00668'], ['R00959', 'C00668', 'C00103'], ['R07265', 'C00103', 'C01083'], ['R10525', 'C01083', 'C00031'], ['R00300', 'C00031', 'C00198'], ['R00874', 'C00198', 'C00095'], ['R00877', 'C00095', 'C00159'], ['R12095', 'C00159', 'C11544'], ['R12095', 'C11544', 'C00258'], ['R10324', 'C00258', 'C00577'], ['R01041', 'C00577', 'C00116'], ['R00841', 'C00116', 'C00093'], ['R00844', 'C00093', 'C00111'], ['R01012', 'C00111', 'C00184'], ['R01012', 'C00184', 'C00022']]<=====\n",
      "=====> after trim_chrom:  长度是16---[['R01718', 'C00267', 'C00252'], ['R01718', 'C00252', 'C00031'], ['R10525', 'C00031', 'C01083'], ['R02778', 'C01083', 'C00689'], ['R02168', 'C00689', 'C00394'], ['R12607', 'C00394', 'C00103'], ['R00949', 'C00103', 'C01231'], ['R01660', 'C01231', 'C00236'], ['R01061', 'C00236', 'C00118'], ['R05605', 'C00118', 'C04442'], ['R01541', 'C04442', 'C00204'], ['R08570', 'C00204', 'C00577'], ['R08571', 'C00577', 'C00258'], ['R01751', 'C00258', 'C00898'], ['R00339', 'C00898', 'C00036'], ['R12212', 'C00036', 'C00022']]<=====\n",
      "=====> after trim_chrom:  长度是28---[['R01786', 'C00267', 'C00668'], ['R02740', 'C00668', 'C05345'], ['R01827', 'C05345', 'C05382'], ['R01843', 'C05382', 'C00447'], ['R01829', 'C00447', 'C00279'], ['R01827', 'C00279', 'C00118'], ['R01061', 'C00118', 'C00236'], ['R01660', 'C00236', 'C00197'], ['R01516', 'C00197', 'C00615'], ['R11169', 'C00615', 'C04261'], ['R04111', 'C04261', 'C02995'], ['R00838', 'C02995', 'C00031'], ['R05140', 'C00031', 'C06215'], ['R05140', 'C06215', 'C00089'], ['R12527', 'C00089', 'C00095'], ['R00876', 'C00095', 'C00104'], ['R03239', 'C00104', 'C01097'], ['R03240', 'C01097', 'C01113'], ['R11171', 'C01113', 'C00124'], ['R10619', 'C00124', 'C00984'], ['R01092', 'C00984', 'C00446'], ['R09632', 'C00446', 'C19758'], ['R09632', 'C19758', 'C00507'], ['R02438', 'C00507', 'C02431'], ['R03942', 'C02431', 'C02991'], ['R03772', 'C02991', 'C01934'], ['R03774', 'C01934', 'C03979'], ['R02261', 'C03979', 'C00022']]<=====\n",
      "=====> after trim_chrom:  长度是12---[['R01718', 'C00267', 'C00252'], ['R11791', 'C00252', 'C00031'], ['R08404', 'C00031', 'C00092'], ['R08125', 'C00092', 'C16489'], ['R08125', 'C16489', 'C00047'], ['R01620', 'C00047', 'C02727'], ['R04029', 'C02727', 'C05548'], ['R04142', 'C05548', 'C03087'], ['R02276', 'C03087', 'C00431'], ['R02274', 'C00431', 'C03273'], ['R02274', 'C03273', 'C00026'], ['R10542', 'C00026', 'C00022']]<=====\n",
      "=====> after trim_chrom:  长度是18---[['R01786', 'C00267', 'C00668'], ['R02739', 'C00668', 'C01172'], ['R02736', 'C01172', 'C01236'], ['R02035', 'C01236', 'C00345'], ['R02034', 'C00345', 'C01218'], ['R02658', 'C01218', 'C06473'], ['R01739', 'C06473', 'C00257'], ['R01519', 'C00257', 'C00198'], ['R01521', 'C00198', 'C00221'], ['R10039', 'C00221', 'C08334'], ['R10039', 'C08334', 'C18796'], ['R09358', 'C18796', 'C01326'], ['R08511', 'C01326', 'C00726'], ['R02828', 'C00726', 'C03620'], ['R03909', 'C03620', 'C00060'], ['R00544', 'C00060', 'C00071'], ['R00636', 'C00071', 'C00161'], ['R01344', 'C00161', 'C00022']]<=====\n",
      "=====> after trim_chrom:  长度是8---[['R11620', 'C00267', 'C00794'], ['R02865', 'C00794', 'C01096'], ['R05607', 'C01096', 'C05345'], ['R01830', 'C05345', 'C00279'], ['R01827', 'C00279', 'C00118'], ['R01064', 'C00118', 'C01286'], ['R03387', 'C01286', 'C01216'], ['R10616', 'C01216', 'C00022']]<=====\n",
      "-----Mutation Successfully!-----\n",
      "Chromesomes before mutation is :\n",
      "[['R00878', 'C00267', 'C00095'], ['R00877', 'C00095', 'C00159'], ['R02630', 'C00159', 'C00615'], ['R04076', 'C00615', 'C04261'], ['R08559', 'C04261', 'C16698'], ['R08555', 'C16698', 'C00256'], ['R13049', 'C00256', 'C00022']]\n",
      "Chromesomes after mutation is :\n",
      "[['R00878', 'C00267', 'C00095'], ['R00877', 'C00095', 'C00159'], ['R02630', 'C00159', 'C00615'], ['R04076', 'C00615', 'C04261'], ['R11620', 'C00267', 'C00794'], ['R02865', 'C00794', 'C01096'], ['R05607', 'C01096', 'C05345'], ['R01830', 'C05345', 'C00279'], ['R01827', 'C00279', 'C00118'], ['R01064', 'C00118', 'C01286'], ['R03387', 'C01286', 'C01216'], ['R10616', 'C01216', 'C00022']]\n",
      "--------------------\n"
     ]
    },
    {
     "name": "stdout",
     "output_type": "stream",
     "text": [
      "=====> Mututation of the 23th iter 3th particle<=====\n"
     ]
    },
    {
     "name": "stderr",
     "output_type": "stream",
     "text": [
      "=====> after trim_chrom:  长度是21---[['R02189', 'C00267', 'C00668'], ['R02739', 'C00668', 'C01172'], ['R02728', 'C01172', 'C00663'], ['R09941', 'C00663', 'C01518'], ['R09941', 'C01518', 'C00031'], ['R00302', 'C00031', 'C02779'], ['R04048', 'C02779', 'C06440'], ['R02659', 'C06440', 'C06473'], ['R07153', 'C06473', 'C02780'], ['R08879', 'C02780', 'C01062'], ['R01740', 'C01062', 'C00257'], ['R01737', 'C00257', 'C00345'], ['R01528', 'C00345', 'C00199'], ['R01529', 'C00199', 'C00231'], ['R01440', 'C00231', 'C00118'], ['R12668', 'C00118', 'C00111'], ['R02262', 'C00111', 'C01099'], ['R02262', 'C01099', 'C00424'], ['R02260', 'C00424', 'C00546'], ['R09796', 'C00546', 'C00256'], ['R11591', 'C00256', 'C00022']]<=====\n",
      "=====> after trim_chrom:  长度是9---[['R07265', 'C00267', 'C01083'], ['R11306', 'C01083', 'C00031'], ['R00304', 'C00031', 'C00103'], ['R09752', 'C00103', 'C00394'], ['R12607', 'C00394', 'C00096'], ['R09734', 'C00096', 'C19857'], ['R09760', 'C19857', 'C19870'], ['R09760', 'C19870', 'C00074'], ['R00206', 'C00074', 'C00022']]<=====\n",
      "=====> after trim_chrom:  长度是17---[['R01787', 'C00267', 'C00794'], ['R02865', 'C00794', 'C01096'], ['R05607', 'C01096', 'C05345'], ['R01819', 'C05345', 'C00275'], ['R01818', 'C00275', 'C00636'], ['R12607', 'C00636', 'C00103'], ['R11959', 'C00103', 'C19792'], ['R09664', 'C19792', 'C19791'], ['R09663', 'C19791', 'C15541'], ['R07256', 'C15541', 'C00454'], ['R09663', 'C00454', 'C00197'], ['R01511', 'C00197', 'C00258'], ['R08572', 'C00258', 'C00631'], ['R00658', 'C00631', 'C00074'], ['R03254', 'C00074', 'C04478'], ['R03350', 'C04478', 'C01187'], ['R01576', 'C01187', 'C00022']]<=====\n",
      "=====> after trim_chrom:  长度是13---[['R02109', 'C00267', 'C00369'], ['R09995', 'C00369', 'C01083'], ['R10525', 'C01083', 'C00031'], ['R10525', 'C00031', 'C00454'], ['R10442', 'C00454', 'C01117'], ['R02934', 'C01117', 'C00676'], ['R02934', 'C00676', 'C02269'], ['R02806', 'C02269', 'C00214'], ['R01570', 'C00214', 'C00178'], ['R01412', 'C00178', 'C03088'], ['R08610', 'C03088', 'C17206'], ['R08610', 'C17206', 'C00026'], ['R01148', 'C00026', 'C00022']]<=====\n",
      "=====> after trim_chrom:  长度是28---[['R00802', 'C00267', 'C00089'], ['R08676', 'C00089', 'C00498'], ['R00948', 'C00498', 'C00103'], ['R02328', 'C00103', 'C00842'], ['R02984', 'C00842', 'C02097'], ['R02329', 'C02097', 'C00446'], ['R00502', 'C00446', 'C00052'], ['R03354', 'C00052', 'C01290'], ['R03492', 'C01290', 'C06135'], ['R03490', 'C06135', 'C00203'], ['R06894', 'C00203', 'C13952'], ['R08706', 'C13952', 'C04573'], ['R00421', 'C04573', 'C00043'], ['R04494', 'C00043', 'C04537'], ['R04331', 'C04537', 'C04615'], ['R04331', 'C04615', 'C00096'], ['R12607', 'C00096', 'C00636'], ['R01818', 'C00636', 'C00275'], ['R00772', 'C00275', 'C00085'], ['R00761', 'C00085', 'C00279'], ['R01825', 'C00279', 'C03393'], ['R04210', 'C03393', 'C06054'], ['R05085', 'C06054', 'C00026'], ['R12411', 'C00026', 'C00042'], ['R11773', 'C00042', 'C00163'], ['R00928', 'C00163', 'C00033'], ['R00319', 'C00033', 'C00186'], ['R01447', 'C00186', 'C00022']]<=====\n",
      "=====> after trim_chrom:  长度是13---[['R09085', 'C00267', 'C00668'], ['R02739', 'C00668', 'C01172'], ['R09086', 'C01172', 'C00221'], ['R10236', 'C00221', 'C16827'], ['R08534', 'C16827', 'C00811'], ['R02253', 'C00811', 'C00423'], ['R02254', 'C00423', 'C01772'], ['R03709', 'C01772', 'C01198'], ['R03692', 'C01198', 'C02274'], ['R05430', 'C02274', 'C01504'], ['R05540', 'C01504', 'C07719'], ['R05538', 'C07719', 'C07718'], ['R05538', 'C07718', 'C00022']]<=====\n",
      "=====> after trim_chrom:  长度是14---[['R00878', 'C00267', 'C00095'], ['R03921', 'C00095', 'C16688'], ['R03921', 'C16688', 'C00092'], ['R10520', 'C00092', 'C01236'], ['R02736', 'C01236', 'C01172'], ['R05133', 'C01172', 'C06187'], ['R05132', 'C06187', 'C06186'], ['R05769', 'C06186', 'C00530'], ['R02489', 'C00530', 'C00628'], ['R07709', 'C00628', 'C00805'], ['R05360', 'C00805', 'C07731'], ['R05360', 'C07731', 'C00596'], ['R02601', 'C00596', 'C03589'], ['R00750', 'C03589', 'C00022']]<=====\n",
      "\n",
      "KeyboardInterrupt\n",
      "\n"
     ]
    }
   ],
   "source": [
    "chrom_next = chrom_list\n",
    "max_iter = 50 # 迭代次数 50代\n",
    "for i in range(max_iter):\n",
    "    # 遍历上一代的所有个体\n",
    "    for idx, chrom in enumerate(chrom_next):\n",
    "        original_chrom = chrom.copy()  # 存储当前个体的 原始染色体\n",
    "        original_fitness = fitness[idx]  # 存储当前个体的 原始适应度\n",
    "        \n",
    "        # 开始变异\n",
    "        print('=====> Mututation of the %dth iter %dth particle<====='%(i+1,idx+1))\n",
    "        # cond 表示变异是否成功。成功，就是生成了一条与原来的不同的路径；不成功就是变异后与原来的路径相同。\n",
    "        cond, mut_cross = mut(chrom)\n",
    "        \n",
    "        if cond:\n",
    "            chrom = mut_cross\n",
    "        else:\n",
    "            chrom = mut_cross\n",
    "            print(\"-----After mututation, it's same as the original!-----\")\n",
    "        fit_mut = evaluate(chrom) # 计算剪枝后的路径的适应度值\n",
    "        \n",
    "        # 如果变异后的适应度值更大（其实也就是说变异后的还不如之前的）\n",
    "        if fit_mut >= fitness[idx]:\n",
    "            # 与个体最优值交叉\n",
    "            print(\"-----Crossover with local-----\")\n",
    "            chrom = perform_crossover(chrom, personal_best[idx])\n",
    "            print(\"-----Crossover with local Done-----\")\n",
    "            \n",
    "            chrom[0].trim_chrom(chrom[0].chrom) # 剪枝\n",
    "            fit_cross_loc = evaluate(chrom) # 计算交叉后的个体适应度值\n",
    "            if fit_cross_loc >= fitness[idx]:\n",
    "                # 如果交叉后的适应度值还是比原始个体的适应度值大 （也就是交叉后的个体还是很差）\n",
    "                # 与 全局最优值 交叉\n",
    "                print(\"-----Crossover with global-----\")\n",
    "                chrom = perform_crossover(chrom, global_best)\n",
    "                print(\"-----Crossover with global Done-----\")\n",
    "                \n",
    "                chrom[0].trim_chrom(chrom[0].chrom) # 剪枝\n",
    "                fit_cross_glo = evaluate(chrom) # 计算交叉后的个体适应度值\n",
    "                \n",
    "                if fit_cross_glo < original_fitness:\n",
    "                    # 如果交叉后的个体 比原始个体更好了\n",
    "                    # 更新子代个体\n",
    "                    fitness[idx] = fit_cross_glo\n",
    "                    chrom_next[idx] = chrom\n",
    "                else:\n",
    "                    # 如果全局交叉后的适应度值也不好，则恢复原始染色体\n",
    "                    chrom_next[idx] = original_chrom\n",
    "                    fitness[idx] = original_fitness\n",
    "            else:\n",
    "                # 如果 与个体最优值 交叉后，个体变好了\n",
    "                fitness[idx] = fit_cross_loc\n",
    "                chrom_next[idx] = chrom\n",
    "        else:\n",
    "            # 变异后 代谢路径更好了\n",
    "            fitness[idx] = fit_mut\n",
    "            chrom_next[idx] = chrom  # 将之前的路径替换掉"
   ]
  },
  {
   "cell_type": "code",
   "execution_count": 19,
   "id": "aa5f327a",
   "metadata": {},
   "outputs": [
    {
     "data": {
      "text/plain": [
       "[['R01602', 'C00267', 'C00221'],\n",
       " ['R02187', 'C00221', 'C01172'],\n",
       " ['R02739', 'C01172', 'C00668'],\n",
       " ['R02740', 'C00668', 'C05345'],\n",
       " ['R00867', 'C05345', 'C00095'],\n",
       " ['R08406', 'C00095', 'C00085'],\n",
       " ['R01067', 'C00085', 'C00279'],\n",
       " ['R01825', 'C00279', 'C03393'],\n",
       " ['R11726', 'C03393', 'C00111'],\n",
       " ['R01011', 'C00111', 'C00184'],\n",
       " ['R01012', 'C00184', 'C00022']]"
      ]
     },
     "execution_count": 19,
     "metadata": {},
     "output_type": "execute_result"
    }
   ],
   "source": [
    "chrom_list[0][0].chrom.travel()"
   ]
  },
  {
   "cell_type": "code",
   "execution_count": 20,
   "id": "ebe7f819",
   "metadata": {},
   "outputs": [
    {
     "data": {
      "text/plain": [
       "[['R00878', 'C00267', 'C00095'],\n",
       " ['R00877', 'C00095', 'C00159'],\n",
       " ['R02630', 'C00159', 'C00615'],\n",
       " ['R04076', 'C00615', 'C04261'],\n",
       " ['R08559', 'C04261', 'C16698'],\n",
       " ['R08555', 'C16698', 'C00256'],\n",
       " ['R13049', 'C00256', 'C00022']]"
      ]
     },
     "execution_count": 20,
     "metadata": {},
     "output_type": "execute_result"
    }
   ],
   "source": [
    "chrom_list[1][0].chrom.travel()"
   ]
  },
  {
   "cell_type": "code",
   "execution_count": 21,
   "id": "dda725f7",
   "metadata": {},
   "outputs": [
    {
     "data": {
      "text/plain": [
       "[['R00878', 'C00267', 'C00095'],\n",
       " ['R12349', 'C00095', 'C00089'],\n",
       " ['R00803', 'C00089', 'C00103'],\n",
       " ['R00550', 'C00103', 'C00031'],\n",
       " ['R04409', 'C00031', 'C04164'],\n",
       " ['R02256', 'C04164', 'C00423'],\n",
       " ['R00697', 'C00423', 'C00079'],\n",
       " ['R01375', 'C00079', 'C00166'],\n",
       " ['R00692', 'C00166', 'C00022']]"
      ]
     },
     "execution_count": 21,
     "metadata": {},
     "output_type": "execute_result"
    }
   ],
   "source": [
    "chrom_list[2][0].chrom.travel()"
   ]
  },
  {
   "cell_type": "markdown",
   "id": "ee42e5c3",
   "metadata": {},
   "source": [
    "## mut 变异函数解析"
   ]
  },
  {
   "cell_type": "code",
   "execution_count": 23,
   "id": "50b20c31",
   "metadata": {
    "collapsed": true
   },
   "outputs": [
    {
     "name": "stderr",
     "output_type": "stream",
     "text": [
      "=====> after trim_chrom:  长度是22---[['R02630', 'C00159', 'C00275'], ['R01819', 'C00275', 'C05345'], ['R02732', 'C05345', 'C00665'], ['R02730', 'C00665', 'C03267'], ['R00872', 'C03267', 'C00095'], ['R00865', 'C00095', 'C00125'], ['R05062', 'C00125', 'C00126'], ['R09799', 'C00126', 'C05361'], ['R11903', 'C05361', 'C07447'], ['R11902', 'C07447', 'C00024'], ['R05586', 'C00024', 'C06715'], ['R05586', 'C06715', 'C00527'], ['R02571', 'C00527', 'C06157'], ['R02571', 'C06157', 'C15973'], ['R02662', 'C15973', 'C15977'], ['R07600', 'C15977', 'C15972'], ['R07604', 'C15972', 'C15979'], ['R04225', 'C15979', 'C00671'], ['R02200', 'C00671', 'C00141'], ['R01209', 'C00141', 'C04039'], ['R03051', 'C04039', 'C00900'], ['R03050', 'C00900', 'C00022']]<=====\n",
      "=====> after trim_chrom:  长度是16---[['R02630', 'C00159', 'C00275'], ['R08405', 'C00275', 'C02133'], ['R08406', 'C02133', 'C00060'], ['R07293', 'C00060', 'C01885'], ['R05209', 'C01885', 'C00165'], ['R04055', 'C00165', 'C00422'], ['R02250', 'C00422', 'C00641'], ['R01312', 'C00641', 'C00157'], ['R01310', 'C00157', 'C00416'], ['R02241', 'C00416', 'C00681'], ['R12241', 'C00681', 'C00093'], ['R00845', 'C00093', 'C00118'], ['R02722', 'C00118', 'C00065'], ['R09099', 'C00065', 'C00037'], ['R00369', 'C00037', 'C00041'], ['R01261', 'C00041', 'C00022']]<=====\n",
      "=====> after trim_chrom:  长度是23---[['R01329', 'C00159', 'C05400'], ['R01329', 'C05400', 'C00124'], ['R01194', 'C00124', 'C01235'], ['R01192', 'C01235', 'C00052'], ['R01535', 'C00052', 'C04507'], ['R08857', 'C04507', 'C00363'], ['R06443', 'C00363', 'C06620'], ['R11034', 'C06620', 'C11930'], ['R06428', 'C11930', 'C11907'], ['R02772', 'C11907', 'C06018'], ['R10174', 'C06018', 'C00024'], ['R07895', 'C00024', 'C16334'], ['R07894', 'C16334', 'C16333'], ['R07893', 'C16333', 'C16332'], ['R07892', 'C16332', 'C00016'], ['R08553', 'C00016', 'C00224'], ['R05717', 'C00224', 'C00127'], ['R01109', 'C00127', 'C01420'], ['R01109', 'C01420', 'C00736'], ['R02846', 'C00736', 'C02512'], ['R00486', 'C02512', 'C00049'], ['R00397', 'C00049', 'C00041'], ['R00258', 'C00041', 'C00022']]<=====\n",
      "=====> after trim_chrom:  长度是16---[['R08405', 'C00159', 'C00060'], ['R03467', 'C00060', 'C03692'], ['R03467', 'C03692', 'C05401'], ['R01104', 'C05401', 'C00124'], ['R11171', 'C00124', 'C01113'], ['R03256', 'C01113', 'C05396'], ['R03256', 'C05396', 'C00221'], ['R12969', 'C00221', 'C01190'], ['R03355', 'C01190', 'C01290'], ['R03492', 'C01290', 'C06135'], ['R04634', 'C06135', 'C04884'], ['R04632', 'C04884', 'C06134'], ['R05109', 'C06134', 'C06133'], ['R04583', 'C06133', 'C04730'], ['R03491', 'C04730', 'C00270'], ['R01811', 'C00270', 'C00022']]<=====\n",
      "=====> after trim_chrom:  长度是9---[['R00877', 'C00159', 'C00095'], ['R12349', 'C00095', 'C00089'], ['R00801', 'C00089', 'C00031'], ['R05061', 'C00031', 'C05979'], ['R02377', 'C05979', 'C00479'], ['R02376', 'C00479', 'C00583'], ['R02259', 'C00583', 'C00424'], ['R02261', 'C00424', 'C03979'], ['R02261', 'C03979', 'C00022']]<=====\n",
      "=====> after trim_chrom:  长度是5---[['R01327', 'C00159', 'C00275'], ['R09645', 'C00275', 'C16699'], ['R09645', 'C16699', 'C00258'], ['R01388', 'C00258', 'C00168'], ['R00585', 'C00168', 'C00022']]<=====\n",
      "=====> after trim_chrom:  长度是8---[['R08405', 'C00159', 'C00275'], ['R01819', 'C00275', 'C05345'], ['R04779', 'C05345', 'C05378'], ['R01070', 'C05378', 'C00118'], ['R10049', 'C00118', 'C00546'], ['R02527', 'C00546', 'C00937'], ['R01735', 'C00937', 'C00256'], ['R13049', 'C00256', 'C00022']]<=====\n"
     ]
    },
    {
     "name": "stdout",
     "output_type": "stream",
     "text": [
      "-----Mutation Successfully!-----\n",
      "Chromesomes before mutation is : [['R00878', 'C00267', 'C00095'], ['R00877', 'C00095', 'C00159'], ['R02630', 'C00159', 'C00615'], ['R04076', 'C00615', 'C04261'], ['R08559', 'C04261', 'C16698'], ['R08555', 'C16698', 'C00256'], ['R13049', 'C00256', 'C00022']]\n",
      "Chromesomes after mutation is : [['R00878', 'C00267', 'C00095'], ['R00877', 'C00095', 'C00159'], ['R08405', 'C00159', 'C00275'], ['R01819', 'C00275', 'C05345'], ['R04779', 'C05345', 'C05378'], ['R01070', 'C05378', 'C00118'], ['R10049', 'C00118', 'C00546'], ['R02527', 'C00546', 'C00937'], ['R01735', 'C00937', 'C00256'], ['R13049', 'C00256', 'C00022']]\n",
      "--------------------\n"
     ]
    },
    {
     "name": "stderr",
     "output_type": "stream",
     "text": [
      "=====> after trim_chrom:  长度是22---[['R00850', 'C00031', 'C00092'], ['R11783', 'C00092', 'C00689'], ['R02168', 'C00689', 'C00394'], ['R12607', 'C00394', 'C00096'], ['R04331', 'C00096', 'C04615'], ['R04331', 'C04615', 'C04537'], ['R04494', 'C04537', 'C00043'], ['R04493', 'C00043', 'C04845'], ['R04610', 'C04845', 'C04910'], ['R04646', 'C04910', 'C06131'], ['R05108', 'C06131', 'C06132'], ['R05106', 'C06132', 'C00325'], ['R04081', 'C00325', 'C04648'], ['R04548', 'C04648', 'C04866'], ['R04548', 'C04866', 'C00052'], ['R10240', 'C00052', 'C08647'], ['R10240', 'C08647', 'C05905'], ['R05036', 'C05905', 'C00026'], ['R10991', 'C00026', 'C00109'], ['R10991', 'C00109', 'C02356'], ['R10992', 'C02356', 'C00041'], ['R12343', 'C00041', 'C00022']]<=====\n",
      "=====> after trim_chrom:  长度是10---[['R04410', 'C00031', 'C04164'], ['R05061', 'C04164', 'C06360'], ['R05061', 'C06360', 'C05979'], ['R02377', 'C05979', 'C00479'], ['R05298', 'C00479', 'C06762'], ['R05297', 'C06762', 'C06761'], ['R05296', 'C06761', 'C06760'], ['R05296', 'C06760', 'C00058'], ['R00753', 'C00058', 'C00186'], ['R11996', 'C00186', 'C00022']]<=====\n",
      "=====> after trim_chrom:  长度是8---[['R00550', 'C00031', 'C00255'], ['R00548', 'C00255', 'C00061'], ['R05218', 'C00061', 'C06504'], ['R12184', 'C06504', 'C06506'], ['R05225', 'C06506', 'C06507'], ['R05225', 'C06507', 'C00064'], ['R02781', 'C00064', 'C00940'], ['R00576', 'C00940', 'C00022']]<=====\n",
      "=====> after trim_chrom:  长度是7---[['R00010', 'C00031', 'C01083'], ['R08946', 'C01083', 'C00498'], ['R05328', 'C00498', 'C10517'], ['R05328', 'C10517', 'C00093'], ['R00847', 'C00093', 'C00116'], ['R01045', 'C00116', 'C00184'], ['R01012', 'C00184', 'C00022']]<=====\n",
      "=====> after trim_chrom:  长度是11---[['R00327', 'C00031', 'C02655'], ['R00327', 'C02655', 'C00033'], ['R02333', 'C00033', 'C00461'], ['R02334', 'C00461', 'C01674'], ['R09942', 'C01674', 'C04501'], ['R08193', 'C04501', 'C00357'], ['R02059', 'C00357', 'C00352'], ['R00768', 'C00352', 'C00064'], ['R04463', 'C00064', 'C00025'], ['R03243', 'C00025', 'C00026'], ['R00258', 'C00026', 'C00022']]<=====\n",
      "=====> after trim_chrom:  长度是10---[['R00550', 'C00031', 'C00103'], ['R02328', 'C00103', 'C00842'], ['R02984', 'C00842', 'C02097'], ['R02329', 'C02097', 'C00446'], ['R09632', 'C00446', 'C19758'], ['R09632', 'C19758', 'C00507'], ['R10788', 'C00507', 'C02991'], ['R03772', 'C02991', 'C01934'], ['R03774', 'C01934', 'C03979'], ['R02261', 'C03979', 'C00022']]<=====\n",
      "=====> after trim_chrom:  长度是20---[['R00550', 'C00031', 'C00103'], ['R09752', 'C00103', 'C00394'], ['R12607', 'C00394', 'C00096'], ['R09733', 'C00096', 'C19855'], ['R09732', 'C19855', 'C19854'], ['R09732', 'C19854', 'C00167'], ['R08261', 'C00167', 'C16577'], ['R08261', 'C16577', 'C06174'], ['R03697', 'C06174', 'C01516'], ['R03592', 'C01516', 'C01735'], ['R03698', 'C01735', 'C06175'], ['R05127', 'C06175', 'C00026'], ['R01252', 'C00026', 'C01157'], ['R01252', 'C01157', 'C00148'], ['R01253', 'C00148', 'C03912'], ['R00708', 'C03912', 'C00025'], ['R12939', 'C00025', 'C00064'], ['R12939', 'C00064', 'C11355'], ['R05552', 'C11355', 'C00251'], ['R10583', 'C00251', 'C00022']]<=====\n",
      "=====> after trim_chrom:  长度是12---[['R00850', 'C00031', 'C00116'], ['R01351', 'C00116', 'C01885'], ['R03756', 'C01885', 'C00641'], ['R04920', 'C00641', 'C05675'], ['R04923', 'C05675', 'C05676'], ['R04922', 'C05676', 'C05674'], ['R02590', 'C05674', 'C06459'], ['R02592', 'C06459', 'C05680'], ['R04925', 'C05680', 'C05679'], ['R04250', 'C05679', 'C03557'], ['R04152', 'C03557', 'C03167'], ['R04152', 'C03167', 'C00022']]<=====\n",
      "=====> after trim_chrom:  长度是3---[['R03323', 'C00031', 'C00149'], ['R01447', 'C00149', 'C00186'], ['R00703', 'C00186', 'C00022']]<=====\n"
     ]
    },
    {
     "name": "stdout",
     "output_type": "stream",
     "text": [
      "-----Mutation Successfully!-----\n",
      "Chromesomes before mutation is : [['R00878', 'C00267', 'C00095'], ['R12349', 'C00095', 'C00089'], ['R00803', 'C00089', 'C00103'], ['R00550', 'C00103', 'C00031'], ['R04409', 'C00031', 'C04164'], ['R02256', 'C04164', 'C00423'], ['R00697', 'C00423', 'C00079'], ['R01375', 'C00079', 'C00166'], ['R00692', 'C00166', 'C00022']]\n",
      "Chromesomes after mutation is : [['R00878', 'C00267', 'C00095'], ['R12349', 'C00095', 'C00089'], ['R00803', 'C00089', 'C00103'], ['R00550', 'C00103', 'C00031'], ['R03323', 'C00031', 'C00149'], ['R01447', 'C00149', 'C00186'], ['R00703', 'C00186', 'C00022']]\n",
      "--------------------\n"
     ]
    }
   ],
   "source": [
    "chrom_next = chrom_list\n",
    "for idx, Chrom in enumerate(chrom_next):\n",
    "    # 深拷贝\n",
    "    chrom = copy.deepcopy(Chrom)\n",
    "#     cond, mut_cross = mut(chrom)\n",
    "\n",
    "    # 需要while循环来生成变异的代谢路径 因为可能生成的路径不满足长度条件\n",
    "    while True: \n",
    "        # 包含左边界和右边界 \n",
    "        # 这里-2的原因是 头节点_head指向的就是第一个反应，所以最多只能往后移动 chrom[0].chrom.length()-2 个节点。 总共chrom[0].chrom.length()个节点。\n",
    "        m = random.randint(0, chrom[0].chrom.length()-2) \n",
    "        cur = chrom[0].chrom._head\n",
    "\n",
    "        for i in range(m):\n",
    "            cur = cur.next\n",
    "\n",
    "        s = cur.P\n",
    "\n",
    "        # generate mut_chrom 产生从 变异点 到 目标产物 的代谢路径\n",
    "        mut_chrom = np.full((1, 1), None, dtype=object)\n",
    "        while (1):\n",
    "            temp_chrom = Chromesome(args, cfg, log, initial_substrate=s) # 这个是贾雪师姐的源代码 感觉这里确实需要设定初始化的s 变异的要从当前节点为初始化合物开始生成子链表\n",
    "            # temp_chrom = Chromesome(args, cfg, log)\n",
    "            if temp_chrom.get_a_chrom():\n",
    "                mut_chrom[0] = temp_chrom\n",
    "                break\n",
    "\n",
    "        # 拼接前半段路径与变异后的路径\n",
    "        cur = chrom[0].chrom._head\n",
    "        mut_cur = mut_chrom[0][0].chrom._head\n",
    "\n",
    "        for i in range(m):\n",
    "            cur = cur.next\n",
    "\n",
    "        cur.next = mut_cur\n",
    "\n",
    "        # trim new chrom 剪枝\n",
    "        chrom[0].trim_chrom(chrom[0].chrom)\n",
    "\n",
    "        # 检查修剪后的路径长度 路径长度必须小于20\n",
    "        if chrom[0].chrom.length() <= 20:\n",
    "            break\n",
    "    \n",
    "    # 变异之后需要更新底物池\n",
    "    chrom[0].update_pool_after_change()\n",
    "    # 如果变异后的路径不等于变异后的路径 那么就是变异成功\n",
    "    if chrom[0].chrom.get_rxn_list() != Chrom[0].chrom.get_rxn_list():\n",
    "        print(\"-----Mutation Successfully!-----\")\n",
    "        print(\"Chromesomes before mutation is :\",Chrom[0].chrom.travel())\n",
    "        print(\"Chromesomes after mutation is :\",chrom[0].chrom.travel())\n",
    "        print('--' * 10)"
   ]
  },
  {
   "cell_type": "markdown",
   "id": "c8576c3c",
   "metadata": {},
   "source": [
    "## 交叉函数解析"
   ]
  },
  {
   "cell_type": "code",
   "execution_count": null,
   "id": "dd0f4beb",
   "metadata": {},
   "outputs": [],
   "source": []
  },
  {
   "cell_type": "markdown",
   "id": "fb1aafac",
   "metadata": {},
   "source": [
    "### perform_crossover解析"
   ]
  },
  {
   "cell_type": "code",
   "execution_count": 26,
   "id": "16198cd6",
   "metadata": {},
   "outputs": [
    {
     "data": {
      "text/plain": [
       "[['R01602', 'C00267', 'C00221'],\n",
       " ['R02187', 'C00221', 'C01172'],\n",
       " ['R02739', 'C01172', 'C00668'],\n",
       " ['R02740', 'C00668', 'C05345'],\n",
       " ['R00867', 'C05345', 'C00095'],\n",
       " ['R08406', 'C00095', 'C00085'],\n",
       " ['R01067', 'C00085', 'C00279'],\n",
       " ['R01825', 'C00279', 'C03393'],\n",
       " ['R11726', 'C03393', 'C00111'],\n",
       " ['R01011', 'C00111', 'C00184'],\n",
       " ['R01012', 'C00184', 'C00022']]"
      ]
     },
     "execution_count": 26,
     "metadata": {},
     "output_type": "execute_result"
    }
   ],
   "source": [
    "chrom_list[0][0].chrom.travel() # 变异之前"
   ]
  },
  {
   "cell_type": "code",
   "execution_count": 29,
   "id": "415e8d9a",
   "metadata": {
    "collapsed": true
   },
   "outputs": [
    {
     "data": {
      "text/plain": [
       "[['R01602', 'C00267', 'C00221'],\n",
       " ['R02187', 'C00221', 'C01172'],\n",
       " ['R02739', 'C01172', 'C00668'],\n",
       " ['R02740', 'C00668', 'C05345'],\n",
       " ['R00867', 'C05345', 'C00095'],\n",
       " ['R08406', 'C00095', 'C00085'],\n",
       " ['R01067', 'C00085', 'C00279'],\n",
       " ['R01825', 'C00279', 'C03393'],\n",
       " ['R11726', 'C03393', 'C00111'],\n",
       " ['R01011', 'C00111', 'C00184'],\n",
       " ['R01012', 'C00184', 'C00022']]"
      ]
     },
     "execution_count": 29,
     "metadata": {},
     "output_type": "execute_result"
    }
   ],
   "source": [
    "personal_best[0][0].chrom.travel() # 个体最优"
   ]
  },
  {
   "cell_type": "code",
   "execution_count": 31,
   "id": "2a4331b8",
   "metadata": {},
   "outputs": [
    {
     "name": "stdout",
     "output_type": "stream",
     "text": [
      "=====> 1th particle<=====\n"
     ]
    },
    {
     "name": "stderr",
     "output_type": "stream",
     "text": [
      "=====> after trim_chrom:  长度是11---[['R00878', 'C00267', 'C00095'], ['R00867', 'C00095', 'C05345'], ['R01830', 'C05345', 'C00279'], ['R01827', 'C00279', 'C00118'], ['R13000', 'C00118', 'C00231'], ['R01529', 'C00231', 'C00199'], ['R12151', 'C00199', 'C05235'], ['R10717', 'C05235', 'C00583'], ['R02257', 'C00583', 'C00424'], ['R10715', 'C00424', 'C00546'], ['R00203', 'C00546', 'C00022']]<=====\n",
      "-----Mutation Successfully!-----\n",
      "Chromesomes before mutation is :\n",
      "[['R00878', 'C00267', 'C00095'], ['R12349', 'C00095', 'C00089'], ['R00803', 'C00089', 'C00103'], ['R00550', 'C00103', 'C00031'], ['R03323', 'C00031', 'C00149'], ['R01447', 'C00149', 'C00186'], ['R00703', 'C00186', 'C00022']]\n",
      "Chromesomes after mutation is :\n",
      "[['R00878', 'C00267', 'C00095'], ['R12349', 'C00095', 'C00089'], ['R00878', 'C00267', 'C00095'], ['R00867', 'C00095', 'C05345'], ['R01830', 'C05345', 'C00279'], ['R01827', 'C00279', 'C00118'], ['R13000', 'C00118', 'C00231'], ['R01529', 'C00231', 'C00199'], ['R12151', 'C00199', 'C05235'], ['R10717', 'C05235', 'C00583'], ['R02257', 'C00583', 'C00424'], ['R10715', 'C00424', 'C00546'], ['R00203', 'C00546', 'C00022']]\n",
      "--------------------\n"
     ]
    }
   ],
   "source": [
    "chrom_next = chrom_list\n",
    "idx = 0\n",
    "\n",
    "# 需要先变异 利用变异函数\n",
    "original_chrom = chrom.copy()  # 存储当前个体的 原始染色体\n",
    "original_fitness = fitness[idx]  # 存储当前个体的 原始适应度\n",
    "\n",
    "# 开始变异\n",
    "print('=====> %dth particle<====='%(idx+1))\n",
    "# cond 表示变异是否成功。成功，就是生成了一条与原来的不同的路径；不成功就是变异后与原来的路径相同。\n",
    "cond, mut_cross = mut(chrom)\n",
    "\n",
    "# 将变异后的个体与该个体的个体最优值做交叉\n",
    "# chrom = perform_crossover(chrom, personal_best[idx])\n"
   ]
  },
  {
   "cell_type": "code",
   "execution_count": 33,
   "id": "5d91f746",
   "metadata": {},
   "outputs": [
    {
     "data": {
      "text/plain": [
       "[['R00878', 'C00267', 'C00095'],\n",
       " ['R12349', 'C00095', 'C00089'],\n",
       " ['R00878', 'C00267', 'C00095'],\n",
       " ['R00867', 'C00095', 'C05345'],\n",
       " ['R01830', 'C05345', 'C00279'],\n",
       " ['R01827', 'C00279', 'C00118'],\n",
       " ['R13000', 'C00118', 'C00231'],\n",
       " ['R01529', 'C00231', 'C00199'],\n",
       " ['R12151', 'C00199', 'C05235'],\n",
       " ['R10717', 'C05235', 'C00583'],\n",
       " ['R02257', 'C00583', 'C00424'],\n",
       " ['R10715', 'C00424', 'C00546'],\n",
       " ['R00203', 'C00546', 'C00022']]"
      ]
     },
     "execution_count": 33,
     "metadata": {},
     "output_type": "execute_result"
    }
   ],
   "source": [
    "mut_cross[0].chrom.travel() #变异之后"
   ]
  },
  {
   "cell_type": "code",
   "execution_count": 50,
   "id": "579ebde9",
   "metadata": {
    "scrolled": true
   },
   "outputs": [],
   "source": [
    "## chrom1 是变异后的个体\n",
    "chrom1 = np.array(mut_cross) # 元组(1,)\n",
    "# chrom2 是当前个体的个体最优值\n",
    "chrom2 = np.array(personal_best[idx])\n",
    "stacked = np.vstack((chrom1, chrom2)) # 垂直方向拼接为一个新的数组 chrom1=stacked[0][0] chrom2=stacked[1][0]\n",
    "n_parents_, n_matings = stacked.shape\n",
    "output = np.full_like(stacked, None, dtype=object)"
   ]
  },
  {
   "cell_type": "code",
   "execution_count": 61,
   "id": "12a6ad38",
   "metadata": {},
   "outputs": [
    {
     "name": "stderr",
     "output_type": "stream",
     "text": [
      "-----Crossover Successfully!-----\n",
      "Chromesomes before crossover is :\n",
      "[['R00878', 'C00267', 'C00095'], ['R12349', 'C00095', 'C00089'], ['R00878', 'C00267', 'C00095'], ['R00867', 'C00095', 'C05345'], ['R01830', 'C05345', 'C00279'], ['R01827', 'C00279', 'C00118'], ['R13000', 'C00118', 'C00231'], ['R01529', 'C00231', 'C00199'], ['R12151', 'C00199', 'C05235'], ['R10717', 'C05235', 'C00583'], ['R02257', 'C00583', 'C00424'], ['R10715', 'C00424', 'C00546'], ['R00203', 'C00546', 'C00022']]\n",
      "Chromesomes after crossover is :\n",
      "[['R00878', 'C00267', 'C00095'], ['R08406', 'C00095', 'C00085'], ['R01067', 'C00085', 'C00279'], ['R01825', 'C00279', 'C03393'], ['R11726', 'C03393', 'C00111'], ['R01011', 'C00111', 'C00184'], ['R01012', 'C00184', 'C00022']]\n",
      "--------\n"
     ]
    }
   ],
   "source": [
    "for i in range(n_matings):\n",
    "    # 判断两个链表有无可以交叉的位点\n",
    "    if has_same_node(stacked[0, i], stacked[1, i]):\n",
    "        # 如果有则交叉\n",
    "        output[0, i], output[1, i] = cross(stacked[0, i], stacked[1, i]) # 返回交叉后的个体 最后返回的是交叉后的第一个个体\n",
    "    else:\n",
    "        # 没有就返回原始的chrom1\n",
    "        output[0, i], output[1, i] = stacked[0, i], stacked[1, i]\n",
    "        log.logger.info(\"-----Has no same node, Crossover failed!-----\")"
   ]
  },
  {
   "cell_type": "code",
   "execution_count": 63,
   "id": "82b2e933",
   "metadata": {},
   "outputs": [
    {
     "data": {
      "text/plain": [
       "<mooseeker.model.Chromesome.Chromesome at 0x7f6e5d253520>"
      ]
     },
     "execution_count": 63,
     "metadata": {},
     "output_type": "execute_result"
    }
   ],
   "source": []
  },
  {
   "cell_type": "code",
   "execution_count": 49,
   "id": "1e87d6f4",
   "metadata": {},
   "outputs": [
    {
     "data": {
      "text/plain": [
       "<mooseeker.model.Chromesome.Chromesome at 0x7f6e5eeea8b0>"
      ]
     },
     "execution_count": 49,
     "metadata": {},
     "output_type": "execute_result"
    }
   ],
   "source": [
    "stacked[0][0]"
   ]
  },
  {
   "cell_type": "code",
   "execution_count": 37,
   "id": "c4177199",
   "metadata": {},
   "outputs": [
    {
     "data": {
      "text/plain": [
       "array([<mooseeker.model.Chromesome.Chromesome object at 0x7f6e5eeea8b0>],\n",
       "      dtype=object)"
      ]
     },
     "execution_count": 37,
     "metadata": {},
     "output_type": "execute_result"
    }
   ],
   "source": []
  },
  {
   "cell_type": "code",
   "execution_count": null,
   "id": "74f8bd37",
   "metadata": {},
   "outputs": [],
   "source": []
  }
 ],
 "metadata": {
  "kernelspec": {
   "display_name": "pytorch2",
   "language": "python",
   "name": "pytorch2"
  },
  "language_info": {
   "codemirror_mode": {
    "name": "ipython",
    "version": 3
   },
   "file_extension": ".py",
   "mimetype": "text/x-python",
   "name": "python",
   "nbconvert_exporter": "python",
   "pygments_lexer": "ipython3",
   "version": "3.8.13"
  }
 },
 "nbformat": 4,
 "nbformat_minor": 5
}
