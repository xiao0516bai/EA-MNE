{
 "cells": [
  {
   "cell_type": "code",
   "execution_count": 1,
   "id": "f5fff3f9",
   "metadata": {},
   "outputs": [
    {
     "name": "stdout",
     "output_type": "stream",
     "text": [
      "sys.path: ['/home/cuisx/products/BDA/pathToNetwork-path-design/mooseeker-master/mooseeker/fit_funcs', '', '/opt/ros/lunar/lib/python2.7/dist-packages', '/home/cuisx/anaconda3/envs/pytorch2/lib/python38.zip', '/home/cuisx/anaconda3/envs/pytorch2/lib/python3.8', '/home/cuisx/anaconda3/envs/pytorch2/lib/python3.8/lib-dynload', '/home/cuisx/anaconda3/envs/pytorch2/lib/python3.8/site-packages', '/home/cuisx/products/BDA/pathToNetwork-path-design/mooseeker-master']\n"
     ]
    }
   ],
   "source": [
    "import json\n",
    "from rdkit import DataStructs\n",
    "from rdkit import Chem\n",
    "import argparse\n",
    "import sys\n",
    "import os\n",
    "import json\n",
    "import csv\n",
    "import pandas as pd\n",
    "import numpy as np\n",
    "import yaml\n",
    "import numpy as np\n",
    "import re\n",
    "# moo_dir = os.path.abspath(os.path.dirname(os.path.dirname(__file__)))\n",
    "# print(\"moo_dir:\",moo_dir)\n",
    "sys.path.append(\"/home/cuisx/products/BDA/pathToNetwork-path-design/mooseeker-master\")\n",
    "print(\"sys.path:\",sys.path)\n",
    "from mooseeker.utils import *\n",
    "from mooseeker.kegg_helper.pykegg import *\n",
    "import argparse "
   ]
  },
  {
   "cell_type": "code",
   "execution_count": 2,
   "id": "00fd58d4",
   "metadata": {},
   "outputs": [],
   "source": [
    "# 初始化底物池\n",
    "def init_substrate_pool_from_path(chrom,rxn_dict,all_pool):\n",
    "    reactions_dict = chrom.get_rxn_dict()\n",
    "    reactions_list = chrom.get_rxn_list()\n",
    "    compounds_list = chrom.get_cpd_list()\n",
    "    # print(\"reactions_list:\",reactions_list)\n",
    "    # print(\"compounds_list:\",compounds_list)\n",
    "    # print(\"equations:\")\n",
    "    # for reaction in reactions_list:\n",
    "    #     print(rxn_dict[reaction]['equation'])\n",
    "\n",
    "    substrate_list = [] # 初始化底物列表 需要确保初始化的底物列表中没有重复的\n",
    "\n",
    "    # 先把反应的所有的反应物都加底物列表中\n",
    "    for i,reaction in enumerate(reactions_list):\n",
    "        # 划分出来反应物 split_equation函数在pykegg里面定义了 已经引用了\n",
    "        lefts,rights = split_equation(reactions_dict[reaction])\n",
    "        ## 判断遍历的这个底物s 是在lefts里面还是 rights里面\n",
    "        ## 在哪个里面 哪边就是反应物\n",
    "        s = compounds_list[i]\n",
    "        if s in lefts:\n",
    "            reactants = lefts\n",
    "        elif s in rights:\n",
    "            reactants = rights\n",
    "        else:\n",
    "            print(s,\"没有在方程式里面\")\n",
    "        for r in reactants:\n",
    "            if r not in substrate_list:\n",
    "                substrate_list.append(r)\n",
    "    ## 保留第一个反应中主路径上的化合物  删除主路径上的其余化合物 (因为目标化合物并没有加进去，所以这里应该是1，len-1)\n",
    "    for i in range(1,len(compounds_list)-1):\n",
    "        substrate_list.remove(compounds_list[i])\n",
    "\n",
    "    # 初始化底物池\n",
    "    substrate_pool = {}\n",
    "    # 可以通过 chrom 调用all_pool  这里的chrom是 SingleLinkList\n",
    "    all_pool_cpds = list(all_pool.keys()) # 长度6790 这个键是化合物，对应的值是一个SingleReaction对象 所有的反应对\n",
    "    for c in substrate_list: # 遍历底物池中的所有 化合物\n",
    "        if c not in all_pool_cpds: # 如果c不是有效的化合物（这里其实是排除了辅因子和error）\n",
    "            substrate_pool[c] = None\n",
    "        else:\n",
    "            temp = list(all_pool[c]) # 加载反应物c 对应的所有反应 多个SingleReaction 对象\n",
    "            substrate_pool[c] = temp # ava_pool 是一个字典。键，化合物c。值，化合物c对应的所有反应。\n",
    "            # 因为是遍历 所以ava_pool中就存储了，当前底物池中，所有化合物对应的所有反应。\n",
    "    return substrate_pool\n",
    "\n",
    "# 初始化总反应池 list 和 dict字典 字典中存储反应及01标号 0表示正向反应，1表示逆向反应\n",
    "def init_total_rxn(chrom,rxn_dict):\n",
    "    total_rxn_list = []\n",
    "    total_rxn_dict = {}\n",
    "    # 这里原本写的是dict  但是必须改为list  因为有可能同一个反应出现了两次\n",
    "    reactions_list = chrom.get_rxn_list()\n",
    "    # reactions_dict = chrom.get_rxn_dict()\n",
    "    compounds_list = chrom.get_cpd_list()\n",
    "    ## 添加路径上的反应\n",
    "    for i, key in enumerate(reactions_list):\n",
    "        total_rxn_dict[key] = rxn_dict[key]\n",
    "\n",
    "        equation = total_rxn_dict[key]['equation']\n",
    "        lefts, rights = split_equation(equation)\n",
    "        s = compounds_list[i]\n",
    "        ## 判断遍历的这个底物s 是在lefts里面还是 rights里面\n",
    "        ## 在哪个里面 哪边就是反应物\n",
    "        if s in lefts:\n",
    "            total_rxn_dict[key]['direction'] = 0\n",
    "        elif s in rights:\n",
    "            total_rxn_dict[key]['direction'] = 1\n",
    "        else:\n",
    "            print(s, \"没有在方程式里面\")\n",
    "    for rxn in chrom.get_rxn_list():\n",
    "        total_rxn_list.append(rxn)\n",
    "    return total_rxn_list, total_rxn_dict\n",
    "\n",
    "# 判断某个反应的所有反应物是否都在底物池中。也就是判断这个反应能否发生。\n",
    "def reactants_are_all_in_substrate_pool(reactants,substrate_pool):\n",
    "    count = 0\n",
    "    for reactant in reactants:\n",
    "        if reactant not in substrate_pool.keys():\n",
    "            break\n",
    "        else:\n",
    "            # 反应物在底物池里 count+1\n",
    "            count+=1\n",
    "    # 反应物都在底物池中\n",
    "    if(count==len(reactants)):\n",
    "        return True\n",
    "    else:\n",
    "        return False\n",
    "\n",
    "# 将反应的生成物添加到底物池中\n",
    "def add_products_to_substrates_pool(products,need_to_be_added_products,substrate_pool,all_pool_cpds,all_pool):\n",
    "    for product in products:\n",
    "        if product not in substrate_pool.keys():\n",
    "            if product not in need_to_be_added_products.keys():\n",
    "                if product not in all_pool_cpds: # 如果c不是有效的化合物（这里其实是排除了辅因子和error）\n",
    "                    need_to_be_added_products[product] = None\n",
    "                else:\n",
    "                    temp = list(all_pool[product]) # 加载反应物c 对应的所有反应 多个SingleReaction 对象\n",
    "                    need_to_be_added_products[product] = temp # ava_pool 是一个字典。键，化合物c。值，化合物c对应的所有反应。\n",
    "    return need_to_be_added_products\n",
    "\n",
    "# 将能够发生的反应添加到总反应池\n",
    "def add_reaction_to_total(reaction,direction,total_rxn_list,total_rxn_dict):\n",
    "    ## 判断总的列表中是否已经有该反应了\n",
    "    if reaction['kegg_id'] in total_rxn_list:\n",
    "#         print(reaction['kegg_id'],\"反应已经在总反应里面，不需要再添加了\")\n",
    "        pass\n",
    "    else:\n",
    "        # print(\"添加反应\",reaction['kegg_id'])\n",
    "        total_rxn_list.append(reaction['kegg_id'])\n",
    "        total_rxn_dict[reaction['kegg_id']] = reaction\n",
    "        total_rxn_dict[reaction['kegg_id']]['direction'] = direction\n",
    "    return total_rxn_list,total_rxn_dict\n",
    "\n",
    "# 底物池中的化合物两两发生反应\n",
    "def start_having_reactions_in_substrate_pool(substrate_pool,all_pool,enzyme_pool,total_rxn_list,total_rxn_dict):\n",
    "    ### 遍历底物池\n",
    "    all_pool_cpds = list(all_pool.keys())\n",
    "    need_to_be_added_products = {}\n",
    "    for s in substrate_pool.keys():\n",
    "#         print(\"--------------------------------\")\n",
    "#         print(\"遍历化合物\",s,\"的所有反应\")\n",
    "        if substrate_pool[s] is None:\n",
    "            continue\n",
    "        else:\n",
    "            singleReactions = substrate_pool[s]# singleReactions是一个列表。包含了某个底物的所有反应\n",
    "#             print(s,\"包含的所有反应个数：\",len(singleReactions))\n",
    "            for singleReaction in singleReactions:\n",
    "                reaction = singleReaction.reaction  # singleReaction是一个对象。包含了这个反应的所有信息。\n",
    "                ## 遍历每个反应的每个酶 如果这个酶在酶池里面 那么输出这个反应\n",
    "                enzymes = reaction['enzyme']\n",
    "    #             print(reaction)\n",
    "                # 酶不为空\n",
    "                if enzymes is not None:\n",
    "                    for e in enzymes:\n",
    "                        # 有催化反应的酶\n",
    "                        if e in enzyme_pool:\n",
    "                            # 判断底物池中是否存在所有的反应物\n",
    "                            lefts,rights = split_equation(reaction['equation'])\n",
    "                            ## 判断遍历的这个底物s 是在lefts里面还是 rights里面\n",
    "                            ## 在哪个里面 哪边就是反应物\n",
    "                            if s in lefts:\n",
    "                                reactants = lefts\n",
    "                                products = rights\n",
    "                                direction = 0\n",
    "                            elif s in rights:\n",
    "                                reactants = rights\n",
    "                                products = lefts\n",
    "                                direction = 1\n",
    "                            else:\n",
    "                                print(s,\"没有在方程式里面\")\n",
    "                            if reactants_are_all_in_substrate_pool(reactants,substrate_pool):\n",
    "    #                             print(reaction)\n",
    "                                total_rxn_list,total_rxn_dict = add_reaction_to_total(reaction,direction,total_rxn_list,total_rxn_dict)\n",
    "                                # 扩展底物池 上述添加的反应的生成物也要添加到底物池中 直到total_rxn_list的长度不再变化\n",
    "                                need_to_be_added_products = add_products_to_substrates_pool(products,need_to_be_added_products,substrate_pool,all_pool_cpds,all_pool)\n",
    "                            break; # 找到一个可以催化的酶就停止\n",
    "                # 酶为空 也就是说有的反应不需要酶催化\n",
    "                else:\n",
    "                    lefts,rights = split_equation(reaction['equation'])\n",
    "                    if s in lefts:\n",
    "                        reactants = lefts\n",
    "                        products = rights\n",
    "                        direction = 0\n",
    "                    elif s in rights:\n",
    "                        reactants = rights\n",
    "                        products = lefts\n",
    "                        direction = 1\n",
    "                    else:\n",
    "                        print(s,\"没有在方程式里面\")\n",
    "                    if reactants_are_all_in_substrate_pool(reactants,substrate_pool):\n",
    "                        total_rxn_list,total_rxn_dict = add_reaction_to_total(reaction,direction,total_rxn_list,total_rxn_dict)\n",
    "                        # 扩展底物池 上述添加的反应的生成物也要添加到底物池中 直到total_rxn_list的长度不再变化\n",
    "                        need_to_be_added_products = add_products_to_substrates_pool(products,need_to_be_added_products,substrate_pool,all_pool_cpds,all_pool)\n",
    "    return need_to_be_added_products,total_rxn_list,total_rxn_dict,substrate_pool\n",
    "\n",
    "## 彻底无法继续反应\n",
    "def react_thoroughly(substrate_pool,all_pool,enzyme_pool,total_rxn_list,total_rxn_dict):\n",
    "    while True:\n",
    "        need_to_be_added_products = {}\n",
    "        need_to_be_added_products,total_rxn_list,total_rxn_dict,substrate_pool = start_having_reactions_in_substrate_pool(substrate_pool,all_pool,enzyme_pool,total_rxn_list,total_rxn_dict)\n",
    "        if len(need_to_be_added_products)!= 0:\n",
    "            # print(\"----------------更新底物池----------------\")\n",
    "            substrate_pool.update(need_to_be_added_products)\n",
    "        else:\n",
    "            # print(\"反应已发生彻底\")\n",
    "            return total_rxn_list,total_rxn_dict,substrate_pool\n",
    "\n",
    "# 遍历主路径上的所有反应 将生成物添加到底物池中 然后不断反应彻底\n",
    "def traverse_reactions_in_path(chrom,substrate_pool,all_pool,enzyme_pool,total_rxn_list,total_rxn_dict):\n",
    "    reactions_dict = chrom.get_rxn_dict()\n",
    "    reactions_list = chrom.get_rxn_list()\n",
    "    compounds_list = chrom.get_cpd_list()\n",
    "    all_pool_cpds = list(all_pool.keys())\n",
    "    for i,reaction in enumerate(reactions_dict):\n",
    "        equation = reactions_dict[reaction]\n",
    "        lefts,rights = split_equation(equation)\n",
    "        s = compounds_list[i]\n",
    "        if s in lefts:\n",
    "            reactants = lefts\n",
    "            products = rights\n",
    "        elif s in rights:\n",
    "            reactants = rights\n",
    "            products = lefts\n",
    "        else:\n",
    "            print(s,\"没有在方程式里面\")\n",
    "        # 把生成物添加到底物池中 不要添加重复了\n",
    "        added_products = {}\n",
    "        for product in products:\n",
    "            added_products = add_products_to_substrates_pool(products,added_products,substrate_pool,all_pool_cpds,all_pool)\n",
    "        total_rxn_list,total_rxn_dict,substrate_pool = react_thoroughly(substrate_pool,all_pool,enzyme_pool,total_rxn_list,total_rxn_dict)\n",
    "    return total_rxn_list,total_rxn_dict,substrate_pool"
   ]
  },
  {
   "cell_type": "code",
   "execution_count": 3,
   "id": "6dce5df6",
   "metadata": {},
   "outputs": [],
   "source": [
    "# 初始化酶池 为每个反应随机选择酶\n",
    "def init_enzyme_pool(chrom,rxn_dict):\n",
    "    reactions_list = chrom.get_rxn_list()\n",
    "    enzyme_pool = set()\n",
    "    for i in range(chrom.length()):\n",
    "        reaction = reactions_list[i]\n",
    "        ## 以reaction为键值 去all_rxn_dict中查找酶\n",
    "        enzymes = rxn_dict[reaction]['enzyme']\n",
    "        # 酶可能是多个，随机选择一个酶，也可能没有\n",
    "        if enzymes:\n",
    "            enzyme = enzymes[np.random.randint(len(enzymes))]\n",
    "            # enzyme = enzymes[0]\n",
    "            enzyme_pool.add(enzyme)\n",
    "    # print(\"选择酶：\",enzyme_pool)\n",
    "    return enzyme_pool\n"
   ]
  },
  {
   "cell_type": "code",
   "execution_count": 4,
   "id": "ae335eab",
   "metadata": {},
   "outputs": [],
   "source": [
    "def get_network(cfg, chrom,index):\n",
    "    #################### 加载反应数据库，化合物数据库，底物池 ####################\n",
    "    # 获取所有反应\n",
    "    rxn_dict = read_json(cfg['file_path']['all_rxn_dict'])\n",
    "    # 获取所有化合物\n",
    "    cpd_dict = read_json(cfg['file_path']['all_cpd_dict'])\n",
    "    all_pool = np.load(cfg['file_path']['mypool'], allow_pickle=True).item()\n",
    "\n",
    "    #################### 针对某个路径chrom 是个SingleLinkList对象 将路径扩展为网络 ####################\n",
    "    # rxn_list = chrom.get_rxn_list()\n",
    "    # cpd_list = chrom.get_cpd_list()\n",
    "    # print(\"get_network_yield -> rxn_list:\",rxn_list)\n",
    "    # print(\"get_network_yield -> cpd_list:\", cpd_list)\n",
    "    # 初始化酶池\n",
    "    print('--- start expanding the path into a network')\n",
    "#     print('--- (fit_funcs) get enzyme_pool ---')\n",
    "    enzyme_pool = init_enzyme_pool_list(chrom,rxn_dict)[index]  # 初始化酶池\n",
    "#     print(enzyme_pool)\n",
    "\n",
    "    # 初始化底物池\n",
    "#     print('--- (fit_funcs) get substrate_pool from path---')\n",
    "    substrate_pool = init_substrate_pool_from_path(chrom,rxn_dict,all_pool)  # 初始化底物池\n",
    "\n",
    "    # 初始化总反应池\n",
    "#     print('--- (fit_funcs) init_total_rxn ---')\n",
    "    total_rxn_list, total_rxn_dict = init_total_rxn(chrom,rxn_dict)\n",
    "\n",
    "    # 初始底物池反应发生彻底\n",
    "#     print('--- (fit_funcs) react_thoroughly ---')\n",
    "    total_rxn_list,total_rxn_dict,substrate_pool = react_thoroughly(substrate_pool,all_pool,enzyme_pool,total_rxn_list,total_rxn_dict)  # 初始底物池中的反应彻底发生完\n",
    "\n",
    "    # 遍历路径上的反应 不断添加反应所需的反应物 扩展底物池 使底物池反应发生彻底\n",
    "#     print('--- (fit_funcs) traverse_reactions_in_path ---')\n",
    "    total_rxn_list,total_rxn_dict,substrate_pool = traverse_reactions_in_path(chrom,substrate_pool,all_pool,enzyme_pool,total_rxn_list,total_rxn_dict)  # 依次把主路径上的反应的生成物添加到底物池中，然后使其彻底反应\n",
    "#     print(total_rxn_list)\n",
    "\n",
    "    ####################  计算网络的理论产量值 ####################\n",
    "    # 先默认返回10 方便调试\n",
    "    return total_rxn_list, total_rxn_dict, substrate_pool,enzyme_pool\n"
   ]
  },
  {
   "cell_type": "markdown",
   "id": "d8bf956d",
   "metadata": {},
   "source": [
    "### 构建路径 得到chrom 作为函数的输入"
   ]
  },
  {
   "cell_type": "code",
   "execution_count": 5,
   "id": "f946f55d",
   "metadata": {},
   "outputs": [
    {
     "data": {
      "text/plain": [
       "{'file_path': {'kegg_cofactors': '/home/cuisx/products/BDA/pathToNetwork-path-design/mooseeker-master/mooseeker/data/kegg/cofactors.csv',\n",
       "  'all_rxn_dict': '/home/cuisx/products/BDA/pathToNetwork-path-design/mooseeker-master/mooseeker/data/kegg/all_rxn_dict.json',\n",
       "  'all_cpd_dict': '/home/cuisx/products/BDA/pathToNetwork-path-design/mooseeker-master/mooseeker/data/kegg/all_cpd_dict.json',\n",
       "  'mypool': '/home/cuisx/products/BDA/pathToNetwork-path-design/mooseeker-master/mooseeker/cache/data/MYPOOL_20230914.npy',\n",
       "  'dG_dict': '/home/cuisx/products/BDA/pathToNetwork-path-design/mooseeker-master/mooseeker/data/gibbs/dG.json',\n",
       "  'gibb_concentration': '/home/cuisx/products/BDA/pathToNetwork-path-design/mooseeker-master/mooseeker/data/gibbs/concentrations.tab',\n",
       "  'gibb_rxn_ph7_quantity': '/home/cuisx/products/BDA/pathToNetwork-path-design/mooseeker-master/mooseeker/data/gibbs/kegg_reactions_CC_ph70_quantity.tsv',\n",
       "  'yield_dir': '/home/cuisx/products/BDA/pathToNetwork-path-design/mooseeker-master/mooseeker/data/theoretical_yield/',\n",
       "  'host_sbml': '/home/cuisx/products/BDA/pathToNetwork-path-design/mooseeker-master/mooseeker/data/theoretical_yield/iJO1366.xml',\n",
       "  'data_dir': '/home/cuisx/products/BDA/pathToNetwork-path-design/mooseeker-master/mooseeker/cache/data/',\n",
       "  'result_dir': '/home/cuisx/products/BDA/pathToNetwork-path-design/mooseeker-master/mooseeker/cache/result/',\n",
       "  'checkpoint_dir': '/home/cuisx/products/BDA/pathToNetwork-path-design/mooseeker-master/mooseeker/cache/checkpoint/',\n",
       "  'log_dir': '/home/cuisx/products/BDA/pathToNetwork-path-design/mooseeker-master/mooseeker/cache/log/',\n",
       "  'enzyme_rxn_count_dir': '/home/cuisx/products/BDA/pathToNetwork-path-design/mooseeker-master/mooseeker/cache/result/enzyme_rxn_count.txt'},\n",
       " 'init': {'gen': 30, 'pop_size': 20, 'NrMax': 20},\n",
       " 'glycolysis': {'abundant': ['C00001',\n",
       "   'C00002',\n",
       "   'C00003',\n",
       "   'C00004',\n",
       "   'C00005',\n",
       "   'C00006',\n",
       "   'C00007',\n",
       "   'C00008',\n",
       "   'C00009',\n",
       "   'C00010',\n",
       "   'C00080'],\n",
       "  'ob_substrate': 'C00267',\n",
       "  'ob_product': 'C00022'},\n",
       " 'vanillin': {'abundant': ['C00001',\n",
       "   'C00002',\n",
       "   'C00003',\n",
       "   'C00004',\n",
       "   'C00005',\n",
       "   'C00006',\n",
       "   'C00007',\n",
       "   'C00008',\n",
       "   'C00009',\n",
       "   'C00010',\n",
       "   'C00080'],\n",
       "  'ob_substrate': 'C00082',\n",
       "  'ob_product': 'C00755'}}"
      ]
     },
     "execution_count": 5,
     "metadata": {},
     "output_type": "execute_result"
    }
   ],
   "source": [
    "cfg = get_config()\n",
    "# 获取所有反应\n",
    "rxn_dict = read_json(cfg['file_path']['all_rxn_dict'])\n",
    "# 获取所有化合物\n",
    "cpd_dict = read_json(cfg['file_path']['all_cpd_dict'])\n",
    "cfg"
   ]
  },
  {
   "cell_type": "code",
   "execution_count": 6,
   "id": "4e5aa34b",
   "metadata": {},
   "outputs": [],
   "source": [
    "# 这个函数位于 init_pool.py 里面 但是因为这里必须要自己构建一个chrom 所以这个函数不可少\n",
    "def get_Tanimoto(s,p):\n",
    "    def check_cpd(cpd_name):\n",
    "        # 1. check cpd name\n",
    "        pat = re.compile('^C\\d{5}')\n",
    "        res = pat.findall(cpd_name)\n",
    "        if res != []:\n",
    "            return True\n",
    "        else:\n",
    "            return False\n",
    "    assert (check_cpd(s) and check_cpd(p))\n",
    "\n",
    "    # 2. check smile\n",
    "    if cpd_dict[s]['smile']!=None and cpd_dict[p]['smile']!=None:\n",
    "        try:\n",
    "            # 检查smile格式是否存在 存在的话 根据smile格式获得分子的mol文件\n",
    "            s_smile = cpd_dict[s]['smile']\n",
    "            s_mol = Chem.MolFromSmiles(s_smile)\n",
    "            p_smile = cpd_dict[p]['smile']\n",
    "            p_mol = Chem.MolFromSmiles(p_smile)\n",
    "            mols = [s_mol, p_mol] # 这里存的就是两个化合物 底物——产物 对\n",
    "            fps = [Chem.RDKFingerprint(x) for x in mols]\n",
    "            t = DataStructs.FingerprintSimilarity(fps[0], fps[1]) # 计算相似性\n",
    "        except Exception as e:\n",
    "            print(e)\n",
    "            print(\"s is %s and p is %s\" % (s, p))\n",
    "            t = 0\n",
    "    else:\n",
    "        t = 0\n",
    "    print('Tanimoto of %s and %s is %s.' %(s, p, str(t)))\n",
    "    return t"
   ]
  },
  {
   "cell_type": "code",
   "execution_count": 7,
   "id": "5fca375a",
   "metadata": {},
   "outputs": [],
   "source": [
    "def get_a_chrom(myReactions,myCompounds):\n",
    "    myRxn_dict = []\n",
    "    chrom = SingleLinkList()\n",
    "    for R in myReactions:    \n",
    "        myRxn_dict.append(rxn_dict[R])\n",
    "    for i in range(len(myRxn_dict)):\n",
    "        s = myCompounds[i]\n",
    "        p = myCompounds[i+1]\n",
    "        Tanimoto=get_Tanimoto(s,p)\n",
    "        reaction =  myRxn_dict[i]\n",
    "        singleReaction = SingleReaction(s,p,reaction,Tanimoto)\n",
    "        chrom.append(singleReaction)\n",
    "    return chrom"
   ]
  },
  {
   "cell_type": "code",
   "execution_count": 8,
   "id": "32b63572",
   "metadata": {},
   "outputs": [
    {
     "name": "stdout",
     "output_type": "stream",
     "text": [
      "Tanimoto of C00267 and C00668 is 0.6689655172413793.\n",
      "Tanimoto of C00668 and C05345 is 0.7643564356435644.\n",
      "Tanimoto of C05345 and C05378 is 0.95.\n",
      "Tanimoto of C05378 and C00118 is 0.17159763313609466.\n",
      "Tanimoto of C00118 and C00197 is 0.7354838709677419.\n",
      "Tanimoto of C00197 and C00631 is 0.43243243243243246.\n",
      "Tanimoto of C00631 and C00074 is 0.4260089686098655.\n",
      "Tanimoto of C00074 and C00022 is 0.10404624277456648.\n",
      "8\n"
     ]
    },
    {
     "data": {
      "text/plain": [
       "[['R01786', 'C00267', 'C00668'],\n",
       " ['R02740', 'C00668', 'C05345'],\n",
       " ['R04779', 'C05345', 'C05378'],\n",
       " ['R01070', 'C05378', 'C00118'],\n",
       " ['R07159', 'C00118', 'C00197'],\n",
       " ['R01518', 'C00197', 'C00631'],\n",
       " ['R00658', 'C00631', 'C00074'],\n",
       " ['R00200', 'C00074', 'C00022']]"
      ]
     },
     "execution_count": 8,
     "metadata": {},
     "output_type": "execute_result"
    }
   ],
   "source": [
    "myReactions = [\"R01786\",\"R02740\",\"R04779\",\"R01070\",\"R07159\",\"R01518\",\"R00658\",\"R00200\"] # 糖酵解 亚慧师姐论文中的路径\n",
    "myCompounds = [\"C00267\",\"C00668\",\"C05345\",\"C05378\",\"C00118\",\"C00197\",\"C00631\",\"C00074\",\"C00022\"]\n",
    "\n",
    "chrom = get_a_chrom(myReactions,myCompounds) # chrom实际就是一个 SingleLinkList\n",
    "print(chrom.length())\n",
    "chrom.travel()"
   ]
  },
  {
   "cell_type": "markdown",
   "id": "2e5ae4ba",
   "metadata": {},
   "source": [
    "### 获得酶的所有组合方式   函数改为init_enzyme_pool_list 并且新添加一个递归函数 generate_enzyme_combinations"
   ]
  },
  {
   "cell_type": "code",
   "execution_count": 9,
   "id": "a84499b1",
   "metadata": {},
   "outputs": [],
   "source": [
    "# 初始化酶池 为每个反应随机选择酶\n",
    "def init_enzyme_pool_list(chrom,rxn_dict):\n",
    "    # 反应列表\n",
    "    reactions_list = chrom.get_rxn_list()\n",
    "    return generate_enzyme_combinations(reactions_list,rxn_dict, current_combination=[], index=0, result=[])"
   ]
  },
  {
   "cell_type": "code",
   "execution_count": 31,
   "id": "c4cacb7c",
   "metadata": {},
   "outputs": [],
   "source": [
    "def generate_enzyme_combinations(reactions_list,rxn_dict, current_combination=[], index=0, result=[]):\n",
    "    if index == len(reactions_list):\n",
    "        if current_combination:\n",
    "            result.append(current_combination.copy())\n",
    "        return\n",
    "    reaction = reactions_list[index]\n",
    "    enzymes = rxn_dict[reaction]['enzyme']\n",
    "\n",
    "    if enzymes is not None:\n",
    "        for enzyme in enzymes:\n",
    "            current_combination.append(enzyme)\n",
    "            generate_enzyme_combinations(reactions_list,rxn_dict, current_combination, index + 1, result)\n",
    "            current_combination.pop()\n",
    "    else:\n",
    "            generate_enzyme_combinations(reactions_list,rxn_dict, current_combination, index + 1, result)\n",
    "\n",
    "\n",
    "    return result"
   ]
  },
  {
   "cell_type": "code",
   "execution_count": 11,
   "id": "7cff4450",
   "metadata": {},
   "outputs": [
    {
     "data": {
      "text/plain": [
       "4"
      ]
     },
     "execution_count": 11,
     "metadata": {},
     "output_type": "execute_result"
    }
   ],
   "source": [
    "enzyme_list = init_enzyme_pool_list(chrom,rxn_dict)\n",
    "len(enzyme_list)"
   ]
  },
  {
   "cell_type": "code",
   "execution_count": 12,
   "id": "1f398a26",
   "metadata": {},
   "outputs": [
    {
     "name": "stdout",
     "output_type": "stream",
     "text": [
      "--- start expanding the path into a network\n"
     ]
    }
   ],
   "source": [
    "total_rxn_list, total_rxn_dict, substrate_pool,enzyme_pool = get_network(cfg, chrom,0)"
   ]
  },
  {
   "cell_type": "code",
   "execution_count": 13,
   "id": "3615f652",
   "metadata": {},
   "outputs": [
    {
     "name": "stdout",
     "output_type": "stream",
     "text": [
      "20\n",
      "['R01786', 'R02740', 'R04779', 'R01070', 'R07159', 'R01518', 'R00658', 'R00200', 'R02739', 'R03321', 'R03920', 'R00867', 'R01600', 'R00760', 'R01068', 'R00771', 'R00756', 'R09100', 'R00299', 'R02721']\n"
     ]
    }
   ],
   "source": [
    "print(len(total_rxn_list)) # 最终总的反应\n",
    "print(total_rxn_list)"
   ]
  },
  {
   "cell_type": "code",
   "execution_count": 14,
   "id": "54017760",
   "metadata": {},
   "outputs": [],
   "source": [
    "def get_network_totalReactions(cfg, chrom):\n",
    "    rxn_list = chrom.get_rxn_list()\n",
    "    obj_rxn_kegg_id = rxn_list[-1]\n",
    "    print(\"get_network_totalReactions -> original-rxn_list:\", rxn_list)\n",
    "    \n",
    "    rxn_dict = read_json(cfg['file_path']['all_rxn_dict'])\n",
    "    enzyme_list = init_enzyme_pool_list(chrom,rxn_dict)\n",
    "    count = 100000 # 设定网络中反应总数最大值100000\n",
    "    best_enzyme_pool = []\n",
    "    \n",
    "    for i in range(len(enzyme_list)):\n",
    "        total_rxn_list, total_rxn_dict, substrate_pool,enzyme_pool = get_network(cfg, chrom,i)\n",
    "        if len(total_rxn_list)<count:\n",
    "            count = len(total_rxn_list)\n",
    "            best_enzyme_pool = enzyme_pool\n",
    "    print(\"best_enzyme_pool:\",best_enzyme_pool)\n",
    "    print(\"Min-count:\",count)\n",
    "    \n",
    "    filename = cfg['file_path']['enzyme_rxn_count_dir']\n",
    "    ## 需要往文件中写入的内容 反应列表 tab键 酶列表 tab 总反应个数\n",
    "    with open(filename,'a') as file:\n",
    "        file.write(f\"{rxn_list}\\t{best_enzyme_pool}\\t{count}\\n\")\n",
    "        \n",
    "    return count"
   ]
  },
  {
   "cell_type": "code",
   "execution_count": 15,
   "id": "a46774f2",
   "metadata": {},
   "outputs": [
    {
     "name": "stdout",
     "output_type": "stream",
     "text": [
      "get_network_totalReactions -> original-rxn_list: ['R01786', 'R02740', 'R04779', 'R01070', 'R07159', 'R01518', 'R00658', 'R00200']\n",
      "--- start expanding the path into a network\n",
      "--- start expanding the path into a network\n",
      "--- start expanding the path into a network\n",
      "--- start expanding the path into a network\n",
      "best_enzyme_pool: ['2.7.1.2', '5.3.1.9', '2.7.1.11', '4.1.2.13', '1.2.7.6', '5.4.2.11', '4.2.1.11', '2.7.1.40']\n",
      "Min-count: 17\n"
     ]
    },
    {
     "data": {
      "text/plain": [
       "17"
      ]
     },
     "execution_count": 15,
     "metadata": {},
     "output_type": "execute_result"
    }
   ],
   "source": [
    "get_network_totalReactions(cfg,chrom)"
   ]
  },
  {
   "cell_type": "markdown",
   "id": "330b40be",
   "metadata": {},
   "source": [
    "### 特殊情况 网络总反应数>100000"
   ]
  },
  {
   "cell_type": "code",
   "execution_count": 27,
   "id": "6f83ab8d",
   "metadata": {
    "collapsed": true
   },
   "outputs": [
    {
     "name": "stdout",
     "output_type": "stream",
     "text": [
      "Tanimoto of C00267 and C00369 is 0.485.\n",
      "Tanimoto of C00369 and C00718 is 0.7823240589198036.\n",
      "Tanimoto of C00718 and C00372 is 0.5367647058823529.\n",
      "Tanimoto of C00372 and C00089 is 0.5402985074626866.\n",
      "Tanimoto of C00089 and C05731 is 0.8044217687074829.\n",
      "Tanimoto of C05731 and C00016 is 0.2789503707929264.\n",
      "Tanimoto of C00016 and C03912 is 0.07372175980975029.\n",
      "Tanimoto of C03912 and C00025 is 0.4425287356321839.\n",
      "Tanimoto of C00025 and C00026 is 0.3288590604026846.\n",
      "Tanimoto of C00026 and C00042 is 0.35294117647058826.\n",
      "Tanimoto of C00042 and C00149 is 0.4827586206896552.\n",
      "Tanimoto of C00149 and C00186 is 0.41379310344827586.\n",
      "Tanimoto of C00186 and C00022 is 0.5319148936170213.\n",
      "13\n"
     ]
    },
    {
     "data": {
      "text/plain": [
       "[['R02109', 'C00267', 'C00369'],\n",
       " ['R02110', 'C00369', 'C00718'],\n",
       " ['R02121', 'C00718', 'C00372'],\n",
       " ['R02120', 'C00372', 'C00089'],\n",
       " ['R00808', 'C00089', 'C05731'],\n",
       " ['R00807', 'C05731', 'C00016'],\n",
       " ['R10507', 'C00016', 'C03912'],\n",
       " ['R00708', 'C03912', 'C00025'],\n",
       " ['R00114', 'C00025', 'C00026'],\n",
       " ['R05228', 'C00026', 'C00042'],\n",
       " ['R00406', 'C00042', 'C00149'],\n",
       " ['R01447', 'C00149', 'C00186'],\n",
       " ['R13050', 'C00186', 'C00022']]"
      ]
     },
     "execution_count": 27,
     "metadata": {},
     "output_type": "execute_result"
    }
   ],
   "source": [
    "myReactions = ['R02109', 'R02110', 'R02121', 'R02120', 'R00808', 'R00807', 'R10507', 'R00708', 'R00114', 'R05228', 'R00406', 'R01447', 'R13050']\n",
    "myCompounds = ['C00267', 'C00369', 'C00718', 'C00372', 'C00089', 'C05731', 'C00016', 'C03912', 'C00025', 'C00026', 'C00042', 'C00149', 'C00186', 'C00022']\n",
    "\n",
    "chrom = get_a_chrom(myReactions,myCompounds) # chrom实际就是一个 SingleLinkList\n",
    "print(chrom.length())\n",
    "chrom.travel()"
   ]
  },
  {
   "cell_type": "code",
   "execution_count": 32,
   "id": "feca19e5",
   "metadata": {},
   "outputs": [
    {
     "name": "stdout",
     "output_type": "stream",
     "text": [
      "get_network_totalReactions -> original-rxn_list: ['R02109', 'R02110', 'R02121', 'R02120', 'R00808', 'R00807', 'R10507', 'R00708', 'R00114', 'R05228', 'R00406', 'R01447', 'R13050']\n",
      "--- start expanding the path into a network\n",
      "--- start expanding the path into a network\n",
      "best_enzyme_pool: ['3.2.1.33', '2.4.1.18', '2.4.1.2', '2.4.1.5', '1.1.99.13', '1.1.99.13', '1.5.-.-', '1.2.1.88', '1.4.1.13', '2.8.3.22', '1.1.99.7', '1.3.1.110']\n",
      "Min-count: 13\n"
     ]
    },
    {
     "data": {
      "text/plain": [
       "13"
      ]
     },
     "execution_count": 32,
     "metadata": {},
     "output_type": "execute_result"
    }
   ],
   "source": [
    "get_network_totalReactions(cfg,chrom)"
   ]
  },
  {
   "cell_type": "code",
   "execution_count": 23,
   "id": "42c1eace",
   "metadata": {
    "collapsed": true
   },
   "outputs": [
    {
     "data": {
      "text/plain": [
       "{'bigg_id': None,\n",
       " 'definition': 'Starch + H2O <=> Amylose + alpha-D-Glucose',\n",
       " 'enzyme': ['3.2.1.33'],\n",
       " 'equation': 'C00369 + C00001 <=> C00718 + C00267',\n",
       " 'kegg_id': 'R02109',\n",
       " 'name': ['Dextrin', '6-alpha-D-glucanohydrolase'],\n",
       " 'products': ['C00718', 'C00267'],\n",
       " 'reactants': ['C00369', 'C00001']}"
      ]
     },
     "execution_count": 23,
     "metadata": {},
     "output_type": "execute_result"
    }
   ],
   "source": [
    "rxn_dict.get('R02109')"
   ]
  },
  {
   "cell_type": "code",
   "execution_count": 25,
   "id": "136b62e9",
   "metadata": {
    "collapsed": true
   },
   "outputs": [
    {
     "data": {
      "text/plain": [
       "{'bigg_id': None,\n",
       " 'definition': 'Deacetylcephalosporin C + H2O + 2 Succinate + 2 CO2 <=> Penicillin N + 2 2-Oxoglutarate + 2 Oxygen',\n",
       " 'enzyme': None,\n",
       " 'equation': 'C03112 + C00001 + 2 C00042 + 2 C00011 <=> C06564 + 2 C00026 + 2 C00007',\n",
       " 'kegg_id': 'R05228',\n",
       " 'name': ['Penicillin-N,2-oxoglutarate:oxygen',\n",
       "  'oxidoreductase',\n",
       "  '(ring-expanding)'],\n",
       " 'products': ['C00026', 'C00007', 'C06564'],\n",
       " 'reactants': ['C00042', 'C00011', 'C03112', 'C00001']}"
      ]
     },
     "execution_count": 25,
     "metadata": {},
     "output_type": "execute_result"
    }
   ],
   "source": [
    "rxn_dict.get('R05228')"
   ]
  },
  {
   "cell_type": "markdown",
   "id": "5bc0ee1d",
   "metadata": {},
   "source": [
    "### 实现遗传算法中的select函数"
   ]
  },
  {
   "cell_type": "code",
   "execution_count": 120,
   "id": "0d8d9877",
   "metadata": {},
   "outputs": [],
   "source": [
    "import numpy as np\n",
    "\n",
    "def selection(pop,fitness):\n",
    "    # 计算适应度总和\n",
    "    total_fitness = sum(fitness)\n",
    "    # 计算每个个体被选择的概率，适应度值越小，概率越大\n",
    "    probabilities = [1 / fit for fit in fitness]\n",
    "    total_probability = sum(probabilities)\n",
    "    # 归一化概率，使概率之和为1\n",
    "    normalized_probabilities = [prob / total_probability for prob in probabilities]\n",
    "\n",
    "    # 使用numpy进行随机选择\n",
    "    selected_index = np.random.choice(np.arange(len(fitness)), size=pop_size, replace=True, p=normalized_probabilities)\n",
    "    pop = [pop[idx] for idx in selected_index]\n",
    "\n",
    "    return pop\n"
   ]
  },
  {
   "cell_type": "code",
   "execution_count": 112,
   "id": "baa192cf",
   "metadata": {
    "collapsed": true
   },
   "outputs": [
    {
     "data": {
      "text/plain": [
       "[0.30039337227321494,\n",
       " 0.15019668613660747,\n",
       " 0.10013112409107164,\n",
       " 0.07509834306830374,\n",
       " 0.060078674454642995,\n",
       " 0.05006556204553582,\n",
       " 0.04291333889617356,\n",
       " 0.03754917153415187,\n",
       " 0.033377041363690546,\n",
       " 0.15019668613660747]"
      ]
     },
     "execution_count": 112,
     "metadata": {},
     "output_type": "execute_result"
    }
   ],
   "source": [
    "normalized_probabilities"
   ]
  },
  {
   "cell_type": "code",
   "execution_count": 126,
   "id": "3019aac7",
   "metadata": {},
   "outputs": [
    {
     "data": {
      "text/plain": [
       "[1, 1, 4, 6, 9, 1, 2, 10, 1, 5]"
      ]
     },
     "execution_count": 126,
     "metadata": {},
     "output_type": "execute_result"
    }
   ],
   "source": [
    "pop = [1,2,3,4,5,6,7,8,9,10]\n",
    "fitness = [1, 2, 3, 4, 5, 6, 7, 8, 9, 2]\n",
    "pop = selection(pop,fitness)\n",
    "pop"
   ]
  }
 ],
 "metadata": {
  "kernelspec": {
   "display_name": "pytorch2",
   "language": "python",
   "name": "pytorch2"
  },
  "language_info": {
   "codemirror_mode": {
    "name": "ipython",
    "version": 3
   },
   "file_extension": ".py",
   "mimetype": "text/x-python",
   "name": "python",
   "nbconvert_exporter": "python",
   "pygments_lexer": "ipython3",
   "version": "3.8.13"
  }
 },
 "nbformat": 4,
 "nbformat_minor": 5
}
